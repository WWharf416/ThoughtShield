{
 "cells": [
  {
   "cell_type": "code",
   "execution_count": 1,
   "id": "907dfad2",
   "metadata": {
    "_cell_guid": "b1076dfc-b9ad-4769-8c92-a6c4dae69d19",
    "_uuid": "8f2839f25d086af736a60e9eeb907d3b93b6e0e5",
    "execution": {
     "iopub.execute_input": "2025-03-29T22:47:53.166596Z",
     "iopub.status.busy": "2025-03-29T22:47:53.166223Z",
     "iopub.status.idle": "2025-03-29T22:47:55.366624Z",
     "shell.execute_reply": "2025-03-29T22:47:55.365709Z"
    },
    "papermill": {
     "duration": 2.209273,
     "end_time": "2025-03-29T22:47:55.368150",
     "exception": false,
     "start_time": "2025-03-29T22:47:53.158877",
     "status": "completed"
    },
    "tags": []
   },
   "outputs": [],
   "source": [
    "# Libraries for general purpose\n",
    "import pandas as pd\n",
    "import numpy as np\n",
    "import matplotlib.pyplot as plt\n",
    "import seaborn as sns\n"
   ]
  },
  {
   "cell_type": "code",
   "execution_count": 2,
   "id": "640ed853",
   "metadata": {
    "execution": {
     "iopub.execute_input": "2025-03-29T22:47:55.380958Z",
     "iopub.status.busy": "2025-03-29T22:47:55.380609Z",
     "iopub.status.idle": "2025-03-29T22:47:58.783289Z",
     "shell.execute_reply": "2025-03-29T22:47:58.782609Z"
    },
    "papermill": {
     "duration": 3.410417,
     "end_time": "2025-03-29T22:47:58.784777",
     "exception": false,
     "start_time": "2025-03-29T22:47:55.374360",
     "status": "completed"
    },
    "tags": []
   },
   "outputs": [],
   "source": [
    "# PyTorch LSTM\n",
    "import torch\n",
    "import torch.nn as nn\n",
    "import torch.nn.functional as F\n",
    "import torch.optim as optim\n",
    "from torch.utils.data import TensorDataset, DataLoader, RandomSampler, SequentialSampler"
   ]
  },
  {
   "cell_type": "code",
   "execution_count": 3,
   "id": "892f8f81",
   "metadata": {
    "execution": {
     "iopub.execute_input": "2025-03-29T22:47:58.798656Z",
     "iopub.status.busy": "2025-03-29T22:47:58.798195Z",
     "iopub.status.idle": "2025-03-29T22:48:16.898196Z",
     "shell.execute_reply": "2025-03-29T22:48:16.897059Z"
    },
    "papermill": {
     "duration": 18.10878,
     "end_time": "2025-03-29T22:48:16.899992",
     "exception": false,
     "start_time": "2025-03-29T22:47:58.791212",
     "status": "completed"
    },
    "tags": []
   },
   "outputs": [
    {
     "name": "stdout",
     "output_type": "stream",
     "text": [
      "[nltk_data] Downloading package stopwords to /usr/share/nltk_data...\n",
      "[nltk_data]   Unzipping corpora/stopwords.zip.\n",
      "[nltk_data] Downloading package punkt to /usr/share/nltk_data...\n",
      "[nltk_data]   Package punkt is already up-to-date!\n"
     ]
    }
   ],
   "source": [
    "import importlib.util\n",
    "\n",
    "# Define the path to the .py file\n",
    "file_path = \"/kaggle/input/new-dataloader-prep/dataloader_prep_1.py\"\n",
    "\n",
    "# Load the module\n",
    "spec = importlib.util.spec_from_file_location(\"dataloader_prep_1\", file_path)\n",
    "dataloader_prep = importlib.util.module_from_spec(spec)\n",
    "spec.loader.exec_module(dataloader_prep)\n",
    "\n",
    "# Now, you can use functions from the script\n"
   ]
  },
  {
   "cell_type": "code",
   "execution_count": 4,
   "id": "15b52a17",
   "metadata": {
    "execution": {
     "iopub.execute_input": "2025-03-29T22:48:16.915138Z",
     "iopub.status.busy": "2025-03-29T22:48:16.914612Z",
     "iopub.status.idle": "2025-03-29T22:48:17.127853Z",
     "shell.execute_reply": "2025-03-29T22:48:17.126792Z"
    },
    "papermill": {
     "duration": 0.22144,
     "end_time": "2025-03-29T22:48:17.129556",
     "exception": false,
     "start_time": "2025-03-29T22:48:16.908116",
     "status": "completed"
    },
    "tags": []
   },
   "outputs": [
    {
     "data": {
      "text/html": [
       "<div>\n",
       "<style scoped>\n",
       "    .dataframe tbody tr th:only-of-type {\n",
       "        vertical-align: middle;\n",
       "    }\n",
       "\n",
       "    .dataframe tbody tr th {\n",
       "        vertical-align: top;\n",
       "    }\n",
       "\n",
       "    .dataframe thead th {\n",
       "        text-align: right;\n",
       "    }\n",
       "</style>\n",
       "<table border=\"1\" class=\"dataframe\">\n",
       "  <thead>\n",
       "    <tr style=\"text-align: right;\">\n",
       "      <th></th>\n",
       "      <th>tweet_text</th>\n",
       "      <th>cyberbullying_type</th>\n",
       "    </tr>\n",
       "  </thead>\n",
       "  <tbody>\n",
       "    <tr>\n",
       "      <th>0</th>\n",
       "      <td>In other words #katandandre, your food was cra...</td>\n",
       "      <td>not_cyberbullying</td>\n",
       "    </tr>\n",
       "    <tr>\n",
       "      <th>1</th>\n",
       "      <td>Why is #aussietv so white? #MKR #theblock #ImA...</td>\n",
       "      <td>not_cyberbullying</td>\n",
       "    </tr>\n",
       "    <tr>\n",
       "      <th>2</th>\n",
       "      <td>@XochitlSuckkks a classy whore? Or more red ve...</td>\n",
       "      <td>not_cyberbullying</td>\n",
       "    </tr>\n",
       "    <tr>\n",
       "      <th>3</th>\n",
       "      <td>@Jason_Gio meh. :P  thanks for the heads up, b...</td>\n",
       "      <td>not_cyberbullying</td>\n",
       "    </tr>\n",
       "    <tr>\n",
       "      <th>4</th>\n",
       "      <td>@RudhoeEnglish This is an ISIS account pretend...</td>\n",
       "      <td>not_cyberbullying</td>\n",
       "    </tr>\n",
       "  </tbody>\n",
       "</table>\n",
       "</div>"
      ],
      "text/plain": [
       "                                          tweet_text cyberbullying_type\n",
       "0  In other words #katandandre, your food was cra...  not_cyberbullying\n",
       "1  Why is #aussietv so white? #MKR #theblock #ImA...  not_cyberbullying\n",
       "2  @XochitlSuckkks a classy whore? Or more red ve...  not_cyberbullying\n",
       "3  @Jason_Gio meh. :P  thanks for the heads up, b...  not_cyberbullying\n",
       "4  @RudhoeEnglish This is an ISIS account pretend...  not_cyberbullying"
      ]
     },
     "execution_count": 4,
     "metadata": {},
     "output_type": "execute_result"
    }
   ],
   "source": [
    "# Load the dataset\n",
    "file_path = \"/kaggle/input/cyberbullying-tweets-dataset/cyberbullying_tweets.csv\"\n",
    "df = pd.read_csv(file_path)\n",
    "\n",
    "# Display the first few rows\n",
    "df.head()"
   ]
  },
  {
   "cell_type": "code",
   "execution_count": 5,
   "id": "05e6e7e7",
   "metadata": {
    "execution": {
     "iopub.execute_input": "2025-03-29T22:48:17.147795Z",
     "iopub.status.busy": "2025-03-29T22:48:17.147442Z",
     "iopub.status.idle": "2025-03-29T22:48:17.156571Z",
     "shell.execute_reply": "2025-03-29T22:48:17.155855Z"
    },
    "papermill": {
     "duration": 0.019379,
     "end_time": "2025-03-29T22:48:17.157953",
     "exception": false,
     "start_time": "2025-03-29T22:48:17.138574",
     "status": "completed"
    },
    "tags": []
   },
   "outputs": [],
   "source": [
    "# Set seed for reproducibility\n",
    "import random\n",
    "seed_value = 2042\n",
    "random.seed(seed_value)\n",
    "np.random.seed(seed_value)\n",
    "torch.manual_seed(seed_value)\n",
    "torch.cuda.manual_seed_all(seed_value)"
   ]
  },
  {
   "cell_type": "code",
   "execution_count": 6,
   "id": "686628b0",
   "metadata": {
    "execution": {
     "iopub.execute_input": "2025-03-29T22:48:17.172992Z",
     "iopub.status.busy": "2025-03-29T22:48:17.172717Z",
     "iopub.status.idle": "2025-03-29T22:48:17.177208Z",
     "shell.execute_reply": "2025-03-29T22:48:17.176461Z"
    },
    "papermill": {
     "duration": 0.013227,
     "end_time": "2025-03-29T22:48:17.178472",
     "exception": false,
     "start_time": "2025-03-29T22:48:17.165245",
     "status": "completed"
    },
    "tags": []
   },
   "outputs": [
    {
     "name": "stdout",
     "output_type": "stream",
     "text": [
      "47692\n"
     ]
    }
   ],
   "source": [
    "X = df['tweet_text']\n",
    "y = df['cyberbullying_type']\n",
    "print(len(X))"
   ]
  },
  {
   "cell_type": "code",
   "execution_count": 7,
   "id": "6b35bc76",
   "metadata": {
    "execution": {
     "iopub.execute_input": "2025-03-29T22:48:17.190685Z",
     "iopub.status.busy": "2025-03-29T22:48:17.190448Z",
     "iopub.status.idle": "2025-03-29T22:48:17.257019Z",
     "shell.execute_reply": "2025-03-29T22:48:17.256196Z"
    },
    "papermill": {
     "duration": 0.074156,
     "end_time": "2025-03-29T22:48:17.258519",
     "exception": false,
     "start_time": "2025-03-29T22:48:17.184363",
     "status": "completed"
    },
    "tags": []
   },
   "outputs": [
    {
     "data": {
      "text/plain": [
       "array([['age', 6394],\n",
       "       ['ethnicity', 6369],\n",
       "       ['gender', 6378],\n",
       "       ['not_cyberbullying', 6356],\n",
       "       ['other_cyberbullying', 6258],\n",
       "       ['religion', 6398]], dtype=object)"
      ]
     },
     "execution_count": 7,
     "metadata": {},
     "output_type": "execute_result"
    }
   ],
   "source": [
    "from sklearn.model_selection import train_test_split\n",
    "X_train, X_test, y_train, y_test = train_test_split(X, y, test_size=0.2, stratify=y, random_state = seed_value)\n",
    "\n",
    "# Get unique class counts\n",
    "class_counts = np.column_stack(np.unique(y_train, return_counts=True))\n",
    "class_counts"
   ]
  },
  {
   "cell_type": "code",
   "execution_count": 8,
   "id": "915794a0",
   "metadata": {
    "execution": {
     "iopub.execute_input": "2025-03-29T22:48:17.272166Z",
     "iopub.status.busy": "2025-03-29T22:48:17.271924Z",
     "iopub.status.idle": "2025-03-29T22:48:17.790777Z",
     "shell.execute_reply": "2025-03-29T22:48:17.789935Z"
    },
    "papermill": {
     "duration": 0.527048,
     "end_time": "2025-03-29T22:48:17.792203",
     "exception": false,
     "start_time": "2025-03-29T22:48:17.265155",
     "status": "completed"
    },
    "tags": []
   },
   "outputs": [
    {
     "data": {
      "text/plain": [
       "array([['age', 6398],\n",
       "       ['ethnicity', 6398],\n",
       "       ['gender', 6398],\n",
       "       ['not_cyberbullying', 6398],\n",
       "       ['other_cyberbullying', 6398],\n",
       "       ['religion', 6398]], dtype=object)"
      ]
     },
     "execution_count": 8,
     "metadata": {},
     "output_type": "execute_result"
    }
   ],
   "source": [
    "from imblearn.over_sampling import RandomOverSampler\n",
    "\n",
    "# Initialize RandomOverSampler\n",
    "ros = RandomOverSampler()\n",
    "\n",
    "# Resample the dataset\n",
    "X_resampled, y_resampled = ros.fit_resample(np.array(X_train).reshape(-1, 1), np.array(y_train).reshape(-1, 1))\n",
    "\n",
    "# Convert resampled data into a DataFrame\n",
    "train_os = pd.DataFrame({'text_clean': X_resampled.ravel(), 'sentiment': y_resampled.ravel()})\n",
    "\n",
    "# Extract resampled values\n",
    "X_train = train_os['text_clean'].values\n",
    "y_train = train_os['sentiment'].values\n",
    "\n",
    "# Get unique class counts\n",
    "class_counts = np.column_stack(np.unique(y_train, return_counts=True))\n",
    "class_counts\n"
   ]
  },
  {
   "cell_type": "code",
   "execution_count": 9,
   "id": "deaa1ca0",
   "metadata": {
    "execution": {
     "iopub.execute_input": "2025-03-29T22:48:17.805778Z",
     "iopub.status.busy": "2025-03-29T22:48:17.805256Z",
     "iopub.status.idle": "2025-03-29T22:48:18.259755Z",
     "shell.execute_reply": "2025-03-29T22:48:18.258930Z"
    },
    "papermill": {
     "duration": 0.462801,
     "end_time": "2025-03-29T22:48:18.261398",
     "exception": false,
     "start_time": "2025-03-29T22:48:17.798597",
     "status": "completed"
    },
    "tags": []
   },
   "outputs": [],
   "source": [
    "from collections import Counter\n",
    "\n",
    "def Vocab(column):\n",
    "    vocab = [] # Initialize an empty list to store words\n",
    "    \n",
    "    # Iterate over each text entry in the column\n",
    "    for text in column:\n",
    "        for word in text.split():\n",
    "            vocab.append(word)\n",
    "        \n",
    "    counter = Counter(vocab)\n",
    "    sorted_words = counter.most_common()\n",
    "            \n",
    "    vocab_id = []\n",
    "    for i, tup in enumerate(sorted_words):\n",
    "        word, freq = tup\n",
    "        vocab_id.append((word, i))\n",
    "\n",
    "    return vocab_id\n",
    "\n",
    "vocab = Vocab(df[\"tweet_text\"])"
   ]
  },
  {
   "cell_type": "code",
   "execution_count": 10,
   "id": "9e9ff917",
   "metadata": {
    "execution": {
     "iopub.execute_input": "2025-03-29T22:48:18.274800Z",
     "iopub.status.busy": "2025-03-29T22:48:18.274543Z",
     "iopub.status.idle": "2025-03-29T22:48:18.692191Z",
     "shell.execute_reply": "2025-03-29T22:48:18.691457Z"
    },
    "papermill": {
     "duration": 0.425843,
     "end_time": "2025-03-29T22:48:18.693826",
     "exception": false,
     "start_time": "2025-03-29T22:48:18.267983",
     "status": "completed"
    },
    "tags": []
   },
   "outputs": [],
   "source": [
    "Word2Vec_train_data = [text.split() for text in X_train]\n"
   ]
  },
  {
   "cell_type": "code",
   "execution_count": 11,
   "id": "a909f1ce",
   "metadata": {
    "execution": {
     "iopub.execute_input": "2025-03-29T22:48:18.707158Z",
     "iopub.status.busy": "2025-03-29T22:48:18.706878Z",
     "iopub.status.idle": "2025-03-29T22:50:29.642001Z",
     "shell.execute_reply": "2025-03-29T22:50:29.641028Z"
    },
    "papermill": {
     "duration": 130.943421,
     "end_time": "2025-03-29T22:50:29.643636",
     "exception": false,
     "start_time": "2025-03-29T22:48:18.700215",
     "status": "completed"
    },
    "tags": []
   },
   "outputs": [
    {
     "name": "stdout",
     "output_type": "stream",
     "text": [
      "Label mapping: {'not_cyberbullying': 0, 'gender': 1, 'religion': 2, 'other_cyberbullying': 3, 'age': 4, 'ethnicity': 5}\n",
      "Label distribution:\n",
      " label\n",
      "2    7998\n",
      "4    7992\n",
      "1    7973\n",
      "5    7961\n",
      "0    7945\n",
      "3    7823\n",
      "Name: count, dtype: int64\n",
      "Dataset Loaded\n",
      "                                           tweet_text cyberbullying_type  label\n",
      "0  In other words #katandandre, your food was cra...  not_cyberbullying      0\n",
      "1  Why is #aussietv so white? #MKR #theblock #ImA...  not_cyberbullying      0\n",
      "2  @XochitlSuckkks a classy whore? Or more red ve...  not_cyberbullying      0\n",
      "3  @Jason_Gio meh. :P  thanks for the heads up, b...  not_cyberbullying      0\n",
      "4  @RudhoeEnglish This is an ISIS account pretend...  not_cyberbullying      0\n"
     ]
    },
    {
     "data": {
      "application/vnd.jupyter.widget-view+json": {
       "model_id": "545839efc82f4166988c90a5395360bd",
       "version_major": 2,
       "version_minor": 0
      },
      "text/plain": [
       "tokenizer_config.json:   0%|          | 0.00/48.0 [00:00<?, ?B/s]"
      ]
     },
     "metadata": {},
     "output_type": "display_data"
    },
    {
     "data": {
      "application/vnd.jupyter.widget-view+json": {
       "model_id": "f3e19c5ac50343bca9e5f0f581c63b1f",
       "version_major": 2,
       "version_minor": 0
      },
      "text/plain": [
       "config.json:   0%|          | 0.00/570 [00:00<?, ?B/s]"
      ]
     },
     "metadata": {},
     "output_type": "display_data"
    },
    {
     "data": {
      "application/vnd.jupyter.widget-view+json": {
       "model_id": "bfd5c71e87654876971be31180e62111",
       "version_major": 2,
       "version_minor": 0
      },
      "text/plain": [
       "vocab.txt:   0%|          | 0.00/232k [00:00<?, ?B/s]"
      ]
     },
     "metadata": {},
     "output_type": "display_data"
    },
    {
     "data": {
      "application/vnd.jupyter.widget-view+json": {
       "model_id": "ab30d8b8190e464ab1eef11b1ccbd25d",
       "version_major": 2,
       "version_minor": 0
      },
      "text/plain": [
       "tokenizer.json:   0%|          | 0.00/466k [00:00<?, ?B/s]"
      ]
     },
     "metadata": {},
     "output_type": "display_data"
    }
   ],
   "source": [
    "train_loader, test_loader, train_dataset, test_dataset, num_labels, label_mapping = dataloader_prep.prepare_dataloader(\"/kaggle/input/cyberbullying-tweets-dataset/cyberbullying_tweets.csv\")"
   ]
  },
  {
   "cell_type": "code",
   "execution_count": 12,
   "id": "69565dd2",
   "metadata": {
    "execution": {
     "iopub.execute_input": "2025-03-29T22:50:29.658027Z",
     "iopub.status.busy": "2025-03-29T22:50:29.657780Z",
     "iopub.status.idle": "2025-03-29T22:50:29.661918Z",
     "shell.execute_reply": "2025-03-29T22:50:29.660925Z"
    },
    "papermill": {
     "duration": 0.012591,
     "end_time": "2025-03-29T22:50:29.663253",
     "exception": false,
     "start_time": "2025-03-29T22:50:29.650662",
     "status": "completed"
    },
    "tags": []
   },
   "outputs": [
    {
     "name": "stdout",
     "output_type": "stream",
     "text": [
      "{'not_cyberbullying': 0, 'gender': 1, 'religion': 2, 'other_cyberbullying': 3, 'age': 4, 'ethnicity': 5}\n",
      "6\n"
     ]
    }
   ],
   "source": [
    "print(label_mapping)\n",
    "print(num_labels)"
   ]
  },
  {
   "cell_type": "code",
   "execution_count": 13,
   "id": "ffb29efb",
   "metadata": {
    "execution": {
     "iopub.execute_input": "2025-03-29T22:50:29.676701Z",
     "iopub.status.busy": "2025-03-29T22:50:29.676443Z",
     "iopub.status.idle": "2025-03-29T22:50:29.680860Z",
     "shell.execute_reply": "2025-03-29T22:50:29.680049Z"
    },
    "papermill": {
     "duration": 0.012537,
     "end_time": "2025-03-29T22:50:29.682142",
     "exception": false,
     "start_time": "2025-03-29T22:50:29.669605",
     "status": "completed"
    },
    "tags": []
   },
   "outputs": [
    {
     "data": {
      "text/plain": [
       "42922"
      ]
     },
     "execution_count": 13,
     "metadata": {},
     "output_type": "execute_result"
    }
   ],
   "source": [
    "len(train_dataset.labels)"
   ]
  },
  {
   "cell_type": "code",
   "execution_count": 14,
   "id": "6d5a4d56",
   "metadata": {
    "execution": {
     "iopub.execute_input": "2025-03-29T22:50:29.695625Z",
     "iopub.status.busy": "2025-03-29T22:50:29.695397Z",
     "iopub.status.idle": "2025-03-29T22:50:29.714846Z",
     "shell.execute_reply": "2025-03-29T22:50:29.714162Z"
    },
    "papermill": {
     "duration": 0.027436,
     "end_time": "2025-03-29T22:50:29.716014",
     "exception": false,
     "start_time": "2025-03-29T22:50:29.688578",
     "status": "completed"
    },
    "tags": []
   },
   "outputs": [
    {
     "name": "stdout",
     "output_type": "stream",
     "text": [
      "42922\n",
      "4770\n",
      "<class 'torch.utils.data.dataset.Subset'>\n",
      "<class 'torch.utils.data.dataloader.DataLoader'>\n",
      "Original validation subset size: 8585\n",
      "Original train subset size: 34337\n",
      "34337\n",
      "8585\n"
     ]
    }
   ],
   "source": [
    "from torch.utils.data import random_split, DataLoader\n",
    "\n",
    "print(len(train_dataset))\n",
    "print(len(test_dataset))\n",
    "# Define split ratio (e.g., 80% train, 20% validation)\n",
    "train_ratio = 0.8\n",
    "train_size = int(train_ratio * len(train_dataset))\n",
    "val_size = len(train_dataset) - train_size  # Remaining for validation\n",
    "\n",
    "# Split dataset\n",
    "train_subset, val_subset = random_split(train_dataset, [train_size, val_size])\n",
    "\n",
    "# Create new DataLoaders\n",
    "train_loader = DataLoader(train_subset, batch_size=train_loader.batch_size, shuffle=True)\n",
    "val_loader = DataLoader(val_subset, batch_size=train_loader.batch_size, shuffle=False)\n",
    "\n",
    "print(type(train_loader.dataset))\n",
    "print(type(val_loader))\n",
    "print(f\"Original validation subset size: {len(val_subset)}\")\n",
    "print(f\"Original train subset size: {len(train_subset)}\")\n",
    "\n",
    "print(len(train_subset))\n",
    "print(len(val_subset))"
   ]
  },
  {
   "cell_type": "code",
   "execution_count": 15,
   "id": "c0921714",
   "metadata": {
    "execution": {
     "iopub.execute_input": "2025-03-29T22:50:29.730670Z",
     "iopub.status.busy": "2025-03-29T22:50:29.730443Z",
     "iopub.status.idle": "2025-03-29T22:50:29.734825Z",
     "shell.execute_reply": "2025-03-29T22:50:29.734225Z"
    },
    "papermill": {
     "duration": 0.012189,
     "end_time": "2025-03-29T22:50:29.735999",
     "exception": false,
     "start_time": "2025-03-29T22:50:29.723810",
     "status": "completed"
    },
    "tags": []
   },
   "outputs": [],
   "source": [
    "# Attention mechanism\n",
    "class Attention(nn.Module):\n",
    "    def __init__(self, hidden_dim, is_bidirectional):\n",
    "        \"\"\"\n",
    "        Initializes the Attention layer.\n",
    "\n",
    "        Parameters:\n",
    "        - hidden_dim: Dimension of the hidden state.\n",
    "        - is_bidirectional: Whether the LSTM is bidirectional.\n",
    "        \"\"\"\n",
    "        super(Attention, self).__init__()\n",
    "        factor = 2 if is_bidirectional else 1\n",
    "        self.attn = nn.Linear(hidden_dim * factor, hidden_dim * factor)\n",
    "        self.v = nn.Linear(hidden_dim * factor, 1, bias=False)\n",
    "\n",
    "    def forward(self, lstm_output):\n",
    "        \"\"\"\n",
    "        Computes attention scores.\n",
    "\n",
    "        Parameters:\n",
    "        - lstm_output: LSTM output of shape (batch_size, seq_len, hidden_dim * num_directions).\n",
    "\n",
    "        Returns:\n",
    "        - Context vector of shape (batch_size, hidden_dim * num_directions).\n",
    "        \"\"\"\n",
    "        attn_scores = self.v(torch.tanh(self.attn(lstm_output)))  # (batch_size, seq_len, 1)\n",
    "        attn_weights = F.softmax(attn_scores, dim=1)  # (batch_size, seq_len, 1)\n",
    "        context = torch.bmm(attn_weights.transpose(1, 2), lstm_output).squeeze(1)  # (batch_size, hidden_dim * num_directions)\n",
    "        return context\n",
    "\n"
   ]
  },
  {
   "cell_type": "code",
   "execution_count": 16,
   "id": "e7a53c57",
   "metadata": {
    "execution": {
     "iopub.execute_input": "2025-03-29T22:50:29.749548Z",
     "iopub.status.busy": "2025-03-29T22:50:29.749296Z",
     "iopub.status.idle": "2025-03-29T22:50:29.754576Z",
     "shell.execute_reply": "2025-03-29T22:50:29.753771Z"
    },
    "papermill": {
     "duration": 0.013425,
     "end_time": "2025-03-29T22:50:29.755889",
     "exception": false,
     "start_time": "2025-03-29T22:50:29.742464",
     "status": "completed"
    },
    "tags": []
   },
   "outputs": [],
   "source": [
    "class LSTM_Sentiment_Classifier(nn.Module):\n",
    "    def __init__(self, vocab_size, embedding_dim, hidden_dim, num_classes, lstm_layers, dropout, is_bidirectional):\n",
    "        \"\"\"\n",
    "        Initializes the LSTM sentiment classifier.\n",
    "        \"\"\"\n",
    "        super(LSTM_Sentiment_Classifier, self).__init__()\n",
    "        factor = 2 if is_bidirectional else 1\n",
    "        self.hidden_dim = hidden_dim\n",
    "        self.num_layers = lstm_layers\n",
    "        self.is_bidirectional = is_bidirectional\n",
    "\n",
    "        self.embedding = nn.Embedding(vocab_size, embedding_dim)\n",
    "        self.lstm = nn.LSTM(embedding_dim, hidden_dim, lstm_layers, batch_first=True, bidirectional=is_bidirectional, dropout=dropout)\n",
    "        self.attention = Attention(hidden_dim, is_bidirectional)\n",
    "        self.fc = nn.Linear(hidden_dim * factor, num_classes)\n",
    "        self.softmax = nn.LogSoftmax(dim=1)\n",
    "\n",
    "    def forward(self, x):\n",
    "        \"\"\"\n",
    "        Forward pass of the model.\n",
    "\n",
    "        Parameters:\n",
    "        - x: Input tensor of shape (batch_size, seq_length)\n",
    "\n",
    "        Returns:\n",
    "        - Output probabilities of shape (batch_size, num_classes)\n",
    "        \"\"\"\n",
    "        embedded = self.embedding(x)  # (batch_size, seq_length, embedding_dim)\n",
    "        lstm_out, _ = self.lstm(embedded)  # (batch_size, seq_length, hidden_dim * num_directions)\n",
    "        context = self.attention(lstm_out)  # (batch_size, hidden_dim * num_directions)\n",
    "        output = self.softmax(self.fc(context))  # (batch_size, num_classes)\n",
    "        return output\n"
   ]
  },
  {
   "cell_type": "code",
   "execution_count": 17,
   "id": "8ae237fe",
   "metadata": {
    "execution": {
     "iopub.execute_input": "2025-03-29T22:50:29.769207Z",
     "iopub.status.busy": "2025-03-29T22:50:29.768984Z",
     "iopub.status.idle": "2025-03-29T22:50:29.819022Z",
     "shell.execute_reply": "2025-03-29T22:50:29.818201Z"
    },
    "papermill": {
     "duration": 0.058065,
     "end_time": "2025-03-29T22:50:29.820244",
     "exception": false,
     "start_time": "2025-03-29T22:50:29.762179",
     "status": "completed"
    },
    "tags": []
   },
   "outputs": [],
   "source": [
    "DEVICE = 'cuda' if torch.cuda.is_available() else 'cpu'\n",
    "NUM_CLASSES = num_labels\n",
    "VOCAB_SIZE = len(vocab)+1"
   ]
  },
  {
   "cell_type": "code",
   "execution_count": 18,
   "id": "74cc4192",
   "metadata": {
    "execution": {
     "iopub.execute_input": "2025-03-29T22:50:29.833991Z",
     "iopub.status.busy": "2025-03-29T22:50:29.833758Z",
     "iopub.status.idle": "2025-03-29T22:50:29.844132Z",
     "shell.execute_reply": "2025-03-29T22:50:29.843295Z"
    },
    "papermill": {
     "duration": 0.018514,
     "end_time": "2025-03-29T22:50:29.845330",
     "exception": false,
     "start_time": "2025-03-29T22:50:29.826816",
     "status": "completed"
    },
    "tags": []
   },
   "outputs": [],
   "source": [
    "from tqdm import tqdm\n",
    "import copy\n",
    "\n",
    "def train(model, train_loader, val_loader, criterion, optimizer, epochs, device, patience=10):\n",
    "    \"\"\"\n",
    "    Trains the model with validation and early stopping.\n",
    "\n",
    "    Parameters:\n",
    "    - model: The model to be trained.\n",
    "    - train_loader: DataLoader for the training set.\n",
    "    - val_loader: DataLoader for the validation set.\n",
    "    - criterion: Loss function.\n",
    "    - optimizer: Optimizer for training.\n",
    "    - epochs: Number of training epochs.\n",
    "    - device: Device for training (e.g., \"cuda\" or \"cpu\").\n",
    "    - patience: Early stopping patience (default: 3 epochs).\n",
    "\n",
    "    Returns:\n",
    "    - best_model: The model with the lowest validation loss.\n",
    "    - train_losses: List of average training losses per epoch.\n",
    "    - val_losses: List of average validation losses per epoch.\n",
    "    \"\"\"\n",
    "    train_losses, val_losses = [], []\n",
    "    train_accuracies, val_accuracies = [], []\n",
    "    best_val_loss = float(\"inf\")\n",
    "    patience_counter = 0\n",
    "    best_model = copy.deepcopy(model)  # Save best model\n",
    "\n",
    "    for epoch in range(epochs):\n",
    "        # Training Phase\n",
    "        model.train()\n",
    "        epoch_loss, correct, total = 0, 0, 0\n",
    "\n",
    "        with tqdm(train_loader, desc=f\"Epoch {epoch+1}/{epochs} [Training]\") as pbar:\n",
    "            for batch in pbar:\n",
    "                inputs = batch[\"input_ids\"].to(device)\n",
    "                labels = batch[\"labels\"].to(device)\n",
    "\n",
    "                optimizer.zero_grad()\n",
    "                output = model(inputs)  # Fix: Only passing `inputs`\n",
    "                loss = criterion(output, labels)\n",
    "                loss.backward()\n",
    "                optimizer.step()\n",
    "\n",
    "                epoch_loss += loss.item()\n",
    "                y_pred_train = torch.argmax(output, dim=1)\n",
    "                correct += torch.sum(y_pred_train == labels).item()\n",
    "                total += labels.size(0)\n",
    "\n",
    "                pbar.set_postfix({\n",
    "                    \"Loss\": f\"{loss.item():.4f}\",\n",
    "                    \"Acc\": f\"{100 * correct / total:.3f}%\"\n",
    "                })\n",
    "\n",
    "        avg_train_loss = epoch_loss / len(train_loader)\n",
    "        train_losses.append(avg_train_loss)\n",
    "        train_acc = 100 * correct / total\n",
    "        train_accuracies.append(train_acc)\n",
    "\n",
    "        # Validation Phase\n",
    "        model.eval()\n",
    "        val_loss, val_correct, val_total = 0, 0, 0\n",
    "\n",
    "        with torch.no_grad():\n",
    "            with tqdm(val_loader, desc=f\"Epoch {epoch+1}/{epochs} [Validation]\") as pbar:\n",
    "                for batch in pbar:\n",
    "                    inputs = batch[\"input_ids\"].to(device)\n",
    "                    labels = batch[\"labels\"].to(device)\n",
    "\n",
    "                    output = model(inputs)\n",
    "                    loss = criterion(output, labels)\n",
    "                    val_loss += loss.item()\n",
    "\n",
    "                    y_pred_val = torch.argmax(output, dim=1)\n",
    "                    val_correct += torch.sum(y_pred_val == labels).item()\n",
    "                    val_total += labels.size(0)\n",
    "\n",
    "                    pbar.set_postfix({\"Loss\": f\"{loss.item():.4f}\",\"Acc\": f\"{100 * val_correct / val_total:.3f}%\"})\n",
    "\n",
    "        avg_val_loss = val_loss / len(val_loader)\n",
    "        val_losses.append(avg_val_loss)\n",
    "        val_acc = 100 * val_correct / val_total\n",
    "        val_accuracies.append(val_acc)\n",
    "\n",
    "        # Print epoch summary\n",
    "        print(f\"Epoch {epoch+1}: Train Loss = {avg_train_loss:.4f}, Train Acc = {train_acc:.2f}% Validation Loss   = {avg_val_loss:.4f}, Validation Acc   = {val_acc:.2f}%\")\n",
    "\n",
    "        # Early Stopping Check\n",
    "        if avg_val_loss < best_val_loss:\n",
    "            best_val_loss = avg_val_loss\n",
    "            best_model = copy.deepcopy(model)  \n",
    "            patience_counter = 0\n",
    "        else:\n",
    "            patience_counter += 1\n",
    "            print(f\"Early stopping patience: {patience_counter}/{patience}\")\n",
    "\n",
    "        if patience_counter >= patience:\n",
    "            print(\"Early stopping...No improvement in Validation Loss!\")\n",
    "            break\n",
    "\n",
    "    return best_model, train_losses, val_losses, train_accuracies, val_accuracies"
   ]
  },
  {
   "cell_type": "code",
   "execution_count": 19,
   "id": "e9b4bf8a",
   "metadata": {
    "execution": {
     "iopub.execute_input": "2025-03-29T22:50:29.858778Z",
     "iopub.status.busy": "2025-03-29T22:50:29.858565Z",
     "iopub.status.idle": "2025-03-29T22:50:29.865347Z",
     "shell.execute_reply": "2025-03-29T22:50:29.864430Z"
    },
    "papermill": {
     "duration": 0.015036,
     "end_time": "2025-03-29T22:50:29.866682",
     "exception": false,
     "start_time": "2025-03-29T22:50:29.851646",
     "status": "completed"
    },
    "tags": []
   },
   "outputs": [
    {
     "name": "stdout",
     "output_type": "stream",
     "text": [
      "8585\n",
      "2575\n"
     ]
    }
   ],
   "source": [
    "from torch.utils.data import Subset\n",
    "reduced_train_size = int(0.3*len(train_subset))\n",
    "reduced_val_size = int(0.3*len(val_subset))\n",
    "\n",
    "train_indices = list(range(len(train_subset)))\n",
    "val_indices = list(range(len(val_subset)))\n",
    "\n",
    "reduced_train_indices = train_indices[:reduced_train_size]\n",
    "reduced_val_indices = val_indices[:reduced_val_size]\n",
    "\n",
    "reduced_train_dataset = Subset(train_subset, reduced_train_indices)\n",
    "reduced_val_dataset = Subset(val_subset, reduced_val_indices)\n",
    "\n",
    "reduced_train_loader = DataLoader(reduced_train_dataset, batch_size = 32, shuffle=True)\n",
    "reduced_val_loader = DataLoader(reduced_val_dataset, batch_size=32, shuffle = False)\n",
    "\n",
    "print(len(val_subset))\n",
    "print(len(reduced_val_dataset))\n",
    "\n"
   ]
  },
  {
   "cell_type": "code",
   "execution_count": 20,
   "id": "746c44a9",
   "metadata": {
    "execution": {
     "iopub.execute_input": "2025-03-29T22:50:29.880076Z",
     "iopub.status.busy": "2025-03-29T22:50:29.879877Z",
     "iopub.status.idle": "2025-03-29T23:18:40.774798Z",
     "shell.execute_reply": "2025-03-29T23:18:40.773865Z"
    },
    "papermill": {
     "duration": 1690.902981,
     "end_time": "2025-03-29T23:18:40.776017",
     "exception": false,
     "start_time": "2025-03-29T22:50:29.873036",
     "status": "completed"
    },
    "tags": []
   },
   "outputs": [
    {
     "name": "stderr",
     "output_type": "stream",
     "text": [
      "[I 2025-03-29 22:50:30,066] A new study created in memory with name: no-name-cf68da35-3dc2-4f69-b3d1-ff550d91a568\n",
      "<ipython-input-20-db74c927c736>:12: FutureWarning: suggest_loguniform has been deprecated in v3.0.0. This feature will be removed in v6.0.0. See https://github.com/optuna/optuna/releases/tag/v3.0.0. Use suggest_float(..., log=True) instead.\n",
      "  lr = trial.suggest_loguniform(\"lr\", 1e-4, 1e-3)\n"
     ]
    },
    {
     "name": "stdout",
     "output_type": "stream",
     "text": [
      "\n",
      "Trial 0: Embedding_Dim: 200, Hidden_Dim: 256, Is Bidirectional: False, Learning Rate: 0.000792653313412741, LSTM Layers: 2, Dropout Rate: 0.3\n"
     ]
    },
    {
     "name": "stderr",
     "output_type": "stream",
     "text": [
      "Epoch 1/3 [Training]: 100%|██████████| 322/322 [00:07<00:00, 41.60it/s, Loss=0.7127, Acc=62.732%]\n",
      "Epoch 1/3 [Validation]: 100%|██████████| 81/81 [00:00<00:00, 122.12it/s, Loss=0.3864, Acc=76.350%]\n"
     ]
    },
    {
     "name": "stdout",
     "output_type": "stream",
     "text": [
      "Epoch 1: Train Loss = 0.8608, Train Acc = 62.73% Validation Loss   = 0.5327, Validation Acc   = 76.35%\n"
     ]
    },
    {
     "name": "stderr",
     "output_type": "stream",
     "text": [
      "Epoch 2/3 [Training]: 100%|██████████| 322/322 [00:07<00:00, 45.34it/s, Loss=0.4792, Acc=78.429%]\n",
      "Epoch 2/3 [Validation]: 100%|██████████| 81/81 [00:00<00:00, 125.72it/s, Loss=0.3530, Acc=79.883%]\n"
     ]
    },
    {
     "name": "stdout",
     "output_type": "stream",
     "text": [
      "Epoch 2: Train Loss = 0.4765, Train Acc = 78.43% Validation Loss   = 0.4775, Validation Acc   = 79.88%\n"
     ]
    },
    {
     "name": "stderr",
     "output_type": "stream",
     "text": [
      "Epoch 3/3 [Training]: 100%|██████████| 322/322 [00:07<00:00, 45.34it/s, Loss=0.7967, Acc=83.652%]\n",
      "Epoch 3/3 [Validation]: 100%|██████████| 81/81 [00:00<00:00, 125.03it/s, Loss=0.3307, Acc=80.621%]\n",
      "[I 2025-03-29 22:50:54,504] Trial 0 finished with value: 0.46020388934347367 and parameters: {'embedding_dim': 200, 'hidden_dim': 256, 'is_bidirectional': False, 'lr': 0.000792653313412741, 'dropout_rate': 0.3, 'lstm_layers': 2}. Best is trial 0 with value: 0.46020388934347367.\n"
     ]
    },
    {
     "name": "stdout",
     "output_type": "stream",
     "text": [
      "Epoch 3: Train Loss = 0.3864, Train Acc = 83.65% Validation Loss   = 0.4602, Validation Acc   = 80.62%\n",
      "\n",
      "Trial 1: Embedding_Dim: 200, Hidden_Dim: 128, Is Bidirectional: True, Learning Rate: 0.0005006107530914478, LSTM Layers: 2, Dropout Rate: 0.5\n"
     ]
    },
    {
     "name": "stderr",
     "output_type": "stream",
     "text": [
      "Epoch 1/3 [Training]: 100%|██████████| 322/322 [00:04<00:00, 65.85it/s, Loss=0.4305, Acc=64.343%]\n",
      "Epoch 1/3 [Validation]: 100%|██████████| 81/81 [00:00<00:00, 176.95it/s, Loss=0.3222, Acc=77.709%]\n"
     ]
    },
    {
     "name": "stdout",
     "output_type": "stream",
     "text": [
      "Epoch 1: Train Loss = 0.8479, Train Acc = 64.34% Validation Loss   = 0.4904, Validation Acc   = 77.71%\n"
     ]
    },
    {
     "name": "stderr",
     "output_type": "stream",
     "text": [
      "Epoch 2/3 [Training]: 100%|██████████| 322/322 [00:04<00:00, 65.14it/s, Loss=0.3296, Acc=80.769%]\n",
      "Epoch 2/3 [Validation]: 100%|██████████| 81/81 [00:00<00:00, 173.21it/s, Loss=0.3385, Acc=78.990%]\n"
     ]
    },
    {
     "name": "stdout",
     "output_type": "stream",
     "text": [
      "Epoch 2: Train Loss = 0.4431, Train Acc = 80.77% Validation Loss   = 0.4687, Validation Acc   = 78.99%\n"
     ]
    },
    {
     "name": "stderr",
     "output_type": "stream",
     "text": [
      "Epoch 3/3 [Training]: 100%|██████████| 322/322 [00:04<00:00, 64.65it/s, Loss=0.5427, Acc=84.497%]\n",
      "Epoch 3/3 [Validation]: 100%|██████████| 81/81 [00:00<00:00, 172.80it/s, Loss=0.1903, Acc=80.854%]\n",
      "[I 2025-03-29 22:51:10,978] Trial 1 finished with value: 0.4669587446583642 and parameters: {'embedding_dim': 200, 'hidden_dim': 128, 'is_bidirectional': True, 'lr': 0.0005006107530914478, 'dropout_rate': 0.5, 'lstm_layers': 2}. Best is trial 0 with value: 0.46020388934347367.\n"
     ]
    },
    {
     "name": "stdout",
     "output_type": "stream",
     "text": [
      "Epoch 3: Train Loss = 0.3572, Train Acc = 84.50% Validation Loss   = 0.4670, Validation Acc   = 80.85%\n",
      "\n",
      "Trial 2: Embedding_Dim: 200, Hidden_Dim: 256, Is Bidirectional: False, Learning Rate: 0.0007602250506950657, LSTM Layers: 2, Dropout Rate: 0.5\n"
     ]
    },
    {
     "name": "stderr",
     "output_type": "stream",
     "text": [
      "Epoch 1/3 [Training]: 100%|██████████| 322/322 [00:07<00:00, 44.95it/s, Loss=0.3944, Acc=64.256%]\n",
      "Epoch 1/3 [Validation]: 100%|██████████| 81/81 [00:00<00:00, 129.18it/s, Loss=0.3782, Acc=75.495%]\n"
     ]
    },
    {
     "name": "stdout",
     "output_type": "stream",
     "text": [
      "Epoch 1: Train Loss = 0.8223, Train Acc = 64.26% Validation Loss   = 0.5363, Validation Acc   = 75.50%\n"
     ]
    },
    {
     "name": "stderr",
     "output_type": "stream",
     "text": [
      "Epoch 2/3 [Training]: 100%|██████████| 322/322 [00:07<00:00, 45.39it/s, Loss=0.4045, Acc=78.769%]\n",
      "Epoch 2/3 [Validation]: 100%|██████████| 81/81 [00:00<00:00, 124.97it/s, Loss=0.4023, Acc=77.748%]\n"
     ]
    },
    {
     "name": "stdout",
     "output_type": "stream",
     "text": [
      "Epoch 2: Train Loss = 0.4832, Train Acc = 78.77% Validation Loss   = 0.4903, Validation Acc   = 77.75%\n"
     ]
    },
    {
     "name": "stderr",
     "output_type": "stream",
     "text": [
      "Epoch 3/3 [Training]: 100%|██████████| 322/322 [00:07<00:00, 45.26it/s, Loss=0.3772, Acc=83.147%]\n",
      "Epoch 3/3 [Validation]: 100%|██████████| 81/81 [00:00<00:00, 128.96it/s, Loss=0.2553, Acc=80.272%]\n",
      "[I 2025-03-29 22:51:34,525] Trial 2 finished with value: 0.47303972641626996 and parameters: {'embedding_dim': 200, 'hidden_dim': 256, 'is_bidirectional': False, 'lr': 0.0007602250506950657, 'dropout_rate': 0.5, 'lstm_layers': 2}. Best is trial 0 with value: 0.46020388934347367.\n"
     ]
    },
    {
     "name": "stdout",
     "output_type": "stream",
     "text": [
      "Epoch 3: Train Loss = 0.3927, Train Acc = 83.15% Validation Loss   = 0.4730, Validation Acc   = 80.27%\n",
      "\n",
      "Trial 3: Embedding_Dim: 200, Hidden_Dim: 128, Is Bidirectional: True, Learning Rate: 0.0003757813246603673, LSTM Layers: 3, Dropout Rate: 0.3\n"
     ]
    },
    {
     "name": "stderr",
     "output_type": "stream",
     "text": [
      "Epoch 1/3 [Training]: 100%|██████████| 322/322 [00:05<00:00, 53.97it/s, Loss=0.8605, Acc=57.829%]\n",
      "Epoch 1/3 [Validation]: 100%|██████████| 81/81 [00:00<00:00, 144.63it/s, Loss=0.5437, Acc=74.874%]\n"
     ]
    },
    {
     "name": "stdout",
     "output_type": "stream",
     "text": [
      "Epoch 1: Train Loss = 0.9552, Train Acc = 57.83% Validation Loss   = 0.5562, Validation Acc   = 74.87%\n"
     ]
    },
    {
     "name": "stderr",
     "output_type": "stream",
     "text": [
      "Epoch 2/3 [Training]: 100%|██████████| 322/322 [00:05<00:00, 53.68it/s, Loss=0.6718, Acc=77.128%]\n",
      "Epoch 2/3 [Validation]: 100%|██████████| 81/81 [00:00<00:00, 140.73it/s, Loss=0.3381, Acc=77.748%]\n"
     ]
    },
    {
     "name": "stdout",
     "output_type": "stream",
     "text": [
      "Epoch 2: Train Loss = 0.4807, Train Acc = 77.13% Validation Loss   = 0.4660, Validation Acc   = 77.75%\n"
     ]
    },
    {
     "name": "stderr",
     "output_type": "stream",
     "text": [
      "Epoch 3/3 [Training]: 100%|██████████| 322/322 [00:05<00:00, 53.89it/s, Loss=0.3697, Acc=82.041%]\n",
      "Epoch 3/3 [Validation]: 100%|██████████| 81/81 [00:00<00:00, 143.57it/s, Loss=0.3875, Acc=80.000%]\n",
      "[I 2025-03-29 22:51:54,433] Trial 3 finished with value: 0.4501435101768117 and parameters: {'embedding_dim': 200, 'hidden_dim': 128, 'is_bidirectional': True, 'lr': 0.0003757813246603673, 'dropout_rate': 0.3, 'lstm_layers': 3}. Best is trial 3 with value: 0.4501435101768117.\n"
     ]
    },
    {
     "name": "stdout",
     "output_type": "stream",
     "text": [
      "Epoch 3: Train Loss = 0.4047, Train Acc = 82.04% Validation Loss   = 0.4501, Validation Acc   = 80.00%\n",
      "\n",
      "Trial 4: Embedding_Dim: 200, Hidden_Dim: 128, Is Bidirectional: True, Learning Rate: 0.0007111674343574678, LSTM Layers: 3, Dropout Rate: 0.3\n"
     ]
    },
    {
     "name": "stderr",
     "output_type": "stream",
     "text": [
      "Epoch 1/3 [Training]: 100%|██████████| 322/322 [00:05<00:00, 53.81it/s, Loss=0.4295, Acc=65.498%]\n",
      "Epoch 1/3 [Validation]: 100%|██████████| 81/81 [00:00<00:00, 144.72it/s, Loss=0.3516, Acc=77.165%]\n"
     ]
    },
    {
     "name": "stdout",
     "output_type": "stream",
     "text": [
      "Epoch 1: Train Loss = 0.8140, Train Acc = 65.50% Validation Loss   = 0.5033, Validation Acc   = 77.17%\n"
     ]
    },
    {
     "name": "stderr",
     "output_type": "stream",
     "text": [
      "Epoch 2/3 [Training]: 100%|██████████| 322/322 [00:05<00:00, 54.00it/s, Loss=0.6553, Acc=79.983%]\n",
      "Epoch 2/3 [Validation]: 100%|██████████| 81/81 [00:00<00:00, 141.85it/s, Loss=0.6901, Acc=78.874%]\n"
     ]
    },
    {
     "name": "stdout",
     "output_type": "stream",
     "text": [
      "Epoch 2: Train Loss = 0.4544, Train Acc = 79.98% Validation Loss   = 0.4761, Validation Acc   = 78.87%\n"
     ]
    },
    {
     "name": "stderr",
     "output_type": "stream",
     "text": [
      "Epoch 3/3 [Training]: 100%|██████████| 322/322 [00:05<00:00, 53.80it/s, Loss=0.4925, Acc=83.885%]\n",
      "Epoch 3/3 [Validation]: 100%|██████████| 81/81 [00:00<00:00, 144.93it/s, Loss=0.5106, Acc=80.699%]\n",
      "[I 2025-03-29 22:52:14,333] Trial 4 finished with value: 0.47195556741437794 and parameters: {'embedding_dim': 200, 'hidden_dim': 128, 'is_bidirectional': True, 'lr': 0.0007111674343574678, 'dropout_rate': 0.3, 'lstm_layers': 3}. Best is trial 3 with value: 0.4501435101768117.\n"
     ]
    },
    {
     "name": "stdout",
     "output_type": "stream",
     "text": [
      "Epoch 3: Train Loss = 0.3726, Train Acc = 83.89% Validation Loss   = 0.4720, Validation Acc   = 80.70%\n",
      "\n",
      "Trial 5: Embedding_Dim: 300, Hidden_Dim: 128, Is Bidirectional: True, Learning Rate: 0.00015164038133826455, LSTM Layers: 3, Dropout Rate: 0.3\n"
     ]
    },
    {
     "name": "stderr",
     "output_type": "stream",
     "text": [
      "Epoch 1/3 [Training]: 100%|██████████| 322/322 [00:06<00:00, 47.82it/s, Loss=0.4546, Acc=48.539%]\n",
      "Epoch 1/3 [Validation]: 100%|██████████| 81/81 [00:00<00:00, 141.17it/s, Loss=0.4577, Acc=72.233%]\n"
     ]
    },
    {
     "name": "stdout",
     "output_type": "stream",
     "text": [
      "Epoch 1: Train Loss = 1.2113, Train Acc = 48.54% Validation Loss   = 0.5985, Validation Acc   = 72.23%\n"
     ]
    },
    {
     "name": "stderr",
     "output_type": "stream",
     "text": [
      "Epoch 2/3 [Training]: 100%|██████████| 322/322 [00:06<00:00, 47.84it/s, Loss=0.5086, Acc=76.129%]\n",
      "Epoch 2/3 [Validation]: 100%|██████████| 81/81 [00:00<00:00, 140.66it/s, Loss=0.4370, Acc=76.350%]\n"
     ]
    },
    {
     "name": "stdout",
     "output_type": "stream",
     "text": [
      "Epoch 2: Train Loss = 0.5155, Train Acc = 76.13% Validation Loss   = 0.4835, Validation Acc   = 76.35%\n"
     ]
    },
    {
     "name": "stderr",
     "output_type": "stream",
     "text": [
      "Epoch 3/3 [Training]: 100%|██████████| 322/322 [00:06<00:00, 48.05it/s, Loss=0.4087, Acc=80.487%]\n",
      "Epoch 3/3 [Validation]: 100%|██████████| 81/81 [00:00<00:00, 142.08it/s, Loss=0.3218, Acc=78.330%]\n",
      "[I 2025-03-29 22:52:36,611] Trial 5 finished with value: 0.4834941154644813 and parameters: {'embedding_dim': 300, 'hidden_dim': 128, 'is_bidirectional': True, 'lr': 0.00015164038133826455, 'dropout_rate': 0.3, 'lstm_layers': 3}. Best is trial 3 with value: 0.4501435101768117.\n"
     ]
    },
    {
     "name": "stdout",
     "output_type": "stream",
     "text": [
      "Epoch 3: Train Loss = 0.4200, Train Acc = 80.49% Validation Loss   = 0.4885, Validation Acc   = 78.33%\n",
      "Early stopping patience: 1/10\n",
      "\n",
      "Trial 6: Embedding_Dim: 200, Hidden_Dim: 256, Is Bidirectional: False, Learning Rate: 0.0005211037387857729, LSTM Layers: 2, Dropout Rate: 0.5\n"
     ]
    },
    {
     "name": "stderr",
     "output_type": "stream",
     "text": [
      "Epoch 1/3 [Training]: 100%|██████████| 322/322 [00:07<00:00, 45.06it/s, Loss=0.3655, Acc=62.693%]\n",
      "Epoch 1/3 [Validation]: 100%|██████████| 81/81 [00:00<00:00, 125.11it/s, Loss=0.4830, Acc=75.689%]\n"
     ]
    },
    {
     "name": "stdout",
     "output_type": "stream",
     "text": [
      "Epoch 1: Train Loss = 0.8695, Train Acc = 62.69% Validation Loss   = 0.5554, Validation Acc   = 75.69%\n"
     ]
    },
    {
     "name": "stderr",
     "output_type": "stream",
     "text": [
      "Epoch 2/3 [Training]: 100%|██████████| 322/322 [00:07<00:00, 45.06it/s, Loss=0.6431, Acc=76.721%]\n",
      "Epoch 2/3 [Validation]: 100%|██████████| 81/81 [00:00<00:00, 125.33it/s, Loss=0.5461, Acc=76.738%]\n"
     ]
    },
    {
     "name": "stdout",
     "output_type": "stream",
     "text": [
      "Epoch 2: Train Loss = 0.5041, Train Acc = 76.72% Validation Loss   = 0.4984, Validation Acc   = 76.74%\n"
     ]
    },
    {
     "name": "stderr",
     "output_type": "stream",
     "text": [
      "Epoch 3/3 [Training]: 100%|██████████| 322/322 [00:07<00:00, 44.28it/s, Loss=0.3326, Acc=81.419%]\n",
      "Epoch 3/3 [Validation]: 100%|██████████| 81/81 [00:00<00:00, 127.51it/s, Loss=0.5860, Acc=78.913%]\n",
      "[I 2025-03-29 22:53:00,368] Trial 6 finished with value: 0.49842115224879463 and parameters: {'embedding_dim': 200, 'hidden_dim': 256, 'is_bidirectional': False, 'lr': 0.0005211037387857729, 'dropout_rate': 0.5, 'lstm_layers': 2}. Best is trial 3 with value: 0.4501435101768117.\n"
     ]
    },
    {
     "name": "stdout",
     "output_type": "stream",
     "text": [
      "Epoch 3: Train Loss = 0.4202, Train Acc = 81.42% Validation Loss   = 0.5037, Validation Acc   = 78.91%\n",
      "Early stopping patience: 1/10\n",
      "\n",
      "Trial 7: Embedding_Dim: 300, Hidden_Dim: 128, Is Bidirectional: False, Learning Rate: 0.00017902346542679416, LSTM Layers: 2, Dropout Rate: 0.5\n"
     ]
    },
    {
     "name": "stderr",
     "output_type": "stream",
     "text": [
      "Epoch 1/3 [Training]: 100%|██████████| 322/322 [00:04<00:00, 74.95it/s, Loss=0.6572, Acc=47.656%]\n",
      "Epoch 1/3 [Validation]: 100%|██████████| 81/81 [00:00<00:00, 234.85it/s, Loss=0.8003, Acc=72.000%]\n"
     ]
    },
    {
     "name": "stdout",
     "output_type": "stream",
     "text": [
      "Epoch 1: Train Loss = 1.2688, Train Acc = 47.66% Validation Loss   = 0.6602, Validation Acc   = 72.00%\n"
     ]
    },
    {
     "name": "stderr",
     "output_type": "stream",
     "text": [
      "Epoch 2/3 [Training]: 100%|██████████| 322/322 [00:04<00:00, 74.80it/s, Loss=0.5306, Acc=75.197%]\n",
      "Epoch 2/3 [Validation]: 100%|██████████| 81/81 [00:00<00:00, 235.82it/s, Loss=0.5996, Acc=76.194%]\n"
     ]
    },
    {
     "name": "stdout",
     "output_type": "stream",
     "text": [
      "Epoch 2: Train Loss = 0.5603, Train Acc = 75.20% Validation Loss   = 0.5230, Validation Acc   = 76.19%\n"
     ]
    },
    {
     "name": "stderr",
     "output_type": "stream",
     "text": [
      "Epoch 3/3 [Training]: 100%|██████████| 322/322 [00:04<00:00, 75.21it/s, Loss=0.3285, Acc=78.420%]\n",
      "Epoch 3/3 [Validation]: 100%|██████████| 81/81 [00:00<00:00, 237.08it/s, Loss=0.6743, Acc=76.699%]\n",
      "[I 2025-03-29 22:53:14,667] Trial 7 finished with value: 0.5040557971339167 and parameters: {'embedding_dim': 300, 'hidden_dim': 128, 'is_bidirectional': False, 'lr': 0.00017902346542679416, 'dropout_rate': 0.5, 'lstm_layers': 2}. Best is trial 3 with value: 0.4501435101768117.\n"
     ]
    },
    {
     "name": "stdout",
     "output_type": "stream",
     "text": [
      "Epoch 3: Train Loss = 0.4594, Train Acc = 78.42% Validation Loss   = 0.5041, Validation Acc   = 76.70%\n",
      "\n",
      "Trial 8: Embedding_Dim: 300, Hidden_Dim: 128, Is Bidirectional: True, Learning Rate: 0.000783947844951438, LSTM Layers: 3, Dropout Rate: 0.3\n"
     ]
    },
    {
     "name": "stderr",
     "output_type": "stream",
     "text": [
      "Epoch 1/3 [Training]: 100%|██████████| 322/322 [00:06<00:00, 47.80it/s, Loss=0.9459, Acc=67.314%]\n",
      "Epoch 1/3 [Validation]: 100%|██████████| 81/81 [00:00<00:00, 134.38it/s, Loss=0.3619, Acc=77.592%]\n"
     ]
    },
    {
     "name": "stdout",
     "output_type": "stream",
     "text": [
      "Epoch 1: Train Loss = 0.7444, Train Acc = 67.31% Validation Loss   = 0.4864, Validation Acc   = 77.59%\n"
     ]
    },
    {
     "name": "stderr",
     "output_type": "stream",
     "text": [
      "Epoch 2/3 [Training]: 100%|██████████| 322/322 [00:06<00:00, 47.81it/s, Loss=0.4932, Acc=81.652%]\n",
      "Epoch 2/3 [Validation]: 100%|██████████| 81/81 [00:00<00:00, 140.12it/s, Loss=0.6655, Acc=79.146%]\n"
     ]
    },
    {
     "name": "stdout",
     "output_type": "stream",
     "text": [
      "Epoch 2: Train Loss = 0.4179, Train Acc = 81.65% Validation Loss   = 0.4778, Validation Acc   = 79.15%\n"
     ]
    },
    {
     "name": "stderr",
     "output_type": "stream",
     "text": [
      "Epoch 3/3 [Training]: 100%|██████████| 322/322 [00:06<00:00, 47.92it/s, Loss=0.2168, Acc=86.118%]\n",
      "Epoch 3/3 [Validation]: 100%|██████████| 81/81 [00:00<00:00, 140.73it/s, Loss=0.6824, Acc=79.767%]\n",
      "[I 2025-03-29 22:53:37,038] Trial 8 finished with value: 0.4778087637674661 and parameters: {'embedding_dim': 300, 'hidden_dim': 128, 'is_bidirectional': True, 'lr': 0.000783947844951438, 'dropout_rate': 0.3, 'lstm_layers': 3}. Best is trial 3 with value: 0.4501435101768117.\n"
     ]
    },
    {
     "name": "stdout",
     "output_type": "stream",
     "text": [
      "Epoch 3: Train Loss = 0.3249, Train Acc = 86.12% Validation Loss   = 0.4790, Validation Acc   = 79.77%\n",
      "Early stopping patience: 1/10\n",
      "\n",
      "Trial 9: Embedding_Dim: 200, Hidden_Dim: 256, Is Bidirectional: False, Learning Rate: 0.0001530231323076022, LSTM Layers: 2, Dropout Rate: 0.5\n"
     ]
    },
    {
     "name": "stderr",
     "output_type": "stream",
     "text": [
      "Epoch 1/3 [Training]: 100%|██████████| 322/322 [00:07<00:00, 45.21it/s, Loss=0.9012, Acc=48.277%]\n",
      "Epoch 1/3 [Validation]: 100%|██████████| 81/81 [00:00<00:00, 124.14it/s, Loss=0.5390, Acc=71.146%]\n"
     ]
    },
    {
     "name": "stdout",
     "output_type": "stream",
     "text": [
      "Epoch 1: Train Loss = 1.2193, Train Acc = 48.28% Validation Loss   = 0.6664, Validation Acc   = 71.15%\n"
     ]
    },
    {
     "name": "stderr",
     "output_type": "stream",
     "text": [
      "Epoch 2/3 [Training]: 100%|██████████| 322/322 [00:07<00:00, 45.61it/s, Loss=0.3798, Acc=74.100%]\n",
      "Epoch 2/3 [Validation]: 100%|██████████| 81/81 [00:00<00:00, 129.23it/s, Loss=0.4149, Acc=76.039%]\n"
     ]
    },
    {
     "name": "stdout",
     "output_type": "stream",
     "text": [
      "Epoch 2: Train Loss = 0.5803, Train Acc = 74.10% Validation Loss   = 0.5342, Validation Acc   = 76.04%\n"
     ]
    },
    {
     "name": "stderr",
     "output_type": "stream",
     "text": [
      "Epoch 3/3 [Training]: 100%|██████████| 322/322 [00:07<00:00, 44.96it/s, Loss=0.3618, Acc=76.934%]\n",
      "Epoch 3/3 [Validation]: 100%|██████████| 81/81 [00:00<00:00, 126.29it/s, Loss=0.4233, Acc=76.583%]\n",
      "[I 2025-03-29 22:54:00,567] Trial 9 finished with value: 0.5054095060001185 and parameters: {'embedding_dim': 200, 'hidden_dim': 256, 'is_bidirectional': False, 'lr': 0.0001530231323076022, 'dropout_rate': 0.5, 'lstm_layers': 2}. Best is trial 3 with value: 0.4501435101768117.\n"
     ]
    },
    {
     "name": "stdout",
     "output_type": "stream",
     "text": [
      "Epoch 3: Train Loss = 0.4975, Train Acc = 76.93% Validation Loss   = 0.5054, Validation Acc   = 76.58%\n",
      "\n",
      "Trial 10: Embedding_Dim: 300, Hidden_Dim: 128, Is Bidirectional: True, Learning Rate: 0.00027629265958193137, LSTM Layers: 3, Dropout Rate: 0.3\n"
     ]
    },
    {
     "name": "stderr",
     "output_type": "stream",
     "text": [
      "Epoch 1/3 [Training]: 100%|██████████| 322/322 [00:06<00:00, 48.02it/s, Loss=0.3235, Acc=59.810%]\n",
      "Epoch 1/3 [Validation]: 100%|██████████| 81/81 [00:00<00:00, 137.31it/s, Loss=0.4240, Acc=77.515%]\n"
     ]
    },
    {
     "name": "stdout",
     "output_type": "stream",
     "text": [
      "Epoch 1: Train Loss = 0.9325, Train Acc = 59.81% Validation Loss   = 0.4989, Validation Acc   = 77.51%\n"
     ]
    },
    {
     "name": "stderr",
     "output_type": "stream",
     "text": [
      "Epoch 2/3 [Training]: 100%|██████████| 322/322 [00:06<00:00, 47.92it/s, Loss=0.3593, Acc=77.973%]\n",
      "Epoch 2/3 [Validation]: 100%|██████████| 81/81 [00:00<00:00, 135.70it/s, Loss=0.4332, Acc=77.864%]\n"
     ]
    },
    {
     "name": "stdout",
     "output_type": "stream",
     "text": [
      "Epoch 2: Train Loss = 0.4635, Train Acc = 77.97% Validation Loss   = 0.4693, Validation Acc   = 77.86%\n"
     ]
    },
    {
     "name": "stderr",
     "output_type": "stream",
     "text": [
      "Epoch 3/3 [Training]: 100%|██████████| 322/322 [00:06<00:00, 47.92it/s, Loss=0.1514, Acc=82.371%]\n",
      "Epoch 3/3 [Validation]: 100%|██████████| 81/81 [00:00<00:00, 140.91it/s, Loss=0.3216, Acc=80.544%]\n",
      "[I 2025-03-29 22:54:22,880] Trial 10 finished with value: 0.43684026378172414 and parameters: {'embedding_dim': 300, 'hidden_dim': 128, 'is_bidirectional': True, 'lr': 0.00027629265958193137, 'dropout_rate': 0.3, 'lstm_layers': 3}. Best is trial 10 with value: 0.43684026378172414.\n"
     ]
    },
    {
     "name": "stdout",
     "output_type": "stream",
     "text": [
      "Epoch 3: Train Loss = 0.3815, Train Acc = 82.37% Validation Loss   = 0.4368, Validation Acc   = 80.54%\n",
      "\n",
      "Trial 11: Embedding_Dim: 300, Hidden_Dim: 128, Is Bidirectional: True, Learning Rate: 0.00026039442118386296, LSTM Layers: 3, Dropout Rate: 0.3\n"
     ]
    },
    {
     "name": "stderr",
     "output_type": "stream",
     "text": [
      "Epoch 1/3 [Training]: 100%|██████████| 322/322 [00:06<00:00, 47.80it/s, Loss=0.6735, Acc=56.839%]\n",
      "Epoch 1/3 [Validation]: 100%|██████████| 81/81 [00:00<00:00, 142.04it/s, Loss=0.5842, Acc=75.922%]\n"
     ]
    },
    {
     "name": "stdout",
     "output_type": "stream",
     "text": [
      "Epoch 1: Train Loss = 0.9735, Train Acc = 56.84% Validation Loss   = 0.5243, Validation Acc   = 75.92%\n"
     ]
    },
    {
     "name": "stderr",
     "output_type": "stream",
     "text": [
      "Epoch 2/3 [Training]: 100%|██████████| 322/322 [00:06<00:00, 47.14it/s, Loss=0.4116, Acc=78.138%]\n",
      "Epoch 2/3 [Validation]: 100%|██████████| 81/81 [00:00<00:00, 136.94it/s, Loss=0.6435, Acc=76.583%]\n"
     ]
    },
    {
     "name": "stdout",
     "output_type": "stream",
     "text": [
      "Epoch 2: Train Loss = 0.4633, Train Acc = 78.14% Validation Loss   = 0.4841, Validation Acc   = 76.58%\n"
     ]
    },
    {
     "name": "stderr",
     "output_type": "stream",
     "text": [
      "Epoch 3/3 [Training]: 100%|██████████| 322/322 [00:06<00:00, 47.26it/s, Loss=0.3066, Acc=82.429%]\n",
      "Epoch 3/3 [Validation]: 100%|██████████| 81/81 [00:00<00:00, 139.95it/s, Loss=0.5812, Acc=80.155%]\n",
      "[I 2025-03-29 22:54:45,395] Trial 11 finished with value: 0.4674602978759342 and parameters: {'embedding_dim': 300, 'hidden_dim': 128, 'is_bidirectional': True, 'lr': 0.00026039442118386296, 'dropout_rate': 0.3, 'lstm_layers': 3}. Best is trial 10 with value: 0.43684026378172414.\n"
     ]
    },
    {
     "name": "stdout",
     "output_type": "stream",
     "text": [
      "Epoch 3: Train Loss = 0.3822, Train Acc = 82.43% Validation Loss   = 0.4675, Validation Acc   = 80.16%\n",
      "\n",
      "Trial 12: Embedding_Dim: 300, Hidden_Dim: 128, Is Bidirectional: True, Learning Rate: 0.0003026695229454988, LSTM Layers: 3, Dropout Rate: 0.3\n"
     ]
    },
    {
     "name": "stderr",
     "output_type": "stream",
     "text": [
      "Epoch 1/3 [Training]: 100%|██████████| 322/322 [00:06<00:00, 48.09it/s, Loss=0.5159, Acc=57.965%]\n",
      "Epoch 1/3 [Validation]: 100%|██████████| 81/81 [00:00<00:00, 142.32it/s, Loss=0.4764, Acc=76.738%]\n"
     ]
    },
    {
     "name": "stdout",
     "output_type": "stream",
     "text": [
      "Epoch 1: Train Loss = 0.9469, Train Acc = 57.97% Validation Loss   = 0.5037, Validation Acc   = 76.74%\n"
     ]
    },
    {
     "name": "stderr",
     "output_type": "stream",
     "text": [
      "Epoch 2/3 [Training]: 100%|██████████| 322/322 [00:06<00:00, 47.71it/s, Loss=0.4978, Acc=77.857%]\n",
      "Epoch 2/3 [Validation]: 100%|██████████| 81/81 [00:00<00:00, 139.06it/s, Loss=0.4409, Acc=77.709%]\n"
     ]
    },
    {
     "name": "stdout",
     "output_type": "stream",
     "text": [
      "Epoch 2: Train Loss = 0.4609, Train Acc = 77.86% Validation Loss   = 0.4667, Validation Acc   = 77.71%\n"
     ]
    },
    {
     "name": "stderr",
     "output_type": "stream",
     "text": [
      "Epoch 3/3 [Training]: 100%|██████████| 322/322 [00:06<00:00, 47.98it/s, Loss=0.8031, Acc=82.633%]\n",
      "Epoch 3/3 [Validation]: 100%|██████████| 81/81 [00:00<00:00, 141.80it/s, Loss=0.3814, Acc=78.874%]\n",
      "[I 2025-03-29 22:55:07,670] Trial 12 finished with value: 0.4667297850052516 and parameters: {'embedding_dim': 300, 'hidden_dim': 128, 'is_bidirectional': True, 'lr': 0.0003026695229454988, 'dropout_rate': 0.3, 'lstm_layers': 3}. Best is trial 10 with value: 0.43684026378172414.\n"
     ]
    },
    {
     "name": "stdout",
     "output_type": "stream",
     "text": [
      "Epoch 3: Train Loss = 0.3797, Train Acc = 82.63% Validation Loss   = 0.5222, Validation Acc   = 78.87%\n",
      "Early stopping patience: 1/10\n",
      "\n",
      "Trial 13: Embedding_Dim: 300, Hidden_Dim: 128, Is Bidirectional: True, Learning Rate: 0.0003992126229058935, LSTM Layers: 3, Dropout Rate: 0.3\n"
     ]
    },
    {
     "name": "stderr",
     "output_type": "stream",
     "text": [
      "Epoch 1/3 [Training]: 100%|██████████| 322/322 [00:06<00:00, 48.01it/s, Loss=0.7592, Acc=61.421%]\n",
      "Epoch 1/3 [Validation]: 100%|██████████| 81/81 [00:00<00:00, 139.67it/s, Loss=0.3981, Acc=77.010%]\n"
     ]
    },
    {
     "name": "stdout",
     "output_type": "stream",
     "text": [
      "Epoch 1: Train Loss = 0.8753, Train Acc = 61.42% Validation Loss   = 0.4909, Validation Acc   = 77.01%\n"
     ]
    },
    {
     "name": "stderr",
     "output_type": "stream",
     "text": [
      "Epoch 2/3 [Training]: 100%|██████████| 322/322 [00:06<00:00, 47.93it/s, Loss=0.4041, Acc=80.031%]\n",
      "Epoch 2/3 [Validation]: 100%|██████████| 81/81 [00:00<00:00, 141.15it/s, Loss=0.3207, Acc=78.524%]\n"
     ]
    },
    {
     "name": "stdout",
     "output_type": "stream",
     "text": [
      "Epoch 2: Train Loss = 0.4327, Train Acc = 80.03% Validation Loss   = 0.4706, Validation Acc   = 78.52%\n"
     ]
    },
    {
     "name": "stderr",
     "output_type": "stream",
     "text": [
      "Epoch 3/3 [Training]: 100%|██████████| 322/322 [00:06<00:00, 47.77it/s, Loss=0.4908, Acc=84.846%]\n",
      "Epoch 3/3 [Validation]: 100%|██████████| 81/81 [00:00<00:00, 135.57it/s, Loss=0.2691, Acc=79.806%]\n",
      "[I 2025-03-29 22:55:30,013] Trial 13 finished with value: 0.46226518518394893 and parameters: {'embedding_dim': 300, 'hidden_dim': 128, 'is_bidirectional': True, 'lr': 0.0003992126229058935, 'dropout_rate': 0.3, 'lstm_layers': 3}. Best is trial 10 with value: 0.43684026378172414.\n"
     ]
    },
    {
     "name": "stdout",
     "output_type": "stream",
     "text": [
      "Epoch 3: Train Loss = 0.3461, Train Acc = 84.85% Validation Loss   = 0.4623, Validation Acc   = 79.81%\n",
      "\n",
      "Trial 14: Embedding_Dim: 200, Hidden_Dim: 128, Is Bidirectional: True, Learning Rate: 0.00022559346353150163, LSTM Layers: 3, Dropout Rate: 0.3\n"
     ]
    },
    {
     "name": "stderr",
     "output_type": "stream",
     "text": [
      "Epoch 1/3 [Training]: 100%|██████████| 322/322 [00:05<00:00, 53.93it/s, Loss=0.5183, Acc=52.422%]\n",
      "Epoch 1/3 [Validation]: 100%|██████████| 81/81 [00:00<00:00, 144.12it/s, Loss=0.3803, Acc=74.718%]\n"
     ]
    },
    {
     "name": "stdout",
     "output_type": "stream",
     "text": [
      "Epoch 1: Train Loss = 1.0944, Train Acc = 52.42% Validation Loss   = 0.5551, Validation Acc   = 74.72%\n"
     ]
    },
    {
     "name": "stderr",
     "output_type": "stream",
     "text": [
      "Epoch 2/3 [Training]: 100%|██████████| 322/322 [00:05<00:00, 53.86it/s, Loss=0.4598, Acc=76.196%]\n",
      "Epoch 2/3 [Validation]: 100%|██████████| 81/81 [00:00<00:00, 144.24it/s, Loss=0.3052, Acc=77.398%]\n"
     ]
    },
    {
     "name": "stdout",
     "output_type": "stream",
     "text": [
      "Epoch 2: Train Loss = 0.5144, Train Acc = 76.20% Validation Loss   = 0.4961, Validation Acc   = 77.40%\n"
     ]
    },
    {
     "name": "stderr",
     "output_type": "stream",
     "text": [
      "Epoch 3/3 [Training]: 100%|██████████| 322/322 [00:05<00:00, 53.76it/s, Loss=0.4446, Acc=80.216%]\n",
      "Epoch 3/3 [Validation]: 100%|██████████| 81/81 [00:00<00:00, 143.40it/s, Loss=0.2953, Acc=79.689%]\n",
      "[I 2025-03-29 22:55:49,922] Trial 14 finished with value: 0.4813054656540906 and parameters: {'embedding_dim': 200, 'hidden_dim': 128, 'is_bidirectional': True, 'lr': 0.00022559346353150163, 'dropout_rate': 0.3, 'lstm_layers': 3}. Best is trial 10 with value: 0.43684026378172414.\n"
     ]
    },
    {
     "name": "stdout",
     "output_type": "stream",
     "text": [
      "Epoch 3: Train Loss = 0.4310, Train Acc = 80.22% Validation Loss   = 0.4813, Validation Acc   = 79.69%\n",
      "\n",
      "Trial 15: Embedding_Dim: 300, Hidden_Dim: 128, Is Bidirectional: True, Learning Rate: 0.00010114454438359688, LSTM Layers: 3, Dropout Rate: 0.3\n"
     ]
    },
    {
     "name": "stderr",
     "output_type": "stream",
     "text": [
      "Epoch 1/3 [Training]: 100%|██████████| 322/322 [00:06<00:00, 48.00it/s, Loss=0.7146, Acc=42.908%]\n",
      "Epoch 1/3 [Validation]: 100%|██████████| 81/81 [00:00<00:00, 142.97it/s, Loss=0.5209, Acc=67.107%]\n"
     ]
    },
    {
     "name": "stdout",
     "output_type": "stream",
     "text": [
      "Epoch 1: Train Loss = 1.3300, Train Acc = 42.91% Validation Loss   = 0.7576, Validation Acc   = 67.11%\n"
     ]
    },
    {
     "name": "stderr",
     "output_type": "stream",
     "text": [
      "Epoch 2/3 [Training]: 100%|██████████| 322/322 [00:06<00:00, 47.82it/s, Loss=0.6497, Acc=71.702%]\n",
      "Epoch 2/3 [Validation]: 100%|██████████| 81/81 [00:00<00:00, 141.08it/s, Loss=0.4880, Acc=75.340%]\n"
     ]
    },
    {
     "name": "stdout",
     "output_type": "stream",
     "text": [
      "Epoch 2: Train Loss = 0.6196, Train Acc = 71.70% Validation Loss   = 0.5493, Validation Acc   = 75.34%\n"
     ]
    },
    {
     "name": "stderr",
     "output_type": "stream",
     "text": [
      "Epoch 3/3 [Training]: 100%|██████████| 322/322 [00:06<00:00, 47.95it/s, Loss=0.4523, Acc=78.051%]\n",
      "Epoch 3/3 [Validation]: 100%|██████████| 81/81 [00:00<00:00, 140.82it/s, Loss=0.3735, Acc=78.214%]\n",
      "[I 2025-03-29 22:56:12,192] Trial 15 finished with value: 0.5004379581889988 and parameters: {'embedding_dim': 300, 'hidden_dim': 128, 'is_bidirectional': True, 'lr': 0.00010114454438359688, 'dropout_rate': 0.3, 'lstm_layers': 3}. Best is trial 10 with value: 0.43684026378172414.\n"
     ]
    },
    {
     "name": "stdout",
     "output_type": "stream",
     "text": [
      "Epoch 3: Train Loss = 0.4715, Train Acc = 78.05% Validation Loss   = 0.5004, Validation Acc   = 78.21%\n",
      "\n",
      "Trial 16: Embedding_Dim: 200, Hidden_Dim: 128, Is Bidirectional: True, Learning Rate: 0.0003897309470006149, LSTM Layers: 3, Dropout Rate: 0.3\n"
     ]
    },
    {
     "name": "stderr",
     "output_type": "stream",
     "text": [
      "Epoch 1/3 [Training]: 100%|██████████| 322/322 [00:05<00:00, 53.75it/s, Loss=0.3741, Acc=60.936%]\n",
      "Epoch 1/3 [Validation]: 100%|██████████| 81/81 [00:00<00:00, 143.79it/s, Loss=0.3825, Acc=75.961%]\n"
     ]
    },
    {
     "name": "stdout",
     "output_type": "stream",
     "text": [
      "Epoch 1: Train Loss = 0.9121, Train Acc = 60.94% Validation Loss   = 0.5142, Validation Acc   = 75.96%\n"
     ]
    },
    {
     "name": "stderr",
     "output_type": "stream",
     "text": [
      "Epoch 2/3 [Training]: 100%|██████████| 322/322 [00:06<00:00, 52.82it/s, Loss=0.5481, Acc=78.653%]\n",
      "Epoch 2/3 [Validation]: 100%|██████████| 81/81 [00:00<00:00, 139.64it/s, Loss=0.4297, Acc=77.709%]\n"
     ]
    },
    {
     "name": "stdout",
     "output_type": "stream",
     "text": [
      "Epoch 2: Train Loss = 0.4700, Train Acc = 78.65% Validation Loss   = 0.4855, Validation Acc   = 77.71%\n"
     ]
    },
    {
     "name": "stderr",
     "output_type": "stream",
     "text": [
      "Epoch 3/3 [Training]: 100%|██████████| 322/322 [00:06<00:00, 52.68it/s, Loss=0.6260, Acc=82.817%]\n",
      "Epoch 3/3 [Validation]: 100%|██████████| 81/81 [00:00<00:00, 135.28it/s, Loss=0.6455, Acc=79.417%]\n",
      "[I 2025-03-29 22:56:32,415] Trial 16 finished with value: 0.48552824979946935 and parameters: {'embedding_dim': 200, 'hidden_dim': 128, 'is_bidirectional': True, 'lr': 0.0003897309470006149, 'dropout_rate': 0.3, 'lstm_layers': 3}. Best is trial 10 with value: 0.43684026378172414.\n"
     ]
    },
    {
     "name": "stdout",
     "output_type": "stream",
     "text": [
      "Epoch 3: Train Loss = 0.3825, Train Acc = 82.82% Validation Loss   = 0.4865, Validation Acc   = 79.42%\n",
      "Early stopping patience: 1/10\n",
      "\n",
      "Trial 17: Embedding_Dim: 300, Hidden_Dim: 128, Is Bidirectional: True, Learning Rate: 0.00037679330278428034, LSTM Layers: 3, Dropout Rate: 0.3\n"
     ]
    },
    {
     "name": "stderr",
     "output_type": "stream",
     "text": [
      "Epoch 1/3 [Training]: 100%|██████████| 322/322 [00:06<00:00, 47.98it/s, Loss=0.4598, Acc=60.829%]\n",
      "Epoch 1/3 [Validation]: 100%|██████████| 81/81 [00:00<00:00, 140.29it/s, Loss=0.5312, Acc=76.078%]\n"
     ]
    },
    {
     "name": "stdout",
     "output_type": "stream",
     "text": [
      "Epoch 1: Train Loss = 0.8936, Train Acc = 60.83% Validation Loss   = 0.5079, Validation Acc   = 76.08%\n"
     ]
    },
    {
     "name": "stderr",
     "output_type": "stream",
     "text": [
      "Epoch 2/3 [Training]: 100%|██████████| 322/322 [00:06<00:00, 48.03it/s, Loss=0.2763, Acc=80.711%]\n",
      "Epoch 2/3 [Validation]: 100%|██████████| 81/81 [00:00<00:00, 140.92it/s, Loss=0.4753, Acc=80.039%]\n"
     ]
    },
    {
     "name": "stdout",
     "output_type": "stream",
     "text": [
      "Epoch 2: Train Loss = 0.4278, Train Acc = 80.71% Validation Loss   = 0.4901, Validation Acc   = 80.04%\n"
     ]
    },
    {
     "name": "stderr",
     "output_type": "stream",
     "text": [
      "Epoch 3/3 [Training]: 100%|██████████| 322/322 [00:06<00:00, 48.00it/s, Loss=0.5621, Acc=85.565%]\n",
      "Epoch 3/3 [Validation]: 100%|██████████| 81/81 [00:00<00:00, 141.49it/s, Loss=0.7719, Acc=79.883%]\n",
      "[I 2025-03-29 22:56:54,684] Trial 17 finished with value: 0.47937118032096343 and parameters: {'embedding_dim': 300, 'hidden_dim': 128, 'is_bidirectional': True, 'lr': 0.00037679330278428034, 'dropout_rate': 0.3, 'lstm_layers': 3}. Best is trial 10 with value: 0.43684026378172414.\n"
     ]
    },
    {
     "name": "stdout",
     "output_type": "stream",
     "text": [
      "Epoch 3: Train Loss = 0.3389, Train Acc = 85.56% Validation Loss   = 0.4794, Validation Acc   = 79.88%\n",
      "\n",
      "Trial 18: Embedding_Dim: 300, Hidden_Dim: 256, Is Bidirectional: True, Learning Rate: 0.00020444410074695906, LSTM Layers: 3, Dropout Rate: 0.3\n"
     ]
    },
    {
     "name": "stderr",
     "output_type": "stream",
     "text": [
      "Epoch 1/3 [Training]: 100%|██████████| 322/322 [00:18<00:00, 17.69it/s, Loss=0.3965, Acc=59.518%]\n",
      "Epoch 1/3 [Validation]: 100%|██████████| 81/81 [00:01<00:00, 49.86it/s, Loss=0.6337, Acc=76.466%]\n"
     ]
    },
    {
     "name": "stdout",
     "output_type": "stream",
     "text": [
      "Epoch 1: Train Loss = 0.9162, Train Acc = 59.52% Validation Loss   = 0.5134, Validation Acc   = 76.47%\n"
     ]
    },
    {
     "name": "stderr",
     "output_type": "stream",
     "text": [
      "Epoch 2/3 [Training]: 100%|██████████| 322/322 [00:19<00:00, 16.94it/s, Loss=0.5270, Acc=79.157%]\n",
      "Epoch 2/3 [Validation]: 100%|██████████| 81/81 [00:01<00:00, 51.07it/s, Loss=0.4628, Acc=79.379%]\n"
     ]
    },
    {
     "name": "stdout",
     "output_type": "stream",
     "text": [
      "Epoch 2: Train Loss = 0.4648, Train Acc = 79.16% Validation Loss   = 0.4568, Validation Acc   = 79.38%\n"
     ]
    },
    {
     "name": "stderr",
     "output_type": "stream",
     "text": [
      "Epoch 3/3 [Training]: 100%|██████████| 322/322 [00:18<00:00, 17.18it/s, Loss=0.7884, Acc=83.225%]\n",
      "Epoch 3/3 [Validation]: 100%|██████████| 81/81 [00:01<00:00, 49.88it/s, Loss=0.2460, Acc=81.010%]\n",
      "[I 2025-03-29 22:57:55,900] Trial 18 finished with value: 0.4466424084004061 and parameters: {'embedding_dim': 300, 'hidden_dim': 256, 'is_bidirectional': True, 'lr': 0.00020444410074695906, 'dropout_rate': 0.3, 'lstm_layers': 3}. Best is trial 10 with value: 0.43684026378172414.\n"
     ]
    },
    {
     "name": "stdout",
     "output_type": "stream",
     "text": [
      "Epoch 3: Train Loss = 0.3827, Train Acc = 83.22% Validation Loss   = 0.4466, Validation Acc   = 81.01%\n",
      "\n",
      "Trial 19: Embedding_Dim: 300, Hidden_Dim: 256, Is Bidirectional: True, Learning Rate: 0.00020953193048915531, LSTM Layers: 3, Dropout Rate: 0.3\n"
     ]
    },
    {
     "name": "stderr",
     "output_type": "stream",
     "text": [
      "Epoch 1/3 [Training]: 100%|██████████| 322/322 [00:18<00:00, 17.29it/s, Loss=0.8467, Acc=57.208%]\n",
      "Epoch 1/3 [Validation]: 100%|██████████| 81/81 [00:01<00:00, 48.16it/s, Loss=0.5917, Acc=74.447%]\n"
     ]
    },
    {
     "name": "stdout",
     "output_type": "stream",
     "text": [
      "Epoch 1: Train Loss = 0.9592, Train Acc = 57.21% Validation Loss   = 0.5513, Validation Acc   = 74.45%\n"
     ]
    },
    {
     "name": "stderr",
     "output_type": "stream",
     "text": [
      "Epoch 2/3 [Training]: 100%|██████████| 322/322 [00:18<00:00, 17.24it/s, Loss=0.7013, Acc=79.196%]\n",
      "Epoch 2/3 [Validation]: 100%|██████████| 81/81 [00:01<00:00, 50.00it/s, Loss=0.5458, Acc=79.107%]\n"
     ]
    },
    {
     "name": "stdout",
     "output_type": "stream",
     "text": [
      "Epoch 2: Train Loss = 0.4712, Train Acc = 79.20% Validation Loss   = 0.4891, Validation Acc   = 79.11%\n"
     ]
    },
    {
     "name": "stderr",
     "output_type": "stream",
     "text": [
      "Epoch 3/3 [Training]: 100%|██████████| 322/322 [00:18<00:00, 17.03it/s, Loss=0.6928, Acc=83.516%]\n",
      "Epoch 3/3 [Validation]: 100%|██████████| 81/81 [00:01<00:00, 49.69it/s, Loss=0.5664, Acc=80.194%]\n",
      "[I 2025-03-29 22:58:57,459] Trial 19 finished with value: 0.4726726434848927 and parameters: {'embedding_dim': 300, 'hidden_dim': 256, 'is_bidirectional': True, 'lr': 0.00020953193048915531, 'dropout_rate': 0.3, 'lstm_layers': 3}. Best is trial 10 with value: 0.43684026378172414.\n"
     ]
    },
    {
     "name": "stdout",
     "output_type": "stream",
     "text": [
      "Epoch 3: Train Loss = 0.3749, Train Acc = 83.52% Validation Loss   = 0.4727, Validation Acc   = 80.19%\n",
      "\n",
      "Trial 20: Embedding_Dim: 300, Hidden_Dim: 256, Is Bidirectional: True, Learning Rate: 0.0001084665633570273, LSTM Layers: 3, Dropout Rate: 0.3\n"
     ]
    },
    {
     "name": "stderr",
     "output_type": "stream",
     "text": [
      "Epoch 1/3 [Training]: 100%|██████████| 322/322 [00:18<00:00, 17.64it/s, Loss=0.7940, Acc=51.451%]\n",
      "Epoch 1/3 [Validation]: 100%|██████████| 81/81 [00:01<00:00, 49.80it/s, Loss=0.3665, Acc=74.408%]\n"
     ]
    },
    {
     "name": "stdout",
     "output_type": "stream",
     "text": [
      "Epoch 1: Train Loss = 1.1213, Train Acc = 51.45% Validation Loss   = 0.5548, Validation Acc   = 74.41%\n"
     ]
    },
    {
     "name": "stderr",
     "output_type": "stream",
     "text": [
      "Epoch 2/3 [Training]: 100%|██████████| 322/322 [00:18<00:00, 17.13it/s, Loss=0.5086, Acc=76.895%]\n",
      "Epoch 2/3 [Validation]: 100%|██████████| 81/81 [00:01<00:00, 49.99it/s, Loss=0.3305, Acc=79.068%]\n"
     ]
    },
    {
     "name": "stdout",
     "output_type": "stream",
     "text": [
      "Epoch 2: Train Loss = 0.5069, Train Acc = 76.90% Validation Loss   = 0.4794, Validation Acc   = 79.07%\n"
     ]
    },
    {
     "name": "stderr",
     "output_type": "stream",
     "text": [
      "Epoch 3/3 [Training]: 100%|██████████| 322/322 [00:18<00:00, 17.21it/s, Loss=0.3295, Acc=81.419%]\n",
      "Epoch 3/3 [Validation]: 100%|██████████| 81/81 [00:01<00:00, 49.43it/s, Loss=0.4182, Acc=80.194%]\n",
      "[I 2025-03-29 22:59:58,535] Trial 20 finished with value: 0.47040490291000886 and parameters: {'embedding_dim': 300, 'hidden_dim': 256, 'is_bidirectional': True, 'lr': 0.0001084665633570273, 'dropout_rate': 0.3, 'lstm_layers': 3}. Best is trial 10 with value: 0.43684026378172414.\n"
     ]
    },
    {
     "name": "stdout",
     "output_type": "stream",
     "text": [
      "Epoch 3: Train Loss = 0.4235, Train Acc = 81.42% Validation Loss   = 0.4704, Validation Acc   = 80.19%\n",
      "\n",
      "Trial 21: Embedding_Dim: 300, Hidden_Dim: 256, Is Bidirectional: True, Learning Rate: 0.0002722904636739033, LSTM Layers: 3, Dropout Rate: 0.3\n"
     ]
    },
    {
     "name": "stderr",
     "output_type": "stream",
     "text": [
      "Epoch 1/3 [Training]: 100%|██████████| 322/322 [00:18<00:00, 17.17it/s, Loss=0.5668, Acc=63.382%]\n",
      "Epoch 1/3 [Validation]: 100%|██████████| 81/81 [00:01<00:00, 49.88it/s, Loss=0.3855, Acc=76.660%]\n"
     ]
    },
    {
     "name": "stdout",
     "output_type": "stream",
     "text": [
      "Epoch 1: Train Loss = 0.8487, Train Acc = 63.38% Validation Loss   = 0.4931, Validation Acc   = 76.66%\n"
     ]
    },
    {
     "name": "stderr",
     "output_type": "stream",
     "text": [
      "Epoch 2/3 [Training]: 100%|██████████| 322/322 [00:18<00:00, 17.26it/s, Loss=0.5719, Acc=80.449%]\n",
      "Epoch 2/3 [Validation]: 100%|██████████| 81/81 [00:01<00:00, 49.87it/s, Loss=0.2965, Acc=79.961%]\n"
     ]
    },
    {
     "name": "stdout",
     "output_type": "stream",
     "text": [
      "Epoch 2: Train Loss = 0.4534, Train Acc = 80.45% Validation Loss   = 0.4676, Validation Acc   = 79.96%\n"
     ]
    },
    {
     "name": "stderr",
     "output_type": "stream",
     "text": [
      "Epoch 3/3 [Training]: 100%|██████████| 322/322 [00:18<00:00, 17.08it/s, Loss=0.2222, Acc=84.264%]\n",
      "Epoch 3/3 [Validation]: 100%|██████████| 81/81 [00:01<00:00, 49.62it/s, Loss=0.4130, Acc=80.427%]\n",
      "[I 2025-03-29 23:01:00,096] Trial 21 finished with value: 0.45267272483051557 and parameters: {'embedding_dim': 300, 'hidden_dim': 256, 'is_bidirectional': True, 'lr': 0.0002722904636739033, 'dropout_rate': 0.3, 'lstm_layers': 3}. Best is trial 10 with value: 0.43684026378172414.\n"
     ]
    },
    {
     "name": "stdout",
     "output_type": "stream",
     "text": [
      "Epoch 3: Train Loss = 0.3673, Train Acc = 84.26% Validation Loss   = 0.4527, Validation Acc   = 80.43%\n",
      "\n",
      "Trial 22: Embedding_Dim: 300, Hidden_Dim: 256, Is Bidirectional: True, Learning Rate: 0.0005452388899056204, LSTM Layers: 3, Dropout Rate: 0.3\n"
     ]
    },
    {
     "name": "stderr",
     "output_type": "stream",
     "text": [
      "Epoch 1/3 [Training]: 100%|██████████| 322/322 [00:18<00:00, 17.59it/s, Loss=0.5534, Acc=65.897%]\n",
      "Epoch 1/3 [Validation]: 100%|██████████| 81/81 [00:01<00:00, 49.49it/s, Loss=0.3358, Acc=78.019%]\n"
     ]
    },
    {
     "name": "stdout",
     "output_type": "stream",
     "text": [
      "Epoch 1: Train Loss = 0.7731, Train Acc = 65.90% Validation Loss   = 0.4949, Validation Acc   = 78.02%\n"
     ]
    },
    {
     "name": "stderr",
     "output_type": "stream",
     "text": [
      "Epoch 2/3 [Training]: 100%|██████████| 322/322 [00:18<00:00, 17.08it/s, Loss=0.4462, Acc=79.720%]\n",
      "Epoch 2/3 [Validation]: 100%|██████████| 81/81 [00:01<00:00, 50.15it/s, Loss=0.3195, Acc=79.922%]\n"
     ]
    },
    {
     "name": "stdout",
     "output_type": "stream",
     "text": [
      "Epoch 2: Train Loss = 0.4453, Train Acc = 79.72% Validation Loss   = 0.4655, Validation Acc   = 79.92%\n"
     ]
    },
    {
     "name": "stderr",
     "output_type": "stream",
     "text": [
      "Epoch 3/3 [Training]: 100%|██████████| 322/322 [00:18<00:00, 17.27it/s, Loss=0.3350, Acc=85.089%]\n",
      "Epoch 3/3 [Validation]: 100%|██████████| 81/81 [00:01<00:00, 49.62it/s, Loss=0.3043, Acc=78.913%]\n",
      "[I 2025-03-29 23:02:01,210] Trial 22 finished with value: 0.46550948862676267 and parameters: {'embedding_dim': 300, 'hidden_dim': 256, 'is_bidirectional': True, 'lr': 0.0005452388899056204, 'dropout_rate': 0.3, 'lstm_layers': 3}. Best is trial 10 with value: 0.43684026378172414.\n"
     ]
    },
    {
     "name": "stdout",
     "output_type": "stream",
     "text": [
      "Epoch 3: Train Loss = 0.3540, Train Acc = 85.09% Validation Loss   = 0.4688, Validation Acc   = 78.91%\n",
      "Early stopping patience: 1/10\n",
      "\n",
      "Trial 23: Embedding_Dim: 200, Hidden_Dim: 256, Is Bidirectional: True, Learning Rate: 0.0003372636004624839, LSTM Layers: 3, Dropout Rate: 0.3\n"
     ]
    },
    {
     "name": "stderr",
     "output_type": "stream",
     "text": [
      "Epoch 1/3 [Training]: 100%|██████████| 322/322 [00:18<00:00, 17.61it/s, Loss=0.4747, Acc=62.208%]\n",
      "Epoch 1/3 [Validation]: 100%|██████████| 81/81 [00:01<00:00, 50.18it/s, Loss=0.4172, Acc=76.971%]\n"
     ]
    },
    {
     "name": "stdout",
     "output_type": "stream",
     "text": [
      "Epoch 1: Train Loss = 0.8737, Train Acc = 62.21% Validation Loss   = 0.5184, Validation Acc   = 76.97%\n"
     ]
    },
    {
     "name": "stderr",
     "output_type": "stream",
     "text": [
      "Epoch 2/3 [Training]: 100%|██████████| 322/322 [00:17<00:00, 18.08it/s, Loss=0.4684, Acc=79.643%]\n",
      "Epoch 2/3 [Validation]: 100%|██████████| 81/81 [00:01<00:00, 51.06it/s, Loss=0.4209, Acc=78.796%]\n"
     ]
    },
    {
     "name": "stdout",
     "output_type": "stream",
     "text": [
      "Epoch 2: Train Loss = 0.4722, Train Acc = 79.64% Validation Loss   = 0.4699, Validation Acc   = 78.80%\n"
     ]
    },
    {
     "name": "stderr",
     "output_type": "stream",
     "text": [
      "Epoch 3/3 [Training]: 100%|██████████| 322/322 [00:18<00:00, 17.76it/s, Loss=0.2427, Acc=83.070%]\n",
      "Epoch 3/3 [Validation]: 100%|██████████| 81/81 [00:01<00:00, 50.70it/s, Loss=0.3881, Acc=80.117%]\n",
      "[I 2025-03-29 23:03:00,530] Trial 23 finished with value: 0.4698777281575733 and parameters: {'embedding_dim': 200, 'hidden_dim': 256, 'is_bidirectional': True, 'lr': 0.0003372636004624839, 'dropout_rate': 0.3, 'lstm_layers': 3}. Best is trial 10 with value: 0.43684026378172414.\n"
     ]
    },
    {
     "name": "stdout",
     "output_type": "stream",
     "text": [
      "Epoch 3: Train Loss = 0.3907, Train Acc = 83.07% Validation Loss   = 0.4886, Validation Acc   = 80.12%\n",
      "Early stopping patience: 1/10\n",
      "\n",
      "Trial 24: Embedding_Dim: 300, Hidden_Dim: 128, Is Bidirectional: True, Learning Rate: 0.00022192154193404476, LSTM Layers: 3, Dropout Rate: 0.3\n"
     ]
    },
    {
     "name": "stderr",
     "output_type": "stream",
     "text": [
      "Epoch 1/3 [Training]: 100%|██████████| 322/322 [00:06<00:00, 47.91it/s, Loss=0.4352, Acc=56.237%]\n",
      "Epoch 1/3 [Validation]: 100%|██████████| 81/81 [00:00<00:00, 136.98it/s, Loss=0.4828, Acc=75.845%]\n"
     ]
    },
    {
     "name": "stdout",
     "output_type": "stream",
     "text": [
      "Epoch 1: Train Loss = 1.0248, Train Acc = 56.24% Validation Loss   = 0.5270, Validation Acc   = 75.84%\n"
     ]
    },
    {
     "name": "stderr",
     "output_type": "stream",
     "text": [
      "Epoch 2/3 [Training]: 100%|██████████| 322/322 [00:06<00:00, 47.98it/s, Loss=0.2769, Acc=77.983%]\n",
      "Epoch 2/3 [Validation]: 100%|██████████| 81/81 [00:00<00:00, 143.24it/s, Loss=0.5689, Acc=78.485%]\n"
     ]
    },
    {
     "name": "stdout",
     "output_type": "stream",
     "text": [
      "Epoch 2: Train Loss = 0.4697, Train Acc = 77.98% Validation Loss   = 0.4873, Validation Acc   = 78.49%\n"
     ]
    },
    {
     "name": "stderr",
     "output_type": "stream",
     "text": [
      "Epoch 3/3 [Training]: 100%|██████████| 322/322 [00:06<00:00, 47.86it/s, Loss=0.3182, Acc=82.681%]\n",
      "Epoch 3/3 [Validation]: 100%|██████████| 81/81 [00:00<00:00, 140.57it/s, Loss=0.3582, Acc=79.767%]\n",
      "[I 2025-03-29 23:03:22,815] Trial 24 finished with value: 0.465165439395257 and parameters: {'embedding_dim': 300, 'hidden_dim': 128, 'is_bidirectional': True, 'lr': 0.00022192154193404476, 'dropout_rate': 0.3, 'lstm_layers': 3}. Best is trial 10 with value: 0.43684026378172414.\n"
     ]
    },
    {
     "name": "stdout",
     "output_type": "stream",
     "text": [
      "Epoch 3: Train Loss = 0.3862, Train Acc = 82.68% Validation Loss   = 0.4652, Validation Acc   = 79.77%\n",
      "\n",
      "Trial 25: Embedding_Dim: 300, Hidden_Dim: 128, Is Bidirectional: True, Learning Rate: 0.00013254393664537795, LSTM Layers: 3, Dropout Rate: 0.3\n"
     ]
    },
    {
     "name": "stderr",
     "output_type": "stream",
     "text": [
      "Epoch 1/3 [Training]: 100%|██████████| 322/322 [00:06<00:00, 47.94it/s, Loss=0.6301, Acc=45.840%]\n",
      "Epoch 1/3 [Validation]: 100%|██████████| 81/81 [00:00<00:00, 141.06it/s, Loss=0.5952, Acc=71.029%]\n"
     ]
    },
    {
     "name": "stdout",
     "output_type": "stream",
     "text": [
      "Epoch 1: Train Loss = 1.2584, Train Acc = 45.84% Validation Loss   = 0.6493, Validation Acc   = 71.03%\n"
     ]
    },
    {
     "name": "stderr",
     "output_type": "stream",
     "text": [
      "Epoch 2/3 [Training]: 100%|██████████| 322/322 [00:06<00:00, 48.00it/s, Loss=0.5494, Acc=75.595%]\n",
      "Epoch 2/3 [Validation]: 100%|██████████| 81/81 [00:00<00:00, 140.28it/s, Loss=0.4490, Acc=77.553%]\n"
     ]
    },
    {
     "name": "stdout",
     "output_type": "stream",
     "text": [
      "Epoch 2: Train Loss = 0.5352, Train Acc = 75.59% Validation Loss   = 0.4948, Validation Acc   = 77.55%\n"
     ]
    },
    {
     "name": "stderr",
     "output_type": "stream",
     "text": [
      "Epoch 3/3 [Training]: 100%|██████████| 322/322 [00:06<00:00, 47.70it/s, Loss=0.6290, Acc=79.866%]\n",
      "Epoch 3/3 [Validation]: 100%|██████████| 81/81 [00:00<00:00, 139.54it/s, Loss=0.4353, Acc=78.951%]\n",
      "[I 2025-03-29 23:03:45,116] Trial 25 finished with value: 0.4828588291082853 and parameters: {'embedding_dim': 300, 'hidden_dim': 128, 'is_bidirectional': True, 'lr': 0.00013254393664537795, 'dropout_rate': 0.3, 'lstm_layers': 3}. Best is trial 10 with value: 0.43684026378172414.\n"
     ]
    },
    {
     "name": "stdout",
     "output_type": "stream",
     "text": [
      "Epoch 3: Train Loss = 0.4350, Train Acc = 79.87% Validation Loss   = 0.4829, Validation Acc   = 78.95%\n",
      "\n",
      "Trial 26: Embedding_Dim: 200, Hidden_Dim: 256, Is Bidirectional: False, Learning Rate: 0.0004492695045798505, LSTM Layers: 3, Dropout Rate: 0.5\n"
     ]
    },
    {
     "name": "stderr",
     "output_type": "stream",
     "text": [
      "Epoch 1/3 [Training]: 100%|██████████| 322/322 [00:09<00:00, 33.20it/s, Loss=0.5719, Acc=58.422%]\n",
      "Epoch 1/3 [Validation]: 100%|██████████| 81/81 [00:00<00:00, 94.38it/s, Loss=0.5020, Acc=74.835%]\n"
     ]
    },
    {
     "name": "stdout",
     "output_type": "stream",
     "text": [
      "Epoch 1: Train Loss = 0.9712, Train Acc = 58.42% Validation Loss   = 0.5500, Validation Acc   = 74.83%\n"
     ]
    },
    {
     "name": "stderr",
     "output_type": "stream",
     "text": [
      "Epoch 2/3 [Training]: 100%|██████████| 322/322 [00:09<00:00, 32.76it/s, Loss=0.3711, Acc=76.517%]\n",
      "Epoch 2/3 [Validation]: 100%|██████████| 81/81 [00:00<00:00, 91.03it/s, Loss=0.6102, Acc=76.777%]\n"
     ]
    },
    {
     "name": "stdout",
     "output_type": "stream",
     "text": [
      "Epoch 2: Train Loss = 0.5252, Train Acc = 76.52% Validation Loss   = 0.4995, Validation Acc   = 76.78%\n"
     ]
    },
    {
     "name": "stderr",
     "output_type": "stream",
     "text": [
      "Epoch 3/3 [Training]: 100%|██████████| 322/322 [00:10<00:00, 32.15it/s, Loss=0.5535, Acc=78.711%]\n",
      "Epoch 3/3 [Validation]: 100%|██████████| 81/81 [00:00<00:00, 95.01it/s, Loss=0.3808, Acc=77.282%]\n",
      "[I 2025-03-29 23:04:17,542] Trial 26 finished with value: 0.491207832907453 and parameters: {'embedding_dim': 200, 'hidden_dim': 256, 'is_bidirectional': False, 'lr': 0.0004492695045798505, 'dropout_rate': 0.5, 'lstm_layers': 3}. Best is trial 10 with value: 0.43684026378172414.\n"
     ]
    },
    {
     "name": "stdout",
     "output_type": "stream",
     "text": [
      "Epoch 3: Train Loss = 0.4578, Train Acc = 78.71% Validation Loss   = 0.4912, Validation Acc   = 77.28%\n",
      "\n",
      "Trial 27: Embedding_Dim: 300, Hidden_Dim: 128, Is Bidirectional: True, Learning Rate: 0.00018870471961722756, LSTM Layers: 3, Dropout Rate: 0.3\n"
     ]
    },
    {
     "name": "stderr",
     "output_type": "stream",
     "text": [
      "Epoch 1/3 [Training]: 100%|██████████| 322/322 [00:06<00:00, 47.83it/s, Loss=0.4818, Acc=53.771%]\n",
      "Epoch 1/3 [Validation]: 100%|██████████| 81/81 [00:00<00:00, 139.22it/s, Loss=0.5424, Acc=72.350%]\n"
     ]
    },
    {
     "name": "stdout",
     "output_type": "stream",
     "text": [
      "Epoch 1: Train Loss = 1.0745, Train Acc = 53.77% Validation Loss   = 0.5612, Validation Acc   = 72.35%\n"
     ]
    },
    {
     "name": "stderr",
     "output_type": "stream",
     "text": [
      "Epoch 2/3 [Training]: 100%|██████████| 322/322 [00:06<00:00, 47.65it/s, Loss=0.4580, Acc=76.410%]\n",
      "Epoch 2/3 [Validation]: 100%|██████████| 81/81 [00:00<00:00, 142.71it/s, Loss=0.4136, Acc=76.893%]\n"
     ]
    },
    {
     "name": "stdout",
     "output_type": "stream",
     "text": [
      "Epoch 2: Train Loss = 0.5027, Train Acc = 76.41% Validation Loss   = 0.4854, Validation Acc   = 76.89%\n"
     ]
    },
    {
     "name": "stderr",
     "output_type": "stream",
     "text": [
      "Epoch 3/3 [Training]: 100%|██████████| 322/322 [00:06<00:00, 47.71it/s, Loss=0.4390, Acc=79.740%]\n",
      "Epoch 3/3 [Validation]: 100%|██████████| 81/81 [00:00<00:00, 141.71it/s, Loss=0.4195, Acc=77.786%]\n",
      "[I 2025-03-29 23:04:39,920] Trial 27 finished with value: 0.48303191198243034 and parameters: {'embedding_dim': 300, 'hidden_dim': 128, 'is_bidirectional': True, 'lr': 0.00018870471961722756, 'dropout_rate': 0.3, 'lstm_layers': 3}. Best is trial 10 with value: 0.43684026378172414.\n"
     ]
    },
    {
     "name": "stdout",
     "output_type": "stream",
     "text": [
      "Epoch 3: Train Loss = 0.4193, Train Acc = 79.74% Validation Loss   = 0.4830, Validation Acc   = 77.79%\n",
      "\n",
      "Trial 28: Embedding_Dim: 200, Hidden_Dim: 256, Is Bidirectional: True, Learning Rate: 0.00026706421575203214, LSTM Layers: 3, Dropout Rate: 0.3\n"
     ]
    },
    {
     "name": "stderr",
     "output_type": "stream",
     "text": [
      "Epoch 1/3 [Training]: 100%|██████████| 322/322 [00:17<00:00, 18.06it/s, Loss=0.4938, Acc=61.334%]\n",
      "Epoch 1/3 [Validation]: 100%|██████████| 81/81 [00:01<00:00, 50.00it/s, Loss=0.4027, Acc=76.505%]\n"
     ]
    },
    {
     "name": "stdout",
     "output_type": "stream",
     "text": [
      "Epoch 1: Train Loss = 0.8819, Train Acc = 61.33% Validation Loss   = 0.5243, Validation Acc   = 76.50%\n"
     ]
    },
    {
     "name": "stderr",
     "output_type": "stream",
     "text": [
      "Epoch 2/3 [Training]: 100%|██████████| 322/322 [00:18<00:00, 17.69it/s, Loss=0.4562, Acc=78.429%]\n",
      "Epoch 2/3 [Validation]: 100%|██████████| 81/81 [00:01<00:00, 49.34it/s, Loss=0.4271, Acc=77.942%]\n"
     ]
    },
    {
     "name": "stdout",
     "output_type": "stream",
     "text": [
      "Epoch 2: Train Loss = 0.4775, Train Acc = 78.43% Validation Loss   = 0.5113, Validation Acc   = 77.94%\n"
     ]
    },
    {
     "name": "stderr",
     "output_type": "stream",
     "text": [
      "Epoch 3/3 [Training]: 100%|██████████| 322/322 [00:17<00:00, 17.95it/s, Loss=0.4146, Acc=82.215%]\n",
      "Epoch 3/3 [Validation]: 100%|██████████| 81/81 [00:01<00:00, 49.66it/s, Loss=0.3351, Acc=79.650%]\n",
      "[I 2025-03-29 23:05:39,100] Trial 28 finished with value: 0.5013034170792426 and parameters: {'embedding_dim': 200, 'hidden_dim': 256, 'is_bidirectional': True, 'lr': 0.00026706421575203214, 'dropout_rate': 0.3, 'lstm_layers': 3}. Best is trial 10 with value: 0.43684026378172414.\n"
     ]
    },
    {
     "name": "stdout",
     "output_type": "stream",
     "text": [
      "Epoch 3: Train Loss = 0.4014, Train Acc = 82.22% Validation Loss   = 0.5013, Validation Acc   = 79.65%\n",
      "\n",
      "Trial 29: Embedding_Dim: 200, Hidden_Dim: 256, Is Bidirectional: False, Learning Rate: 0.0006148389495590238, LSTM Layers: 2, Dropout Rate: 0.3\n"
     ]
    },
    {
     "name": "stderr",
     "output_type": "stream",
     "text": [
      "Epoch 1/3 [Training]: 100%|██████████| 322/322 [00:07<00:00, 44.83it/s, Loss=0.6305, Acc=64.052%]\n",
      "Epoch 1/3 [Validation]: 100%|██████████| 81/81 [00:00<00:00, 126.05it/s, Loss=0.4403, Acc=76.466%]\n"
     ]
    },
    {
     "name": "stdout",
     "output_type": "stream",
     "text": [
      "Epoch 1: Train Loss = 0.8460, Train Acc = 64.05% Validation Loss   = 0.5147, Validation Acc   = 76.47%\n"
     ]
    },
    {
     "name": "stderr",
     "output_type": "stream",
     "text": [
      "Epoch 2/3 [Training]: 100%|██████████| 322/322 [00:07<00:00, 45.43it/s, Loss=0.5066, Acc=78.711%]\n",
      "Epoch 2/3 [Validation]: 100%|██████████| 81/81 [00:00<00:00, 129.02it/s, Loss=0.3917, Acc=78.680%]\n"
     ]
    },
    {
     "name": "stdout",
     "output_type": "stream",
     "text": [
      "Epoch 2: Train Loss = 0.4745, Train Acc = 78.71% Validation Loss   = 0.4740, Validation Acc   = 78.68%\n"
     ]
    },
    {
     "name": "stderr",
     "output_type": "stream",
     "text": [
      "Epoch 3/3 [Training]: 100%|██████████| 322/322 [00:07<00:00, 44.63it/s, Loss=0.3155, Acc=83.303%]\n",
      "Epoch 3/3 [Validation]: 100%|██████████| 81/81 [00:00<00:00, 124.33it/s, Loss=0.4266, Acc=80.350%]\n",
      "[I 2025-03-29 23:06:02,789] Trial 29 finished with value: 0.4628127805980635 and parameters: {'embedding_dim': 200, 'hidden_dim': 256, 'is_bidirectional': False, 'lr': 0.0006148389495590238, 'dropout_rate': 0.3, 'lstm_layers': 2}. Best is trial 10 with value: 0.43684026378172414.\n"
     ]
    },
    {
     "name": "stdout",
     "output_type": "stream",
     "text": [
      "Epoch 3: Train Loss = 0.3873, Train Acc = 83.30% Validation Loss   = 0.4628, Validation Acc   = 80.35%\n",
      "\n",
      "Trial 30: Embedding_Dim: 300, Hidden_Dim: 128, Is Bidirectional: True, Learning Rate: 0.0003184664727302757, LSTM Layers: 3, Dropout Rate: 0.3\n"
     ]
    },
    {
     "name": "stderr",
     "output_type": "stream",
     "text": [
      "Epoch 1/3 [Training]: 100%|██████████| 322/322 [00:06<00:00, 47.60it/s, Loss=0.4221, Acc=61.479%]\n",
      "Epoch 1/3 [Validation]: 100%|██████████| 81/81 [00:00<00:00, 139.69it/s, Loss=0.4907, Acc=77.786%]\n"
     ]
    },
    {
     "name": "stdout",
     "output_type": "stream",
     "text": [
      "Epoch 1: Train Loss = 0.8939, Train Acc = 61.48% Validation Loss   = 0.4816, Validation Acc   = 77.79%\n"
     ]
    },
    {
     "name": "stderr",
     "output_type": "stream",
     "text": [
      "Epoch 2/3 [Training]: 100%|██████████| 322/322 [00:06<00:00, 47.61it/s, Loss=0.4142, Acc=79.216%]\n",
      "Epoch 2/3 [Validation]: 100%|██████████| 81/81 [00:00<00:00, 139.89it/s, Loss=0.3161, Acc=79.767%]\n"
     ]
    },
    {
     "name": "stdout",
     "output_type": "stream",
     "text": [
      "Epoch 2: Train Loss = 0.4436, Train Acc = 79.22% Validation Loss   = 0.4512, Validation Acc   = 79.77%\n"
     ]
    },
    {
     "name": "stderr",
     "output_type": "stream",
     "text": [
      "Epoch 3/3 [Training]: 100%|██████████| 322/322 [00:06<00:00, 47.62it/s, Loss=0.3178, Acc=83.283%]\n",
      "Epoch 3/3 [Validation]: 100%|██████████| 81/81 [00:00<00:00, 135.48it/s, Loss=0.3948, Acc=81.126%]\n",
      "[I 2025-03-29 23:06:25,243] Trial 30 finished with value: 0.44994923821937893 and parameters: {'embedding_dim': 300, 'hidden_dim': 128, 'is_bidirectional': True, 'lr': 0.0003184664727302757, 'dropout_rate': 0.3, 'lstm_layers': 3}. Best is trial 10 with value: 0.43684026378172414.\n"
     ]
    },
    {
     "name": "stdout",
     "output_type": "stream",
     "text": [
      "Epoch 3: Train Loss = 0.3671, Train Acc = 83.28% Validation Loss   = 0.4499, Validation Acc   = 81.13%\n",
      "\n",
      "Trial 31: Embedding_Dim: 300, Hidden_Dim: 128, Is Bidirectional: True, Learning Rate: 0.00030040765708211125, LSTM Layers: 3, Dropout Rate: 0.3\n"
     ]
    },
    {
     "name": "stderr",
     "output_type": "stream",
     "text": [
      "Epoch 1/3 [Training]: 100%|██████████| 322/322 [00:06<00:00, 46.19it/s, Loss=0.7211, Acc=59.140%]\n",
      "Epoch 1/3 [Validation]: 100%|██████████| 81/81 [00:00<00:00, 135.70it/s, Loss=0.7709, Acc=75.107%]\n"
     ]
    },
    {
     "name": "stdout",
     "output_type": "stream",
     "text": [
      "Epoch 1: Train Loss = 0.9322, Train Acc = 59.14% Validation Loss   = 0.5436, Validation Acc   = 75.11%\n"
     ]
    },
    {
     "name": "stderr",
     "output_type": "stream",
     "text": [
      "Epoch 2/3 [Training]: 100%|██████████| 322/322 [00:06<00:00, 46.80it/s, Loss=0.3244, Acc=79.652%]\n",
      "Epoch 2/3 [Validation]: 100%|██████████| 81/81 [00:00<00:00, 142.67it/s, Loss=0.5194, Acc=79.146%]\n"
     ]
    },
    {
     "name": "stdout",
     "output_type": "stream",
     "text": [
      "Epoch 2: Train Loss = 0.4510, Train Acc = 79.65% Validation Loss   = 0.4655, Validation Acc   = 79.15%\n"
     ]
    },
    {
     "name": "stderr",
     "output_type": "stream",
     "text": [
      "Epoch 3/3 [Training]: 100%|██████████| 322/322 [00:06<00:00, 47.70it/s, Loss=0.4473, Acc=83.817%]\n",
      "Epoch 3/3 [Validation]: 100%|██████████| 81/81 [00:00<00:00, 135.99it/s, Loss=0.4279, Acc=80.427%]\n",
      "[I 2025-03-29 23:06:48,035] Trial 31 finished with value: 0.4441497399483198 and parameters: {'embedding_dim': 300, 'hidden_dim': 128, 'is_bidirectional': True, 'lr': 0.00030040765708211125, 'dropout_rate': 0.3, 'lstm_layers': 3}. Best is trial 10 with value: 0.43684026378172414.\n"
     ]
    },
    {
     "name": "stdout",
     "output_type": "stream",
     "text": [
      "Epoch 3: Train Loss = 0.3659, Train Acc = 83.82% Validation Loss   = 0.4441, Validation Acc   = 80.43%\n",
      "\n",
      "Trial 32: Embedding_Dim: 300, Hidden_Dim: 128, Is Bidirectional: True, Learning Rate: 0.0002992243927618794, LSTM Layers: 3, Dropout Rate: 0.3\n"
     ]
    },
    {
     "name": "stderr",
     "output_type": "stream",
     "text": [
      "Epoch 1/3 [Training]: 100%|██████████| 322/322 [00:06<00:00, 47.73it/s, Loss=0.1724, Acc=62.965%]\n",
      "Epoch 1/3 [Validation]: 100%|██████████| 81/81 [00:00<00:00, 140.06it/s, Loss=0.3621, Acc=76.893%]\n"
     ]
    },
    {
     "name": "stdout",
     "output_type": "stream",
     "text": [
      "Epoch 1: Train Loss = 0.8851, Train Acc = 62.96% Validation Loss   = 0.4956, Validation Acc   = 76.89%\n"
     ]
    },
    {
     "name": "stderr",
     "output_type": "stream",
     "text": [
      "Epoch 2/3 [Training]: 100%|██████████| 322/322 [00:06<00:00, 47.63it/s, Loss=0.4626, Acc=79.623%]\n",
      "Epoch 2/3 [Validation]: 100%|██████████| 81/81 [00:00<00:00, 140.87it/s, Loss=0.3119, Acc=79.029%]\n"
     ]
    },
    {
     "name": "stdout",
     "output_type": "stream",
     "text": [
      "Epoch 2: Train Loss = 0.4535, Train Acc = 79.62% Validation Loss   = 0.4550, Validation Acc   = 79.03%\n"
     ]
    },
    {
     "name": "stderr",
     "output_type": "stream",
     "text": [
      "Epoch 3/3 [Training]: 100%|██████████| 322/322 [00:06<00:00, 47.60it/s, Loss=0.3583, Acc=83.992%]\n",
      "Epoch 3/3 [Validation]: 100%|██████████| 81/81 [00:00<00:00, 141.56it/s, Loss=0.2436, Acc=80.583%]\n",
      "[I 2025-03-29 23:07:10,445] Trial 32 finished with value: 0.45498258243372414 and parameters: {'embedding_dim': 300, 'hidden_dim': 128, 'is_bidirectional': True, 'lr': 0.0002992243927618794, 'dropout_rate': 0.3, 'lstm_layers': 3}. Best is trial 10 with value: 0.43684026378172414.\n"
     ]
    },
    {
     "name": "stdout",
     "output_type": "stream",
     "text": [
      "Epoch 3: Train Loss = 0.3674, Train Acc = 83.99% Validation Loss   = 0.4555, Validation Acc   = 80.58%\n",
      "Early stopping patience: 1/10\n",
      "\n",
      "Trial 33: Embedding_Dim: 300, Hidden_Dim: 128, Is Bidirectional: True, Learning Rate: 0.00024273764926378006, LSTM Layers: 3, Dropout Rate: 0.3\n"
     ]
    },
    {
     "name": "stderr",
     "output_type": "stream",
     "text": [
      "Epoch 1/3 [Training]: 100%|██████████| 322/322 [00:06<00:00, 47.86it/s, Loss=0.3929, Acc=56.985%]\n",
      "Epoch 1/3 [Validation]: 100%|██████████| 81/81 [00:00<00:00, 137.23it/s, Loss=0.4354, Acc=75.922%]\n"
     ]
    },
    {
     "name": "stdout",
     "output_type": "stream",
     "text": [
      "Epoch 1: Train Loss = 0.9913, Train Acc = 56.98% Validation Loss   = 0.5192, Validation Acc   = 75.92%\n"
     ]
    },
    {
     "name": "stderr",
     "output_type": "stream",
     "text": [
      "Epoch 2/3 [Training]: 100%|██████████| 322/322 [00:06<00:00, 47.87it/s, Loss=0.3386, Acc=77.643%]\n",
      "Epoch 2/3 [Validation]: 100%|██████████| 81/81 [00:00<00:00, 140.96it/s, Loss=0.4931, Acc=77.631%]\n"
     ]
    },
    {
     "name": "stdout",
     "output_type": "stream",
     "text": [
      "Epoch 2: Train Loss = 0.4716, Train Acc = 77.64% Validation Loss   = 0.4822, Validation Acc   = 77.63%\n"
     ]
    },
    {
     "name": "stderr",
     "output_type": "stream",
     "text": [
      "Epoch 3/3 [Training]: 100%|██████████| 322/322 [00:06<00:00, 48.00it/s, Loss=0.3306, Acc=80.885%]\n",
      "Epoch 3/3 [Validation]: 100%|██████████| 81/81 [00:00<00:00, 141.41it/s, Loss=0.4114, Acc=78.757%]\n",
      "[I 2025-03-29 23:07:32,756] Trial 33 finished with value: 0.47194722368393416 and parameters: {'embedding_dim': 300, 'hidden_dim': 128, 'is_bidirectional': True, 'lr': 0.00024273764926378006, 'dropout_rate': 0.3, 'lstm_layers': 3}. Best is trial 10 with value: 0.43684026378172414.\n"
     ]
    },
    {
     "name": "stdout",
     "output_type": "stream",
     "text": [
      "Epoch 3: Train Loss = 0.3928, Train Acc = 80.89% Validation Loss   = 0.4719, Validation Acc   = 78.76%\n",
      "\n",
      "Trial 34: Embedding_Dim: 300, Hidden_Dim: 128, Is Bidirectional: True, Learning Rate: 0.00032205402234021264, LSTM Layers: 2, Dropout Rate: 0.5\n"
     ]
    },
    {
     "name": "stderr",
     "output_type": "stream",
     "text": [
      "Epoch 1/3 [Training]: 100%|██████████| 322/322 [00:05<00:00, 58.01it/s, Loss=0.6585, Acc=64.324%]\n",
      "Epoch 1/3 [Validation]: 100%|██████████| 81/81 [00:00<00:00, 168.37it/s, Loss=0.5339, Acc=78.951%]\n"
     ]
    },
    {
     "name": "stdout",
     "output_type": "stream",
     "text": [
      "Epoch 1: Train Loss = 0.8935, Train Acc = 64.32% Validation Loss   = 0.4846, Validation Acc   = 78.95%\n"
     ]
    },
    {
     "name": "stderr",
     "output_type": "stream",
     "text": [
      "Epoch 2/3 [Training]: 100%|██████████| 322/322 [00:05<00:00, 57.93it/s, Loss=0.3138, Acc=81.157%]\n",
      "Epoch 2/3 [Validation]: 100%|██████████| 81/81 [00:00<00:00, 174.65it/s, Loss=0.4876, Acc=79.806%]\n"
     ]
    },
    {
     "name": "stdout",
     "output_type": "stream",
     "text": [
      "Epoch 2: Train Loss = 0.4369, Train Acc = 81.16% Validation Loss   = 0.4481, Validation Acc   = 79.81%\n"
     ]
    },
    {
     "name": "stderr",
     "output_type": "stream",
     "text": [
      "Epoch 3/3 [Training]: 100%|██████████| 322/322 [00:05<00:00, 57.88it/s, Loss=0.5279, Acc=84.875%]\n",
      "Epoch 3/3 [Validation]: 100%|██████████| 81/81 [00:00<00:00, 176.00it/s, Loss=0.4638, Acc=80.233%]\n",
      "[I 2025-03-29 23:07:51,227] Trial 34 finished with value: 0.44811659665019427 and parameters: {'embedding_dim': 300, 'hidden_dim': 128, 'is_bidirectional': True, 'lr': 0.00032205402234021264, 'dropout_rate': 0.5, 'lstm_layers': 2}. Best is trial 10 with value: 0.43684026378172414.\n"
     ]
    },
    {
     "name": "stdout",
     "output_type": "stream",
     "text": [
      "Epoch 3: Train Loss = 0.3544, Train Acc = 84.88% Validation Loss   = 0.4789, Validation Acc   = 80.23%\n",
      "Early stopping patience: 1/10\n",
      "\n",
      "Trial 35: Embedding_Dim: 300, Hidden_Dim: 128, Is Bidirectional: True, Learning Rate: 0.00045583440647155565, LSTM Layers: 2, Dropout Rate: 0.5\n"
     ]
    },
    {
     "name": "stderr",
     "output_type": "stream",
     "text": [
      "Epoch 1/3 [Training]: 100%|██████████| 322/322 [00:05<00:00, 58.00it/s, Loss=0.4640, Acc=65.431%]\n",
      "Epoch 1/3 [Validation]: 100%|██████████| 81/81 [00:00<00:00, 172.79it/s, Loss=0.3209, Acc=79.456%]\n"
     ]
    },
    {
     "name": "stdout",
     "output_type": "stream",
     "text": [
      "Epoch 1: Train Loss = 0.8199, Train Acc = 65.43% Validation Loss   = 0.4730, Validation Acc   = 79.46%\n"
     ]
    },
    {
     "name": "stderr",
     "output_type": "stream",
     "text": [
      "Epoch 2/3 [Training]: 100%|██████████| 322/322 [00:05<00:00, 57.90it/s, Loss=0.2975, Acc=82.439%]\n",
      "Epoch 2/3 [Validation]: 100%|██████████| 81/81 [00:00<00:00, 177.23it/s, Loss=0.2472, Acc=81.126%]\n"
     ]
    },
    {
     "name": "stdout",
     "output_type": "stream",
     "text": [
      "Epoch 2: Train Loss = 0.4153, Train Acc = 82.44% Validation Loss   = 0.4444, Validation Acc   = 81.13%\n"
     ]
    },
    {
     "name": "stderr",
     "output_type": "stream",
     "text": [
      "Epoch 3/3 [Training]: 100%|██████████| 322/322 [00:05<00:00, 57.93it/s, Loss=0.3238, Acc=86.584%]\n",
      "Epoch 3/3 [Validation]: 100%|██████████| 81/81 [00:00<00:00, 173.46it/s, Loss=0.3295, Acc=80.583%]\n",
      "[I 2025-03-29 23:08:09,683] Trial 35 finished with value: 0.44436198969682056 and parameters: {'embedding_dim': 300, 'hidden_dim': 128, 'is_bidirectional': True, 'lr': 0.00045583440647155565, 'dropout_rate': 0.5, 'lstm_layers': 2}. Best is trial 10 with value: 0.43684026378172414.\n"
     ]
    },
    {
     "name": "stdout",
     "output_type": "stream",
     "text": [
      "Epoch 3: Train Loss = 0.3223, Train Acc = 86.58% Validation Loss   = 0.4515, Validation Acc   = 80.58%\n",
      "Early stopping patience: 1/10\n",
      "\n",
      "Trial 36: Embedding_Dim: 300, Hidden_Dim: 128, Is Bidirectional: True, Learning Rate: 0.00046598432058084634, LSTM Layers: 2, Dropout Rate: 0.5\n"
     ]
    },
    {
     "name": "stderr",
     "output_type": "stream",
     "text": [
      "Epoch 1/3 [Training]: 100%|██████████| 322/322 [00:05<00:00, 57.76it/s, Loss=0.5068, Acc=67.324%]\n",
      "Epoch 1/3 [Validation]: 100%|██████████| 81/81 [00:00<00:00, 174.08it/s, Loss=0.3563, Acc=78.602%]\n"
     ]
    },
    {
     "name": "stdout",
     "output_type": "stream",
     "text": [
      "Epoch 1: Train Loss = 0.8023, Train Acc = 67.32% Validation Loss   = 0.4673, Validation Acc   = 78.60%\n"
     ]
    },
    {
     "name": "stderr",
     "output_type": "stream",
     "text": [
      "Epoch 2/3 [Training]: 100%|██████████| 322/322 [00:05<00:00, 56.96it/s, Loss=0.3451, Acc=82.555%]\n",
      "Epoch 2/3 [Validation]: 100%|██████████| 81/81 [00:00<00:00, 171.15it/s, Loss=0.4258, Acc=80.233%]\n"
     ]
    },
    {
     "name": "stdout",
     "output_type": "stream",
     "text": [
      "Epoch 2: Train Loss = 0.4084, Train Acc = 82.56% Validation Loss   = 0.4475, Validation Acc   = 80.23%\n"
     ]
    },
    {
     "name": "stderr",
     "output_type": "stream",
     "text": [
      "Epoch 3/3 [Training]: 100%|██████████| 322/322 [00:05<00:00, 57.19it/s, Loss=0.3301, Acc=86.836%]\n",
      "Epoch 3/3 [Validation]: 100%|██████████| 81/81 [00:00<00:00, 167.88it/s, Loss=0.4103, Acc=79.845%]\n",
      "[I 2025-03-29 23:08:28,363] Trial 36 finished with value: 0.4474881762339745 and parameters: {'embedding_dim': 300, 'hidden_dim': 128, 'is_bidirectional': True, 'lr': 0.00046598432058084634, 'dropout_rate': 0.5, 'lstm_layers': 2}. Best is trial 10 with value: 0.43684026378172414.\n"
     ]
    },
    {
     "name": "stdout",
     "output_type": "stream",
     "text": [
      "Epoch 3: Train Loss = 0.3130, Train Acc = 86.84% Validation Loss   = 0.4721, Validation Acc   = 79.84%\n",
      "Early stopping patience: 1/10\n",
      "\n",
      "Trial 37: Embedding_Dim: 300, Hidden_Dim: 128, Is Bidirectional: False, Learning Rate: 0.00018258172657105955, LSTM Layers: 2, Dropout Rate: 0.5\n"
     ]
    },
    {
     "name": "stderr",
     "output_type": "stream",
     "text": [
      "Epoch 1/3 [Training]: 100%|██████████| 322/322 [00:04<00:00, 75.23it/s, Loss=0.4972, Acc=46.151%]\n",
      "Epoch 1/3 [Validation]: 100%|██████████| 81/81 [00:00<00:00, 237.02it/s, Loss=0.6691, Acc=71.029%]\n"
     ]
    },
    {
     "name": "stdout",
     "output_type": "stream",
     "text": [
      "Epoch 1: Train Loss = 1.2935, Train Acc = 46.15% Validation Loss   = 0.6600, Validation Acc   = 71.03%\n"
     ]
    },
    {
     "name": "stderr",
     "output_type": "stream",
     "text": [
      "Epoch 2/3 [Training]: 100%|██████████| 322/322 [00:04<00:00, 74.97it/s, Loss=0.6015, Acc=74.828%]\n",
      "Epoch 2/3 [Validation]: 100%|██████████| 81/81 [00:00<00:00, 219.44it/s, Loss=0.4833, Acc=74.563%]\n"
     ]
    },
    {
     "name": "stdout",
     "output_type": "stream",
     "text": [
      "Epoch 2: Train Loss = 0.5755, Train Acc = 74.83% Validation Loss   = 0.5446, Validation Acc   = 74.56%\n"
     ]
    },
    {
     "name": "stderr",
     "output_type": "stream",
     "text": [
      "Epoch 3/3 [Training]: 100%|██████████| 322/322 [00:04<00:00, 75.03it/s, Loss=0.9405, Acc=78.012%]\n",
      "Epoch 3/3 [Validation]: 100%|██████████| 81/81 [00:00<00:00, 215.14it/s, Loss=0.4338, Acc=77.282%]\n",
      "[I 2025-03-29 23:08:42,704] Trial 37 finished with value: 0.4999723568742658 and parameters: {'embedding_dim': 300, 'hidden_dim': 128, 'is_bidirectional': False, 'lr': 0.00018258172657105955, 'dropout_rate': 0.5, 'lstm_layers': 2}. Best is trial 10 with value: 0.43684026378172414.\n"
     ]
    },
    {
     "name": "stdout",
     "output_type": "stream",
     "text": [
      "Epoch 3: Train Loss = 0.4718, Train Acc = 78.01% Validation Loss   = 0.5000, Validation Acc   = 77.28%\n",
      "\n",
      "Trial 38: Embedding_Dim: 300, Hidden_Dim: 256, Is Bidirectional: True, Learning Rate: 0.00043847825575432447, LSTM Layers: 2, Dropout Rate: 0.5\n"
     ]
    },
    {
     "name": "stderr",
     "output_type": "stream",
     "text": [
      "Epoch 1/3 [Training]: 100%|██████████| 322/322 [00:12<00:00, 25.30it/s, Loss=0.3865, Acc=70.517%]\n",
      "Epoch 1/3 [Validation]: 100%|██████████| 81/81 [00:01<00:00, 77.49it/s, Loss=0.3926, Acc=79.301%]\n"
     ]
    },
    {
     "name": "stdout",
     "output_type": "stream",
     "text": [
      "Epoch 1: Train Loss = 0.7283, Train Acc = 70.52% Validation Loss   = 0.4552, Validation Acc   = 79.30%\n"
     ]
    },
    {
     "name": "stderr",
     "output_type": "stream",
     "text": [
      "Epoch 2/3 [Training]: 100%|██████████| 322/322 [00:12<00:00, 25.24it/s, Loss=0.5687, Acc=82.613%]\n",
      "Epoch 2/3 [Validation]: 100%|██████████| 81/81 [00:01<00:00, 73.90it/s, Loss=0.5096, Acc=79.262%]\n"
     ]
    },
    {
     "name": "stdout",
     "output_type": "stream",
     "text": [
      "Epoch 2: Train Loss = 0.4080, Train Acc = 82.61% Validation Loss   = 0.4707, Validation Acc   = 79.26%\n",
      "Early stopping patience: 1/10\n"
     ]
    },
    {
     "name": "stderr",
     "output_type": "stream",
     "text": [
      "Epoch 3/3 [Training]: 100%|██████████| 322/322 [00:12<00:00, 25.21it/s, Loss=0.2817, Acc=86.671%]\n",
      "Epoch 3/3 [Validation]: 100%|██████████| 81/81 [00:01<00:00, 74.39it/s, Loss=0.5819, Acc=81.359%]\n",
      "[I 2025-03-29 23:09:24,629] Trial 38 finished with value: 0.4521062800913681 and parameters: {'embedding_dim': 300, 'hidden_dim': 256, 'is_bidirectional': True, 'lr': 0.00043847825575432447, 'dropout_rate': 0.5, 'lstm_layers': 2}. Best is trial 10 with value: 0.43684026378172414.\n"
     ]
    },
    {
     "name": "stdout",
     "output_type": "stream",
     "text": [
      "Epoch 3: Train Loss = 0.3206, Train Acc = 86.67% Validation Loss   = 0.4521, Validation Acc   = 81.36%\n",
      "\n",
      "Trial 39: Embedding_Dim: 300, Hidden_Dim: 128, Is Bidirectional: True, Learning Rate: 0.0006599622561892988, LSTM Layers: 2, Dropout Rate: 0.5\n"
     ]
    },
    {
     "name": "stderr",
     "output_type": "stream",
     "text": [
      "Epoch 1/3 [Training]: 100%|██████████| 322/322 [00:05<00:00, 57.92it/s, Loss=0.3801, Acc=67.741%]\n",
      "Epoch 1/3 [Validation]: 100%|██████████| 81/81 [00:00<00:00, 175.76it/s, Loss=0.3193, Acc=80.000%]\n"
     ]
    },
    {
     "name": "stdout",
     "output_type": "stream",
     "text": [
      "Epoch 1: Train Loss = 0.7562, Train Acc = 67.74% Validation Loss   = 0.4501, Validation Acc   = 80.00%\n"
     ]
    },
    {
     "name": "stderr",
     "output_type": "stream",
     "text": [
      "Epoch 2/3 [Training]: 100%|██████████| 322/322 [00:05<00:00, 57.93it/s, Loss=0.5323, Acc=82.206%]\n",
      "Epoch 2/3 [Validation]: 100%|██████████| 81/81 [00:00<00:00, 174.06it/s, Loss=0.3478, Acc=80.893%]\n"
     ]
    },
    {
     "name": "stdout",
     "output_type": "stream",
     "text": [
      "Epoch 2: Train Loss = 0.4035, Train Acc = 82.21% Validation Loss   = 0.4409, Validation Acc   = 80.89%\n"
     ]
    },
    {
     "name": "stderr",
     "output_type": "stream",
     "text": [
      "Epoch 3/3 [Training]: 100%|██████████| 322/322 [00:05<00:00, 58.02it/s, Loss=0.1461, Acc=87.380%]\n",
      "Epoch 3/3 [Validation]: 100%|██████████| 81/81 [00:00<00:00, 173.49it/s, Loss=0.3477, Acc=81.398%]\n",
      "[I 2025-03-29 23:09:43,088] Trial 39 finished with value: 0.4409272685463046 and parameters: {'embedding_dim': 300, 'hidden_dim': 128, 'is_bidirectional': True, 'lr': 0.0006599622561892988, 'dropout_rate': 0.5, 'lstm_layers': 2}. Best is trial 10 with value: 0.43684026378172414.\n"
     ]
    },
    {
     "name": "stdout",
     "output_type": "stream",
     "text": [
      "Epoch 3: Train Loss = 0.3000, Train Acc = 87.38% Validation Loss   = 0.4678, Validation Acc   = 81.40%\n",
      "Early stopping patience: 1/10\n",
      "\n",
      "Trial 40: Embedding_Dim: 300, Hidden_Dim: 128, Is Bidirectional: False, Learning Rate: 0.0008945401479850372, LSTM Layers: 2, Dropout Rate: 0.5\n"
     ]
    },
    {
     "name": "stderr",
     "output_type": "stream",
     "text": [
      "Epoch 1/3 [Training]: 100%|██████████| 322/322 [00:04<00:00, 74.45it/s, Loss=0.5010, Acc=66.052%]\n",
      "Epoch 1/3 [Validation]: 100%|██████████| 81/81 [00:00<00:00, 221.16it/s, Loss=0.6041, Acc=77.359%]\n"
     ]
    },
    {
     "name": "stdout",
     "output_type": "stream",
     "text": [
      "Epoch 1: Train Loss = 0.7944, Train Acc = 66.05% Validation Loss   = 0.4938, Validation Acc   = 77.36%\n"
     ]
    },
    {
     "name": "stderr",
     "output_type": "stream",
     "text": [
      "Epoch 2/3 [Training]: 100%|██████████| 322/322 [00:04<00:00, 75.16it/s, Loss=0.6077, Acc=79.730%]\n",
      "Epoch 2/3 [Validation]: 100%|██████████| 81/81 [00:00<00:00, 234.16it/s, Loss=0.5139, Acc=79.806%]\n"
     ]
    },
    {
     "name": "stdout",
     "output_type": "stream",
     "text": [
      "Epoch 2: Train Loss = 0.4435, Train Acc = 79.73% Validation Loss   = 0.4563, Validation Acc   = 79.81%\n"
     ]
    },
    {
     "name": "stderr",
     "output_type": "stream",
     "text": [
      "Epoch 3/3 [Training]: 100%|██████████| 322/322 [00:04<00:00, 75.07it/s, Loss=0.3908, Acc=84.856%]\n",
      "Epoch 3/3 [Validation]: 100%|██████████| 81/81 [00:00<00:00, 238.51it/s, Loss=0.7239, Acc=78.951%]\n",
      "[I 2025-03-29 23:09:57,422] Trial 40 finished with value: 0.4562816290575781 and parameters: {'embedding_dim': 300, 'hidden_dim': 128, 'is_bidirectional': False, 'lr': 0.0008945401479850372, 'dropout_rate': 0.5, 'lstm_layers': 2}. Best is trial 10 with value: 0.43684026378172414.\n"
     ]
    },
    {
     "name": "stdout",
     "output_type": "stream",
     "text": [
      "Epoch 3: Train Loss = 0.3532, Train Acc = 84.86% Validation Loss   = 0.5354, Validation Acc   = 78.95%\n",
      "Early stopping patience: 1/10\n",
      "\n",
      "Trial 41: Embedding_Dim: 300, Hidden_Dim: 128, Is Bidirectional: True, Learning Rate: 0.0006074429015159611, LSTM Layers: 2, Dropout Rate: 0.5\n"
     ]
    },
    {
     "name": "stderr",
     "output_type": "stream",
     "text": [
      "Epoch 1/3 [Training]: 100%|██████████| 322/322 [00:05<00:00, 57.88it/s, Loss=0.5131, Acc=69.653%]\n",
      "Epoch 1/3 [Validation]: 100%|██████████| 81/81 [00:00<00:00, 174.85it/s, Loss=0.5364, Acc=79.495%]\n"
     ]
    },
    {
     "name": "stdout",
     "output_type": "stream",
     "text": [
      "Epoch 1: Train Loss = 0.7461, Train Acc = 69.65% Validation Loss   = 0.4508, Validation Acc   = 79.50%\n"
     ]
    },
    {
     "name": "stderr",
     "output_type": "stream",
     "text": [
      "Epoch 2/3 [Training]: 100%|██████████| 322/322 [00:05<00:00, 58.03it/s, Loss=0.4743, Acc=82.575%]\n",
      "Epoch 2/3 [Validation]: 100%|██████████| 81/81 [00:00<00:00, 175.43it/s, Loss=0.4212, Acc=81.670%]\n"
     ]
    },
    {
     "name": "stdout",
     "output_type": "stream",
     "text": [
      "Epoch 2: Train Loss = 0.4047, Train Acc = 82.57% Validation Loss   = 0.4366, Validation Acc   = 81.67%\n"
     ]
    },
    {
     "name": "stderr",
     "output_type": "stream",
     "text": [
      "Epoch 3/3 [Training]: 100%|██████████| 322/322 [00:05<00:00, 58.08it/s, Loss=0.2573, Acc=87.322%]\n",
      "Epoch 3/3 [Validation]: 100%|██████████| 81/81 [00:00<00:00, 173.67it/s, Loss=0.6451, Acc=81.592%]\n",
      "[I 2025-03-29 23:10:15,871] Trial 41 finished with value: 0.436629370038892 and parameters: {'embedding_dim': 300, 'hidden_dim': 128, 'is_bidirectional': True, 'lr': 0.0006074429015159611, 'dropout_rate': 0.5, 'lstm_layers': 2}. Best is trial 41 with value: 0.436629370038892.\n"
     ]
    },
    {
     "name": "stdout",
     "output_type": "stream",
     "text": [
      "Epoch 3: Train Loss = 0.3108, Train Acc = 87.32% Validation Loss   = 0.4630, Validation Acc   = 81.59%\n",
      "Early stopping patience: 1/10\n",
      "\n",
      "Trial 42: Embedding_Dim: 300, Hidden_Dim: 128, Is Bidirectional: True, Learning Rate: 0.0007104982182843378, LSTM Layers: 2, Dropout Rate: 0.5\n"
     ]
    },
    {
     "name": "stderr",
     "output_type": "stream",
     "text": [
      "Epoch 1/3 [Training]: 100%|██████████| 322/322 [00:05<00:00, 57.66it/s, Loss=0.3308, Acc=68.906%]\n",
      "Epoch 1/3 [Validation]: 100%|██████████| 81/81 [00:00<00:00, 173.04it/s, Loss=0.2915, Acc=80.078%]\n"
     ]
    },
    {
     "name": "stdout",
     "output_type": "stream",
     "text": [
      "Epoch 1: Train Loss = 0.7302, Train Acc = 68.91% Validation Loss   = 0.4537, Validation Acc   = 80.08%\n"
     ]
    },
    {
     "name": "stderr",
     "output_type": "stream",
     "text": [
      "Epoch 2/3 [Training]: 100%|██████████| 322/322 [00:05<00:00, 57.94it/s, Loss=0.3004, Acc=83.477%]\n",
      "Epoch 2/3 [Validation]: 100%|██████████| 81/81 [00:00<00:00, 169.87it/s, Loss=0.2623, Acc=81.670%]\n"
     ]
    },
    {
     "name": "stdout",
     "output_type": "stream",
     "text": [
      "Epoch 2: Train Loss = 0.3861, Train Acc = 83.48% Validation Loss   = 0.4489, Validation Acc   = 81.67%\n"
     ]
    },
    {
     "name": "stderr",
     "output_type": "stream",
     "text": [
      "Epoch 3/3 [Training]: 100%|██████████| 322/322 [00:05<00:00, 57.97it/s, Loss=0.3367, Acc=88.292%]\n",
      "Epoch 3/3 [Validation]: 100%|██████████| 81/81 [00:00<00:00, 172.43it/s, Loss=0.3785, Acc=80.544%]\n",
      "[I 2025-03-29 23:10:34,371] Trial 42 finished with value: 0.44886283705263963 and parameters: {'embedding_dim': 300, 'hidden_dim': 128, 'is_bidirectional': True, 'lr': 0.0007104982182843378, 'dropout_rate': 0.5, 'lstm_layers': 2}. Best is trial 41 with value: 0.436629370038892.\n"
     ]
    },
    {
     "name": "stdout",
     "output_type": "stream",
     "text": [
      "Epoch 3: Train Loss = 0.2953, Train Acc = 88.29% Validation Loss   = 0.4798, Validation Acc   = 80.54%\n",
      "Early stopping patience: 1/10\n",
      "\n",
      "Trial 43: Embedding_Dim: 300, Hidden_Dim: 128, Is Bidirectional: True, Learning Rate: 0.000630626093006884, LSTM Layers: 2, Dropout Rate: 0.5\n"
     ]
    },
    {
     "name": "stderr",
     "output_type": "stream",
     "text": [
      "Epoch 1/3 [Training]: 100%|██████████| 322/322 [00:05<00:00, 57.93it/s, Loss=0.3661, Acc=69.789%]\n",
      "Epoch 1/3 [Validation]: 100%|██████████| 81/81 [00:00<00:00, 172.90it/s, Loss=0.4091, Acc=80.621%]\n"
     ]
    },
    {
     "name": "stdout",
     "output_type": "stream",
     "text": [
      "Epoch 1: Train Loss = 0.7285, Train Acc = 69.79% Validation Loss   = 0.4514, Validation Acc   = 80.62%\n"
     ]
    },
    {
     "name": "stderr",
     "output_type": "stream",
     "text": [
      "Epoch 2/3 [Training]: 100%|██████████| 322/322 [00:05<00:00, 58.03it/s, Loss=0.2793, Acc=83.254%]\n",
      "Epoch 2/3 [Validation]: 100%|██████████| 81/81 [00:00<00:00, 172.72it/s, Loss=0.4593, Acc=81.282%]\n"
     ]
    },
    {
     "name": "stdout",
     "output_type": "stream",
     "text": [
      "Epoch 2: Train Loss = 0.3964, Train Acc = 83.25% Validation Loss   = 0.4307, Validation Acc   = 81.28%\n"
     ]
    },
    {
     "name": "stderr",
     "output_type": "stream",
     "text": [
      "Epoch 3/3 [Training]: 100%|██████████| 322/322 [00:05<00:00, 57.59it/s, Loss=0.6453, Acc=87.652%]\n",
      "Epoch 3/3 [Validation]: 100%|██████████| 81/81 [00:00<00:00, 170.51it/s, Loss=0.3789, Acc=81.709%]\n",
      "[I 2025-03-29 23:10:52,869] Trial 43 finished with value: 0.43072911664659597 and parameters: {'embedding_dim': 300, 'hidden_dim': 128, 'is_bidirectional': True, 'lr': 0.000630626093006884, 'dropout_rate': 0.5, 'lstm_layers': 2}. Best is trial 43 with value: 0.43072911664659597.\n"
     ]
    },
    {
     "name": "stdout",
     "output_type": "stream",
     "text": [
      "Epoch 3: Train Loss = 0.3016, Train Acc = 87.65% Validation Loss   = 0.4761, Validation Acc   = 81.71%\n",
      "Early stopping patience: 1/10\n",
      "\n",
      "Trial 44: Embedding_Dim: 300, Hidden_Dim: 128, Is Bidirectional: True, Learning Rate: 0.000989346182986583, LSTM Layers: 2, Dropout Rate: 0.5\n"
     ]
    },
    {
     "name": "stderr",
     "output_type": "stream",
     "text": [
      "Epoch 1/3 [Training]: 100%|██████████| 322/322 [00:05<00:00, 57.99it/s, Loss=0.3150, Acc=71.381%]\n",
      "Epoch 1/3 [Validation]: 100%|██████████| 81/81 [00:00<00:00, 175.81it/s, Loss=0.2796, Acc=80.738%]\n"
     ]
    },
    {
     "name": "stdout",
     "output_type": "stream",
     "text": [
      "Epoch 1: Train Loss = 0.6811, Train Acc = 71.38% Validation Loss   = 0.4448, Validation Acc   = 80.74%\n"
     ]
    },
    {
     "name": "stderr",
     "output_type": "stream",
     "text": [
      "Epoch 2/3 [Training]: 100%|██████████| 322/322 [00:05<00:00, 57.94it/s, Loss=0.3837, Acc=84.040%]\n",
      "Epoch 2/3 [Validation]: 100%|██████████| 81/81 [00:00<00:00, 174.98it/s, Loss=0.2691, Acc=81.010%]\n"
     ]
    },
    {
     "name": "stdout",
     "output_type": "stream",
     "text": [
      "Epoch 2: Train Loss = 0.3814, Train Acc = 84.04% Validation Loss   = 0.4404, Validation Acc   = 81.01%\n"
     ]
    },
    {
     "name": "stderr",
     "output_type": "stream",
     "text": [
      "Epoch 3/3 [Training]: 100%|██████████| 322/322 [00:05<00:00, 57.83it/s, Loss=0.3995, Acc=89.050%]\n",
      "Epoch 3/3 [Validation]: 100%|██████████| 81/81 [00:00<00:00, 175.39it/s, Loss=0.2766, Acc=80.777%]\n",
      "[I 2025-03-29 23:11:11,326] Trial 44 finished with value: 0.44038905957598745 and parameters: {'embedding_dim': 300, 'hidden_dim': 128, 'is_bidirectional': True, 'lr': 0.000989346182986583, 'dropout_rate': 0.5, 'lstm_layers': 2}. Best is trial 43 with value: 0.43072911664659597.\n"
     ]
    },
    {
     "name": "stdout",
     "output_type": "stream",
     "text": [
      "Epoch 3: Train Loss = 0.2705, Train Acc = 89.05% Validation Loss   = 0.4681, Validation Acc   = 80.78%\n",
      "Early stopping patience: 1/10\n",
      "\n",
      "Trial 45: Embedding_Dim: 300, Hidden_Dim: 128, Is Bidirectional: True, Learning Rate: 0.0009629492570286412, LSTM Layers: 2, Dropout Rate: 0.5\n"
     ]
    },
    {
     "name": "stderr",
     "output_type": "stream",
     "text": [
      "Epoch 1/3 [Training]: 100%|██████████| 322/322 [00:05<00:00, 57.97it/s, Loss=0.5243, Acc=70.818%]\n",
      "Epoch 1/3 [Validation]: 100%|██████████| 81/81 [00:00<00:00, 171.40it/s, Loss=0.4998, Acc=80.388%]\n"
     ]
    },
    {
     "name": "stdout",
     "output_type": "stream",
     "text": [
      "Epoch 1: Train Loss = 0.6886, Train Acc = 70.82% Validation Loss   = 0.4473, Validation Acc   = 80.39%\n"
     ]
    },
    {
     "name": "stderr",
     "output_type": "stream",
     "text": [
      "Epoch 2/3 [Training]: 100%|██████████| 322/322 [00:05<00:00, 57.68it/s, Loss=0.3869, Acc=83.468%]\n",
      "Epoch 2/3 [Validation]: 100%|██████████| 81/81 [00:00<00:00, 173.10it/s, Loss=0.4104, Acc=81.165%]\n"
     ]
    },
    {
     "name": "stdout",
     "output_type": "stream",
     "text": [
      "Epoch 2: Train Loss = 0.3901, Train Acc = 83.47% Validation Loss   = 0.4331, Validation Acc   = 81.17%\n"
     ]
    },
    {
     "name": "stderr",
     "output_type": "stream",
     "text": [
      "Epoch 3/3 [Training]: 100%|██████████| 322/322 [00:05<00:00, 57.96it/s, Loss=0.2586, Acc=88.351%]\n",
      "Epoch 3/3 [Validation]: 100%|██████████| 81/81 [00:00<00:00, 173.92it/s, Loss=0.2344, Acc=80.738%]\n",
      "[I 2025-03-29 23:11:29,810] Trial 45 finished with value: 0.43309247659312355 and parameters: {'embedding_dim': 300, 'hidden_dim': 128, 'is_bidirectional': True, 'lr': 0.0009629492570286412, 'dropout_rate': 0.5, 'lstm_layers': 2}. Best is trial 43 with value: 0.43072911664659597.\n"
     ]
    },
    {
     "name": "stdout",
     "output_type": "stream",
     "text": [
      "Epoch 3: Train Loss = 0.2850, Train Acc = 88.35% Validation Loss   = 0.4919, Validation Acc   = 80.74%\n",
      "Early stopping patience: 1/10\n",
      "\n",
      "Trial 46: Embedding_Dim: 300, Hidden_Dim: 128, Is Bidirectional: True, Learning Rate: 0.0009995211052057386, LSTM Layers: 2, Dropout Rate: 0.5\n"
     ]
    },
    {
     "name": "stderr",
     "output_type": "stream",
     "text": [
      "Epoch 1/3 [Training]: 100%|██████████| 322/322 [00:05<00:00, 58.23it/s, Loss=0.6372, Acc=71.323%]\n",
      "Epoch 1/3 [Validation]: 100%|██████████| 81/81 [00:00<00:00, 179.47it/s, Loss=0.3089, Acc=78.951%]\n"
     ]
    },
    {
     "name": "stdout",
     "output_type": "stream",
     "text": [
      "Epoch 1: Train Loss = 0.6823, Train Acc = 71.32% Validation Loss   = 0.4422, Validation Acc   = 78.95%\n"
     ]
    },
    {
     "name": "stderr",
     "output_type": "stream",
     "text": [
      "Epoch 2/3 [Training]: 100%|██████████| 322/322 [00:05<00:00, 57.84it/s, Loss=0.6340, Acc=82.827%]\n",
      "Epoch 2/3 [Validation]: 100%|██████████| 81/81 [00:00<00:00, 173.31it/s, Loss=0.4347, Acc=81.670%]\n"
     ]
    },
    {
     "name": "stdout",
     "output_type": "stream",
     "text": [
      "Epoch 2: Train Loss = 0.3862, Train Acc = 82.83% Validation Loss   = 0.4332, Validation Acc   = 81.67%\n"
     ]
    },
    {
     "name": "stderr",
     "output_type": "stream",
     "text": [
      "Epoch 3/3 [Training]: 100%|██████████| 322/322 [00:05<00:00, 57.98it/s, Loss=0.1476, Acc=88.312%]\n",
      "Epoch 3/3 [Validation]: 100%|██████████| 81/81 [00:00<00:00, 165.14it/s, Loss=0.4149, Acc=81.670%]\n",
      "[I 2025-03-29 23:11:48,260] Trial 46 finished with value: 0.4332182793705552 and parameters: {'embedding_dim': 300, 'hidden_dim': 128, 'is_bidirectional': True, 'lr': 0.0009995211052057386, 'dropout_rate': 0.5, 'lstm_layers': 2}. Best is trial 43 with value: 0.43072911664659597.\n"
     ]
    },
    {
     "name": "stdout",
     "output_type": "stream",
     "text": [
      "Epoch 3: Train Loss = 0.2816, Train Acc = 88.31% Validation Loss   = 0.4685, Validation Acc   = 81.67%\n",
      "Early stopping patience: 1/10\n",
      "\n",
      "Trial 47: Embedding_Dim: 300, Hidden_Dim: 128, Is Bidirectional: True, Learning Rate: 0.0009179792288040837, LSTM Layers: 2, Dropout Rate: 0.5\n"
     ]
    },
    {
     "name": "stderr",
     "output_type": "stream",
     "text": [
      "Epoch 1/3 [Training]: 100%|██████████| 322/322 [00:05<00:00, 57.80it/s, Loss=0.6064, Acc=70.226%]\n",
      "Epoch 1/3 [Validation]: 100%|██████████| 81/81 [00:00<00:00, 169.61it/s, Loss=0.3555, Acc=80.854%]\n"
     ]
    },
    {
     "name": "stdout",
     "output_type": "stream",
     "text": [
      "Epoch 1: Train Loss = 0.7178, Train Acc = 70.23% Validation Loss   = 0.4480, Validation Acc   = 80.85%\n"
     ]
    },
    {
     "name": "stderr",
     "output_type": "stream",
     "text": [
      "Epoch 2/3 [Training]: 100%|██████████| 322/322 [00:05<00:00, 57.95it/s, Loss=0.5011, Acc=83.458%]\n",
      "Epoch 2/3 [Validation]: 100%|██████████| 81/81 [00:00<00:00, 173.68it/s, Loss=0.2941, Acc=81.631%]\n"
     ]
    },
    {
     "name": "stdout",
     "output_type": "stream",
     "text": [
      "Epoch 2: Train Loss = 0.3940, Train Acc = 83.46% Validation Loss   = 0.4313, Validation Acc   = 81.63%\n"
     ]
    },
    {
     "name": "stderr",
     "output_type": "stream",
     "text": [
      "Epoch 3/3 [Training]: 100%|██████████| 322/322 [00:05<00:00, 58.11it/s, Loss=0.1362, Acc=88.399%]\n",
      "Epoch 3/3 [Validation]: 100%|██████████| 81/81 [00:00<00:00, 175.51it/s, Loss=0.3816, Acc=81.049%]\n",
      "[I 2025-03-29 23:12:06,721] Trial 47 finished with value: 0.431333574063984 and parameters: {'embedding_dim': 300, 'hidden_dim': 128, 'is_bidirectional': True, 'lr': 0.0009179792288040837, 'dropout_rate': 0.5, 'lstm_layers': 2}. Best is trial 43 with value: 0.43072911664659597.\n"
     ]
    },
    {
     "name": "stdout",
     "output_type": "stream",
     "text": [
      "Epoch 3: Train Loss = 0.2866, Train Acc = 88.40% Validation Loss   = 0.4667, Validation Acc   = 81.05%\n",
      "Early stopping patience: 1/10\n",
      "\n",
      "Trial 48: Embedding_Dim: 300, Hidden_Dim: 128, Is Bidirectional: False, Learning Rate: 0.0008500206932618878, LSTM Layers: 2, Dropout Rate: 0.5\n"
     ]
    },
    {
     "name": "stderr",
     "output_type": "stream",
     "text": [
      "Epoch 1/3 [Training]: 100%|██████████| 322/322 [00:04<00:00, 74.98it/s, Loss=0.7366, Acc=64.295%]\n",
      "Epoch 1/3 [Validation]: 100%|██████████| 81/81 [00:00<00:00, 240.67it/s, Loss=0.4305, Acc=77.243%]\n"
     ]
    },
    {
     "name": "stdout",
     "output_type": "stream",
     "text": [
      "Epoch 1: Train Loss = 0.8413, Train Acc = 64.29% Validation Loss   = 0.4952, Validation Acc   = 77.24%\n"
     ]
    },
    {
     "name": "stderr",
     "output_type": "stream",
     "text": [
      "Epoch 2/3 [Training]: 100%|██████████| 322/322 [00:04<00:00, 75.04it/s, Loss=0.2965, Acc=79.575%]\n",
      "Epoch 2/3 [Validation]: 100%|██████████| 81/81 [00:00<00:00, 232.27it/s, Loss=0.4445, Acc=80.699%]\n"
     ]
    },
    {
     "name": "stdout",
     "output_type": "stream",
     "text": [
      "Epoch 2: Train Loss = 0.4451, Train Acc = 79.57% Validation Loss   = 0.4530, Validation Acc   = 80.70%\n"
     ]
    },
    {
     "name": "stderr",
     "output_type": "stream",
     "text": [
      "Epoch 3/3 [Training]: 100%|██████████| 322/322 [00:04<00:00, 74.88it/s, Loss=0.1103, Acc=84.584%]\n",
      "Epoch 3/3 [Validation]: 100%|██████████| 81/81 [00:00<00:00, 243.34it/s, Loss=0.3185, Acc=80.272%]\n",
      "[I 2025-03-29 23:12:21,015] Trial 48 finished with value: 0.4530010247304116 and parameters: {'embedding_dim': 300, 'hidden_dim': 128, 'is_bidirectional': False, 'lr': 0.0008500206932618878, 'dropout_rate': 0.5, 'lstm_layers': 2}. Best is trial 43 with value: 0.43072911664659597.\n"
     ]
    },
    {
     "name": "stdout",
     "output_type": "stream",
     "text": [
      "Epoch 3: Train Loss = 0.3533, Train Acc = 84.58% Validation Loss   = 0.4705, Validation Acc   = 80.27%\n",
      "Early stopping patience: 1/10\n",
      "\n",
      "Trial 49: Embedding_Dim: 300, Hidden_Dim: 128, Is Bidirectional: True, Learning Rate: 0.0009535880327865506, LSTM Layers: 2, Dropout Rate: 0.5\n"
     ]
    },
    {
     "name": "stderr",
     "output_type": "stream",
     "text": [
      "Epoch 1/3 [Training]: 100%|██████████| 322/322 [00:05<00:00, 57.74it/s, Loss=0.6114, Acc=70.585%]\n",
      "Epoch 1/3 [Validation]: 100%|██████████| 81/81 [00:00<00:00, 175.28it/s, Loss=0.3672, Acc=78.058%]\n"
     ]
    },
    {
     "name": "stdout",
     "output_type": "stream",
     "text": [
      "Epoch 1: Train Loss = 0.7020, Train Acc = 70.59% Validation Loss   = 0.4626, Validation Acc   = 78.06%\n"
     ]
    },
    {
     "name": "stderr",
     "output_type": "stream",
     "text": [
      "Epoch 2/3 [Training]: 100%|██████████| 322/322 [00:05<00:00, 58.00it/s, Loss=0.3562, Acc=82.691%]\n",
      "Epoch 2/3 [Validation]: 100%|██████████| 81/81 [00:00<00:00, 176.21it/s, Loss=0.3767, Acc=80.699%]\n"
     ]
    },
    {
     "name": "stdout",
     "output_type": "stream",
     "text": [
      "Epoch 2: Train Loss = 0.3950, Train Acc = 82.69% Validation Loss   = 0.4397, Validation Acc   = 80.70%\n"
     ]
    },
    {
     "name": "stderr",
     "output_type": "stream",
     "text": [
      "Epoch 3/3 [Training]: 100%|██████████| 322/322 [00:05<00:00, 58.04it/s, Loss=0.4253, Acc=87.555%]\n",
      "Epoch 3/3 [Validation]: 100%|██████████| 81/81 [00:00<00:00, 172.49it/s, Loss=0.3812, Acc=80.777%]\n",
      "[I 2025-03-29 23:12:39,469] Trial 49 finished with value: 0.43965602896095796 and parameters: {'embedding_dim': 300, 'hidden_dim': 128, 'is_bidirectional': True, 'lr': 0.0009535880327865506, 'dropout_rate': 0.5, 'lstm_layers': 2}. Best is trial 43 with value: 0.43072911664659597.\n"
     ]
    },
    {
     "name": "stdout",
     "output_type": "stream",
     "text": [
      "Epoch 3: Train Loss = 0.2952, Train Acc = 87.55% Validation Loss   = 0.4810, Validation Acc   = 80.78%\n",
      "Early stopping patience: 1/10\n",
      "\n",
      "Trial 50: Embedding_Dim: 300, Hidden_Dim: 128, Is Bidirectional: True, Learning Rate: 0.0007999998003719677, LSTM Layers: 2, Dropout Rate: 0.5\n"
     ]
    },
    {
     "name": "stderr",
     "output_type": "stream",
     "text": [
      "Epoch 1/3 [Training]: 100%|██████████| 322/322 [00:05<00:00, 58.02it/s, Loss=0.4969, Acc=70.401%]\n",
      "Epoch 1/3 [Validation]: 100%|██████████| 81/81 [00:00<00:00, 173.80it/s, Loss=0.4212, Acc=78.796%]\n"
     ]
    },
    {
     "name": "stdout",
     "output_type": "stream",
     "text": [
      "Epoch 1: Train Loss = 0.7157, Train Acc = 70.40% Validation Loss   = 0.4668, Validation Acc   = 78.80%\n"
     ]
    },
    {
     "name": "stderr",
     "output_type": "stream",
     "text": [
      "Epoch 2/3 [Training]: 100%|██████████| 322/322 [00:05<00:00, 57.94it/s, Loss=0.3371, Acc=83.633%]\n",
      "Epoch 2/3 [Validation]: 100%|██████████| 81/81 [00:00<00:00, 173.25it/s, Loss=0.3541, Acc=80.544%]\n"
     ]
    },
    {
     "name": "stdout",
     "output_type": "stream",
     "text": [
      "Epoch 2: Train Loss = 0.3862, Train Acc = 83.63% Validation Loss   = 0.4568, Validation Acc   = 80.54%\n"
     ]
    },
    {
     "name": "stderr",
     "output_type": "stream",
     "text": [
      "Epoch 3/3 [Training]: 100%|██████████| 322/322 [00:05<00:00, 57.92it/s, Loss=0.3207, Acc=88.768%]\n",
      "Epoch 3/3 [Validation]: 100%|██████████| 81/81 [00:00<00:00, 163.65it/s, Loss=0.4907, Acc=80.816%]\n",
      "[I 2025-03-29 23:12:57,956] Trial 50 finished with value: 0.4568068383284557 and parameters: {'embedding_dim': 300, 'hidden_dim': 128, 'is_bidirectional': True, 'lr': 0.0007999998003719677, 'dropout_rate': 0.5, 'lstm_layers': 2}. Best is trial 43 with value: 0.43072911664659597.\n"
     ]
    },
    {
     "name": "stdout",
     "output_type": "stream",
     "text": [
      "Epoch 3: Train Loss = 0.2838, Train Acc = 88.77% Validation Loss   = 0.4788, Validation Acc   = 80.82%\n",
      "Early stopping patience: 1/10\n",
      "\n",
      "Trial 51: Embedding_Dim: 300, Hidden_Dim: 128, Is Bidirectional: True, Learning Rate: 0.0005904317158985355, LSTM Layers: 2, Dropout Rate: 0.5\n"
     ]
    },
    {
     "name": "stderr",
     "output_type": "stream",
     "text": [
      "Epoch 1/3 [Training]: 100%|██████████| 322/322 [00:05<00:00, 58.04it/s, Loss=0.4894, Acc=68.372%]\n",
      "Epoch 1/3 [Validation]: 100%|██████████| 81/81 [00:00<00:00, 175.36it/s, Loss=0.4100, Acc=77.670%]\n"
     ]
    },
    {
     "name": "stdout",
     "output_type": "stream",
     "text": [
      "Epoch 1: Train Loss = 0.7458, Train Acc = 68.37% Validation Loss   = 0.4602, Validation Acc   = 77.67%\n"
     ]
    },
    {
     "name": "stderr",
     "output_type": "stream",
     "text": [
      "Epoch 2/3 [Training]: 100%|██████████| 322/322 [00:05<00:00, 57.86it/s, Loss=0.3612, Acc=82.371%]\n",
      "Epoch 2/3 [Validation]: 100%|██████████| 81/81 [00:00<00:00, 173.26it/s, Loss=0.3921, Acc=79.922%]\n"
     ]
    },
    {
     "name": "stdout",
     "output_type": "stream",
     "text": [
      "Epoch 2: Train Loss = 0.4091, Train Acc = 82.37% Validation Loss   = 0.4489, Validation Acc   = 79.92%\n"
     ]
    },
    {
     "name": "stderr",
     "output_type": "stream",
     "text": [
      "Epoch 3/3 [Training]: 100%|██████████| 322/322 [00:05<00:00, 58.05it/s, Loss=0.3291, Acc=86.409%]\n",
      "Epoch 3/3 [Validation]: 100%|██████████| 81/81 [00:00<00:00, 173.58it/s, Loss=0.3742, Acc=79.340%]\n",
      "[I 2025-03-29 23:13:16,443] Trial 51 finished with value: 0.4488960364718496 and parameters: {'embedding_dim': 300, 'hidden_dim': 128, 'is_bidirectional': True, 'lr': 0.0005904317158985355, 'dropout_rate': 0.5, 'lstm_layers': 2}. Best is trial 43 with value: 0.43072911664659597.\n"
     ]
    },
    {
     "name": "stdout",
     "output_type": "stream",
     "text": [
      "Epoch 3: Train Loss = 0.3168, Train Acc = 86.41% Validation Loss   = 0.4834, Validation Acc   = 79.34%\n",
      "Early stopping patience: 1/10\n",
      "\n",
      "Trial 52: Embedding_Dim: 300, Hidden_Dim: 128, Is Bidirectional: True, Learning Rate: 0.0007715677805928036, LSTM Layers: 2, Dropout Rate: 0.5\n"
     ]
    },
    {
     "name": "stderr",
     "output_type": "stream",
     "text": [
      "Epoch 1/3 [Training]: 100%|██████████| 322/322 [00:05<00:00, 58.02it/s, Loss=0.3475, Acc=67.964%]\n",
      "Epoch 1/3 [Validation]: 100%|██████████| 81/81 [00:00<00:00, 174.19it/s, Loss=0.2816, Acc=80.078%]\n"
     ]
    },
    {
     "name": "stdout",
     "output_type": "stream",
     "text": [
      "Epoch 1: Train Loss = 0.7517, Train Acc = 67.96% Validation Loss   = 0.4594, Validation Acc   = 80.08%\n"
     ]
    },
    {
     "name": "stderr",
     "output_type": "stream",
     "text": [
      "Epoch 2/3 [Training]: 100%|██████████| 322/322 [00:05<00:00, 57.87it/s, Loss=0.3038, Acc=82.982%]\n",
      "Epoch 2/3 [Validation]: 100%|██████████| 81/81 [00:00<00:00, 161.26it/s, Loss=0.2488, Acc=80.854%]\n"
     ]
    },
    {
     "name": "stdout",
     "output_type": "stream",
     "text": [
      "Epoch 2: Train Loss = 0.3903, Train Acc = 82.98% Validation Loss   = 0.4507, Validation Acc   = 80.85%\n"
     ]
    },
    {
     "name": "stderr",
     "output_type": "stream",
     "text": [
      "Epoch 3/3 [Training]: 100%|██████████| 322/322 [00:05<00:00, 57.82it/s, Loss=0.3196, Acc=88.118%]\n",
      "Epoch 3/3 [Validation]: 100%|██████████| 81/81 [00:00<00:00, 175.30it/s, Loss=0.2065, Acc=80.893%]\n",
      "[I 2025-03-29 23:13:34,955] Trial 52 finished with value: 0.4507115176062525 and parameters: {'embedding_dim': 300, 'hidden_dim': 128, 'is_bidirectional': True, 'lr': 0.0007715677805928036, 'dropout_rate': 0.5, 'lstm_layers': 2}. Best is trial 43 with value: 0.43072911664659597.\n"
     ]
    },
    {
     "name": "stdout",
     "output_type": "stream",
     "text": [
      "Epoch 3: Train Loss = 0.2835, Train Acc = 88.12% Validation Loss   = 0.4882, Validation Acc   = 80.89%\n",
      "Early stopping patience: 1/10\n",
      "\n",
      "Trial 53: Embedding_Dim: 300, Hidden_Dim: 128, Is Bidirectional: True, Learning Rate: 0.0008807057710939636, LSTM Layers: 2, Dropout Rate: 0.5\n"
     ]
    },
    {
     "name": "stderr",
     "output_type": "stream",
     "text": [
      "Epoch 1/3 [Training]: 100%|██████████| 322/322 [00:05<00:00, 57.91it/s, Loss=0.6471, Acc=71.624%]\n",
      "Epoch 1/3 [Validation]: 100%|██████████| 81/81 [00:00<00:00, 175.08it/s, Loss=0.3258, Acc=79.495%]\n"
     ]
    },
    {
     "name": "stdout",
     "output_type": "stream",
     "text": [
      "Epoch 1: Train Loss = 0.6860, Train Acc = 71.62% Validation Loss   = 0.4593, Validation Acc   = 79.50%\n"
     ]
    },
    {
     "name": "stderr",
     "output_type": "stream",
     "text": [
      "Epoch 2/3 [Training]: 100%|██████████| 322/322 [00:05<00:00, 58.04it/s, Loss=0.3203, Acc=83.613%]\n",
      "Epoch 2/3 [Validation]: 100%|██████████| 81/81 [00:00<00:00, 173.98it/s, Loss=0.2660, Acc=80.544%]\n"
     ]
    },
    {
     "name": "stdout",
     "output_type": "stream",
     "text": [
      "Epoch 2: Train Loss = 0.3886, Train Acc = 83.61% Validation Loss   = 0.4603, Validation Acc   = 80.54%\n",
      "Early stopping patience: 1/10\n"
     ]
    },
    {
     "name": "stderr",
     "output_type": "stream",
     "text": [
      "Epoch 3/3 [Training]: 100%|██████████| 322/322 [00:05<00:00, 57.94it/s, Loss=0.4947, Acc=88.797%]\n",
      "Epoch 3/3 [Validation]: 100%|██████████| 81/81 [00:00<00:00, 175.36it/s, Loss=0.2312, Acc=80.660%]\n",
      "[I 2025-03-29 23:13:53,396] Trial 53 finished with value: 0.4592996033621423 and parameters: {'embedding_dim': 300, 'hidden_dim': 128, 'is_bidirectional': True, 'lr': 0.0008807057710939636, 'dropout_rate': 0.5, 'lstm_layers': 2}. Best is trial 43 with value: 0.43072911664659597.\n"
     ]
    },
    {
     "name": "stdout",
     "output_type": "stream",
     "text": [
      "Epoch 3: Train Loss = 0.2782, Train Acc = 88.80% Validation Loss   = 0.4770, Validation Acc   = 80.66%\n",
      "Early stopping patience: 2/10\n",
      "\n",
      "Trial 54: Embedding_Dim: 300, Hidden_Dim: 128, Is Bidirectional: True, Learning Rate: 0.0007092846147445669, LSTM Layers: 2, Dropout Rate: 0.5\n"
     ]
    },
    {
     "name": "stderr",
     "output_type": "stream",
     "text": [
      "Epoch 1/3 [Training]: 100%|██████████| 322/322 [00:05<00:00, 57.92it/s, Loss=0.4232, Acc=69.488%]\n",
      "Epoch 1/3 [Validation]: 100%|██████████| 81/81 [00:00<00:00, 173.51it/s, Loss=0.2463, Acc=79.417%]\n"
     ]
    },
    {
     "name": "stdout",
     "output_type": "stream",
     "text": [
      "Epoch 1: Train Loss = 0.7200, Train Acc = 69.49% Validation Loss   = 0.4583, Validation Acc   = 79.42%\n"
     ]
    },
    {
     "name": "stderr",
     "output_type": "stream",
     "text": [
      "Epoch 2/3 [Training]: 100%|██████████| 322/322 [00:05<00:00, 57.73it/s, Loss=0.3910, Acc=83.225%]\n",
      "Epoch 2/3 [Validation]: 100%|██████████| 81/81 [00:00<00:00, 170.83it/s, Loss=0.2800, Acc=81.825%]\n"
     ]
    },
    {
     "name": "stdout",
     "output_type": "stream",
     "text": [
      "Epoch 2: Train Loss = 0.3935, Train Acc = 83.22% Validation Loss   = 0.4264, Validation Acc   = 81.83%\n"
     ]
    },
    {
     "name": "stderr",
     "output_type": "stream",
     "text": [
      "Epoch 3/3 [Training]: 100%|██████████| 322/322 [00:05<00:00, 57.88it/s, Loss=0.2427, Acc=88.127%]\n",
      "Epoch 3/3 [Validation]: 100%|██████████| 81/81 [00:00<00:00, 173.32it/s, Loss=0.3640, Acc=80.971%]\n",
      "[I 2025-03-29 23:14:11,902] Trial 54 finished with value: 0.42636905343812187 and parameters: {'embedding_dim': 300, 'hidden_dim': 128, 'is_bidirectional': True, 'lr': 0.0007092846147445669, 'dropout_rate': 0.5, 'lstm_layers': 2}. Best is trial 54 with value: 0.42636905343812187.\n"
     ]
    },
    {
     "name": "stdout",
     "output_type": "stream",
     "text": [
      "Epoch 3: Train Loss = 0.2922, Train Acc = 88.13% Validation Loss   = 0.4805, Validation Acc   = 80.97%\n",
      "Early stopping patience: 1/10\n",
      "\n",
      "Trial 55: Embedding_Dim: 300, Hidden_Dim: 128, Is Bidirectional: True, Learning Rate: 0.000712310403690594, LSTM Layers: 2, Dropout Rate: 0.5\n"
     ]
    },
    {
     "name": "stderr",
     "output_type": "stream",
     "text": [
      "Epoch 1/3 [Training]: 100%|██████████| 322/322 [00:05<00:00, 58.03it/s, Loss=0.5833, Acc=69.052%]\n",
      "Epoch 1/3 [Validation]: 100%|██████████| 81/81 [00:00<00:00, 169.55it/s, Loss=0.4041, Acc=79.573%]\n"
     ]
    },
    {
     "name": "stdout",
     "output_type": "stream",
     "text": [
      "Epoch 1: Train Loss = 0.7361, Train Acc = 69.05% Validation Loss   = 0.4555, Validation Acc   = 79.57%\n"
     ]
    },
    {
     "name": "stderr",
     "output_type": "stream",
     "text": [
      "Epoch 2/3 [Training]: 100%|██████████| 322/322 [00:05<00:00, 58.02it/s, Loss=0.5352, Acc=82.769%]\n",
      "Epoch 2/3 [Validation]: 100%|██████████| 81/81 [00:00<00:00, 173.64it/s, Loss=0.3571, Acc=80.505%]\n"
     ]
    },
    {
     "name": "stdout",
     "output_type": "stream",
     "text": [
      "Epoch 2: Train Loss = 0.3966, Train Acc = 82.77% Validation Loss   = 0.4359, Validation Acc   = 80.50%\n"
     ]
    },
    {
     "name": "stderr",
     "output_type": "stream",
     "text": [
      "Epoch 3/3 [Training]: 100%|██████████| 322/322 [00:05<00:00, 58.03it/s, Loss=0.3697, Acc=87.758%]\n",
      "Epoch 3/3 [Validation]: 100%|██████████| 81/81 [00:00<00:00, 175.64it/s, Loss=0.4936, Acc=80.893%]\n",
      "[I 2025-03-29 23:14:30,343] Trial 55 finished with value: 0.43590257546783967 and parameters: {'embedding_dim': 300, 'hidden_dim': 128, 'is_bidirectional': True, 'lr': 0.000712310403690594, 'dropout_rate': 0.5, 'lstm_layers': 2}. Best is trial 54 with value: 0.42636905343812187.\n"
     ]
    },
    {
     "name": "stdout",
     "output_type": "stream",
     "text": [
      "Epoch 3: Train Loss = 0.2976, Train Acc = 87.76% Validation Loss   = 0.4543, Validation Acc   = 80.89%\n",
      "Early stopping patience: 1/10\n",
      "\n",
      "Trial 56: Embedding_Dim: 300, Hidden_Dim: 128, Is Bidirectional: True, Learning Rate: 0.0007182338083217521, LSTM Layers: 2, Dropout Rate: 0.5\n"
     ]
    },
    {
     "name": "stderr",
     "output_type": "stream",
     "text": [
      "Epoch 1/3 [Training]: 100%|██████████| 322/322 [00:05<00:00, 57.67it/s, Loss=0.4732, Acc=70.013%]\n",
      "Epoch 1/3 [Validation]: 100%|██████████| 81/81 [00:00<00:00, 172.52it/s, Loss=0.3598, Acc=79.417%]\n"
     ]
    },
    {
     "name": "stdout",
     "output_type": "stream",
     "text": [
      "Epoch 1: Train Loss = 0.7151, Train Acc = 70.01% Validation Loss   = 0.4582, Validation Acc   = 79.42%\n"
     ]
    },
    {
     "name": "stderr",
     "output_type": "stream",
     "text": [
      "Epoch 2/3 [Training]: 100%|██████████| 322/322 [00:05<00:00, 58.06it/s, Loss=0.4233, Acc=82.827%]\n",
      "Epoch 2/3 [Validation]: 100%|██████████| 81/81 [00:00<00:00, 174.43it/s, Loss=0.2800, Acc=80.311%]\n"
     ]
    },
    {
     "name": "stdout",
     "output_type": "stream",
     "text": [
      "Epoch 2: Train Loss = 0.3944, Train Acc = 82.83% Validation Loss   = 0.4432, Validation Acc   = 80.31%\n"
     ]
    },
    {
     "name": "stderr",
     "output_type": "stream",
     "text": [
      "Epoch 3/3 [Training]: 100%|██████████| 322/322 [00:05<00:00, 57.91it/s, Loss=0.5463, Acc=87.623%]\n",
      "Epoch 3/3 [Validation]: 100%|██████████| 81/81 [00:00<00:00, 173.15it/s, Loss=0.2232, Acc=80.932%]\n",
      "[I 2025-03-29 23:14:48,829] Trial 56 finished with value: 0.44321270176657923 and parameters: {'embedding_dim': 300, 'hidden_dim': 128, 'is_bidirectional': True, 'lr': 0.0007182338083217521, 'dropout_rate': 0.5, 'lstm_layers': 2}. Best is trial 54 with value: 0.42636905343812187.\n"
     ]
    },
    {
     "name": "stdout",
     "output_type": "stream",
     "text": [
      "Epoch 3: Train Loss = 0.2989, Train Acc = 87.62% Validation Loss   = 0.4596, Validation Acc   = 80.93%\n",
      "Early stopping patience: 1/10\n",
      "\n",
      "Trial 57: Embedding_Dim: 300, Hidden_Dim: 128, Is Bidirectional: True, Learning Rate: 0.0009225320810092293, LSTM Layers: 2, Dropout Rate: 0.5\n"
     ]
    },
    {
     "name": "stderr",
     "output_type": "stream",
     "text": [
      "Epoch 1/3 [Training]: 100%|██████████| 322/322 [00:05<00:00, 57.98it/s, Loss=0.4336, Acc=71.653%]\n",
      "Epoch 1/3 [Validation]: 100%|██████████| 81/81 [00:00<00:00, 172.77it/s, Loss=0.3296, Acc=79.184%]\n"
     ]
    },
    {
     "name": "stdout",
     "output_type": "stream",
     "text": [
      "Epoch 1: Train Loss = 0.6795, Train Acc = 71.65% Validation Loss   = 0.4855, Validation Acc   = 79.18%\n"
     ]
    },
    {
     "name": "stderr",
     "output_type": "stream",
     "text": [
      "Epoch 2/3 [Training]: 100%|██████████| 322/322 [00:05<00:00, 57.98it/s, Loss=0.2618, Acc=83.040%]\n",
      "Epoch 2/3 [Validation]: 100%|██████████| 81/81 [00:00<00:00, 176.19it/s, Loss=0.3894, Acc=80.932%]\n"
     ]
    },
    {
     "name": "stdout",
     "output_type": "stream",
     "text": [
      "Epoch 2: Train Loss = 0.3954, Train Acc = 83.04% Validation Loss   = 0.4450, Validation Acc   = 80.93%\n"
     ]
    },
    {
     "name": "stderr",
     "output_type": "stream",
     "text": [
      "Epoch 3/3 [Training]: 100%|██████████| 322/322 [00:05<00:00, 57.16it/s, Loss=0.3395, Acc=88.069%]\n",
      "Epoch 3/3 [Validation]: 100%|██████████| 81/81 [00:00<00:00, 174.30it/s, Loss=0.4396, Acc=81.359%]\n",
      "[I 2025-03-29 23:15:07,351] Trial 57 finished with value: 0.44502429553756007 and parameters: {'embedding_dim': 300, 'hidden_dim': 128, 'is_bidirectional': True, 'lr': 0.0009225320810092293, 'dropout_rate': 0.5, 'lstm_layers': 2}. Best is trial 54 with value: 0.42636905343812187.\n"
     ]
    },
    {
     "name": "stdout",
     "output_type": "stream",
     "text": [
      "Epoch 3: Train Loss = 0.2935, Train Acc = 88.07% Validation Loss   = 0.4651, Validation Acc   = 81.36%\n",
      "Early stopping patience: 1/10\n",
      "\n",
      "Trial 58: Embedding_Dim: 300, Hidden_Dim: 128, Is Bidirectional: True, Learning Rate: 0.0008335321604642501, LSTM Layers: 2, Dropout Rate: 0.5\n"
     ]
    },
    {
     "name": "stderr",
     "output_type": "stream",
     "text": [
      "Epoch 1/3 [Training]: 100%|██████████| 322/322 [00:05<00:00, 58.06it/s, Loss=0.4936, Acc=69.789%]\n",
      "Epoch 1/3 [Validation]: 100%|██████████| 81/81 [00:00<00:00, 177.48it/s, Loss=0.3056, Acc=80.660%]\n"
     ]
    },
    {
     "name": "stdout",
     "output_type": "stream",
     "text": [
      "Epoch 1: Train Loss = 0.7176, Train Acc = 69.79% Validation Loss   = 0.4553, Validation Acc   = 80.66%\n"
     ]
    },
    {
     "name": "stderr",
     "output_type": "stream",
     "text": [
      "Epoch 2/3 [Training]: 100%|██████████| 322/322 [00:05<00:00, 57.80it/s, Loss=0.5310, Acc=83.322%]\n",
      "Epoch 2/3 [Validation]: 100%|██████████| 81/81 [00:00<00:00, 172.24it/s, Loss=0.2842, Acc=81.282%]\n"
     ]
    },
    {
     "name": "stdout",
     "output_type": "stream",
     "text": [
      "Epoch 2: Train Loss = 0.3938, Train Acc = 83.32% Validation Loss   = 0.4498, Validation Acc   = 81.28%\n"
     ]
    },
    {
     "name": "stderr",
     "output_type": "stream",
     "text": [
      "Epoch 3/3 [Training]: 100%|██████████| 322/322 [00:05<00:00, 57.79it/s, Loss=0.3382, Acc=88.409%]\n",
      "Epoch 3/3 [Validation]: 100%|██████████| 81/81 [00:00<00:00, 172.35it/s, Loss=0.2662, Acc=80.583%]\n",
      "[I 2025-03-29 23:15:25,827] Trial 58 finished with value: 0.44980487668955765 and parameters: {'embedding_dim': 300, 'hidden_dim': 128, 'is_bidirectional': True, 'lr': 0.0008335321604642501, 'dropout_rate': 0.5, 'lstm_layers': 2}. Best is trial 54 with value: 0.42636905343812187.\n"
     ]
    },
    {
     "name": "stdout",
     "output_type": "stream",
     "text": [
      "Epoch 3: Train Loss = 0.2843, Train Acc = 88.41% Validation Loss   = 0.4856, Validation Acc   = 80.58%\n",
      "Early stopping patience: 1/10\n",
      "\n",
      "Trial 59: Embedding_Dim: 300, Hidden_Dim: 128, Is Bidirectional: True, Learning Rate: 0.0006942880518765008, LSTM Layers: 2, Dropout Rate: 0.5\n"
     ]
    },
    {
     "name": "stderr",
     "output_type": "stream",
     "text": [
      "Epoch 1/3 [Training]: 100%|██████████| 322/322 [00:05<00:00, 57.96it/s, Loss=0.4739, Acc=68.984%]\n",
      "Epoch 1/3 [Validation]: 100%|██████████| 81/81 [00:00<00:00, 171.17it/s, Loss=0.5457, Acc=79.184%]\n"
     ]
    },
    {
     "name": "stdout",
     "output_type": "stream",
     "text": [
      "Epoch 1: Train Loss = 0.7400, Train Acc = 68.98% Validation Loss   = 0.4717, Validation Acc   = 79.18%\n"
     ]
    },
    {
     "name": "stderr",
     "output_type": "stream",
     "text": [
      "Epoch 2/3 [Training]: 100%|██████████| 322/322 [00:05<00:00, 57.78it/s, Loss=0.3357, Acc=82.953%]\n",
      "Epoch 2/3 [Validation]: 100%|██████████| 81/81 [00:00<00:00, 167.83it/s, Loss=0.3268, Acc=79.456%]\n"
     ]
    },
    {
     "name": "stdout",
     "output_type": "stream",
     "text": [
      "Epoch 2: Train Loss = 0.3968, Train Acc = 82.95% Validation Loss   = 0.4677, Validation Acc   = 79.46%\n"
     ]
    },
    {
     "name": "stderr",
     "output_type": "stream",
     "text": [
      "Epoch 3/3 [Training]: 100%|██████████| 322/322 [00:05<00:00, 58.10it/s, Loss=0.3761, Acc=87.545%]\n",
      "Epoch 3/3 [Validation]: 100%|██████████| 81/81 [00:00<00:00, 177.15it/s, Loss=0.5264, Acc=81.010%]\n",
      "[I 2025-03-29 23:15:44,306] Trial 59 finished with value: 0.46773168389444 and parameters: {'embedding_dim': 300, 'hidden_dim': 128, 'is_bidirectional': True, 'lr': 0.0006942880518765008, 'dropout_rate': 0.5, 'lstm_layers': 2}. Best is trial 54 with value: 0.42636905343812187.\n"
     ]
    },
    {
     "name": "stdout",
     "output_type": "stream",
     "text": [
      "Epoch 3: Train Loss = 0.3002, Train Acc = 87.54% Validation Loss   = 0.4786, Validation Acc   = 81.01%\n",
      "Early stopping patience: 1/10\n",
      "\n",
      "Trial 60: Embedding_Dim: 300, Hidden_Dim: 128, Is Bidirectional: True, Learning Rate: 0.0005305756541984085, LSTM Layers: 2, Dropout Rate: 0.5\n"
     ]
    },
    {
     "name": "stderr",
     "output_type": "stream",
     "text": [
      "Epoch 1/3 [Training]: 100%|██████████| 322/322 [00:05<00:00, 57.93it/s, Loss=0.9119, Acc=68.343%]\n",
      "Epoch 1/3 [Validation]: 100%|██████████| 81/81 [00:00<00:00, 173.61it/s, Loss=0.3603, Acc=79.068%]\n"
     ]
    },
    {
     "name": "stdout",
     "output_type": "stream",
     "text": [
      "Epoch 1: Train Loss = 0.7620, Train Acc = 68.34% Validation Loss   = 0.4724, Validation Acc   = 79.07%\n"
     ]
    },
    {
     "name": "stderr",
     "output_type": "stream",
     "text": [
      "Epoch 2/3 [Training]: 100%|██████████| 322/322 [00:05<00:00, 58.05it/s, Loss=0.3969, Acc=82.109%]\n",
      "Epoch 2/3 [Validation]: 100%|██████████| 81/81 [00:00<00:00, 173.51it/s, Loss=0.2537, Acc=80.155%]\n"
     ]
    },
    {
     "name": "stdout",
     "output_type": "stream",
     "text": [
      "Epoch 2: Train Loss = 0.4105, Train Acc = 82.11% Validation Loss   = 0.4546, Validation Acc   = 80.16%\n"
     ]
    },
    {
     "name": "stderr",
     "output_type": "stream",
     "text": [
      "Epoch 3/3 [Training]: 100%|██████████| 322/322 [00:05<00:00, 57.98it/s, Loss=0.1978, Acc=86.419%]\n",
      "Epoch 3/3 [Validation]: 100%|██████████| 81/81 [00:00<00:00, 172.77it/s, Loss=0.1934, Acc=80.777%]\n",
      "[I 2025-03-29 23:16:02,755] Trial 60 finished with value: 0.45461273322134843 and parameters: {'embedding_dim': 300, 'hidden_dim': 128, 'is_bidirectional': True, 'lr': 0.0005305756541984085, 'dropout_rate': 0.5, 'lstm_layers': 2}. Best is trial 54 with value: 0.42636905343812187.\n"
     ]
    },
    {
     "name": "stdout",
     "output_type": "stream",
     "text": [
      "Epoch 3: Train Loss = 0.3190, Train Acc = 86.42% Validation Loss   = 0.4666, Validation Acc   = 80.78%\n",
      "Early stopping patience: 1/10\n",
      "\n",
      "Trial 61: Embedding_Dim: 300, Hidden_Dim: 128, Is Bidirectional: True, Learning Rate: 0.000586104705937613, LSTM Layers: 2, Dropout Rate: 0.5\n"
     ]
    },
    {
     "name": "stderr",
     "output_type": "stream",
     "text": [
      "Epoch 1/3 [Training]: 100%|██████████| 322/322 [00:05<00:00, 57.94it/s, Loss=0.5221, Acc=68.226%]\n",
      "Epoch 1/3 [Validation]: 100%|██████████| 81/81 [00:00<00:00, 161.44it/s, Loss=0.3243, Acc=78.680%]\n"
     ]
    },
    {
     "name": "stdout",
     "output_type": "stream",
     "text": [
      "Epoch 1: Train Loss = 0.7562, Train Acc = 68.23% Validation Loss   = 0.4627, Validation Acc   = 78.68%\n"
     ]
    },
    {
     "name": "stderr",
     "output_type": "stream",
     "text": [
      "Epoch 2/3 [Training]: 100%|██████████| 322/322 [00:05<00:00, 57.98it/s, Loss=0.3916, Acc=82.575%]\n",
      "Epoch 2/3 [Validation]: 100%|██████████| 81/81 [00:00<00:00, 174.82it/s, Loss=0.2579, Acc=80.155%]\n"
     ]
    },
    {
     "name": "stdout",
     "output_type": "stream",
     "text": [
      "Epoch 2: Train Loss = 0.3977, Train Acc = 82.57% Validation Loss   = 0.4501, Validation Acc   = 80.16%\n"
     ]
    },
    {
     "name": "stderr",
     "output_type": "stream",
     "text": [
      "Epoch 3/3 [Training]: 100%|██████████| 322/322 [00:05<00:00, 57.63it/s, Loss=0.2775, Acc=87.768%]\n",
      "Epoch 3/3 [Validation]: 100%|██████████| 81/81 [00:00<00:00, 174.61it/s, Loss=0.1668, Acc=79.650%]\n",
      "[I 2025-03-29 23:16:21,278] Trial 61 finished with value: 0.45009957051571503 and parameters: {'embedding_dim': 300, 'hidden_dim': 128, 'is_bidirectional': True, 'lr': 0.000586104705937613, 'dropout_rate': 0.5, 'lstm_layers': 2}. Best is trial 54 with value: 0.42636905343812187.\n"
     ]
    },
    {
     "name": "stdout",
     "output_type": "stream",
     "text": [
      "Epoch 3: Train Loss = 0.2974, Train Acc = 87.77% Validation Loss   = 0.4770, Validation Acc   = 79.65%\n",
      "Early stopping patience: 1/10\n",
      "\n",
      "Trial 62: Embedding_Dim: 300, Hidden_Dim: 128, Is Bidirectional: True, Learning Rate: 0.0006466544831661384, LSTM Layers: 2, Dropout Rate: 0.5\n"
     ]
    },
    {
     "name": "stderr",
     "output_type": "stream",
     "text": [
      "Epoch 1/3 [Training]: 100%|██████████| 322/322 [00:05<00:00, 58.01it/s, Loss=0.5598, Acc=70.343%]\n",
      "Epoch 1/3 [Validation]: 100%|██████████| 81/81 [00:00<00:00, 175.94it/s, Loss=0.3188, Acc=79.612%]\n"
     ]
    },
    {
     "name": "stdout",
     "output_type": "stream",
     "text": [
      "Epoch 1: Train Loss = 0.7305, Train Acc = 70.34% Validation Loss   = 0.4699, Validation Acc   = 79.61%\n"
     ]
    },
    {
     "name": "stderr",
     "output_type": "stream",
     "text": [
      "Epoch 2/3 [Training]: 100%|██████████| 322/322 [00:05<00:00, 57.96it/s, Loss=0.5227, Acc=82.875%]\n",
      "Epoch 2/3 [Validation]: 100%|██████████| 81/81 [00:00<00:00, 174.83it/s, Loss=0.3274, Acc=80.854%]\n"
     ]
    },
    {
     "name": "stdout",
     "output_type": "stream",
     "text": [
      "Epoch 2: Train Loss = 0.4001, Train Acc = 82.88% Validation Loss   = 0.4499, Validation Acc   = 80.85%\n"
     ]
    },
    {
     "name": "stderr",
     "output_type": "stream",
     "text": [
      "Epoch 3/3 [Training]: 100%|██████████| 322/322 [00:05<00:00, 57.97it/s, Loss=0.2884, Acc=87.875%]\n",
      "Epoch 3/3 [Validation]: 100%|██████████| 81/81 [00:00<00:00, 173.81it/s, Loss=0.4264, Acc=80.854%]\n",
      "[I 2025-03-29 23:16:39,720] Trial 62 finished with value: 0.44986427943279717 and parameters: {'embedding_dim': 300, 'hidden_dim': 128, 'is_bidirectional': True, 'lr': 0.0006466544831661384, 'dropout_rate': 0.5, 'lstm_layers': 2}. Best is trial 54 with value: 0.42636905343812187.\n"
     ]
    },
    {
     "name": "stdout",
     "output_type": "stream",
     "text": [
      "Epoch 3: Train Loss = 0.3013, Train Acc = 87.87% Validation Loss   = 0.4546, Validation Acc   = 80.85%\n",
      "Early stopping patience: 1/10\n",
      "\n",
      "Trial 63: Embedding_Dim: 300, Hidden_Dim: 128, Is Bidirectional: True, Learning Rate: 0.000988390100139353, LSTM Layers: 2, Dropout Rate: 0.5\n"
     ]
    },
    {
     "name": "stderr",
     "output_type": "stream",
     "text": [
      "Epoch 1/3 [Training]: 100%|██████████| 322/322 [00:05<00:00, 57.59it/s, Loss=0.2728, Acc=71.653%]\n",
      "Epoch 1/3 [Validation]: 100%|██████████| 81/81 [00:00<00:00, 175.67it/s, Loss=0.3746, Acc=80.388%]\n"
     ]
    },
    {
     "name": "stdout",
     "output_type": "stream",
     "text": [
      "Epoch 1: Train Loss = 0.6838, Train Acc = 71.65% Validation Loss   = 0.4476, Validation Acc   = 80.39%\n"
     ]
    },
    {
     "name": "stderr",
     "output_type": "stream",
     "text": [
      "Epoch 2/3 [Training]: 100%|██████████| 322/322 [00:05<00:00, 57.90it/s, Loss=0.4097, Acc=83.623%]\n",
      "Epoch 2/3 [Validation]: 100%|██████████| 81/81 [00:00<00:00, 174.27it/s, Loss=0.7131, Acc=80.039%]\n"
     ]
    },
    {
     "name": "stdout",
     "output_type": "stream",
     "text": [
      "Epoch 2: Train Loss = 0.3833, Train Acc = 83.62% Validation Loss   = 0.4394, Validation Acc   = 80.04%\n"
     ]
    },
    {
     "name": "stderr",
     "output_type": "stream",
     "text": [
      "Epoch 3/3 [Training]: 100%|██████████| 322/322 [00:05<00:00, 58.01it/s, Loss=0.3272, Acc=89.273%]\n",
      "Epoch 3/3 [Validation]: 100%|██████████| 81/81 [00:00<00:00, 169.73it/s, Loss=0.5730, Acc=80.117%]\n",
      "[I 2025-03-29 23:16:58,215] Trial 63 finished with value: 0.439434419075648 and parameters: {'embedding_dim': 300, 'hidden_dim': 128, 'is_bidirectional': True, 'lr': 0.000988390100139353, 'dropout_rate': 0.5, 'lstm_layers': 2}. Best is trial 54 with value: 0.42636905343812187.\n"
     ]
    },
    {
     "name": "stdout",
     "output_type": "stream",
     "text": [
      "Epoch 3: Train Loss = 0.2664, Train Acc = 89.27% Validation Loss   = 0.4893, Validation Acc   = 80.12%\n",
      "Early stopping patience: 1/10\n",
      "\n",
      "Trial 64: Embedding_Dim: 200, Hidden_Dim: 128, Is Bidirectional: True, Learning Rate: 0.0007820362622928994, LSTM Layers: 2, Dropout Rate: 0.5\n"
     ]
    },
    {
     "name": "stderr",
     "output_type": "stream",
     "text": [
      "Epoch 1/3 [Training]: 100%|██████████| 322/322 [00:04<00:00, 65.05it/s, Loss=0.2612, Acc=68.149%]\n",
      "Epoch 1/3 [Validation]: 100%|██████████| 81/81 [00:00<00:00, 174.35it/s, Loss=0.5062, Acc=78.835%]\n"
     ]
    },
    {
     "name": "stdout",
     "output_type": "stream",
     "text": [
      "Epoch 1: Train Loss = 0.7754, Train Acc = 68.15% Validation Loss   = 0.4789, Validation Acc   = 78.83%\n"
     ]
    },
    {
     "name": "stderr",
     "output_type": "stream",
     "text": [
      "Epoch 2/3 [Training]: 100%|██████████| 322/322 [00:04<00:00, 65.69it/s, Loss=0.7779, Acc=82.293%]\n",
      "Epoch 2/3 [Validation]: 100%|██████████| 81/81 [00:00<00:00, 178.05it/s, Loss=0.9679, Acc=79.029%]\n"
     ]
    },
    {
     "name": "stdout",
     "output_type": "stream",
     "text": [
      "Epoch 2: Train Loss = 0.4242, Train Acc = 82.29% Validation Loss   = 0.4901, Validation Acc   = 79.03%\n",
      "Early stopping patience: 1/10\n"
     ]
    },
    {
     "name": "stderr",
     "output_type": "stream",
     "text": [
      "Epoch 3/3 [Training]: 100%|██████████| 322/322 [00:04<00:00, 65.94it/s, Loss=0.3935, Acc=86.535%]\n",
      "Epoch 3/3 [Validation]: 100%|██████████| 81/81 [00:00<00:00, 178.17it/s, Loss=0.5612, Acc=81.165%]\n",
      "[I 2025-03-29 23:17:14,604] Trial 64 finished with value: 0.4759372859089463 and parameters: {'embedding_dim': 200, 'hidden_dim': 128, 'is_bidirectional': True, 'lr': 0.0007820362622928994, 'dropout_rate': 0.5, 'lstm_layers': 2}. Best is trial 54 with value: 0.42636905343812187.\n"
     ]
    },
    {
     "name": "stdout",
     "output_type": "stream",
     "text": [
      "Epoch 3: Train Loss = 0.3319, Train Acc = 86.54% Validation Loss   = 0.4759, Validation Acc   = 81.17%\n",
      "\n",
      "Trial 65: Embedding_Dim: 300, Hidden_Dim: 128, Is Bidirectional: True, Learning Rate: 0.000747972305773623, LSTM Layers: 2, Dropout Rate: 0.5\n"
     ]
    },
    {
     "name": "stderr",
     "output_type": "stream",
     "text": [
      "Epoch 1/3 [Training]: 100%|██████████| 322/322 [00:05<00:00, 57.90it/s, Loss=0.5706, Acc=68.411%]\n",
      "Epoch 1/3 [Validation]: 100%|██████████| 81/81 [00:00<00:00, 174.83it/s, Loss=0.7059, Acc=80.544%]\n"
     ]
    },
    {
     "name": "stdout",
     "output_type": "stream",
     "text": [
      "Epoch 1: Train Loss = 0.7334, Train Acc = 68.41% Validation Loss   = 0.4606, Validation Acc   = 80.54%\n"
     ]
    },
    {
     "name": "stderr",
     "output_type": "stream",
     "text": [
      "Epoch 2/3 [Training]: 100%|██████████| 322/322 [00:05<00:00, 58.10it/s, Loss=0.4538, Acc=83.778%]\n",
      "Epoch 2/3 [Validation]: 100%|██████████| 81/81 [00:00<00:00, 172.78it/s, Loss=0.3543, Acc=80.816%]\n"
     ]
    },
    {
     "name": "stdout",
     "output_type": "stream",
     "text": [
      "Epoch 2: Train Loss = 0.3844, Train Acc = 83.78% Validation Loss   = 0.4495, Validation Acc   = 80.82%\n"
     ]
    },
    {
     "name": "stderr",
     "output_type": "stream",
     "text": [
      "Epoch 3/3 [Training]: 100%|██████████| 322/322 [00:05<00:00, 57.87it/s, Loss=0.2708, Acc=88.826%]\n",
      "Epoch 3/3 [Validation]: 100%|██████████| 81/81 [00:00<00:00, 174.33it/s, Loss=0.8671, Acc=81.126%]\n",
      "[I 2025-03-29 23:17:33,057] Trial 65 finished with value: 0.44952804365275817 and parameters: {'embedding_dim': 300, 'hidden_dim': 128, 'is_bidirectional': True, 'lr': 0.000747972305773623, 'dropout_rate': 0.5, 'lstm_layers': 2}. Best is trial 54 with value: 0.42636905343812187.\n"
     ]
    },
    {
     "name": "stdout",
     "output_type": "stream",
     "text": [
      "Epoch 3: Train Loss = 0.2727, Train Acc = 88.83% Validation Loss   = 0.4973, Validation Acc   = 81.13%\n",
      "Early stopping patience: 1/10\n",
      "\n",
      "Trial 66: Embedding_Dim: 300, Hidden_Dim: 128, Is Bidirectional: False, Learning Rate: 0.0008380878853433107, LSTM Layers: 2, Dropout Rate: 0.5\n"
     ]
    },
    {
     "name": "stderr",
     "output_type": "stream",
     "text": [
      "Epoch 1/3 [Training]: 100%|██████████| 322/322 [00:04<00:00, 75.10it/s, Loss=0.5327, Acc=63.518%]\n",
      "Epoch 1/3 [Validation]: 100%|██████████| 81/81 [00:00<00:00, 222.72it/s, Loss=0.4433, Acc=77.243%]\n"
     ]
    },
    {
     "name": "stdout",
     "output_type": "stream",
     "text": [
      "Epoch 1: Train Loss = 0.8494, Train Acc = 63.52% Validation Loss   = 0.5089, Validation Acc   = 77.24%\n"
     ]
    },
    {
     "name": "stderr",
     "output_type": "stream",
     "text": [
      "Epoch 2/3 [Training]: 100%|██████████| 322/322 [00:04<00:00, 75.11it/s, Loss=0.4034, Acc=80.497%]\n",
      "Epoch 2/3 [Validation]: 100%|██████████| 81/81 [00:00<00:00, 234.85it/s, Loss=0.4118, Acc=78.680%]\n"
     ]
    },
    {
     "name": "stdout",
     "output_type": "stream",
     "text": [
      "Epoch 2: Train Loss = 0.4412, Train Acc = 80.50% Validation Loss   = 0.4690, Validation Acc   = 78.68%\n"
     ]
    },
    {
     "name": "stderr",
     "output_type": "stream",
     "text": [
      "Epoch 3/3 [Training]: 100%|██████████| 322/322 [00:04<00:00, 74.55it/s, Loss=0.3168, Acc=85.924%]\n",
      "Epoch 3/3 [Validation]: 100%|██████████| 81/81 [00:00<00:00, 240.48it/s, Loss=0.5664, Acc=80.621%]\n",
      "[I 2025-03-29 23:17:47,380] Trial 66 finished with value: 0.4690367682480518 and parameters: {'embedding_dim': 300, 'hidden_dim': 128, 'is_bidirectional': False, 'lr': 0.0008380878853433107, 'dropout_rate': 0.5, 'lstm_layers': 2}. Best is trial 54 with value: 0.42636905343812187.\n"
     ]
    },
    {
     "name": "stdout",
     "output_type": "stream",
     "text": [
      "Epoch 3: Train Loss = 0.3423, Train Acc = 85.92% Validation Loss   = 0.4928, Validation Acc   = 80.62%\n",
      "Early stopping patience: 1/10\n",
      "\n",
      "Trial 67: Embedding_Dim: 300, Hidden_Dim: 128, Is Bidirectional: True, Learning Rate: 0.0006638574777064274, LSTM Layers: 2, Dropout Rate: 0.5\n"
     ]
    },
    {
     "name": "stderr",
     "output_type": "stream",
     "text": [
      "Epoch 1/3 [Training]: 100%|██████████| 322/322 [00:05<00:00, 57.88it/s, Loss=0.3676, Acc=67.974%]\n",
      "Epoch 1/3 [Validation]: 100%|██████████| 81/81 [00:00<00:00, 171.25it/s, Loss=0.3854, Acc=80.272%]\n"
     ]
    },
    {
     "name": "stdout",
     "output_type": "stream",
     "text": [
      "Epoch 1: Train Loss = 0.7581, Train Acc = 67.97% Validation Loss   = 0.4532, Validation Acc   = 80.27%\n"
     ]
    },
    {
     "name": "stderr",
     "output_type": "stream",
     "text": [
      "Epoch 2/3 [Training]: 100%|██████████| 322/322 [00:05<00:00, 57.97it/s, Loss=0.1681, Acc=82.477%]\n",
      "Epoch 2/3 [Validation]: 100%|██████████| 81/81 [00:00<00:00, 176.39it/s, Loss=0.2872, Acc=81.010%]\n"
     ]
    },
    {
     "name": "stdout",
     "output_type": "stream",
     "text": [
      "Epoch 2: Train Loss = 0.4013, Train Acc = 82.48% Validation Loss   = 0.4261, Validation Acc   = 81.01%\n"
     ]
    },
    {
     "name": "stderr",
     "output_type": "stream",
     "text": [
      "Epoch 3/3 [Training]: 100%|██████████| 322/322 [00:05<00:00, 57.62it/s, Loss=0.5089, Acc=87.254%]\n",
      "Epoch 3/3 [Validation]: 100%|██████████| 81/81 [00:00<00:00, 170.62it/s, Loss=0.2659, Acc=80.699%]\n",
      "[I 2025-03-29 23:18:05,883] Trial 67 finished with value: 0.4260592482708119 and parameters: {'embedding_dim': 300, 'hidden_dim': 128, 'is_bidirectional': True, 'lr': 0.0006638574777064274, 'dropout_rate': 0.5, 'lstm_layers': 2}. Best is trial 67 with value: 0.4260592482708119.\n"
     ]
    },
    {
     "name": "stdout",
     "output_type": "stream",
     "text": [
      "Epoch 3: Train Loss = 0.3056, Train Acc = 87.25% Validation Loss   = 0.4614, Validation Acc   = 80.70%\n",
      "Early stopping patience: 1/10\n",
      "\n",
      "Trial 68: Embedding_Dim: 300, Hidden_Dim: 128, Is Bidirectional: True, Learning Rate: 0.0006658538831496218, LSTM Layers: 2, Dropout Rate: 0.5\n"
     ]
    },
    {
     "name": "stderr",
     "output_type": "stream",
     "text": [
      "Epoch 1/3 [Training]: 100%|██████████| 322/322 [00:05<00:00, 57.28it/s, Loss=0.5395, Acc=69.022%]\n",
      "Epoch 1/3 [Validation]: 100%|██████████| 81/81 [00:00<00:00, 174.89it/s, Loss=0.3446, Acc=80.039%]\n"
     ]
    },
    {
     "name": "stdout",
     "output_type": "stream",
     "text": [
      "Epoch 1: Train Loss = 0.7349, Train Acc = 69.02% Validation Loss   = 0.4538, Validation Acc   = 80.04%\n"
     ]
    },
    {
     "name": "stderr",
     "output_type": "stream",
     "text": [
      "Epoch 2/3 [Training]: 100%|██████████| 322/322 [00:05<00:00, 57.68it/s, Loss=0.6390, Acc=82.652%]\n",
      "Epoch 2/3 [Validation]: 100%|██████████| 81/81 [00:00<00:00, 162.64it/s, Loss=0.3616, Acc=81.282%]\n"
     ]
    },
    {
     "name": "stdout",
     "output_type": "stream",
     "text": [
      "Epoch 2: Train Loss = 0.3995, Train Acc = 82.65% Validation Loss   = 0.4385, Validation Acc   = 81.28%\n"
     ]
    },
    {
     "name": "stderr",
     "output_type": "stream",
     "text": [
      "Epoch 3/3 [Training]: 100%|██████████| 322/322 [00:05<00:00, 57.91it/s, Loss=0.1485, Acc=87.302%]\n",
      "Epoch 3/3 [Validation]: 100%|██████████| 81/81 [00:00<00:00, 172.16it/s, Loss=0.3485, Acc=81.320%]\n",
      "[I 2025-03-29 23:18:24,471] Trial 68 finished with value: 0.4384755998114009 and parameters: {'embedding_dim': 300, 'hidden_dim': 128, 'is_bidirectional': True, 'lr': 0.0006658538831496218, 'dropout_rate': 0.5, 'lstm_layers': 2}. Best is trial 67 with value: 0.4260592482708119.\n"
     ]
    },
    {
     "name": "stdout",
     "output_type": "stream",
     "text": [
      "Epoch 3: Train Loss = 0.3029, Train Acc = 87.30% Validation Loss   = 0.4797, Validation Acc   = 81.32%\n",
      "Early stopping patience: 1/10\n",
      "\n",
      "Trial 69: Embedding_Dim: 200, Hidden_Dim: 128, Is Bidirectional: True, Learning Rate: 0.0009163063750143972, LSTM Layers: 2, Dropout Rate: 0.5\n"
     ]
    },
    {
     "name": "stderr",
     "output_type": "stream",
     "text": [
      "Epoch 1/3 [Training]: 100%|██████████| 322/322 [00:04<00:00, 66.16it/s, Loss=0.8612, Acc=70.712%]\n",
      "Epoch 1/3 [Validation]: 100%|██████████| 81/81 [00:00<00:00, 175.55it/s, Loss=0.3436, Acc=79.689%]\n"
     ]
    },
    {
     "name": "stdout",
     "output_type": "stream",
     "text": [
      "Epoch 1: Train Loss = 0.7306, Train Acc = 70.71% Validation Loss   = 0.4590, Validation Acc   = 79.69%\n"
     ]
    },
    {
     "name": "stderr",
     "output_type": "stream",
     "text": [
      "Epoch 2/3 [Training]: 100%|██████████| 322/322 [00:04<00:00, 65.70it/s, Loss=0.3611, Acc=82.118%]\n",
      "Epoch 2/3 [Validation]: 100%|██████████| 81/81 [00:00<00:00, 181.06it/s, Loss=0.3393, Acc=80.505%]\n"
     ]
    },
    {
     "name": "stdout",
     "output_type": "stream",
     "text": [
      "Epoch 2: Train Loss = 0.4187, Train Acc = 82.12% Validation Loss   = 0.4598, Validation Acc   = 80.50%\n",
      "Early stopping patience: 1/10\n"
     ]
    },
    {
     "name": "stderr",
     "output_type": "stream",
     "text": [
      "Epoch 3/3 [Training]: 100%|██████████| 322/322 [00:04<00:00, 66.07it/s, Loss=0.1690, Acc=86.477%]\n",
      "Epoch 3/3 [Validation]: 100%|██████████| 81/81 [00:00<00:00, 176.42it/s, Loss=0.3911, Acc=81.515%]\n",
      "[I 2025-03-29 23:18:40,771] Trial 69 finished with value: 0.45525408453411526 and parameters: {'embedding_dim': 200, 'hidden_dim': 128, 'is_bidirectional': True, 'lr': 0.0009163063750143972, 'dropout_rate': 0.5, 'lstm_layers': 2}. Best is trial 67 with value: 0.4260592482708119.\n"
     ]
    },
    {
     "name": "stdout",
     "output_type": "stream",
     "text": [
      "Epoch 3: Train Loss = 0.3247, Train Acc = 86.48% Validation Loss   = 0.4553, Validation Acc   = 81.51%\n",
      "Best Params: {'embedding_dim': 300, 'hidden_dim': 128, 'is_bidirectional': True, 'lr': 0.0006638574777064274, 'dropout_rate': 0.5, 'lstm_layers': 2}\n"
     ]
    }
   ],
   "source": [
    "import optuna\n",
    "import itertools\n",
    "from torch.utils.data import DataLoader\n",
    "\n",
    "tried_configs = set()\n",
    "\n",
    "# Objective function for tuning\n",
    "def objective(trial):\n",
    "    embedding_dim = trial.suggest_categorical(\"embedding_dim\", [200, 300])\n",
    "    hidden_dim = trial.suggest_categorical(\"hidden_dim\", [128, 256])\n",
    "    is_bidirectional = trial.suggest_categorical(\"is_bidirectional\", [True, False])\n",
    "    lr = trial.suggest_loguniform(\"lr\", 1e-4, 1e-3)\n",
    "    dropout_rate = trial.suggest_categorical(\"dropout_rate\", [0.3, 0.5])\n",
    "    lstm_layers = trial.suggest_categorical(\"lstm_layers\",[2,3])\n",
    "    \n",
    "    # Hyperparameter combination\n",
    "    config = (embedding_dim, hidden_dim, is_bidirectional, lr, dropout_rate, lstm_layers)\n",
    "\n",
    "    # Check if this combination was already tried\n",
    "    if config in tried_configs:\n",
    "        print(f\"Skipping already tried configuration: {config}\")\n",
    "        raise optuna.TrialPruned()  # Prune this trial early\n",
    "\n",
    "    # Add new config to the set\n",
    "    tried_configs.add(config)\n",
    "    \n",
    "    model = LSTM_Sentiment_Classifier(\n",
    "        vocab_size=VOCAB_SIZE,\n",
    "        embedding_dim=embedding_dim,\n",
    "        hidden_dim=hidden_dim,\n",
    "        num_classes=NUM_CLASSES,\n",
    "        lstm_layers=lstm_layers,\n",
    "        dropout=dropout_rate,\n",
    "        is_bidirectional=is_bidirectional\n",
    "    ).to(DEVICE)\n",
    "    \n",
    "    criterion = nn.CrossEntropyLoss()\n",
    "    optimizer = optim.AdamW(model.parameters(), lr=lr)\n",
    "\n",
    "    print(f\"\\nTrial {trial.number}: Embedding_Dim: {embedding_dim}, Hidden_Dim: {hidden_dim}, Is Bidirectional: {is_bidirectional}, Learning Rate: {lr}, LSTM Layers: {lstm_layers}, Dropout Rate: {dropout_rate}\")\n",
    "\n",
    "    best_model, train_losses, val_losses, train_accuracies, val_accuracies = train(\n",
    "        model, reduced_train_loader, reduced_val_loader, criterion, optimizer, epochs=3, device=DEVICE\n",
    "    )\n",
    "\n",
    "    best_val_loss = val_losses[0]\n",
    "    for val_loss in val_losses:\n",
    "        if val_loss<best_val_loss:\n",
    "            best_val_loss = val_loss\n",
    "    return best_val_loss\n",
    "\n",
    "study = optuna.create_study(direction=\"minimize\")\n",
    "study.optimize(objective, n_trials=70)\n",
    "\n",
    "print(\"Best Params:\", study.best_params)\n"
   ]
  },
  {
   "cell_type": "code",
   "execution_count": 21,
   "id": "5af1dd8b",
   "metadata": {
    "execution": {
     "iopub.execute_input": "2025-03-29T23:18:50.797052Z",
     "iopub.status.busy": "2025-03-29T23:18:50.796746Z",
     "iopub.status.idle": "2025-03-29T23:18:50.801369Z",
     "shell.execute_reply": "2025-03-29T23:18:50.800558Z"
    },
    "papermill": {
     "duration": 5.074533,
     "end_time": "2025-03-29T23:18:50.802882",
     "exception": false,
     "start_time": "2025-03-29T23:18:45.728349",
     "status": "completed"
    },
    "tags": []
   },
   "outputs": [
    {
     "name": "stdout",
     "output_type": "stream",
     "text": [
      "Best Hyperparameters: {'embedding_dim': 300, 'hidden_dim': 128, 'is_bidirectional': True, 'lr': 0.0006638574777064274, 'dropout_rate': 0.5, 'lstm_layers': 2}\n"
     ]
    }
   ],
   "source": [
    "# Print best hyperparameters\n",
    "print(\"Best Hyperparameters:\", study.best_params)"
   ]
  },
  {
   "cell_type": "code",
   "execution_count": 22,
   "id": "6792f31a",
   "metadata": {
    "execution": {
     "iopub.execute_input": "2025-03-29T23:19:00.706951Z",
     "iopub.status.busy": "2025-03-29T23:19:00.706643Z",
     "iopub.status.idle": "2025-03-29T23:19:00.718048Z",
     "shell.execute_reply": "2025-03-29T23:19:00.717291Z"
    },
    "papermill": {
     "duration": 5.008218,
     "end_time": "2025-03-29T23:19:00.719324",
     "exception": false,
     "start_time": "2025-03-29T23:18:55.711106",
     "status": "completed"
    },
    "tags": []
   },
   "outputs": [
    {
     "name": "stdout",
     "output_type": "stream",
     "text": [
      "70\n",
      "FrozenTrial(number=67, state=TrialState.COMPLETE, values=[0.4260592482708119], datetime_start=datetime.datetime(2025, 3, 29, 23, 17, 47, 380783), datetime_complete=datetime.datetime(2025, 3, 29, 23, 18, 5, 883238), params={'embedding_dim': 300, 'hidden_dim': 128, 'is_bidirectional': True, 'lr': 0.0006638574777064274, 'dropout_rate': 0.5, 'lstm_layers': 2}, user_attrs={}, system_attrs={}, intermediate_values={}, distributions={'embedding_dim': CategoricalDistribution(choices=(200, 300)), 'hidden_dim': CategoricalDistribution(choices=(128, 256)), 'is_bidirectional': CategoricalDistribution(choices=(True, False)), 'lr': FloatDistribution(high=0.001, log=True, low=0.0001, step=None), 'dropout_rate': CategoricalDistribution(choices=(0.3, 0.5)), 'lstm_layers': CategoricalDistribution(choices=(2, 3))}, trial_id=67, value=None)\n"
     ]
    }
   ],
   "source": [
    "print(len(study.trials))\n",
    "print(study.best_trial)"
   ]
  },
  {
   "cell_type": "code",
   "execution_count": 23,
   "id": "13ebe4b9",
   "metadata": {
    "execution": {
     "iopub.execute_input": "2025-03-29T23:19:10.755226Z",
     "iopub.status.busy": "2025-03-29T23:19:10.754937Z",
     "iopub.status.idle": "2025-03-29T23:19:10.759004Z",
     "shell.execute_reply": "2025-03-29T23:19:10.758346Z"
    },
    "papermill": {
     "duration": 5.02563,
     "end_time": "2025-03-29T23:19:10.760299",
     "exception": false,
     "start_time": "2025-03-29T23:19:05.734669",
     "status": "completed"
    },
    "tags": []
   },
   "outputs": [],
   "source": [
    "best_params = study.best_params\n",
    "# Hyperparameters\n",
    "LSTM_LAYERS = best_params[\"lstm_layers\"]\n",
    "DROPOUT = best_params[\"dropout_rate\"] \n",
    "\n",
    "HIDDEN_DIM = best_params[\"hidden_dim\"]\n",
    "EMBEDDING_DIM = best_params[\"embedding_dim\"]\n",
    "IS_BIDIRECTIONAL = best_params[\"is_bidirectional\"] \n",
    "LR = best_params[\"lr\"] "
   ]
  },
  {
   "cell_type": "code",
   "execution_count": 24,
   "id": "98a1e724",
   "metadata": {
    "execution": {
     "iopub.execute_input": "2025-03-29T23:19:20.664037Z",
     "iopub.status.busy": "2025-03-29T23:19:20.663737Z",
     "iopub.status.idle": "2025-03-29T23:19:21.022155Z",
     "shell.execute_reply": "2025-03-29T23:19:21.021465Z"
    },
    "papermill": {
     "duration": 5.469433,
     "end_time": "2025-03-29T23:19:21.023847",
     "exception": false,
     "start_time": "2025-03-29T23:19:15.554414",
     "status": "completed"
    },
    "tags": []
   },
   "outputs": [],
   "source": [
    "model = LSTM_Sentiment_Classifier(VOCAB_SIZE, EMBEDDING_DIM, HIDDEN_DIM, NUM_CLASSES, LSTM_LAYERS, DROPOUT, IS_BIDIRECTIONAL)\n",
    "model = model.to(DEVICE)\n",
    "\n",
    "criterion = nn.CrossEntropyLoss()\n",
    "optimizer = optim.AdamW(model.parameters(), lr=LR)"
   ]
  },
  {
   "cell_type": "code",
   "execution_count": 25,
   "id": "60a27bb8",
   "metadata": {
    "execution": {
     "iopub.execute_input": "2025-03-29T23:19:31.047663Z",
     "iopub.status.busy": "2025-03-29T23:19:31.047316Z",
     "iopub.status.idle": "2025-03-29T23:19:59.472426Z",
     "shell.execute_reply": "2025-03-29T23:19:59.471737Z"
    },
    "papermill": {
     "duration": 33.418318,
     "end_time": "2025-03-29T23:19:59.474060",
     "exception": false,
     "start_time": "2025-03-29T23:19:26.055742",
     "status": "completed"
    },
    "tags": []
   },
   "outputs": [],
   "source": [
    "# Tokenization for LSTM\n",
    "from collections import Counter\n",
    "from gensim.models import Word2Vec\n",
    "\n",
    "word2vec_model = Word2Vec(Word2Vec_train_data, vector_size=EMBEDDING_DIM, window=5, min_count=1, workers=4)"
   ]
  },
  {
   "cell_type": "code",
   "execution_count": 26,
   "id": "58442bf4",
   "metadata": {
    "execution": {
     "iopub.execute_input": "2025-03-29T23:20:09.418126Z",
     "iopub.status.busy": "2025-03-29T23:20:09.417443Z",
     "iopub.status.idle": "2025-03-29T23:20:09.917587Z",
     "shell.execute_reply": "2025-03-29T23:20:09.916717Z"
    },
    "papermill": {
     "duration": 5.553913,
     "end_time": "2025-03-29T23:20:09.919046",
     "exception": false,
     "start_time": "2025-03-29T23:20:04.365133",
     "status": "completed"
    },
    "tags": []
   },
   "outputs": [
    {
     "name": "stdout",
     "output_type": "stream",
     "text": [
      "Embedding Matrix Shape: (118446, 300)\n"
     ]
    }
   ],
   "source": [
    "# Define an empty embedding matrix of shape (VOCAB_SIZE, EMBEDDING_DIM)\n",
    "embedding_matrix = np.zeros((VOCAB_SIZE, EMBEDDING_DIM))\n",
    "\n",
    "# Fill the embedding matrix with pre-trained values from word2vec\n",
    "for word, token in vocab:\n",
    "    # Check if the word is present in the word2vec model's vocabulary\n",
    "    if word in word2vec_model.wv.key_to_index:\n",
    "        # If the word is present, retrieve its embedding vector and add it to the embedding matrix\n",
    "        embedding_vector = word2vec_model.wv[word]\n",
    "        embedding_matrix[token] = embedding_vector\n",
    "\n",
    "# Print the shape of the embedding matrix\n",
    "print(\"Embedding Matrix Shape:\", embedding_matrix.shape)"
   ]
  },
  {
   "cell_type": "code",
   "execution_count": 27,
   "id": "ceac2ab2",
   "metadata": {
    "execution": {
     "iopub.execute_input": "2025-03-29T23:20:19.810655Z",
     "iopub.status.busy": "2025-03-29T23:20:19.810283Z",
     "iopub.status.idle": "2025-03-29T23:20:19.928020Z",
     "shell.execute_reply": "2025-03-29T23:20:19.927336Z"
    },
    "papermill": {
     "duration": 5.089793,
     "end_time": "2025-03-29T23:20:19.929519",
     "exception": false,
     "start_time": "2025-03-29T23:20:14.839726",
     "status": "completed"
    },
    "tags": []
   },
   "outputs": [],
   "source": [
    "# Assign pre-trained embeddings\n",
    "model.embedding.weight.data.copy_(torch.from_numpy(embedding_matrix))\n",
    "model.embedding.weight.requires_grad = True"
   ]
  },
  {
   "cell_type": "code",
   "execution_count": 28,
   "id": "2ac23f52",
   "metadata": {
    "execution": {
     "iopub.execute_input": "2025-03-29T23:20:30.006011Z",
     "iopub.status.busy": "2025-03-29T23:20:30.005688Z",
     "iopub.status.idle": "2025-03-29T23:24:33.759282Z",
     "shell.execute_reply": "2025-03-29T23:24:33.758207Z"
    },
    "papermill": {
     "duration": 248.778178,
     "end_time": "2025-03-29T23:24:33.760628",
     "exception": false,
     "start_time": "2025-03-29T23:20:24.982450",
     "status": "completed"
    },
    "tags": []
   },
   "outputs": [
    {
     "name": "stderr",
     "output_type": "stream",
     "text": [
      "Epoch 1/20 [Training]: 100%|██████████| 1074/1074 [00:18<00:00, 57.51it/s, Loss=0.0133, Acc=69.983%]\n",
      "Epoch 1/20 [Validation]: 100%|██████████| 269/269 [00:01<00:00, 169.30it/s, Loss=0.1400, Acc=82.784%]\n"
     ]
    },
    {
     "name": "stdout",
     "output_type": "stream",
     "text": [
      "Epoch 1: Train Loss = 0.6668, Train Acc = 69.98% Validation Loss   = 0.4110, Validation Acc   = 82.78%\n"
     ]
    },
    {
     "name": "stderr",
     "output_type": "stream",
     "text": [
      "Epoch 2/20 [Training]: 100%|██████████| 1074/1074 [00:18<00:00, 57.52it/s, Loss=0.0890, Acc=85.453%]\n",
      "Epoch 2/20 [Validation]: 100%|██████████| 269/269 [00:01<00:00, 170.21it/s, Loss=0.3719, Acc=83.471%]\n"
     ]
    },
    {
     "name": "stdout",
     "output_type": "stream",
     "text": [
      "Epoch 2: Train Loss = 0.3562, Train Acc = 85.45% Validation Loss   = 0.3956, Validation Acc   = 83.47%\n"
     ]
    },
    {
     "name": "stderr",
     "output_type": "stream",
     "text": [
      "Epoch 3/20 [Training]: 100%|██████████| 1074/1074 [00:18<00:00, 57.34it/s, Loss=0.0051, Acc=89.728%]\n",
      "Epoch 3/20 [Validation]: 100%|██████████| 269/269 [00:01<00:00, 168.90it/s, Loss=0.3100, Acc=83.390%]\n"
     ]
    },
    {
     "name": "stdout",
     "output_type": "stream",
     "text": [
      "Epoch 3: Train Loss = 0.2629, Train Acc = 89.73% Validation Loss   = 0.4463, Validation Acc   = 83.39%\n",
      "Early stopping patience: 1/10\n"
     ]
    },
    {
     "name": "stderr",
     "output_type": "stream",
     "text": [
      "Epoch 4/20 [Training]: 100%|██████████| 1074/1074 [00:18<00:00, 57.40it/s, Loss=0.0313, Acc=91.953%]\n",
      "Epoch 4/20 [Validation]: 100%|██████████| 269/269 [00:01<00:00, 169.19it/s, Loss=0.3603, Acc=82.411%]\n"
     ]
    },
    {
     "name": "stdout",
     "output_type": "stream",
     "text": [
      "Epoch 4: Train Loss = 0.2034, Train Acc = 91.95% Validation Loss   = 0.5055, Validation Acc   = 82.41%\n",
      "Early stopping patience: 2/10\n"
     ]
    },
    {
     "name": "stderr",
     "output_type": "stream",
     "text": [
      "Epoch 5/20 [Training]: 100%|██████████| 1074/1074 [00:18<00:00, 57.36it/s, Loss=0.0002, Acc=93.380%]\n",
      "Epoch 5/20 [Validation]: 100%|██████████| 269/269 [00:01<00:00, 168.47it/s, Loss=0.8448, Acc=81.316%]\n"
     ]
    },
    {
     "name": "stdout",
     "output_type": "stream",
     "text": [
      "Epoch 5: Train Loss = 0.1619, Train Acc = 93.38% Validation Loss   = 0.6031, Validation Acc   = 81.32%\n",
      "Early stopping patience: 3/10\n"
     ]
    },
    {
     "name": "stderr",
     "output_type": "stream",
     "text": [
      "Epoch 6/20 [Training]: 100%|██████████| 1074/1074 [00:18<00:00, 57.53it/s, Loss=1.2401, Acc=94.382%]\n",
      "Epoch 6/20 [Validation]: 100%|██████████| 269/269 [00:01<00:00, 167.47it/s, Loss=0.8583, Acc=81.235%]\n"
     ]
    },
    {
     "name": "stdout",
     "output_type": "stream",
     "text": [
      "Epoch 6: Train Loss = 0.1353, Train Acc = 94.38% Validation Loss   = 0.6577, Validation Acc   = 81.23%\n",
      "Early stopping patience: 4/10\n"
     ]
    },
    {
     "name": "stderr",
     "output_type": "stream",
     "text": [
      "Epoch 7/20 [Training]: 100%|██████████| 1074/1074 [00:18<00:00, 57.59it/s, Loss=0.0147, Acc=95.049%]\n",
      "Epoch 7/20 [Validation]: 100%|██████████| 269/269 [00:01<00:00, 173.87it/s, Loss=1.2634, Acc=81.945%]\n"
     ]
    },
    {
     "name": "stdout",
     "output_type": "stream",
     "text": [
      "Epoch 7: Train Loss = 0.1135, Train Acc = 95.05% Validation Loss   = 0.7289, Validation Acc   = 81.95%\n",
      "Early stopping patience: 5/10\n"
     ]
    },
    {
     "name": "stderr",
     "output_type": "stream",
     "text": [
      "Epoch 8/20 [Training]: 100%|██████████| 1074/1074 [00:18<00:00, 57.42it/s, Loss=0.0000, Acc=95.346%]\n",
      "Epoch 8/20 [Validation]: 100%|██████████| 269/269 [00:01<00:00, 170.73it/s, Loss=1.7304, Acc=81.491%]\n"
     ]
    },
    {
     "name": "stdout",
     "output_type": "stream",
     "text": [
      "Epoch 8: Train Loss = 0.0978, Train Acc = 95.35% Validation Loss   = 0.9256, Validation Acc   = 81.49%\n",
      "Early stopping patience: 6/10\n"
     ]
    },
    {
     "name": "stderr",
     "output_type": "stream",
     "text": [
      "Epoch 9/20 [Training]: 100%|██████████| 1074/1074 [00:18<00:00, 56.77it/s, Loss=0.0001, Acc=95.675%]\n",
      "Epoch 9/20 [Validation]: 100%|██████████| 269/269 [00:01<00:00, 169.39it/s, Loss=1.7475, Acc=80.839%]\n"
     ]
    },
    {
     "name": "stdout",
     "output_type": "stream",
     "text": [
      "Epoch 9: Train Loss = 0.0875, Train Acc = 95.68% Validation Loss   = 0.9215, Validation Acc   = 80.84%\n",
      "Early stopping patience: 7/10\n"
     ]
    },
    {
     "name": "stderr",
     "output_type": "stream",
     "text": [
      "Epoch 10/20 [Training]: 100%|██████████| 1074/1074 [00:18<00:00, 57.44it/s, Loss=0.8733, Acc=95.949%]\n",
      "Epoch 10/20 [Validation]: 100%|██████████| 269/269 [00:01<00:00, 170.09it/s, Loss=1.6888, Acc=80.850%]\n"
     ]
    },
    {
     "name": "stdout",
     "output_type": "stream",
     "text": [
      "Epoch 10: Train Loss = 0.0809, Train Acc = 95.95% Validation Loss   = 1.0463, Validation Acc   = 80.85%\n",
      "Early stopping patience: 8/10\n"
     ]
    },
    {
     "name": "stderr",
     "output_type": "stream",
     "text": [
      "Epoch 11/20 [Training]: 100%|██████████| 1074/1074 [00:18<00:00, 57.24it/s, Loss=0.0000, Acc=96.162%]\n",
      "Epoch 11/20 [Validation]: 100%|██████████| 269/269 [00:01<00:00, 169.17it/s, Loss=2.1494, Acc=80.792%]\n"
     ]
    },
    {
     "name": "stdout",
     "output_type": "stream",
     "text": [
      "Epoch 11: Train Loss = 0.0735, Train Acc = 96.16% Validation Loss   = 1.0849, Validation Acc   = 80.79%\n",
      "Early stopping patience: 9/10\n"
     ]
    },
    {
     "name": "stderr",
     "output_type": "stream",
     "text": [
      "Epoch 12/20 [Training]: 100%|██████████| 1074/1074 [00:18<00:00, 57.43it/s, Loss=0.0000, Acc=96.357%]\n",
      "Epoch 12/20 [Validation]: 100%|██████████| 269/269 [00:01<00:00, 167.44it/s, Loss=2.1559, Acc=80.885%]"
     ]
    },
    {
     "name": "stdout",
     "output_type": "stream",
     "text": [
      "Epoch 12: Train Loss = 0.0704, Train Acc = 96.36% Validation Loss   = 1.1011, Validation Acc   = 80.89%\n",
      "Early stopping patience: 10/10\n",
      "Early stopping...No improvement in Validation Loss!\n"
     ]
    },
    {
     "name": "stderr",
     "output_type": "stream",
     "text": [
      "\n"
     ]
    }
   ],
   "source": [
    "N_EPOCHS = 20\n",
    "best_model,train_losses, val_losses, train_accuracies, val_accuracies = train(model, train_loader, val_loader, criterion, optimizer, N_EPOCHS, DEVICE)"
   ]
  },
  {
   "cell_type": "code",
   "execution_count": 29,
   "id": "ab79ed44",
   "metadata": {
    "execution": {
     "iopub.execute_input": "2025-03-29T23:24:45.466531Z",
     "iopub.status.busy": "2025-03-29T23:24:45.466198Z",
     "iopub.status.idle": "2025-03-29T23:24:45.715915Z",
     "shell.execute_reply": "2025-03-29T23:24:45.715028Z"
    },
    "papermill": {
     "duration": 6.089482,
     "end_time": "2025-03-29T23:24:45.717297",
     "exception": false,
     "start_time": "2025-03-29T23:24:39.627815",
     "status": "completed"
    },
    "tags": []
   },
   "outputs": [
    {
     "data": {
      "image/png": "[encoded data removed]",
      "text/plain": [
       "<Figure size 1000x600 with 1 Axes>"
      ]
     },
     "metadata": {},
     "output_type": "display_data"
    }
   ],
   "source": [
    "import matplotlib.pyplot as plt\n",
    "\n",
    "# Plotting Loss\n",
    "plt.figure(figsize=(10, 6))\n",
    "plt.plot(range(1, len(train_losses) + 1), train_losses, marker='o', label='Train Loss', color=\"r\")\n",
    "plt.plot(range(1, len(val_losses) + 1), val_losses, marker='s', label='Validation Loss', color=\"b\")\n",
    "plt.title('Losses per Epoch')\n",
    "plt.xlabel('Epochs')\n",
    "plt.ylabel('Loss')\n",
    "plt.grid(True)\n",
    "plt.legend()\n",
    "plt.show()"
   ]
  },
  {
   "cell_type": "code",
   "execution_count": 30,
   "id": "d2bbb3ec",
   "metadata": {
    "execution": {
     "iopub.execute_input": "2025-03-29T23:24:57.514218Z",
     "iopub.status.busy": "2025-03-29T23:24:57.513881Z",
     "iopub.status.idle": "2025-03-29T23:24:57.706355Z",
     "shell.execute_reply": "2025-03-29T23:24:57.705469Z"
    },
    "papermill": {
     "duration": 6.061969,
     "end_time": "2025-03-29T23:24:57.707748",
     "exception": false,
     "start_time": "2025-03-29T23:24:51.645779",
     "status": "completed"
    },
    "tags": []
   },
   "outputs": [
    {
     "data": {
      "image/png": "[encoded data removed]",
      "text/plain": [
       "<Figure size 1000x600 with 1 Axes>"
      ]
     },
     "metadata": {},
     "output_type": "display_data"
    }
   ],
   "source": [
    "# Plotting Accuracy\n",
    "plt.figure(figsize=(10, 6))\n",
    "plt.plot(range(1, len(train_accuracies) + 1), train_accuracies, marker='o', label='Train Accuracy', color=\"r\")\n",
    "plt.plot(range(1, len(val_accuracies) + 1), val_accuracies, marker='s', label='Validation Accuracy', color=\"b\")\n",
    "plt.title('Accuracy per Epoch')\n",
    "plt.xlabel('Epochs')\n",
    "plt.ylabel('Accuracy')\n",
    "plt.grid(True)\n",
    "plt.legend()\n",
    "plt.show()"
   ]
  },
  {
   "cell_type": "code",
   "execution_count": 31,
   "id": "edbfb49d",
   "metadata": {
    "execution": {
     "iopub.execute_input": "2025-03-29T23:25:09.370724Z",
     "iopub.status.busy": "2025-03-29T23:25:09.370308Z",
     "iopub.status.idle": "2025-03-29T23:25:09.379728Z",
     "shell.execute_reply": "2025-03-29T23:25:09.378884Z"
    },
    "papermill": {
     "duration": 5.860331,
     "end_time": "2025-03-29T23:25:09.381105",
     "exception": false,
     "start_time": "2025-03-29T23:25:03.520774",
     "status": "completed"
    },
    "tags": []
   },
   "outputs": [],
   "source": [
    "from sklearn.metrics import accuracy_score, precision_recall_fscore_support\n",
    "\n",
    "def evaluate(model, val_loader, criterion, device):\n",
    "    \"\"\"\n",
    "    Evaluates the LSTM model on a validation or test set.\n",
    "\n",
    "    Parameters:\n",
    "    - model: The trained LSTM sentiment classifier.\n",
    "    - val_loader: DataLoader for validation or test set.\n",
    "    - criterion: Loss function.\n",
    "    - device: Device (CPU/GPU).\n",
    "\n",
    "    Returns:\n",
    "    - avg_loss: Average loss on the validation/test set.\n",
    "    - accuracy: Accuracy score.\n",
    "    - precision, recall, f1: Precision, Recall, and F1-score.\n",
    "    \"\"\"\n",
    "    model.eval()  # Set model to evaluation mode\n",
    "    total_loss = 0\n",
    "    all_preds = []\n",
    "    all_labels = []\n",
    "\n",
    "    with torch.no_grad():  # No gradient calculation needed\n",
    "        for batch in val_loader:\n",
    "            inputs = batch[\"input_ids\"].to(device)\n",
    "            labels = batch[\"labels\"].to(device)\n",
    "\n",
    "            outputs = model(inputs)  # Forward pass\n",
    "            loss = criterion(outputs, labels)\n",
    "            total_loss += loss.item()\n",
    "\n",
    "            # Predictions\n",
    "            y_pred = torch.argmax(outputs, dim=1).cpu().numpy()\n",
    "            y_true = labels.cpu().numpy()\n",
    "\n",
    "            all_preds.extend(y_pred)\n",
    "            all_labels.extend(y_true)\n",
    "\n",
    "    # Compute average loss\n",
    "    avg_loss = total_loss / len(val_loader)\n",
    "\n",
    "    # Compute accuracy, precision, recall, and F1-score\n",
    "    accuracy = accuracy_score(all_labels, all_preds)\n",
    "    precision, recall, f1, _ = precision_recall_fscore_support(all_labels, all_preds, average=\"weighted\")\n",
    "\n",
    "    print(f\"Validation Loss: {avg_loss:.4f}\")\n",
    "    print(f\"Accuracy: {accuracy:.4f}\")\n",
    "    print(f\"Precision: {precision:.4f}\")\n",
    "    print(f\"Recall: {recall:.4f}\")\n",
    "    print(f\"F1-score: {f1:.4f}\")\n",
    "\n",
    "    return avg_loss, accuracy, precision, recall, f1, all_labels, all_preds"
   ]
  },
  {
   "cell_type": "code",
   "execution_count": 32,
   "id": "fbbf88f5",
   "metadata": {
    "execution": {
     "iopub.execute_input": "2025-03-29T23:25:21.009539Z",
     "iopub.status.busy": "2025-03-29T23:25:21.009203Z",
     "iopub.status.idle": "2025-03-29T23:25:21.722935Z",
     "shell.execute_reply": "2025-03-29T23:25:21.721966Z"
    },
    "papermill": {
     "duration": 6.517615,
     "end_time": "2025-03-29T23:25:21.724394",
     "exception": false,
     "start_time": "2025-03-29T23:25:15.206779",
     "status": "completed"
    },
    "tags": []
   },
   "outputs": [
    {
     "name": "stdout",
     "output_type": "stream",
     "text": [
      "Validation Loss: 1.0830\n",
      "Accuracy: 0.8073\n",
      "Precision: 0.8061\n",
      "Recall: 0.8073\n",
      "F1-score: 0.8063\n"
     ]
    }
   ],
   "source": [
    "test_loss, test_acc, test_prec, test_rec, test_f1, all_labels, all_preds = evaluate(model, test_loader, criterion, DEVICE)"
   ]
  },
  {
   "cell_type": "code",
   "execution_count": 33,
   "id": "a8782d8a",
   "metadata": {
    "execution": {
     "iopub.execute_input": "2025-03-29T23:25:33.506396Z",
     "iopub.status.busy": "2025-03-29T23:25:33.506049Z",
     "iopub.status.idle": "2025-03-29T23:25:33.785453Z",
     "shell.execute_reply": "2025-03-29T23:25:33.784615Z"
    },
    "papermill": {
     "duration": 6.211636,
     "end_time": "2025-03-29T23:25:33.786819",
     "exception": false,
     "start_time": "2025-03-29T23:25:27.575183",
     "status": "completed"
    },
    "tags": []
   },
   "outputs": [
    {
     "name": "stdout",
     "output_type": "stream",
     "text": [
      "dict_keys(['not_cyberbullying', 'gender', 'religion', 'other_cyberbullying', 'age', 'ethnicity'])\n"
     ]
    },
    {
     "data": {
      "image/png": "[encoded data removed]",
      "text/plain": [
       "<Figure size 600x500 with 2 Axes>"
      ]
     },
     "metadata": {},
     "output_type": "display_data"
    }
   ],
   "source": [
    "import seaborn as sns\n",
    "from sklearn.metrics import confusion_matrix\n",
    "\n",
    "def plot_confusion_matrix(y_true, y_pred, class_names):\n",
    "    cm = confusion_matrix(y_true, y_pred)\n",
    "    plt.figure(figsize=(6, 5))\n",
    "    sns.heatmap(cm, annot=True, fmt=\"d\", cmap=\"Blues\", xticklabels=class_names, yticklabels=class_names)\n",
    "    plt.xlabel(\"Predicted Label\")\n",
    "    plt.ylabel(\"True Label\")\n",
    "    plt.title(\"Confusion Matrix\")\n",
    "    plt.show()\n",
    "\n",
    "print(label_mapping.keys())\n",
    "# Example usage:\n",
    "plot_confusion_matrix(all_labels, all_preds, class_names=label_mapping.keys())"
   ]
  },
  {
   "cell_type": "code",
   "execution_count": 34,
   "id": "57ecc6ff",
   "metadata": {
    "execution": {
     "iopub.execute_input": "2025-03-29T23:25:45.580035Z",
     "iopub.status.busy": "2025-03-29T23:25:45.579720Z",
     "iopub.status.idle": "2025-03-29T23:25:45.590471Z",
     "shell.execute_reply": "2025-03-29T23:25:45.589768Z"
    },
    "papermill": {
     "duration": 5.982471,
     "end_time": "2025-03-29T23:25:45.591669",
     "exception": false,
     "start_time": "2025-03-29T23:25:39.609198",
     "status": "completed"
    },
    "tags": []
   },
   "outputs": [
    {
     "name": "stdout",
     "output_type": "stream",
     "text": [
      "Predicted Label: other_cyberbullying\n"
     ]
    }
   ],
   "source": [
    "from tensorflow.keras.preprocessing.text import Tokenizer\n",
    "from tensorflow.keras.preprocessing.sequence import pad_sequences\n",
    "\n",
    "# Tokenizer setup\n",
    "max_words = 20000\n",
    "max_len = 100\n",
    "tokenizer = Tokenizer(num_words=max_words)\n",
    "\n",
    "def predict_label(sentence, model, tokenizer, label_mapping):\n",
    "    sequence = tokenizer.texts_to_sequences([sentence])\n",
    "    padded_sequence = pad_sequences(sequence, maxlen=max_len)\n",
    "    input_tensor = torch.tensor(padded_sequence, dtype=torch.long).to(DEVICE)\n",
    "\n",
    "    with torch.no_grad():\n",
    "        output = model(input_tensor)\n",
    "        predicted_label = torch.argmax(output, dim=1).item()\n",
    "\n",
    "    return {v: k for k, v in label_mapping.items()}[predicted_label]\n",
    "\n",
    "# Example usage\n",
    "random_sentence = \"I love football!\"\n",
    "predicted_label = predict_label(random_sentence, model, tokenizer, label_mapping)\n",
    "print(f\"Predicted Label: {predicted_label}\")"
   ]
  },
  {
   "cell_type": "code",
   "execution_count": null,
   "id": "c276c26f",
   "metadata": {
    "papermill": {
     "duration": 5.798603,
     "end_time": "2025-03-29T23:25:57.334628",
     "exception": false,
     "start_time": "2025-03-29T23:25:51.536025",
     "status": "completed"
    },
    "tags": []
   },
   "outputs": [],
   "source": []
  },
  {
   "cell_type": "code",
   "execution_count": null,
   "id": "c2591df6",
   "metadata": {
    "papermill": {
     "duration": 5.739195,
     "end_time": "2025-03-29T23:26:08.972709",
     "exception": false,
     "start_time": "2025-03-29T23:26:03.233514",
     "status": "completed"
    },
    "tags": []
   },
   "outputs": [],
   "source": []
  }
 ],
 "metadata": {
  "kaggle": {
   "accelerator": "gpu",
   "dataSources": [
    {
     "datasetId": 6992089,
     "sourceId": 11198960,
     "sourceType": "datasetVersion"
    },
    {
     "datasetId": 6992502,
     "sourceId": 11199514,
     "sourceType": "datasetVersion"
    }
   ],
   "dockerImageVersionId": 30919,
   "isGpuEnabled": true,
   "isInternetEnabled": true,
   "language": "python",
   "sourceType": "notebook"
  },
  "kernelspec": {
   "display_name": "Python 3",
   "language": "python",
   "name": "python3"
  },
  "language_info": {
   "codemirror_mode": {
    "name": "ipython",
    "version": 3
   },
   "file_extension": ".py",
   "mimetype": "text/x-python",
   "name": "python",
   "nbconvert_exporter": "python",
   "pygments_lexer": "ipython3",
   "version": "3.10.12"
  },
  "papermill": {
   "default_parameters": {},
   "duration": 2308.09899,
   "end_time": "2025-03-29T23:26:18.582810",
   "environment_variables": {},
   "exception": null,
   "input_path": "__notebook__.ipynb",
   "output_path": "__notebook__.ipynb",
   "parameters": {},
   "start_time": "2025-03-29T22:47:50.483820",
   "version": "2.6.0"
  },
  "widgets": {
   "application/vnd.jupyter.widget-state+json": {
    "state": {
     "06fba4113262450ea066160b30fbe25f": {
      "model_module": "@jupyter-widgets/controls",
      "model_module_version": "2.0.0",
      "model_name": "FloatProgressModel",
      "state": {
       "_dom_classes": [],
       "_model_module": "@jupyter-widgets/controls",
       "_model_module_version": "2.0.0",
       "_model_name": "FloatProgressModel",
       "_view_count": null,
       "_view_module": "@jupyter-widgets/controls",
       "_view_module_version": "2.0.0",
       "_view_name": "ProgressView",
       "bar_style": "success",
       "description": "",
       "description_allow_html": false,
       "layout": "IPY_MODEL_e42e318b59184a3095f7a062bc387f03",
       "max": 48.0,
       "min": 0.0,
       "orientation": "horizontal",
       "style": "IPY_MODEL_09b5461e385a4d7d82571503409c411a",
       "tabbable": null,
       "tooltip": null,
       "value": 48.0
      }
     },
     "09b5461e385a4d7d82571503409c411a": {
      "model_module": "@jupyter-widgets/controls",
      "model_module_version": "2.0.0",
      "model_name": "ProgressStyleModel",
      "state": {
       "_model_module": "@jupyter-widgets/controls",
       "_model_module_version": "2.0.0",
       "_model_name": "ProgressStyleModel",
       "_view_count": null,
       "_view_module": "@jupyter-widgets/base",
       "_view_module_version": "2.0.0",
       "_view_name": "StyleView",
       "bar_color": null,
       "description_width": ""
      }
     },
     "15c2727444a940dd94274a0ff4f55d43": {
      "model_module": "@jupyter-widgets/controls",
      "model_module_version": "2.0.0",
      "model_name": "HTMLStyleModel",
      "state": {
       "_model_module": "@jupyter-widgets/controls",
       "_model_module_version": "2.0.0",
       "_model_name": "HTMLStyleModel",
       "_view_count": null,
       "_view_module": "@jupyter-widgets/base",
       "_view_module_version": "2.0.0",
       "_view_name": "StyleView",
       "background": null,
       "description_width": "",
       "font_size": null,
       "text_color": null
      }
     },
     "1ccec4d2bf2748aca3ff87ea57e87f24": {
      "model_module": "@jupyter-widgets/controls",
      "model_module_version": "2.0.0",
      "model_name": "ProgressStyleModel",
      "state": {
       "_model_module": "@jupyter-widgets/controls",
       "_model_module_version": "2.0.0",
       "_model_name": "ProgressStyleModel",
       "_view_count": null,
       "_view_module": "@jupyter-widgets/base",
       "_view_module_version": "2.0.0",
       "_view_name": "StyleView",
       "bar_color": null,
       "description_width": ""
      }
     },
     "27da1b03d70e4576af27966bfdad6213": {
      "model_module": "@jupyter-widgets/controls",
      "model_module_version": "2.0.0",
      "model_name": "HTMLModel",
      "state": {
       "_dom_classes": [],
       "_model_module": "@jupyter-widgets/controls",
       "_model_module_version": "2.0.0",
       "_model_name": "HTMLModel",
       "_view_count": null,
       "_view_module": "@jupyter-widgets/controls",
       "_view_module_version": "2.0.0",
       "_view_name": "HTMLView",
       "description": "",
       "description_allow_html": false,
       "layout": "IPY_MODEL_74364e0db2d3498cb695747210203be9",
       "placeholder": "​",
       "style": "IPY_MODEL_878197727cf14660867e02430a2107cd",
       "tabbable": null,
       "tooltip": null,
       "value": "config.json: 100%"
      }
     },
     "30d7efe54af849248b278656f44be8bd": {
      "model_module": "@jupyter-widgets/base",
      "model_module_version": "2.0.0",
      "model_name": "LayoutModel",
      "state": {
       "_model_module": "@jupyter-widgets/base",
       "_model_module_version": "2.0.0",
       "_model_name": "LayoutModel",
       "_view_count": null,
       "_view_module": "@jupyter-widgets/base",
       "_view_module_version": "2.0.0",
       "_view_name": "LayoutView",
       "align_content": null,
       "align_items": null,
       "align_self": null,
       "border_bottom": null,
       "border_left": null,
       "border_right": null,
       "border_top": null,
       "bottom": null,
       "display": null,
       "flex": null,
       "flex_flow": null,
       "grid_area": null,
       "grid_auto_columns": null,
       "grid_auto_flow": null,
       "grid_auto_rows": null,
       "grid_column": null,
       "grid_gap": null,
       "grid_row": null,
       "grid_template_areas": null,
       "grid_template_columns": null,
       "grid_template_rows": null,
       "height": null,
       "justify_content": null,
       "justify_items": null,
       "left": null,
       "margin": null,
       "max_height": null,
       "max_width": null,
       "min_height": null,
       "min_width": null,
       "object_fit": null,
       "object_position": null,
       "order": null,
       "overflow": null,
       "padding": null,
       "right": null,
       "top": null,
       "visibility": null,
       "width": null
      }
     },
     "3bed918bc5f94c20a6024b964c0d312c": {
      "model_module": "@jupyter-widgets/controls",
      "model_module_version": "2.0.0",
      "model_name": "HTMLModel",
      "state": {
       "_dom_classes": [],
       "_model_module": "@jupyter-widgets/controls",
       "_model_module_version": "2.0.0",
       "_model_name": "HTMLModel",
       "_view_count": null,
       "_view_module": "@jupyter-widgets/controls",
       "_view_module_version": "2.0.0",
       "_view_name": "HTMLView",
       "description": "",
       "description_allow_html": false,
       "layout": "IPY_MODEL_40ac149c05ee4cc2951dbaa0ebcc7b05",
       "placeholder": "​",
       "style": "IPY_MODEL_9026ea22a83e4863838e1a81e071d99f",
       "tabbable": null,
       "tooltip": null,
       "value": " 232k/232k [00:00&lt;00:00, 17.5MB/s]"
      }
     },
     "3e48e797021148268c286214e3a0ef98": {
      "model_module": "@jupyter-widgets/base",
      "model_module_version": "2.0.0",
      "model_name": "LayoutModel",
      "state": {
       "_model_module": "@jupyter-widgets/base",
       "_model_module_version": "2.0.0",
       "_model_name": "LayoutModel",
       "_view_count": null,
       "_view_module": "@jupyter-widgets/base",
       "_view_module_version": "2.0.0",
       "_view_name": "LayoutView",
       "align_content": null,
       "align_items": null,
       "align_self": null,
       "border_bottom": null,
       "border_left": null,
       "border_right": null,
       "border_top": null,
       "bottom": null,
       "display": null,
       "flex": null,
       "flex_flow": null,
       "grid_area": null,
       "grid_auto_columns": null,
       "grid_auto_flow": null,
       "grid_auto_rows": null,
       "grid_column": null,
       "grid_gap": null,
       "grid_row": null,
       "grid_template_areas": null,
       "grid_template_columns": null,
       "grid_template_rows": null,
       "height": null,
       "justify_content": null,
       "justify_items": null,
       "left": null,
       "margin": null,
       "max_height": null,
       "max_width": null,
       "min_height": null,
       "min_width": null,
       "object_fit": null,
       "object_position": null,
       "order": null,
       "overflow": null,
       "padding": null,
       "right": null,
       "top": null,
       "visibility": null,
       "width": null
      }
     },
     "40ac149c05ee4cc2951dbaa0ebcc7b05": {
      "model_module": "@jupyter-widgets/base",
      "model_module_version": "2.0.0",
      "model_name": "LayoutModel",
      "state": {
       "_model_module": "@jupyter-widgets/base",
       "_model_module_version": "2.0.0",
       "_model_name": "LayoutModel",
       "_view_count": null,
       "_view_module": "@jupyter-widgets/base",
       "_view_module_version": "2.0.0",
       "_view_name": "LayoutView",
       "align_content": null,
       "align_items": null,
       "align_self": null,
       "border_bottom": null,
       "border_left": null,
       "border_right": null,
       "border_top": null,
       "bottom": null,
       "display": null,
       "flex": null,
       "flex_flow": null,
       "grid_area": null,
       "grid_auto_columns": null,
       "grid_auto_flow": null,
       "grid_auto_rows": null,
       "grid_column": null,
       "grid_gap": null,
       "grid_row": null,
       "grid_template_areas": null,
       "grid_template_columns": null,
       "grid_template_rows": null,
       "height": null,
       "justify_content": null,
       "justify_items": null,
       "left": null,
       "margin": null,
       "max_height": null,
       "max_width": null,
       "min_height": null,
       "min_width": null,
       "object_fit": null,
       "object_position": null,
       "order": null,
       "overflow": null,
       "padding": null,
       "right": null,
       "top": null,
       "visibility": null,
       "width": null
      }
     },
     "49eafc1fbe31462896e3f01922b00230": {
      "model_module": "@jupyter-widgets/controls",
      "model_module_version": "2.0.0",
      "model_name": "HTMLStyleModel",
      "state": {
       "_model_module": "@jupyter-widgets/controls",
       "_model_module_version": "2.0.0",
       "_model_name": "HTMLStyleModel",
       "_view_count": null,
       "_view_module": "@jupyter-widgets/base",
       "_view_module_version": "2.0.0",
       "_view_name": "StyleView",
       "background": null,
       "description_width": "",
       "font_size": null,
       "text_color": null
      }
     },
     "4a957de525f94f069ab52a0a8997e92d": {
      "model_module": "@jupyter-widgets/controls",
      "model_module_version": "2.0.0",
      "model_name": "HTMLStyleModel",
      "state": {
       "_model_module": "@jupyter-widgets/controls",
       "_model_module_version": "2.0.0",
       "_model_name": "HTMLStyleModel",
       "_view_count": null,
       "_view_module": "@jupyter-widgets/base",
       "_view_module_version": "2.0.0",
       "_view_name": "StyleView",
       "background": null,
       "description_width": "",
       "font_size": null,
       "text_color": null
      }
     },
     "53ffee53949448199f497f598337bf99": {
      "model_module": "@jupyter-widgets/controls",
      "model_module_version": "2.0.0",
      "model_name": "HTMLStyleModel",
      "state": {
       "_model_module": "@jupyter-widgets/controls",
       "_model_module_version": "2.0.0",
       "_model_name": "HTMLStyleModel",
       "_view_count": null,
       "_view_module": "@jupyter-widgets/base",
       "_view_module_version": "2.0.0",
       "_view_name": "StyleView",
       "background": null,
       "description_width": "",
       "font_size": null,
       "text_color": null
      }
     },
     "545839efc82f4166988c90a5395360bd": {
      "model_module": "@jupyter-widgets/controls",
      "model_module_version": "2.0.0",
      "model_name": "HBoxModel",
      "state": {
       "_dom_classes": [],
       "_model_module": "@jupyter-widgets/controls",
       "_model_module_version": "2.0.0",
       "_model_name": "HBoxModel",
       "_view_count": null,
       "_view_module": "@jupyter-widgets/controls",
       "_view_module_version": "2.0.0",
       "_view_name": "HBoxView",
       "box_style": "",
       "children": [
        "IPY_MODEL_e9afc44650e649f387a5c029928987cc",
        "IPY_MODEL_06fba4113262450ea066160b30fbe25f",
        "IPY_MODEL_6df96f2a8aa042329793ece3564dd669"
       ],
       "layout": "IPY_MODEL_957c5223601c47bca4d9629eba794c1c",
       "tabbable": null,
       "tooltip": null
      }
     },
     "5497bd536acd482d9d7a3db94b9a3055": {
      "model_module": "@jupyter-widgets/controls",
      "model_module_version": "2.0.0",
      "model_name": "ProgressStyleModel",
      "state": {
       "_model_module": "@jupyter-widgets/controls",
       "_model_module_version": "2.0.0",
       "_model_name": "ProgressStyleModel",
       "_view_count": null,
       "_view_module": "@jupyter-widgets/base",
       "_view_module_version": "2.0.0",
       "_view_name": "StyleView",
       "bar_color": null,
       "description_width": ""
      }
     },
     "5a5fde730ce4491da8c77b42b57ae4c7": {
      "model_module": "@jupyter-widgets/base",
      "model_module_version": "2.0.0",
      "model_name": "LayoutModel",
      "state": {
       "_model_module": "@jupyter-widgets/base",
       "_model_module_version": "2.0.0",
       "_model_name": "LayoutModel",
       "_view_count": null,
       "_view_module": "@jupyter-widgets/base",
       "_view_module_version": "2.0.0",
       "_view_name": "LayoutView",
       "align_content": null,
       "align_items": null,
       "align_self": null,
       "border_bottom": null,
       "border_left": null,
       "border_right": null,
       "border_top": null,
       "bottom": null,
       "display": null,
       "flex": null,
       "flex_flow": null,
       "grid_area": null,
       "grid_auto_columns": null,
       "grid_auto_flow": null,
       "grid_auto_rows": null,
       "grid_column": null,
       "grid_gap": null,
       "grid_row": null,
       "grid_template_areas": null,
       "grid_template_columns": null,
       "grid_template_rows": null,
       "height": null,
       "justify_content": null,
       "justify_items": null,
       "left": null,
       "margin": null,
       "max_height": null,
       "max_width": null,
       "min_height": null,
       "min_width": null,
       "object_fit": null,
       "object_position": null,
       "order": null,
       "overflow": null,
       "padding": null,
       "right": null,
       "top": null,
       "visibility": null,
       "width": null
      }
     },
     "6df96f2a8aa042329793ece3564dd669": {
      "model_module": "@jupyter-widgets/controls",
      "model_module_version": "2.0.0",
      "model_name": "HTMLModel",
      "state": {
       "_dom_classes": [],
       "_model_module": "@jupyter-widgets/controls",
       "_model_module_version": "2.0.0",
       "_model_name": "HTMLModel",
       "_view_count": null,
       "_view_module": "@jupyter-widgets/controls",
       "_view_module_version": "2.0.0",
       "_view_name": "HTMLView",
       "description": "",
       "description_allow_html": false,
       "layout": "IPY_MODEL_ee1c4b14604b4283b69540499ae25133",
       "placeholder": "​",
       "style": "IPY_MODEL_ea5d51f9e21b4b0ebd380c2bb8f86164",
       "tabbable": null,
       "tooltip": null,
       "value": " 48.0/48.0 [00:00&lt;00:00, 4.89kB/s]"
      }
     },
     "73182242dc3942db95de2b0967d00399": {
      "model_module": "@jupyter-widgets/controls",
      "model_module_version": "2.0.0",
      "model_name": "FloatProgressModel",
      "state": {
       "_dom_classes": [],
       "_model_module": "@jupyter-widgets/controls",
       "_model_module_version": "2.0.0",
       "_model_name": "FloatProgressModel",
       "_view_count": null,
       "_view_module": "@jupyter-widgets/controls",
       "_view_module_version": "2.0.0",
       "_view_name": "ProgressView",
       "bar_style": "success",
       "description": "",
       "description_allow_html": false,
       "layout": "IPY_MODEL_78ccb885c45846d38c90e29e56be3f12",
       "max": 466062.0,
       "min": 0.0,
       "orientation": "horizontal",
       "style": "IPY_MODEL_1ccec4d2bf2748aca3ff87ea57e87f24",
       "tabbable": null,
       "tooltip": null,
       "value": 466062.0
      }
     },
     "74364e0db2d3498cb695747210203be9": {
      "model_module": "@jupyter-widgets/base",
      "model_module_version": "2.0.0",
      "model_name": "LayoutModel",
      "state": {
       "_model_module": "@jupyter-widgets/base",
       "_model_module_version": "2.0.0",
       "_model_name": "LayoutModel",
       "_view_count": null,
       "_view_module": "@jupyter-widgets/base",
       "_view_module_version": "2.0.0",
       "_view_name": "LayoutView",
       "align_content": null,
       "align_items": null,
       "align_self": null,
       "border_bottom": null,
       "border_left": null,
       "border_right": null,
       "border_top": null,
       "bottom": null,
       "display": null,
       "flex": null,
       "flex_flow": null,
       "grid_area": null,
       "grid_auto_columns": null,
       "grid_auto_flow": null,
       "grid_auto_rows": null,
       "grid_column": null,
       "grid_gap": null,
       "grid_row": null,
       "grid_template_areas": null,
       "grid_template_columns": null,
       "grid_template_rows": null,
       "height": null,
       "justify_content": null,
       "justify_items": null,
       "left": null,
       "margin": null,
       "max_height": null,
       "max_width": null,
       "min_height": null,
       "min_width": null,
       "object_fit": null,
       "object_position": null,
       "order": null,
       "overflow": null,
       "padding": null,
       "right": null,
       "top": null,
       "visibility": null,
       "width": null
      }
     },
     "7512e1f95e3b407bb00b4c1d59a3eef4": {
      "model_module": "@jupyter-widgets/controls",
      "model_module_version": "2.0.0",
      "model_name": "FloatProgressModel",
      "state": {
       "_dom_classes": [],
       "_model_module": "@jupyter-widgets/controls",
       "_model_module_version": "2.0.0",
       "_model_name": "FloatProgressModel",
       "_view_count": null,
       "_view_module": "@jupyter-widgets/controls",
       "_view_module_version": "2.0.0",
       "_view_name": "ProgressView",
       "bar_style": "success",
       "description": "",
       "description_allow_html": false,
       "layout": "IPY_MODEL_3e48e797021148268c286214e3a0ef98",
       "max": 231508.0,
       "min": 0.0,
       "orientation": "horizontal",
       "style": "IPY_MODEL_5497bd536acd482d9d7a3db94b9a3055",
       "tabbable": null,
       "tooltip": null,
       "value": 231508.0
      }
     },
     "76f5acd28e9e4b67aebf3353178753fb": {
      "model_module": "@jupyter-widgets/base",
      "model_module_version": "2.0.0",
      "model_name": "LayoutModel",
      "state": {
       "_model_module": "@jupyter-widgets/base",
       "_model_module_version": "2.0.0",
       "_model_name": "LayoutModel",
       "_view_count": null,
       "_view_module": "@jupyter-widgets/base",
       "_view_module_version": "2.0.0",
       "_view_name": "LayoutView",
       "align_content": null,
       "align_items": null,
       "align_self": null,
       "border_bottom": null,
       "border_left": null,
       "border_right": null,
       "border_top": null,
       "bottom": null,
       "display": null,
       "flex": null,
       "flex_flow": null,
       "grid_area": null,
       "grid_auto_columns": null,
       "grid_auto_flow": null,
       "grid_auto_rows": null,
       "grid_column": null,
       "grid_gap": null,
       "grid_row": null,
       "grid_template_areas": null,
       "grid_template_columns": null,
       "grid_template_rows": null,
       "height": null,
       "justify_content": null,
       "justify_items": null,
       "left": null,
       "margin": null,
       "max_height": null,
       "max_width": null,
       "min_height": null,
       "min_width": null,
       "object_fit": null,
       "object_position": null,
       "order": null,
       "overflow": null,
       "padding": null,
       "right": null,
       "top": null,
       "visibility": null,
       "width": null
      }
     },
     "78ccb885c45846d38c90e29e56be3f12": {
      "model_module": "@jupyter-widgets/base",
      "model_module_version": "2.0.0",
      "model_name": "LayoutModel",
      "state": {
       "_model_module": "@jupyter-widgets/base",
       "_model_module_version": "2.0.0",
       "_model_name": "LayoutModel",
       "_view_count": null,
       "_view_module": "@jupyter-widgets/base",
       "_view_module_version": "2.0.0",
       "_view_name": "LayoutView",
       "align_content": null,
       "align_items": null,
       "align_self": null,
       "border_bottom": null,
       "border_left": null,
       "border_right": null,
       "border_top": null,
       "bottom": null,
       "display": null,
       "flex": null,
       "flex_flow": null,
       "grid_area": null,
       "grid_auto_columns": null,
       "grid_auto_flow": null,
       "grid_auto_rows": null,
       "grid_column": null,
       "grid_gap": null,
       "grid_row": null,
       "grid_template_areas": null,
       "grid_template_columns": null,
       "grid_template_rows": null,
       "height": null,
       "justify_content": null,
       "justify_items": null,
       "left": null,
       "margin": null,
       "max_height": null,
       "max_width": null,
       "min_height": null,
       "min_width": null,
       "object_fit": null,
       "object_position": null,
       "order": null,
       "overflow": null,
       "padding": null,
       "right": null,
       "top": null,
       "visibility": null,
       "width": null
      }
     },
     "7d561ff66b11449996b38ca3cc038169": {
      "model_module": "@jupyter-widgets/controls",
      "model_module_version": "2.0.0",
      "model_name": "ProgressStyleModel",
      "state": {
       "_model_module": "@jupyter-widgets/controls",
       "_model_module_version": "2.0.0",
       "_model_name": "ProgressStyleModel",
       "_view_count": null,
       "_view_module": "@jupyter-widgets/base",
       "_view_module_version": "2.0.0",
       "_view_name": "StyleView",
       "bar_color": null,
       "description_width": ""
      }
     },
     "878197727cf14660867e02430a2107cd": {
      "model_module": "@jupyter-widgets/controls",
      "model_module_version": "2.0.0",
      "model_name": "HTMLStyleModel",
      "state": {
       "_model_module": "@jupyter-widgets/controls",
       "_model_module_version": "2.0.0",
       "_model_name": "HTMLStyleModel",
       "_view_count": null,
       "_view_module": "@jupyter-widgets/base",
       "_view_module_version": "2.0.0",
       "_view_name": "StyleView",
       "background": null,
       "description_width": "",
       "font_size": null,
       "text_color": null
      }
     },
     "8c107b17fadf498e98588622a4bc8466": {
      "model_module": "@jupyter-widgets/controls",
      "model_module_version": "2.0.0",
      "model_name": "FloatProgressModel",
      "state": {
       "_dom_classes": [],
       "_model_module": "@jupyter-widgets/controls",
       "_model_module_version": "2.0.0",
       "_model_name": "FloatProgressModel",
       "_view_count": null,
       "_view_module": "@jupyter-widgets/controls",
       "_view_module_version": "2.0.0",
       "_view_name": "ProgressView",
       "bar_style": "success",
       "description": "",
       "description_allow_html": false,
       "layout": "IPY_MODEL_30d7efe54af849248b278656f44be8bd",
       "max": 570.0,
       "min": 0.0,
       "orientation": "horizontal",
       "style": "IPY_MODEL_7d561ff66b11449996b38ca3cc038169",
       "tabbable": null,
       "tooltip": null,
       "value": 570.0
      }
     },
     "8f93d66e8def4480adf2d0f1c94b71e5": {
      "model_module": "@jupyter-widgets/controls",
      "model_module_version": "2.0.0",
      "model_name": "HTMLModel",
      "state": {
       "_dom_classes": [],
       "_model_module": "@jupyter-widgets/controls",
       "_model_module_version": "2.0.0",
       "_model_name": "HTMLModel",
       "_view_count": null,
       "_view_module": "@jupyter-widgets/controls",
       "_view_module_version": "2.0.0",
       "_view_name": "HTMLView",
       "description": "",
       "description_allow_html": false,
       "layout": "IPY_MODEL_e58bf61dce0b48cba44a548791aa387d",
       "placeholder": "​",
       "style": "IPY_MODEL_d2fdd692dd0e40b29a57dea72516c220",
       "tabbable": null,
       "tooltip": null,
       "value": "tokenizer.json: 100%"
      }
     },
     "9026ea22a83e4863838e1a81e071d99f": {
      "model_module": "@jupyter-widgets/controls",
      "model_module_version": "2.0.0",
      "model_name": "HTMLStyleModel",
      "state": {
       "_model_module": "@jupyter-widgets/controls",
       "_model_module_version": "2.0.0",
       "_model_name": "HTMLStyleModel",
       "_view_count": null,
       "_view_module": "@jupyter-widgets/base",
       "_view_module_version": "2.0.0",
       "_view_name": "StyleView",
       "background": null,
       "description_width": "",
       "font_size": null,
       "text_color": null
      }
     },
     "925542bfa34b400a8b7fc18e88b20d94": {
      "model_module": "@jupyter-widgets/controls",
      "model_module_version": "2.0.0",
      "model_name": "HTMLModel",
      "state": {
       "_dom_classes": [],
       "_model_module": "@jupyter-widgets/controls",
       "_model_module_version": "2.0.0",
       "_model_name": "HTMLModel",
       "_view_count": null,
       "_view_module": "@jupyter-widgets/controls",
       "_view_module_version": "2.0.0",
       "_view_name": "HTMLView",
       "description": "",
       "description_allow_html": false,
       "layout": "IPY_MODEL_97460e8c4c2146538d84d414f02e3b78",
       "placeholder": "​",
       "style": "IPY_MODEL_4a957de525f94f069ab52a0a8997e92d",
       "tabbable": null,
       "tooltip": null,
       "value": "vocab.txt: 100%"
      }
     },
     "957c5223601c47bca4d9629eba794c1c": {
      "model_module": "@jupyter-widgets/base",
      "model_module_version": "2.0.0",
      "model_name": "LayoutModel",
      "state": {
       "_model_module": "@jupyter-widgets/base",
       "_model_module_version": "2.0.0",
       "_model_name": "LayoutModel",
       "_view_count": null,
       "_view_module": "@jupyter-widgets/base",
       "_view_module_version": "2.0.0",
       "_view_name": "LayoutView",
       "align_content": null,
       "align_items": null,
       "align_self": null,
       "border_bottom": null,
       "border_left": null,
       "border_right": null,
       "border_top": null,
       "bottom": null,
       "display": null,
       "flex": null,
       "flex_flow": null,
       "grid_area": null,
       "grid_auto_columns": null,
       "grid_auto_flow": null,
       "grid_auto_rows": null,
       "grid_column": null,
       "grid_gap": null,
       "grid_row": null,
       "grid_template_areas": null,
       "grid_template_columns": null,
       "grid_template_rows": null,
       "height": null,
       "justify_content": null,
       "justify_items": null,
       "left": null,
       "margin": null,
       "max_height": null,
       "max_width": null,
       "min_height": null,
       "min_width": null,
       "object_fit": null,
       "object_position": null,
       "order": null,
       "overflow": null,
       "padding": null,
       "right": null,
       "top": null,
       "visibility": null,
       "width": null
      }
     },
     "97460e8c4c2146538d84d414f02e3b78": {
      "model_module": "@jupyter-widgets/base",
      "model_module_version": "2.0.0",
      "model_name": "LayoutModel",
      "state": {
       "_model_module": "@jupyter-widgets/base",
       "_model_module_version": "2.0.0",
       "_model_name": "LayoutModel",
       "_view_count": null,
       "_view_module": "@jupyter-widgets/base",
       "_view_module_version": "2.0.0",
       "_view_name": "LayoutView",
       "align_content": null,
       "align_items": null,
       "align_self": null,
       "border_bottom": null,
       "border_left": null,
       "border_right": null,
       "border_top": null,
       "bottom": null,
       "display": null,
       "flex": null,
       "flex_flow": null,
       "grid_area": null,
       "grid_auto_columns": null,
       "grid_auto_flow": null,
       "grid_auto_rows": null,
       "grid_column": null,
       "grid_gap": null,
       "grid_row": null,
       "grid_template_areas": null,
       "grid_template_columns": null,
       "grid_template_rows": null,
       "height": null,
       "justify_content": null,
       "justify_items": null,
       "left": null,
       "margin": null,
       "max_height": null,
       "max_width": null,
       "min_height": null,
       "min_width": null,
       "object_fit": null,
       "object_position": null,
       "order": null,
       "overflow": null,
       "padding": null,
       "right": null,
       "top": null,
       "visibility": null,
       "width": null
      }
     },
     "a52375eb29bd4640acc2c2f7d6f54d88": {
      "model_module": "@jupyter-widgets/controls",
      "model_module_version": "2.0.0",
      "model_name": "HTMLModel",
      "state": {
       "_dom_classes": [],
       "_model_module": "@jupyter-widgets/controls",
       "_model_module_version": "2.0.0",
       "_model_name": "HTMLModel",
       "_view_count": null,
       "_view_module": "@jupyter-widgets/controls",
       "_view_module_version": "2.0.0",
       "_view_name": "HTMLView",
       "description": "",
       "description_allow_html": false,
       "layout": "IPY_MODEL_5a5fde730ce4491da8c77b42b57ae4c7",
       "placeholder": "​",
       "style": "IPY_MODEL_49eafc1fbe31462896e3f01922b00230",
       "tabbable": null,
       "tooltip": null,
       "value": " 466k/466k [00:00&lt;00:00, 36.0MB/s]"
      }
     },
     "ab30d8b8190e464ab1eef11b1ccbd25d": {
      "model_module": "@jupyter-widgets/controls",
      "model_module_version": "2.0.0",
      "model_name": "HBoxModel",
      "state": {
       "_dom_classes": [],
       "_model_module": "@jupyter-widgets/controls",
       "_model_module_version": "2.0.0",
       "_model_name": "HBoxModel",
       "_view_count": null,
       "_view_module": "@jupyter-widgets/controls",
       "_view_module_version": "2.0.0",
       "_view_name": "HBoxView",
       "box_style": "",
       "children": [
        "IPY_MODEL_8f93d66e8def4480adf2d0f1c94b71e5",
        "IPY_MODEL_73182242dc3942db95de2b0967d00399",
        "IPY_MODEL_a52375eb29bd4640acc2c2f7d6f54d88"
       ],
       "layout": "IPY_MODEL_f896d2ea13634ed6a4bd045b3617734f",
       "tabbable": null,
       "tooltip": null
      }
     },
     "b1b7bc909ddf4e18adf0f2765aa35191": {
      "model_module": "@jupyter-widgets/base",
      "model_module_version": "2.0.0",
      "model_name": "LayoutModel",
      "state": {
       "_model_module": "@jupyter-widgets/base",
       "_model_module_version": "2.0.0",
       "_model_name": "LayoutModel",
       "_view_count": null,
       "_view_module": "@jupyter-widgets/base",
       "_view_module_version": "2.0.0",
       "_view_name": "LayoutView",
       "align_content": null,
       "align_items": null,
       "align_self": null,
       "border_bottom": null,
       "border_left": null,
       "border_right": null,
       "border_top": null,
       "bottom": null,
       "display": null,
       "flex": null,
       "flex_flow": null,
       "grid_area": null,
       "grid_auto_columns": null,
       "grid_auto_flow": null,
       "grid_auto_rows": null,
       "grid_column": null,
       "grid_gap": null,
       "grid_row": null,
       "grid_template_areas": null,
       "grid_template_columns": null,
       "grid_template_rows": null,
       "height": null,
       "justify_content": null,
       "justify_items": null,
       "left": null,
       "margin": null,
       "max_height": null,
       "max_width": null,
       "min_height": null,
       "min_width": null,
       "object_fit": null,
       "object_position": null,
       "order": null,
       "overflow": null,
       "padding": null,
       "right": null,
       "top": null,
       "visibility": null,
       "width": null
      }
     },
     "bfd5c71e87654876971be31180e62111": {
      "model_module": "@jupyter-widgets/controls",
      "model_module_version": "2.0.0",
      "model_name": "HBoxModel",
      "state": {
       "_dom_classes": [],
       "_model_module": "@jupyter-widgets/controls",
       "_model_module_version": "2.0.0",
       "_model_name": "HBoxModel",
       "_view_count": null,
       "_view_module": "@jupyter-widgets/controls",
       "_view_module_version": "2.0.0",
       "_view_name": "HBoxView",
       "box_style": "",
       "children": [
        "IPY_MODEL_925542bfa34b400a8b7fc18e88b20d94",
        "IPY_MODEL_7512e1f95e3b407bb00b4c1d59a3eef4",
        "IPY_MODEL_3bed918bc5f94c20a6024b964c0d312c"
       ],
       "layout": "IPY_MODEL_b1b7bc909ddf4e18adf0f2765aa35191",
       "tabbable": null,
       "tooltip": null
      }
     },
     "d2fdd692dd0e40b29a57dea72516c220": {
      "model_module": "@jupyter-widgets/controls",
      "model_module_version": "2.0.0",
      "model_name": "HTMLStyleModel",
      "state": {
       "_model_module": "@jupyter-widgets/controls",
       "_model_module_version": "2.0.0",
       "_model_name": "HTMLStyleModel",
       "_view_count": null,
       "_view_module": "@jupyter-widgets/base",
       "_view_module_version": "2.0.0",
       "_view_name": "StyleView",
       "background": null,
       "description_width": "",
       "font_size": null,
       "text_color": null
      }
     },
     "d98d3de6a99c478783459ef3c6105bdc": {
      "model_module": "@jupyter-widgets/base",
      "model_module_version": "2.0.0",
      "model_name": "LayoutModel",
      "state": {
       "_model_module": "@jupyter-widgets/base",
       "_model_module_version": "2.0.0",
       "_model_name": "LayoutModel",
       "_view_count": null,
       "_view_module": "@jupyter-widgets/base",
       "_view_module_version": "2.0.0",
       "_view_name": "LayoutView",
       "align_content": null,
       "align_items": null,
       "align_self": null,
       "border_bottom": null,
       "border_left": null,
       "border_right": null,
       "border_top": null,
       "bottom": null,
       "display": null,
       "flex": null,
       "flex_flow": null,
       "grid_area": null,
       "grid_auto_columns": null,
       "grid_auto_flow": null,
       "grid_auto_rows": null,
       "grid_column": null,
       "grid_gap": null,
       "grid_row": null,
       "grid_template_areas": null,
       "grid_template_columns": null,
       "grid_template_rows": null,
       "height": null,
       "justify_content": null,
       "justify_items": null,
       "left": null,
       "margin": null,
       "max_height": null,
       "max_width": null,
       "min_height": null,
       "min_width": null,
       "object_fit": null,
       "object_position": null,
       "order": null,
       "overflow": null,
       "padding": null,
       "right": null,
       "top": null,
       "visibility": null,
       "width": null
      }
     },
     "ddb45bd5125b487ea0f5a20315b635af": {
      "model_module": "@jupyter-widgets/base",
      "model_module_version": "2.0.0",
      "model_name": "LayoutModel",
      "state": {
       "_model_module": "@jupyter-widgets/base",
       "_model_module_version": "2.0.0",
       "_model_name": "LayoutModel",
       "_view_count": null,
       "_view_module": "@jupyter-widgets/base",
       "_view_module_version": "2.0.0",
       "_view_name": "LayoutView",
       "align_content": null,
       "align_items": null,
       "align_self": null,
       "border_bottom": null,
       "border_left": null,
       "border_right": null,
       "border_top": null,
       "bottom": null,
       "display": null,
       "flex": null,
       "flex_flow": null,
       "grid_area": null,
       "grid_auto_columns": null,
       "grid_auto_flow": null,
       "grid_auto_rows": null,
       "grid_column": null,
       "grid_gap": null,
       "grid_row": null,
       "grid_template_areas": null,
       "grid_template_columns": null,
       "grid_template_rows": null,
       "height": null,
       "justify_content": null,
       "justify_items": null,
       "left": null,
       "margin": null,
       "max_height": null,
       "max_width": null,
       "min_height": null,
       "min_width": null,
       "object_fit": null,
       "object_position": null,
       "order": null,
       "overflow": null,
       "padding": null,
       "right": null,
       "top": null,
       "visibility": null,
       "width": null
      }
     },
     "e42e318b59184a3095f7a062bc387f03": {
      "model_module": "@jupyter-widgets/base",
      "model_module_version": "2.0.0",
      "model_name": "LayoutModel",
      "state": {
       "_model_module": "@jupyter-widgets/base",
       "_model_module_version": "2.0.0",
       "_model_name": "LayoutModel",
       "_view_count": null,
       "_view_module": "@jupyter-widgets/base",
       "_view_module_version": "2.0.0",
       "_view_name": "LayoutView",
       "align_content": null,
       "align_items": null,
       "align_self": null,
       "border_bottom": null,
       "border_left": null,
       "border_right": null,
       "border_top": null,
       "bottom": null,
       "display": null,
       "flex": null,
       "flex_flow": null,
       "grid_area": null,
       "grid_auto_columns": null,
       "grid_auto_flow": null,
       "grid_auto_rows": null,
       "grid_column": null,
       "grid_gap": null,
       "grid_row": null,
       "grid_template_areas": null,
       "grid_template_columns": null,
       "grid_template_rows": null,
       "height": null,
       "justify_content": null,
       "justify_items": null,
       "left": null,
       "margin": null,
       "max_height": null,
       "max_width": null,
       "min_height": null,
       "min_width": null,
       "object_fit": null,
       "object_position": null,
       "order": null,
       "overflow": null,
       "padding": null,
       "right": null,
       "top": null,
       "visibility": null,
       "width": null
      }
     },
     "e58bf61dce0b48cba44a548791aa387d": {
      "model_module": "@jupyter-widgets/base",
      "model_module_version": "2.0.0",
      "model_name": "LayoutModel",
      "state": {
       "_model_module": "@jupyter-widgets/base",
       "_model_module_version": "2.0.0",
       "_model_name": "LayoutModel",
       "_view_count": null,
       "_view_module": "@jupyter-widgets/base",
       "_view_module_version": "2.0.0",
       "_view_name": "LayoutView",
       "align_content": null,
       "align_items": null,
       "align_self": null,
       "border_bottom": null,
       "border_left": null,
       "border_right": null,
       "border_top": null,
       "bottom": null,
       "display": null,
       "flex": null,
       "flex_flow": null,
       "grid_area": null,
       "grid_auto_columns": null,
       "grid_auto_flow": null,
       "grid_auto_rows": null,
       "grid_column": null,
       "grid_gap": null,
       "grid_row": null,
       "grid_template_areas": null,
       "grid_template_columns": null,
       "grid_template_rows": null,
       "height": null,
       "justify_content": null,
       "justify_items": null,
       "left": null,
       "margin": null,
       "max_height": null,
       "max_width": null,
       "min_height": null,
       "min_width": null,
       "object_fit": null,
       "object_position": null,
       "order": null,
       "overflow": null,
       "padding": null,
       "right": null,
       "top": null,
       "visibility": null,
       "width": null
      }
     },
     "e9afc44650e649f387a5c029928987cc": {
      "model_module": "@jupyter-widgets/controls",
      "model_module_version": "2.0.0",
      "model_name": "HTMLModel",
      "state": {
       "_dom_classes": [],
       "_model_module": "@jupyter-widgets/controls",
       "_model_module_version": "2.0.0",
       "_model_name": "HTMLModel",
       "_view_count": null,
       "_view_module": "@jupyter-widgets/controls",
       "_view_module_version": "2.0.0",
       "_view_name": "HTMLView",
       "description": "",
       "description_allow_html": false,
       "layout": "IPY_MODEL_ddb45bd5125b487ea0f5a20315b635af",
       "placeholder": "​",
       "style": "IPY_MODEL_53ffee53949448199f497f598337bf99",
       "tabbable": null,
       "tooltip": null,
       "value": "tokenizer_config.json: 100%"
      }
     },
     "ea5d51f9e21b4b0ebd380c2bb8f86164": {
      "model_module": "@jupyter-widgets/controls",
      "model_module_version": "2.0.0",
      "model_name": "HTMLStyleModel",
      "state": {
       "_model_module": "@jupyter-widgets/controls",
       "_model_module_version": "2.0.0",
       "_model_name": "HTMLStyleModel",
       "_view_count": null,
       "_view_module": "@jupyter-widgets/base",
       "_view_module_version": "2.0.0",
       "_view_name": "StyleView",
       "background": null,
       "description_width": "",
       "font_size": null,
       "text_color": null
      }
     },
     "ee1c4b14604b4283b69540499ae25133": {
      "model_module": "@jupyter-widgets/base",
      "model_module_version": "2.0.0",
      "model_name": "LayoutModel",
      "state": {
       "_model_module": "@jupyter-widgets/base",
       "_model_module_version": "2.0.0",
       "_model_name": "LayoutModel",
       "_view_count": null,
       "_view_module": "@jupyter-widgets/base",
       "_view_module_version": "2.0.0",
       "_view_name": "LayoutView",
       "align_content": null,
       "align_items": null,
       "align_self": null,
       "border_bottom": null,
       "border_left": null,
       "border_right": null,
       "border_top": null,
       "bottom": null,
       "display": null,
       "flex": null,
       "flex_flow": null,
       "grid_area": null,
       "grid_auto_columns": null,
       "grid_auto_flow": null,
       "grid_auto_rows": null,
       "grid_column": null,
       "grid_gap": null,
       "grid_row": null,
       "grid_template_areas": null,
       "grid_template_columns": null,
       "grid_template_rows": null,
       "height": null,
       "justify_content": null,
       "justify_items": null,
       "left": null,
       "margin": null,
       "max_height": null,
       "max_width": null,
       "min_height": null,
       "min_width": null,
       "object_fit": null,
       "object_position": null,
       "order": null,
       "overflow": null,
       "padding": null,
       "right": null,
       "top": null,
       "visibility": null,
       "width": null
      }
     },
     "f3e19c5ac50343bca9e5f0f581c63b1f": {
      "model_module": "@jupyter-widgets/controls",
      "model_module_version": "2.0.0",
      "model_name": "HBoxModel",
      "state": {
       "_dom_classes": [],
       "_model_module": "@jupyter-widgets/controls",
       "_model_module_version": "2.0.0",
       "_model_name": "HBoxModel",
       "_view_count": null,
       "_view_module": "@jupyter-widgets/controls",
       "_view_module_version": "2.0.0",
       "_view_name": "HBoxView",
       "box_style": "",
       "children": [
        "IPY_MODEL_27da1b03d70e4576af27966bfdad6213",
        "IPY_MODEL_8c107b17fadf498e98588622a4bc8466",
        "IPY_MODEL_f9806b83a8ff46f6bf38e49055f5ecba"
       ],
       "layout": "IPY_MODEL_76f5acd28e9e4b67aebf3353178753fb",
       "tabbable": null,
       "tooltip": null
      }
     },
     "f896d2ea13634ed6a4bd045b3617734f": {
      "model_module": "@jupyter-widgets/base",
      "model_module_version": "2.0.0",
      "model_name": "LayoutModel",
      "state": {
       "_model_module": "@jupyter-widgets/base",
       "_model_module_version": "2.0.0",
       "_model_name": "LayoutModel",
       "_view_count": null,
       "_view_module": "@jupyter-widgets/base",
       "_view_module_version": "2.0.0",
       "_view_name": "LayoutView",
       "align_content": null,
       "align_items": null,
       "align_self": null,
       "border_bottom": null,
       "border_left": null,
       "border_right": null,
       "border_top": null,
       "bottom": null,
       "display": null,
       "flex": null,
       "flex_flow": null,
       "grid_area": null,
       "grid_auto_columns": null,
       "grid_auto_flow": null,
       "grid_auto_rows": null,
       "grid_column": null,
       "grid_gap": null,
       "grid_row": null,
       "grid_template_areas": null,
       "grid_template_columns": null,
       "grid_template_rows": null,
       "height": null,
       "justify_content": null,
       "justify_items": null,
       "left": null,
       "margin": null,
       "max_height": null,
       "max_width": null,
       "min_height": null,
       "min_width": null,
       "object_fit": null,
       "object_position": null,
       "order": null,
       "overflow": null,
       "padding": null,
       "right": null,
       "top": null,
       "visibility": null,
       "width": null
      }
     },
     "f9806b83a8ff46f6bf38e49055f5ecba": {
      "model_module": "@jupyter-widgets/controls",
      "model_module_version": "2.0.0",
      "model_name": "HTMLModel",
      "state": {
       "_dom_classes": [],
       "_model_module": "@jupyter-widgets/controls",
       "_model_module_version": "2.0.0",
       "_model_name": "HTMLModel",
       "_view_count": null,
       "_view_module": "@jupyter-widgets/controls",
       "_view_module_version": "2.0.0",
       "_view_name": "HTMLView",
       "description": "",
       "description_allow_html": false,
       "layout": "IPY_MODEL_d98d3de6a99c478783459ef3c6105bdc",
       "placeholder": "​",
       "style": "IPY_MODEL_15c2727444a940dd94274a0ff4f55d43",
       "tabbable": null,
       "tooltip": null,
       "value": " 570/570 [00:00&lt;00:00, 60.0kB/s]"
      }
     }
    },
    "version_major": 2,
    "version_minor": 0
   }
  }
 },
 "nbformat": 4,
 "nbformat_minor": 5
}
