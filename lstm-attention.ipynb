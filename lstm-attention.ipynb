{
 "cells": [
  {
   "cell_type": "code",
   "execution_count": 1,
   "id": "85de547b",
   "metadata": {
    "_cell_guid": "b1076dfc-b9ad-4769-8c92-a6c4dae69d19",
    "_uuid": "8f2839f25d086af736a60e9eeb907d3b93b6e0e5",
    "execution": {
     "iopub.execute_input": "2025-03-31T13:08:45.649426Z",
     "iopub.status.busy": "2025-03-31T13:08:45.648992Z",
     "iopub.status.idle": "2025-03-31T13:08:47.632218Z",
     "shell.execute_reply": "2025-03-31T13:08:47.631540Z"
    },
    "papermill": {
     "duration": 1.991421,
     "end_time": "2025-03-31T13:08:47.633737",
     "exception": false,
     "start_time": "2025-03-31T13:08:45.642316",
     "status": "completed"
    },
    "tags": []
   },
   "outputs": [],
   "source": [
    "# Libraries for general purpose\n",
    "import pandas as pd\n",
    "import numpy as np\n",
    "import matplotlib.pyplot as plt\n",
    "import seaborn as sns\n"
   ]
  },
  {
   "cell_type": "code",
   "execution_count": 2,
   "id": "eb1ee49e",
   "metadata": {
    "execution": {
     "iopub.execute_input": "2025-03-31T13:08:47.645233Z",
     "iopub.status.busy": "2025-03-31T13:08:47.644878Z",
     "iopub.status.idle": "2025-03-31T13:08:50.956250Z",
     "shell.execute_reply": "2025-03-31T13:08:50.955322Z"
    },
    "papermill": {
     "duration": 3.318536,
     "end_time": "2025-03-31T13:08:50.957893",
     "exception": false,
     "start_time": "2025-03-31T13:08:47.639357",
     "status": "completed"
    },
    "tags": []
   },
   "outputs": [],
   "source": [
    "# PyTorch LSTM\n",
    "import torch\n",
    "import torch.nn as nn\n",
    "import torch.nn.functional as F\n",
    "import torch.optim as optim\n",
    "from torch.utils.data import TensorDataset, DataLoader, RandomSampler, SequentialSampler"
   ]
  },
  {
   "cell_type": "code",
   "execution_count": 3,
   "id": "c759c5ad",
   "metadata": {
    "execution": {
     "iopub.execute_input": "2025-03-31T13:08:50.969203Z",
     "iopub.status.busy": "2025-03-31T13:08:50.968787Z",
     "iopub.status.idle": "2025-03-31T13:09:08.371078Z",
     "shell.execute_reply": "2025-03-31T13:09:08.369977Z"
    },
    "papermill": {
     "duration": 17.409227,
     "end_time": "2025-03-31T13:09:08.372480",
     "exception": false,
     "start_time": "2025-03-31T13:08:50.963253",
     "status": "completed"
    },
    "tags": []
   },
   "outputs": [
    {
     "name": "stdout",
     "output_type": "stream",
     "text": [
      "[nltk_data] Downloading package stopwords to /usr/share/nltk_data...\n",
      "[nltk_data]   Unzipping corpora/stopwords.zip.\n",
      "[nltk_data] Downloading package punkt to /usr/share/nltk_data...\n",
      "[nltk_data]   Package punkt is already up-to-date!\n"
     ]
    }
   ],
   "source": [
    "import importlib.util\n",
    "\n",
    "# Define the path to the .py file\n",
    "file_path = \"/kaggle/input/new-dataloader-prep/dataloader_prep_1.py\"\n",
    "\n",
    "# Load the module\n",
    "spec = importlib.util.spec_from_file_location(\"dataloader_prep_1\", file_path)\n",
    "dataloader_prep = importlib.util.module_from_spec(spec)\n",
    "spec.loader.exec_module(dataloader_prep)\n",
    "\n",
    "# Now, you can use functions from the script\n"
   ]
  },
  {
   "cell_type": "code",
   "execution_count": 4,
   "id": "32f76f87",
   "metadata": {
    "execution": {
     "iopub.execute_input": "2025-03-31T13:09:08.384116Z",
     "iopub.status.busy": "2025-03-31T13:09:08.383638Z",
     "iopub.status.idle": "2025-03-31T13:09:08.656201Z",
     "shell.execute_reply": "2025-03-31T13:09:08.655362Z"
    },
    "papermill": {
     "duration": 0.279634,
     "end_time": "2025-03-31T13:09:08.657620",
     "exception": false,
     "start_time": "2025-03-31T13:09:08.377986",
     "status": "completed"
    },
    "tags": []
   },
   "outputs": [
    {
     "data": {
      "text/html": [
       "<div>\n",
       "<style scoped>\n",
       "    .dataframe tbody tr th:only-of-type {\n",
       "        vertical-align: middle;\n",
       "    }\n",
       "\n",
       "    .dataframe tbody tr th {\n",
       "        vertical-align: top;\n",
       "    }\n",
       "\n",
       "    .dataframe thead th {\n",
       "        text-align: right;\n",
       "    }\n",
       "</style>\n",
       "<table border=\"1\" class=\"dataframe\">\n",
       "  <thead>\n",
       "    <tr style=\"text-align: right;\">\n",
       "      <th></th>\n",
       "      <th>tweet_text</th>\n",
       "      <th>cyberbullying_type</th>\n",
       "    </tr>\n",
       "  </thead>\n",
       "  <tbody>\n",
       "    <tr>\n",
       "      <th>0</th>\n",
       "      <td>In other words #katandandre, your food was cra...</td>\n",
       "      <td>not_cyberbullying</td>\n",
       "    </tr>\n",
       "    <tr>\n",
       "      <th>1</th>\n",
       "      <td>Why is #aussietv so white? #MKR #theblock #ImA...</td>\n",
       "      <td>not_cyberbullying</td>\n",
       "    </tr>\n",
       "    <tr>\n",
       "      <th>2</th>\n",
       "      <td>@XochitlSuckkks a classy whore? Or more red ve...</td>\n",
       "      <td>not_cyberbullying</td>\n",
       "    </tr>\n",
       "    <tr>\n",
       "      <th>3</th>\n",
       "      <td>@Jason_Gio meh. :P  thanks for the heads up, b...</td>\n",
       "      <td>not_cyberbullying</td>\n",
       "    </tr>\n",
       "    <tr>\n",
       "      <th>4</th>\n",
       "      <td>@RudhoeEnglish This is an ISIS account pretend...</td>\n",
       "      <td>not_cyberbullying</td>\n",
       "    </tr>\n",
       "  </tbody>\n",
       "</table>\n",
       "</div>"
      ],
      "text/plain": [
       "                                          tweet_text cyberbullying_type\n",
       "0  In other words #katandandre, your food was cra...  not_cyberbullying\n",
       "1  Why is #aussietv so white? #MKR #theblock #ImA...  not_cyberbullying\n",
       "2  @XochitlSuckkks a classy whore? Or more red ve...  not_cyberbullying\n",
       "3  @Jason_Gio meh. :P  thanks for the heads up, b...  not_cyberbullying\n",
       "4  @RudhoeEnglish This is an ISIS account pretend...  not_cyberbullying"
      ]
     },
     "execution_count": 4,
     "metadata": {},
     "output_type": "execute_result"
    }
   ],
   "source": [
    "# Load the dataset\n",
    "file_path = \"/kaggle/input/cyberbullying-tweets-dataset/cyberbullying_tweets.csv\"\n",
    "df = pd.read_csv(file_path)\n",
    "\n",
    "# Display the first few rows\n",
    "df.head()"
   ]
  },
  {
   "cell_type": "code",
   "execution_count": 5,
   "id": "e74f22eb",
   "metadata": {
    "execution": {
     "iopub.execute_input": "2025-03-31T13:09:08.669266Z",
     "iopub.status.busy": "2025-03-31T13:09:08.668951Z",
     "iopub.status.idle": "2025-03-31T13:09:08.678439Z",
     "shell.execute_reply": "2025-03-31T13:09:08.677632Z"
    },
    "papermill": {
     "duration": 0.016524,
     "end_time": "2025-03-31T13:09:08.679681",
     "exception": false,
     "start_time": "2025-03-31T13:09:08.663157",
     "status": "completed"
    },
    "tags": []
   },
   "outputs": [],
   "source": [
    "# Set seed for reproducibility\n",
    "import random\n",
    "seed_value = 2042\n",
    "random.seed(seed_value)\n",
    "np.random.seed(seed_value)\n",
    "torch.manual_seed(seed_value)\n",
    "torch.cuda.manual_seed_all(seed_value)"
   ]
  },
  {
   "cell_type": "code",
   "execution_count": 6,
   "id": "43369d16",
   "metadata": {
    "execution": {
     "iopub.execute_input": "2025-03-31T13:09:08.690887Z",
     "iopub.status.busy": "2025-03-31T13:09:08.690678Z",
     "iopub.status.idle": "2025-03-31T13:09:08.694595Z",
     "shell.execute_reply": "2025-03-31T13:09:08.693947Z"
    },
    "papermill": {
     "duration": 0.010823,
     "end_time": "2025-03-31T13:09:08.695779",
     "exception": false,
     "start_time": "2025-03-31T13:09:08.684956",
     "status": "completed"
    },
    "tags": []
   },
   "outputs": [
    {
     "name": "stdout",
     "output_type": "stream",
     "text": [
      "47692\n"
     ]
    }
   ],
   "source": [
    "X = df['tweet_text']\n",
    "y = df['cyberbullying_type']\n",
    "print(len(X))"
   ]
  },
  {
   "cell_type": "code",
   "execution_count": 7,
   "id": "ae70b758",
   "metadata": {
    "execution": {
     "iopub.execute_input": "2025-03-31T13:09:08.707231Z",
     "iopub.status.busy": "2025-03-31T13:09:08.706972Z",
     "iopub.status.idle": "2025-03-31T13:09:08.773084Z",
     "shell.execute_reply": "2025-03-31T13:09:08.772435Z"
    },
    "papermill": {
     "duration": 0.073066,
     "end_time": "2025-03-31T13:09:08.774294",
     "exception": false,
     "start_time": "2025-03-31T13:09:08.701228",
     "status": "completed"
    },
    "tags": []
   },
   "outputs": [
    {
     "data": {
      "text/plain": [
       "array([['age', 6394],\n",
       "       ['ethnicity', 6369],\n",
       "       ['gender', 6378],\n",
       "       ['not_cyberbullying', 6356],\n",
       "       ['other_cyberbullying', 6258],\n",
       "       ['religion', 6398]], dtype=object)"
      ]
     },
     "execution_count": 7,
     "metadata": {},
     "output_type": "execute_result"
    }
   ],
   "source": [
    "from sklearn.model_selection import train_test_split\n",
    "X_train, X_test, y_train, y_test = train_test_split(X, y, test_size=0.2, stratify=y, random_state = seed_value)\n",
    "\n",
    "# Get unique class counts\n",
    "class_counts = np.column_stack(np.unique(y_train, return_counts=True))\n",
    "class_counts"
   ]
  },
  {
   "cell_type": "code",
   "execution_count": 8,
   "id": "c6a95a55",
   "metadata": {
    "execution": {
     "iopub.execute_input": "2025-03-31T13:09:08.785629Z",
     "iopub.status.busy": "2025-03-31T13:09:08.785428Z",
     "iopub.status.idle": "2025-03-31T13:09:09.316686Z",
     "shell.execute_reply": "2025-03-31T13:09:09.315906Z"
    },
    "papermill": {
     "duration": 0.538309,
     "end_time": "2025-03-31T13:09:09.317923",
     "exception": false,
     "start_time": "2025-03-31T13:09:08.779614",
     "status": "completed"
    },
    "tags": []
   },
   "outputs": [
    {
     "data": {
      "text/plain": [
       "array([['age', 6398],\n",
       "       ['ethnicity', 6398],\n",
       "       ['gender', 6398],\n",
       "       ['not_cyberbullying', 6398],\n",
       "       ['other_cyberbullying', 6398],\n",
       "       ['religion', 6398]], dtype=object)"
      ]
     },
     "execution_count": 8,
     "metadata": {},
     "output_type": "execute_result"
    }
   ],
   "source": [
    "from imblearn.over_sampling import RandomOverSampler\n",
    "\n",
    "# Initialize RandomOverSampler\n",
    "ros = RandomOverSampler()\n",
    "\n",
    "# Resample the dataset\n",
    "X_resampled, y_resampled = ros.fit_resample(np.array(X_train).reshape(-1, 1), np.array(y_train).reshape(-1, 1))\n",
    "\n",
    "# Convert resampled data into a DataFrame\n",
    "train_os = pd.DataFrame({'text_clean': X_resampled.ravel(), 'sentiment': y_resampled.ravel()})\n",
    "\n",
    "# Extract resampled values\n",
    "X_train = train_os['text_clean'].values\n",
    "y_train = train_os['sentiment'].values\n",
    "\n",
    "# Get unique class counts\n",
    "class_counts = np.column_stack(np.unique(y_train, return_counts=True))\n",
    "class_counts\n"
   ]
  },
  {
   "cell_type": "code",
   "execution_count": 9,
   "id": "8805d6af",
   "metadata": {
    "execution": {
     "iopub.execute_input": "2025-03-31T13:09:09.329886Z",
     "iopub.status.busy": "2025-03-31T13:09:09.329401Z",
     "iopub.status.idle": "2025-03-31T13:09:09.749069Z",
     "shell.execute_reply": "2025-03-31T13:09:09.748159Z"
    },
    "papermill": {
     "duration": 0.42723,
     "end_time": "2025-03-31T13:09:09.750691",
     "exception": false,
     "start_time": "2025-03-31T13:09:09.323461",
     "status": "completed"
    },
    "tags": []
   },
   "outputs": [],
   "source": [
    "from collections import Counter\n",
    "\n",
    "def Vocab(column):\n",
    "    vocab = [] # Initialize an empty list to store words\n",
    "    \n",
    "    # Iterate over each text entry in the column\n",
    "    for text in column:\n",
    "        for word in text.split():\n",
    "            vocab.append(word)\n",
    "        \n",
    "    counter = Counter(vocab)\n",
    "    sorted_words = counter.most_common()\n",
    "            \n",
    "    vocab_id = []\n",
    "    for i, tup in enumerate(sorted_words):\n",
    "        word, freq = tup\n",
    "        vocab_id.append((word, i))\n",
    "\n",
    "    return vocab_id\n",
    "\n",
    "vocab = Vocab(df[\"tweet_text\"])"
   ]
  },
  {
   "cell_type": "code",
   "execution_count": 10,
   "id": "bbc77a2d",
   "metadata": {
    "execution": {
     "iopub.execute_input": "2025-03-31T13:09:09.768460Z",
     "iopub.status.busy": "2025-03-31T13:09:09.768207Z",
     "iopub.status.idle": "2025-03-31T13:09:10.159551Z",
     "shell.execute_reply": "2025-03-31T13:09:10.158812Z"
    },
    "papermill": {
     "duration": 0.399688,
     "end_time": "2025-03-31T13:09:10.161144",
     "exception": false,
     "start_time": "2025-03-31T13:09:09.761456",
     "status": "completed"
    },
    "tags": []
   },
   "outputs": [],
   "source": [
    "Word2Vec_train_data = [text.split() for text in X_train]\n"
   ]
  },
  {
   "cell_type": "code",
   "execution_count": 11,
   "id": "73c1a1b2",
   "metadata": {
    "execution": {
     "iopub.execute_input": "2025-03-31T13:09:10.173173Z",
     "iopub.status.busy": "2025-03-31T13:09:10.172900Z",
     "iopub.status.idle": "2025-03-31T13:11:08.822684Z",
     "shell.execute_reply": "2025-03-31T13:11:08.821684Z"
    },
    "papermill": {
     "duration": 118.657334,
     "end_time": "2025-03-31T13:11:08.824295",
     "exception": false,
     "start_time": "2025-03-31T13:09:10.166961",
     "status": "completed"
    },
    "tags": []
   },
   "outputs": [
    {
     "name": "stdout",
     "output_type": "stream",
     "text": [
      "Label mapping: {'not_cyberbullying': 0, 'gender': 1, 'religion': 2, 'other_cyberbullying': 3, 'age': 4, 'ethnicity': 5}\n",
      "Label distribution:\n",
      " label\n",
      "2    7998\n",
      "4    7992\n",
      "1    7973\n",
      "5    7961\n",
      "0    7945\n",
      "3    7823\n",
      "Name: count, dtype: int64\n",
      "Dataset Loaded\n",
      "                                           tweet_text cyberbullying_type  label\n",
      "0  In other words #katandandre, your food was cra...  not_cyberbullying      0\n",
      "1  Why is #aussietv so white? #MKR #theblock #ImA...  not_cyberbullying      0\n",
      "2  @XochitlSuckkks a classy whore? Or more red ve...  not_cyberbullying      0\n",
      "3  @Jason_Gio meh. :P  thanks for the heads up, b...  not_cyberbullying      0\n",
      "4  @RudhoeEnglish This is an ISIS account pretend...  not_cyberbullying      0\n"
     ]
    },
    {
     "data": {
      "application/vnd.jupyter.widget-view+json": {
       "model_id": "450bb7529f234ae88572e9059bb6db47",
       "version_major": 2,
       "version_minor": 0
      },
      "text/plain": [
       "tokenizer_config.json:   0%|          | 0.00/48.0 [00:00<?, ?B/s]"
      ]
     },
     "metadata": {},
     "output_type": "display_data"
    },
    {
     "data": {
      "application/vnd.jupyter.widget-view+json": {
       "model_id": "f51f3c9227ef428a9d419b46d7eed822",
       "version_major": 2,
       "version_minor": 0
      },
      "text/plain": [
       "config.json:   0%|          | 0.00/570 [00:00<?, ?B/s]"
      ]
     },
     "metadata": {},
     "output_type": "display_data"
    },
    {
     "data": {
      "application/vnd.jupyter.widget-view+json": {
       "model_id": "809b55765daa4c2aa4d117040b9e549a",
       "version_major": 2,
       "version_minor": 0
      },
      "text/plain": [
       "vocab.txt:   0%|          | 0.00/232k [00:00<?, ?B/s]"
      ]
     },
     "metadata": {},
     "output_type": "display_data"
    },
    {
     "data": {
      "application/vnd.jupyter.widget-view+json": {
       "model_id": "aa26a71a41b94d2ea0ca9549c4735758",
       "version_major": 2,
       "version_minor": 0
      },
      "text/plain": [
       "tokenizer.json:   0%|          | 0.00/466k [00:00<?, ?B/s]"
      ]
     },
     "metadata": {},
     "output_type": "display_data"
    }
   ],
   "source": [
    "train_loader, test_loader, train_dataset, test_dataset, num_labels, label_mapping = dataloader_prep.prepare_dataloader(\"/kaggle/input/cyberbullying-tweets-dataset/cyberbullying_tweets.csv\")"
   ]
  },
  {
   "cell_type": "code",
   "execution_count": 12,
   "id": "075404c5",
   "metadata": {
    "execution": {
     "iopub.execute_input": "2025-03-31T13:11:08.837916Z",
     "iopub.status.busy": "2025-03-31T13:11:08.837669Z",
     "iopub.status.idle": "2025-03-31T13:11:08.841677Z",
     "shell.execute_reply": "2025-03-31T13:11:08.840793Z"
    },
    "papermill": {
     "duration": 0.011917,
     "end_time": "2025-03-31T13:11:08.842989",
     "exception": false,
     "start_time": "2025-03-31T13:11:08.831072",
     "status": "completed"
    },
    "tags": []
   },
   "outputs": [
    {
     "name": "stdout",
     "output_type": "stream",
     "text": [
      "{'not_cyberbullying': 0, 'gender': 1, 'religion': 2, 'other_cyberbullying': 3, 'age': 4, 'ethnicity': 5}\n",
      "6\n"
     ]
    }
   ],
   "source": [
    "print(label_mapping)\n",
    "print(num_labels)"
   ]
  },
  {
   "cell_type": "code",
   "execution_count": 13,
   "id": "710cf7f1",
   "metadata": {
    "execution": {
     "iopub.execute_input": "2025-03-31T13:11:08.855296Z",
     "iopub.status.busy": "2025-03-31T13:11:08.855044Z",
     "iopub.status.idle": "2025-03-31T13:11:08.859401Z",
     "shell.execute_reply": "2025-03-31T13:11:08.858746Z"
    },
    "papermill": {
     "duration": 0.011847,
     "end_time": "2025-03-31T13:11:08.860593",
     "exception": false,
     "start_time": "2025-03-31T13:11:08.848746",
     "status": "completed"
    },
    "tags": []
   },
   "outputs": [
    {
     "data": {
      "text/plain": [
       "42922"
      ]
     },
     "execution_count": 13,
     "metadata": {},
     "output_type": "execute_result"
    }
   ],
   "source": [
    "len(train_dataset.labels)"
   ]
  },
  {
   "cell_type": "code",
   "execution_count": 14,
   "id": "a3301cf5",
   "metadata": {
    "execution": {
     "iopub.execute_input": "2025-03-31T13:11:08.873258Z",
     "iopub.status.busy": "2025-03-31T13:11:08.873009Z",
     "iopub.status.idle": "2025-03-31T13:11:08.893591Z",
     "shell.execute_reply": "2025-03-31T13:11:08.892909Z"
    },
    "papermill": {
     "duration": 0.028197,
     "end_time": "2025-03-31T13:11:08.894724",
     "exception": false,
     "start_time": "2025-03-31T13:11:08.866527",
     "status": "completed"
    },
    "tags": []
   },
   "outputs": [
    {
     "name": "stdout",
     "output_type": "stream",
     "text": [
      "42922\n",
      "4770\n",
      "<class 'torch.utils.data.dataset.Subset'>\n",
      "<class 'torch.utils.data.dataloader.DataLoader'>\n",
      "Original validation subset size: 8585\n",
      "Original train subset size: 34337\n",
      "34337\n",
      "8585\n"
     ]
    }
   ],
   "source": [
    "from torch.utils.data import random_split, DataLoader\n",
    "\n",
    "print(len(train_dataset))\n",
    "print(len(test_dataset))\n",
    "# Define split ratio (e.g., 80% train, 20% validation)\n",
    "train_ratio = 0.8\n",
    "train_size = int(train_ratio * len(train_dataset))\n",
    "val_size = len(train_dataset) - train_size  # Remaining for validation\n",
    "\n",
    "# Split dataset\n",
    "train_subset, val_subset = random_split(train_dataset, [train_size, val_size])\n",
    "\n",
    "# Create new DataLoaders\n",
    "train_loader = DataLoader(train_subset, batch_size=train_loader.batch_size, shuffle=True)\n",
    "val_loader = DataLoader(val_subset, batch_size=train_loader.batch_size, shuffle=False)\n",
    "\n",
    "print(type(train_loader.dataset))\n",
    "print(type(val_loader))\n",
    "print(f\"Original validation subset size: {len(val_subset)}\")\n",
    "print(f\"Original train subset size: {len(train_subset)}\")\n",
    "\n",
    "print(len(train_subset))\n",
    "print(len(val_subset))"
   ]
  },
  {
   "cell_type": "code",
   "execution_count": 15,
   "id": "7e5cf793",
   "metadata": {
    "execution": {
     "iopub.execute_input": "2025-03-31T13:11:08.907599Z",
     "iopub.status.busy": "2025-03-31T13:11:08.907351Z",
     "iopub.status.idle": "2025-03-31T13:11:08.911999Z",
     "shell.execute_reply": "2025-03-31T13:11:08.911255Z"
    },
    "papermill": {
     "duration": 0.01259,
     "end_time": "2025-03-31T13:11:08.913392",
     "exception": false,
     "start_time": "2025-03-31T13:11:08.900802",
     "status": "completed"
    },
    "tags": []
   },
   "outputs": [],
   "source": [
    "# Attention mechanism\n",
    "class Attention(nn.Module):\n",
    "    def __init__(self, hidden_dim, is_bidirectional):\n",
    "        super(Attention, self).__init__()\n",
    "        factor = 2 if is_bidirectional else 1\n",
    "        self.attn = nn.Linear(hidden_dim * factor, hidden_dim * factor)\n",
    "        self.v = nn.Linear(hidden_dim * factor, 1, bias=False)\n",
    "\n",
    "    def forward(self, lstm_output):\n",
    "        attn_scores = self.v(torch.tanh(self.attn(lstm_output)))  # (batch_size, seq_len, 1)\n",
    "        attn_weights = F.softmax(attn_scores, dim=1)  # (batch_size, seq_len, 1)\n",
    "        context = torch.bmm(attn_weights.transpose(1, 2), lstm_output).squeeze(1)  # (batch_size, hidden_dim * num_directions)\n",
    "        return context\n",
    "\n"
   ]
  },
  {
   "cell_type": "code",
   "execution_count": 16,
   "id": "7d56da50",
   "metadata": {
    "execution": {
     "iopub.execute_input": "2025-03-31T13:11:08.925850Z",
     "iopub.status.busy": "2025-03-31T13:11:08.925633Z",
     "iopub.status.idle": "2025-03-31T13:11:08.930628Z",
     "shell.execute_reply": "2025-03-31T13:11:08.929866Z"
    },
    "papermill": {
     "duration": 0.01264,
     "end_time": "2025-03-31T13:11:08.931907",
     "exception": false,
     "start_time": "2025-03-31T13:11:08.919267",
     "status": "completed"
    },
    "tags": []
   },
   "outputs": [],
   "source": [
    "class LSTM_Sentiment_Classifier(nn.Module):\n",
    "    def __init__(self, vocab_size, embedding_dim, hidden_dim, num_classes, lstm_layers, dropout, is_bidirectional):\n",
    "        super(LSTM_Sentiment_Classifier, self).__init__()\n",
    "        factor = 2 if is_bidirectional else 1\n",
    "        self.hidden_dim = hidden_dim\n",
    "        self.num_layers = lstm_layers\n",
    "        self.is_bidirectional = is_bidirectional\n",
    "\n",
    "        self.embedding = nn.Embedding(vocab_size, embedding_dim)\n",
    "        self.lstm = nn.LSTM(embedding_dim, hidden_dim, lstm_layers, batch_first=True, bidirectional=is_bidirectional, dropout=dropout)\n",
    "        self.attention = Attention(hidden_dim, is_bidirectional)\n",
    "        self.fc = nn.Linear(hidden_dim * factor, num_classes)\n",
    "        self.softmax = nn.LogSoftmax(dim=1)\n",
    "\n",
    "    def forward(self, x):\n",
    "        embedded = self.embedding(x)  # (batch_size, seq_length, embedding_dim)\n",
    "        lstm_out, _ = self.lstm(embedded)  # (batch_size, seq_length, hidden_dim * num_directions)\n",
    "        context = self.attention(lstm_out)  # (batch_size, hidden_dim * num_directions)\n",
    "        output = self.softmax(self.fc(context))  # (batch_size, num_classes)\n",
    "        return output\n"
   ]
  },
  {
   "cell_type": "code",
   "execution_count": 17,
   "id": "38f91713",
   "metadata": {
    "execution": {
     "iopub.execute_input": "2025-03-31T13:11:08.944378Z",
     "iopub.status.busy": "2025-03-31T13:11:08.944171Z",
     "iopub.status.idle": "2025-03-31T13:11:09.004736Z",
     "shell.execute_reply": "2025-03-31T13:11:09.003887Z"
    },
    "papermill": {
     "duration": 0.068142,
     "end_time": "2025-03-31T13:11:09.006024",
     "exception": false,
     "start_time": "2025-03-31T13:11:08.937882",
     "status": "completed"
    },
    "tags": []
   },
   "outputs": [],
   "source": [
    "DEVICE = 'cuda' if torch.cuda.is_available() else 'cpu'\n",
    "NUM_CLASSES = num_labels\n",
    "VOCAB_SIZE = len(vocab)+1"
   ]
  },
  {
   "cell_type": "code",
   "execution_count": 18,
   "id": "a63bc05d",
   "metadata": {
    "execution": {
     "iopub.execute_input": "2025-03-31T13:11:09.018861Z",
     "iopub.status.busy": "2025-03-31T13:11:09.018630Z",
     "iopub.status.idle": "2025-03-31T13:11:09.028804Z",
     "shell.execute_reply": "2025-03-31T13:11:09.028018Z"
    },
    "papermill": {
     "duration": 0.017863,
     "end_time": "2025-03-31T13:11:09.030085",
     "exception": false,
     "start_time": "2025-03-31T13:11:09.012222",
     "status": "completed"
    },
    "tags": []
   },
   "outputs": [],
   "source": [
    "from tqdm import tqdm\n",
    "import copy\n",
    "\n",
    "# Training and Validation\n",
    "def train(model, train_loader, val_loader, criterion, optimizer, epochs, device, patience=10):\n",
    "\n",
    "    train_losses, val_losses = [], []\n",
    "    train_accuracies, val_accuracies = [], []\n",
    "    best_val_loss = float(\"inf\")\n",
    "    patience_counter = 0\n",
    "    best_model = copy.deepcopy(model)  # Save best model\n",
    "\n",
    "    for epoch in range(epochs):\n",
    "        # Training Phase\n",
    "        model.train()\n",
    "        epoch_loss, correct, total = 0, 0, 0\n",
    "\n",
    "        with tqdm(train_loader, desc=f\"Epoch {epoch+1}/{epochs} [Training]\") as pbar:\n",
    "            for batch in pbar:\n",
    "                inputs = batch[\"input_ids\"].to(device)\n",
    "                labels = batch[\"labels\"].to(device)\n",
    "\n",
    "                optimizer.zero_grad()\n",
    "                output = model(inputs)  # Fix: Only passing `inputs`\n",
    "                loss = criterion(output, labels)\n",
    "                loss.backward()\n",
    "                optimizer.step()\n",
    "\n",
    "                epoch_loss += loss.item()\n",
    "                y_pred_train = torch.argmax(output, dim=1)\n",
    "                correct += torch.sum(y_pred_train == labels).item()\n",
    "                total += labels.size(0)\n",
    "\n",
    "                pbar.set_postfix({\n",
    "                    \"Loss\": f\"{loss.item():.4f}\",\n",
    "                    \"Acc\": f\"{100 * correct / total:.3f}%\"\n",
    "                })\n",
    "\n",
    "        avg_train_loss = epoch_loss / len(train_loader)\n",
    "        train_losses.append(avg_train_loss)\n",
    "        train_acc = 100 * correct / total\n",
    "        train_accuracies.append(train_acc)\n",
    "\n",
    "        # Validation Phase\n",
    "        model.eval()\n",
    "        val_loss, val_correct, val_total = 0, 0, 0\n",
    "\n",
    "        with torch.no_grad():\n",
    "            with tqdm(val_loader, desc=f\"Epoch {epoch+1}/{epochs} [Validation]\") as pbar:\n",
    "                for batch in pbar:\n",
    "                    inputs = batch[\"input_ids\"].to(device)\n",
    "                    labels = batch[\"labels\"].to(device)\n",
    "\n",
    "                    output = model(inputs)\n",
    "                    loss = criterion(output, labels)\n",
    "                    val_loss += loss.item()\n",
    "\n",
    "                    y_pred_val = torch.argmax(output, dim=1)\n",
    "                    val_correct += torch.sum(y_pred_val == labels).item()\n",
    "                    val_total += labels.size(0)\n",
    "\n",
    "                    pbar.set_postfix({\"Loss\": f\"{loss.item():.4f}\",\"Acc\": f\"{100 * val_correct / val_total:.3f}%\"})\n",
    "\n",
    "        avg_val_loss = val_loss / len(val_loader)\n",
    "        val_losses.append(avg_val_loss)\n",
    "        val_acc = 100 * val_correct / val_total\n",
    "        val_accuracies.append(val_acc)\n",
    "\n",
    "        # Print epoch summary\n",
    "        print(f\"Epoch {epoch+1}: Train Loss = {avg_train_loss:.4f}, Train Acc = {train_acc:.2f}% Validation Loss   = {avg_val_loss:.4f}, Validation Acc   = {val_acc:.2f}%\")\n",
    "\n",
    "        # Early Stopping Check\n",
    "        if avg_val_loss < best_val_loss:\n",
    "            best_val_loss = avg_val_loss\n",
    "            best_model = copy.deepcopy(model)  \n",
    "            patience_counter = 0\n",
    "        else:\n",
    "            patience_counter += 1\n",
    "            print(f\"Early stopping patience: {patience_counter}/{patience}\")\n",
    "\n",
    "        if patience_counter >= patience:\n",
    "            print(\"Early stopping...No improvement in Validation Loss!\")\n",
    "            break\n",
    "\n",
    "    return best_model, train_losses, val_losses, train_accuracies, val_accuracies"
   ]
  },
  {
   "cell_type": "code",
   "execution_count": 19,
   "id": "0dbe7805",
   "metadata": {
    "execution": {
     "iopub.execute_input": "2025-03-31T13:11:09.043317Z",
     "iopub.status.busy": "2025-03-31T13:11:09.043048Z",
     "iopub.status.idle": "2025-03-31T13:11:09.050142Z",
     "shell.execute_reply": "2025-03-31T13:11:09.049320Z"
    },
    "papermill": {
     "duration": 0.015577,
     "end_time": "2025-03-31T13:11:09.051612",
     "exception": false,
     "start_time": "2025-03-31T13:11:09.036035",
     "status": "completed"
    },
    "tags": []
   },
   "outputs": [
    {
     "name": "stdout",
     "output_type": "stream",
     "text": [
      "8585\n",
      "2575\n"
     ]
    }
   ],
   "source": [
    "from torch.utils.data import Subset\n",
    "reduced_train_size = int(0.3*len(train_subset))\n",
    "reduced_val_size = int(0.3*len(val_subset))\n",
    "\n",
    "train_indices = list(range(len(train_subset)))\n",
    "val_indices = list(range(len(val_subset)))\n",
    "\n",
    "reduced_train_indices = train_indices[:reduced_train_size]\n",
    "reduced_val_indices = val_indices[:reduced_val_size]\n",
    "\n",
    "reduced_train_dataset = Subset(train_subset, reduced_train_indices)\n",
    "reduced_val_dataset = Subset(val_subset, reduced_val_indices)\n",
    "\n",
    "reduced_train_loader = DataLoader(reduced_train_dataset, batch_size = 32, shuffle=True)\n",
    "reduced_val_loader = DataLoader(reduced_val_dataset, batch_size=32, shuffle = False)\n",
    "\n",
    "print(len(val_subset))\n",
    "print(len(reduced_val_dataset))\n",
    "\n"
   ]
  },
  {
   "cell_type": "code",
   "execution_count": 20,
   "id": "6947c449",
   "metadata": {
    "execution": {
     "iopub.execute_input": "2025-03-31T13:11:09.065951Z",
     "iopub.status.busy": "2025-03-31T13:11:09.065740Z",
     "iopub.status.idle": "2025-03-31T13:36:31.936691Z",
     "shell.execute_reply": "2025-03-31T13:36:31.935918Z"
    },
    "papermill": {
     "duration": 1522.879283,
     "end_time": "2025-03-31T13:36:31.938058",
     "exception": false,
     "start_time": "2025-03-31T13:11:09.058775",
     "status": "completed"
    },
    "tags": []
   },
   "outputs": [
    {
     "name": "stderr",
     "output_type": "stream",
     "text": [
      "[I 2025-03-31 13:11:09,274] A new study created in memory with name: no-name-0b77d4b1-ec82-41d0-9a89-235581b4ae71\n",
      "<ipython-input-20-db74c927c736>:12: FutureWarning: suggest_loguniform has been deprecated in v3.0.0. This feature will be removed in v6.0.0. See https://github.com/optuna/optuna/releases/tag/v3.0.0. Use suggest_float(..., log=True) instead.\n",
      "  lr = trial.suggest_loguniform(\"lr\", 1e-4, 1e-3)\n"
     ]
    },
    {
     "name": "stdout",
     "output_type": "stream",
     "text": [
      "\n",
      "Trial 0: Embedding_Dim: 200, Hidden_Dim: 128, Is Bidirectional: False, Learning Rate: 0.00016066133026556312, LSTM Layers: 3, Dropout Rate: 0.5\n"
     ]
    },
    {
     "name": "stderr",
     "output_type": "stream",
     "text": [
      "Epoch 1/3 [Training]: 100%|██████████| 322/322 [00:04<00:00, 66.36it/s, Loss=0.7851, Acc=36.860%]\n",
      "Epoch 1/3 [Validation]: 100%|██████████| 81/81 [00:00<00:00, 201.04it/s, Loss=0.4943, Acc=61.398%]\n"
     ]
    },
    {
     "name": "stdout",
     "output_type": "stream",
     "text": [
      "Epoch 1: Train Loss = 1.4184, Train Acc = 36.86% Validation Loss   = 0.8720, Validation Acc   = 61.40%\n"
     ]
    },
    {
     "name": "stderr",
     "output_type": "stream",
     "text": [
      "Epoch 2/3 [Training]: 100%|██████████| 322/322 [00:04<00:00, 77.95it/s, Loss=0.7370, Acc=63.557%]\n",
      "Epoch 2/3 [Validation]: 100%|██████████| 81/81 [00:00<00:00, 208.64it/s, Loss=0.4236, Acc=67.417%]\n"
     ]
    },
    {
     "name": "stdout",
     "output_type": "stream",
     "text": [
      "Epoch 2: Train Loss = 0.7961, Train Acc = 63.56% Validation Loss   = 0.7306, Validation Acc   = 67.42%\n"
     ]
    },
    {
     "name": "stderr",
     "output_type": "stream",
     "text": [
      "Epoch 3/3 [Training]: 100%|██████████| 322/322 [00:04<00:00, 78.14it/s, Loss=0.7084, Acc=70.139%]\n",
      "Epoch 3/3 [Validation]: 100%|██████████| 81/81 [00:00<00:00, 206.98it/s, Loss=0.4591, Acc=72.505%]\n",
      "[I 2025-03-31 13:11:24,114] Trial 0 finished with value: 0.6188207743344484 and parameters: {'embedding_dim': 200, 'hidden_dim': 128, 'is_bidirectional': False, 'lr': 0.00016066133026556312, 'dropout_rate': 0.5, 'lstm_layers': 3}. Best is trial 0 with value: 0.6188207743344484.\n"
     ]
    },
    {
     "name": "stdout",
     "output_type": "stream",
     "text": [
      "Epoch 3: Train Loss = 0.6684, Train Acc = 70.14% Validation Loss   = 0.6188, Validation Acc   = 72.50%\n",
      "\n",
      "Trial 1: Embedding_Dim: 200, Hidden_Dim: 128, Is Bidirectional: False, Learning Rate: 0.000205073294241531, LSTM Layers: 3, Dropout Rate: 0.3\n"
     ]
    },
    {
     "name": "stderr",
     "output_type": "stream",
     "text": [
      "Epoch 1/3 [Training]: 100%|██████████| 322/322 [00:04<00:00, 78.25it/s, Loss=1.1043, Acc=36.006%]\n",
      "Epoch 1/3 [Validation]: 100%|██████████| 81/81 [00:00<00:00, 205.10it/s, Loss=0.7976, Acc=62.136%]\n"
     ]
    },
    {
     "name": "stdout",
     "output_type": "stream",
     "text": [
      "Epoch 1: Train Loss = 1.4507, Train Acc = 36.01% Validation Loss   = 0.9388, Validation Acc   = 62.14%\n"
     ]
    },
    {
     "name": "stderr",
     "output_type": "stream",
     "text": [
      "Epoch 2/3 [Training]: 100%|██████████| 322/322 [00:04<00:00, 78.34it/s, Loss=0.8111, Acc=69.052%]\n",
      "Epoch 2/3 [Validation]: 100%|██████████| 81/81 [00:00<00:00, 208.86it/s, Loss=0.6663, Acc=74.447%]\n"
     ]
    },
    {
     "name": "stdout",
     "output_type": "stream",
     "text": [
      "Epoch 2: Train Loss = 0.7008, Train Acc = 69.05% Validation Loss   = 0.5648, Validation Acc   = 74.45%\n"
     ]
    },
    {
     "name": "stderr",
     "output_type": "stream",
     "text": [
      "Epoch 3/3 [Training]: 100%|██████████| 322/322 [00:04<00:00, 78.33it/s, Loss=0.4685, Acc=76.177%]\n",
      "Epoch 3/3 [Validation]: 100%|██████████| 81/81 [00:00<00:00, 210.10it/s, Loss=0.5783, Acc=74.796%]\n",
      "[I 2025-03-31 13:11:37,881] Trial 1 finished with value: 0.5303100196667659 and parameters: {'embedding_dim': 200, 'hidden_dim': 128, 'is_bidirectional': False, 'lr': 0.000205073294241531, 'dropout_rate': 0.3, 'lstm_layers': 3}. Best is trial 1 with value: 0.5303100196667659.\n"
     ]
    },
    {
     "name": "stdout",
     "output_type": "stream",
     "text": [
      "Epoch 3: Train Loss = 0.5145, Train Acc = 76.18% Validation Loss   = 0.5303, Validation Acc   = 74.80%\n",
      "\n",
      "Trial 2: Embedding_Dim: 300, Hidden_Dim: 128, Is Bidirectional: False, Learning Rate: 0.0009815593443308949, LSTM Layers: 3, Dropout Rate: 0.5\n"
     ]
    },
    {
     "name": "stderr",
     "output_type": "stream",
     "text": [
      "Epoch 1/3 [Training]: 100%|██████████| 322/322 [00:04<00:00, 66.03it/s, Loss=0.4825, Acc=62.557%]\n",
      "Epoch 1/3 [Validation]: 100%|██████████| 81/81 [00:00<00:00, 199.64it/s, Loss=0.4362, Acc=74.718%]\n"
     ]
    },
    {
     "name": "stdout",
     "output_type": "stream",
     "text": [
      "Epoch 1: Train Loss = 0.8818, Train Acc = 62.56% Validation Loss   = 0.5624, Validation Acc   = 74.72%\n"
     ]
    },
    {
     "name": "stderr",
     "output_type": "stream",
     "text": [
      "Epoch 2/3 [Training]: 100%|██████████| 322/322 [00:04<00:00, 66.84it/s, Loss=0.6682, Acc=77.614%]\n",
      "Epoch 2/3 [Validation]: 100%|██████████| 81/81 [00:00<00:00, 200.85it/s, Loss=0.3790, Acc=78.641%]\n"
     ]
    },
    {
     "name": "stdout",
     "output_type": "stream",
     "text": [
      "Epoch 2: Train Loss = 0.4744, Train Acc = 77.61% Validation Loss   = 0.4734, Validation Acc   = 78.64%\n"
     ]
    },
    {
     "name": "stderr",
     "output_type": "stream",
     "text": [
      "Epoch 3/3 [Training]: 100%|██████████| 322/322 [00:04<00:00, 66.63it/s, Loss=0.5331, Acc=81.856%]\n",
      "Epoch 3/3 [Validation]: 100%|██████████| 81/81 [00:00<00:00, 207.17it/s, Loss=0.3360, Acc=79.417%]\n",
      "[I 2025-03-31 13:11:53,981] Trial 2 finished with value: 0.4734060486525665 and parameters: {'embedding_dim': 300, 'hidden_dim': 128, 'is_bidirectional': False, 'lr': 0.0009815593443308949, 'dropout_rate': 0.5, 'lstm_layers': 3}. Best is trial 2 with value: 0.4734060486525665.\n"
     ]
    },
    {
     "name": "stdout",
     "output_type": "stream",
     "text": [
      "Epoch 3: Train Loss = 0.3924, Train Acc = 81.86% Validation Loss   = 0.4756, Validation Acc   = 79.42%\n",
      "Early stopping patience: 1/10\n",
      "\n",
      "Trial 3: Embedding_Dim: 300, Hidden_Dim: 128, Is Bidirectional: False, Learning Rate: 0.0007801918293228621, LSTM Layers: 2, Dropout Rate: 0.5\n"
     ]
    },
    {
     "name": "stderr",
     "output_type": "stream",
     "text": [
      "Epoch 1/3 [Training]: 100%|██████████| 322/322 [00:04<00:00, 75.10it/s, Loss=0.4194, Acc=63.013%]\n",
      "Epoch 1/3 [Validation]: 100%|██████████| 81/81 [00:00<00:00, 233.00it/s, Loss=0.3956, Acc=77.282%]\n"
     ]
    },
    {
     "name": "stdout",
     "output_type": "stream",
     "text": [
      "Epoch 1: Train Loss = 0.8694, Train Acc = 63.01% Validation Loss   = 0.5000, Validation Acc   = 77.28%\n"
     ]
    },
    {
     "name": "stderr",
     "output_type": "stream",
     "text": [
      "Epoch 2/3 [Training]: 100%|██████████| 322/322 [00:04<00:00, 75.15it/s, Loss=0.2073, Acc=79.594%]\n",
      "Epoch 2/3 [Validation]: 100%|██████████| 81/81 [00:00<00:00, 235.41it/s, Loss=0.3855, Acc=80.155%]\n"
     ]
    },
    {
     "name": "stdout",
     "output_type": "stream",
     "text": [
      "Epoch 2: Train Loss = 0.4474, Train Acc = 79.59% Validation Loss   = 0.4648, Validation Acc   = 80.16%\n"
     ]
    },
    {
     "name": "stderr",
     "output_type": "stream",
     "text": [
      "Epoch 3/3 [Training]: 100%|██████████| 322/322 [00:04<00:00, 75.22it/s, Loss=0.2111, Acc=84.749%]\n",
      "Epoch 3/3 [Validation]: 100%|██████████| 81/81 [00:00<00:00, 233.79it/s, Loss=0.3547, Acc=80.893%]\n",
      "[I 2025-03-31 13:12:08,249] Trial 3 finished with value: 0.45426184509271456 and parameters: {'embedding_dim': 300, 'hidden_dim': 128, 'is_bidirectional': False, 'lr': 0.0007801918293228621, 'dropout_rate': 0.5, 'lstm_layers': 2}. Best is trial 3 with value: 0.45426184509271456.\n"
     ]
    },
    {
     "name": "stdout",
     "output_type": "stream",
     "text": [
      "Epoch 3: Train Loss = 0.3561, Train Acc = 84.75% Validation Loss   = 0.4543, Validation Acc   = 80.89%\n",
      "\n",
      "Trial 4: Embedding_Dim: 300, Hidden_Dim: 128, Is Bidirectional: True, Learning Rate: 0.0005916846361122726, LSTM Layers: 3, Dropout Rate: 0.3\n"
     ]
    },
    {
     "name": "stderr",
     "output_type": "stream",
     "text": [
      "Epoch 1/3 [Training]: 100%|██████████| 322/322 [00:06<00:00, 47.77it/s, Loss=0.4379, Acc=66.547%]\n",
      "Epoch 1/3 [Validation]: 100%|██████████| 81/81 [00:00<00:00, 140.39it/s, Loss=0.3447, Acc=76.660%]\n"
     ]
    },
    {
     "name": "stdout",
     "output_type": "stream",
     "text": [
      "Epoch 1: Train Loss = 0.7668, Train Acc = 66.55% Validation Loss   = 0.5066, Validation Acc   = 76.66%\n"
     ]
    },
    {
     "name": "stderr",
     "output_type": "stream",
     "text": [
      "Epoch 2/3 [Training]: 100%|██████████| 322/322 [00:06<00:00, 47.84it/s, Loss=0.2044, Acc=80.468%]\n",
      "Epoch 2/3 [Validation]: 100%|██████████| 81/81 [00:00<00:00, 140.75it/s, Loss=0.3922, Acc=80.893%]\n"
     ]
    },
    {
     "name": "stdout",
     "output_type": "stream",
     "text": [
      "Epoch 2: Train Loss = 0.4331, Train Acc = 80.47% Validation Loss   = 0.4407, Validation Acc   = 80.89%\n"
     ]
    },
    {
     "name": "stderr",
     "output_type": "stream",
     "text": [
      "Epoch 3/3 [Training]: 100%|██████████| 322/322 [00:06<00:00, 47.92it/s, Loss=0.4718, Acc=85.438%]\n",
      "Epoch 3/3 [Validation]: 100%|██████████| 81/81 [00:00<00:00, 140.95it/s, Loss=0.3566, Acc=81.592%]\n",
      "[I 2025-03-31 13:12:30,561] Trial 4 finished with value: 0.44072346610051616 and parameters: {'embedding_dim': 300, 'hidden_dim': 128, 'is_bidirectional': True, 'lr': 0.0005916846361122726, 'dropout_rate': 0.3, 'lstm_layers': 3}. Best is trial 4 with value: 0.44072346610051616.\n"
     ]
    },
    {
     "name": "stdout",
     "output_type": "stream",
     "text": [
      "Epoch 3: Train Loss = 0.3400, Train Acc = 85.44% Validation Loss   = 0.4644, Validation Acc   = 81.59%\n",
      "Early stopping patience: 1/10\n",
      "\n",
      "Trial 5: Embedding_Dim: 300, Hidden_Dim: 256, Is Bidirectional: True, Learning Rate: 0.00012619154906634295, LSTM Layers: 2, Dropout Rate: 0.3\n"
     ]
    },
    {
     "name": "stderr",
     "output_type": "stream",
     "text": [
      "Epoch 1/3 [Training]: 100%|██████████| 322/322 [00:12<00:00, 25.76it/s, Loss=0.5789, Acc=60.975%]\n",
      "Epoch 1/3 [Validation]: 100%|██████████| 81/81 [00:01<00:00, 77.60it/s, Loss=0.5478, Acc=76.777%]\n"
     ]
    },
    {
     "name": "stdout",
     "output_type": "stream",
     "text": [
      "Epoch 1: Train Loss = 0.9705, Train Acc = 60.97% Validation Loss   = 0.5249, Validation Acc   = 76.78%\n"
     ]
    },
    {
     "name": "stderr",
     "output_type": "stream",
     "text": [
      "Epoch 2/3 [Training]: 100%|██████████| 322/322 [00:12<00:00, 25.62it/s, Loss=0.6617, Acc=79.798%]\n",
      "Epoch 2/3 [Validation]: 100%|██████████| 81/81 [00:01<00:00, 77.33it/s, Loss=0.3749, Acc=79.340%]\n"
     ]
    },
    {
     "name": "stdout",
     "output_type": "stream",
     "text": [
      "Epoch 2: Train Loss = 0.4788, Train Acc = 79.80% Validation Loss   = 0.4689, Validation Acc   = 79.34%\n"
     ]
    },
    {
     "name": "stderr",
     "output_type": "stream",
     "text": [
      "Epoch 3/3 [Training]: 100%|██████████| 322/322 [00:12<00:00, 25.72it/s, Loss=0.3150, Acc=83.371%]\n",
      "Epoch 3/3 [Validation]: 100%|██████████| 81/81 [00:01<00:00, 77.70it/s, Loss=0.4163, Acc=79.223%]\n",
      "[I 2025-03-31 13:13:11,684] Trial 5 finished with value: 0.4654432410075341 and parameters: {'embedding_dim': 300, 'hidden_dim': 256, 'is_bidirectional': True, 'lr': 0.00012619154906634295, 'dropout_rate': 0.3, 'lstm_layers': 2}. Best is trial 4 with value: 0.44072346610051616.\n"
     ]
    },
    {
     "name": "stdout",
     "output_type": "stream",
     "text": [
      "Epoch 3: Train Loss = 0.3965, Train Acc = 83.37% Validation Loss   = 0.4654, Validation Acc   = 79.22%\n",
      "\n",
      "Trial 6: Embedding_Dim: 300, Hidden_Dim: 128, Is Bidirectional: True, Learning Rate: 0.00044553872679752124, LSTM Layers: 3, Dropout Rate: 0.5\n"
     ]
    },
    {
     "name": "stderr",
     "output_type": "stream",
     "text": [
      "Epoch 1/3 [Training]: 100%|██████████| 322/322 [00:06<00:00, 47.87it/s, Loss=0.4990, Acc=63.013%]\n",
      "Epoch 1/3 [Validation]: 100%|██████████| 81/81 [00:00<00:00, 137.45it/s, Loss=0.3139, Acc=77.359%]\n"
     ]
    },
    {
     "name": "stdout",
     "output_type": "stream",
     "text": [
      "Epoch 1: Train Loss = 0.8666, Train Acc = 63.01% Validation Loss   = 0.4908, Validation Acc   = 77.36%\n"
     ]
    },
    {
     "name": "stderr",
     "output_type": "stream",
     "text": [
      "Epoch 2/3 [Training]: 100%|██████████| 322/322 [00:06<00:00, 47.88it/s, Loss=0.2677, Acc=79.458%]\n",
      "Epoch 2/3 [Validation]: 100%|██████████| 81/81 [00:00<00:00, 139.99it/s, Loss=0.3993, Acc=79.340%]\n"
     ]
    },
    {
     "name": "stdout",
     "output_type": "stream",
     "text": [
      "Epoch 2: Train Loss = 0.4503, Train Acc = 79.46% Validation Loss   = 0.4970, Validation Acc   = 79.34%\n",
      "Early stopping patience: 1/10\n"
     ]
    },
    {
     "name": "stderr",
     "output_type": "stream",
     "text": [
      "Epoch 3/3 [Training]: 100%|██████████| 322/322 [00:06<00:00, 47.77it/s, Loss=0.4901, Acc=85.011%]\n",
      "Epoch 3/3 [Validation]: 100%|██████████| 81/81 [00:00<00:00, 140.61it/s, Loss=0.3050, Acc=80.544%]\n",
      "[I 2025-03-31 13:13:34,007] Trial 6 finished with value: 0.4908461798856288 and parameters: {'embedding_dim': 300, 'hidden_dim': 128, 'is_bidirectional': True, 'lr': 0.00044553872679752124, 'dropout_rate': 0.5, 'lstm_layers': 3}. Best is trial 4 with value: 0.44072346610051616.\n"
     ]
    },
    {
     "name": "stdout",
     "output_type": "stream",
     "text": [
      "Epoch 3: Train Loss = 0.3516, Train Acc = 85.01% Validation Loss   = 0.5013, Validation Acc   = 80.54%\n",
      "Early stopping patience: 2/10\n",
      "\n",
      "Trial 7: Embedding_Dim: 300, Hidden_Dim: 128, Is Bidirectional: True, Learning Rate: 0.0004401786874829169, LSTM Layers: 2, Dropout Rate: 0.5\n"
     ]
    },
    {
     "name": "stderr",
     "output_type": "stream",
     "text": [
      "Epoch 1/3 [Training]: 100%|██████████| 322/322 [00:05<00:00, 57.93it/s, Loss=0.4236, Acc=65.149%]\n",
      "Epoch 1/3 [Validation]: 100%|██████████| 81/81 [00:00<00:00, 172.32it/s, Loss=0.3506, Acc=78.602%]\n"
     ]
    },
    {
     "name": "stdout",
     "output_type": "stream",
     "text": [
      "Epoch 1: Train Loss = 0.8234, Train Acc = 65.15% Validation Loss   = 0.4689, Validation Acc   = 78.60%\n"
     ]
    },
    {
     "name": "stderr",
     "output_type": "stream",
     "text": [
      "Epoch 2/3 [Training]: 100%|██████████| 322/322 [00:05<00:00, 57.74it/s, Loss=0.4281, Acc=82.118%]\n",
      "Epoch 2/3 [Validation]: 100%|██████████| 81/81 [00:00<00:00, 166.06it/s, Loss=0.3503, Acc=79.922%]\n"
     ]
    },
    {
     "name": "stdout",
     "output_type": "stream",
     "text": [
      "Epoch 2: Train Loss = 0.4165, Train Acc = 82.12% Validation Loss   = 0.4511, Validation Acc   = 79.92%\n"
     ]
    },
    {
     "name": "stderr",
     "output_type": "stream",
     "text": [
      "Epoch 3/3 [Training]: 100%|██████████| 322/322 [00:05<00:00, 57.98it/s, Loss=0.5270, Acc=85.739%]\n",
      "Epoch 3/3 [Validation]: 100%|██████████| 81/81 [00:00<00:00, 169.75it/s, Loss=0.4392, Acc=81.825%]\n",
      "[I 2025-03-31 13:13:52,514] Trial 7 finished with value: 0.4455889266582183 and parameters: {'embedding_dim': 300, 'hidden_dim': 128, 'is_bidirectional': True, 'lr': 0.0004401786874829169, 'dropout_rate': 0.5, 'lstm_layers': 2}. Best is trial 4 with value: 0.44072346610051616.\n"
     ]
    },
    {
     "name": "stdout",
     "output_type": "stream",
     "text": [
      "Epoch 3: Train Loss = 0.3368, Train Acc = 85.74% Validation Loss   = 0.4456, Validation Acc   = 81.83%\n",
      "\n",
      "Trial 8: Embedding_Dim: 300, Hidden_Dim: 128, Is Bidirectional: True, Learning Rate: 0.0006462020959678608, LSTM Layers: 3, Dropout Rate: 0.5\n"
     ]
    },
    {
     "name": "stderr",
     "output_type": "stream",
     "text": [
      "Epoch 1/3 [Training]: 100%|██████████| 322/322 [00:06<00:00, 48.03it/s, Loss=0.6414, Acc=64.935%]\n",
      "Epoch 1/3 [Validation]: 100%|██████████| 81/81 [00:00<00:00, 139.94it/s, Loss=0.3985, Acc=77.398%]\n"
     ]
    },
    {
     "name": "stdout",
     "output_type": "stream",
     "text": [
      "Epoch 1: Train Loss = 0.7972, Train Acc = 64.94% Validation Loss   = 0.4860, Validation Acc   = 77.40%\n"
     ]
    },
    {
     "name": "stderr",
     "output_type": "stream",
     "text": [
      "Epoch 2/3 [Training]: 100%|██████████| 322/322 [00:06<00:00, 47.99it/s, Loss=0.6488, Acc=80.138%]\n",
      "Epoch 2/3 [Validation]: 100%|██████████| 81/81 [00:00<00:00, 139.83it/s, Loss=0.2713, Acc=80.544%]\n"
     ]
    },
    {
     "name": "stdout",
     "output_type": "stream",
     "text": [
      "Epoch 2: Train Loss = 0.4371, Train Acc = 80.14% Validation Loss   = 0.4404, Validation Acc   = 80.54%\n"
     ]
    },
    {
     "name": "stderr",
     "output_type": "stream",
     "text": [
      "Epoch 3/3 [Training]: 100%|██████████| 322/322 [00:06<00:00, 47.92it/s, Loss=0.2213, Acc=85.137%]\n",
      "Epoch 3/3 [Validation]: 100%|██████████| 81/81 [00:00<00:00, 139.76it/s, Loss=0.3566, Acc=80.699%]\n",
      "[I 2025-03-31 13:14:14,765] Trial 8 finished with value: 0.44042978444953024 and parameters: {'embedding_dim': 300, 'hidden_dim': 128, 'is_bidirectional': True, 'lr': 0.0006462020959678608, 'dropout_rate': 0.5, 'lstm_layers': 3}. Best is trial 8 with value: 0.44042978444953024.\n"
     ]
    },
    {
     "name": "stdout",
     "output_type": "stream",
     "text": [
      "Epoch 3: Train Loss = 0.3481, Train Acc = 85.14% Validation Loss   = 0.4746, Validation Acc   = 80.70%\n",
      "Early stopping patience: 1/10\n",
      "\n",
      "Trial 9: Embedding_Dim: 200, Hidden_Dim: 128, Is Bidirectional: True, Learning Rate: 0.00024024334440651997, LSTM Layers: 3, Dropout Rate: 0.3\n"
     ]
    },
    {
     "name": "stderr",
     "output_type": "stream",
     "text": [
      "Epoch 1/3 [Training]: 100%|██████████| 322/322 [00:06<00:00, 53.55it/s, Loss=0.5441, Acc=53.587%]\n",
      "Epoch 1/3 [Validation]: 100%|██████████| 81/81 [00:00<00:00, 141.50it/s, Loss=0.7011, Acc=72.505%]\n"
     ]
    },
    {
     "name": "stdout",
     "output_type": "stream",
     "text": [
      "Epoch 1: Train Loss = 1.0790, Train Acc = 53.59% Validation Loss   = 0.5880, Validation Acc   = 72.50%\n"
     ]
    },
    {
     "name": "stderr",
     "output_type": "stream",
     "text": [
      "Epoch 2/3 [Training]: 100%|██████████| 322/322 [00:06<00:00, 53.66it/s, Loss=0.5165, Acc=76.061%]\n",
      "Epoch 2/3 [Validation]: 100%|██████████| 81/81 [00:00<00:00, 142.69it/s, Loss=0.6344, Acc=77.204%]\n"
     ]
    },
    {
     "name": "stdout",
     "output_type": "stream",
     "text": [
      "Epoch 2: Train Loss = 0.5222, Train Acc = 76.06% Validation Loss   = 0.5009, Validation Acc   = 77.20%\n"
     ]
    },
    {
     "name": "stderr",
     "output_type": "stream",
     "text": [
      "Epoch 3/3 [Training]: 100%|██████████| 322/322 [00:05<00:00, 53.83it/s, Loss=0.2854, Acc=80.109%]\n",
      "Epoch 3/3 [Validation]: 100%|██████████| 81/81 [00:00<00:00, 141.87it/s, Loss=0.5520, Acc=79.728%]\n",
      "[I 2025-03-31 13:14:34,743] Trial 9 finished with value: 0.4876800576845805 and parameters: {'embedding_dim': 200, 'hidden_dim': 128, 'is_bidirectional': True, 'lr': 0.00024024334440651997, 'dropout_rate': 0.3, 'lstm_layers': 3}. Best is trial 8 with value: 0.44042978444953024.\n"
     ]
    },
    {
     "name": "stdout",
     "output_type": "stream",
     "text": [
      "Epoch 3: Train Loss = 0.4319, Train Acc = 80.11% Validation Loss   = 0.4877, Validation Acc   = 79.73%\n",
      "\n",
      "Trial 10: Embedding_Dim: 200, Hidden_Dim: 256, Is Bidirectional: True, Learning Rate: 0.0003119524374107404, LSTM Layers: 2, Dropout Rate: 0.5\n"
     ]
    },
    {
     "name": "stderr",
     "output_type": "stream",
     "text": [
      "Epoch 1/3 [Training]: 100%|██████████| 322/322 [00:11<00:00, 27.42it/s, Loss=0.7985, Acc=63.372%]\n",
      "Epoch 1/3 [Validation]: 100%|██████████| 81/81 [00:01<00:00, 78.08it/s, Loss=0.4280, Acc=75.845%]\n"
     ]
    },
    {
     "name": "stdout",
     "output_type": "stream",
     "text": [
      "Epoch 1: Train Loss = 0.8637, Train Acc = 63.37% Validation Loss   = 0.5080, Validation Acc   = 75.84%\n"
     ]
    },
    {
     "name": "stderr",
     "output_type": "stream",
     "text": [
      "Epoch 2/3 [Training]: 100%|██████████| 322/322 [00:11<00:00, 27.49it/s, Loss=0.4264, Acc=79.371%]\n",
      "Epoch 2/3 [Validation]: 100%|██████████| 81/81 [00:01<00:00, 78.57it/s, Loss=0.2965, Acc=79.146%]\n"
     ]
    },
    {
     "name": "stdout",
     "output_type": "stream",
     "text": [
      "Epoch 2: Train Loss = 0.4689, Train Acc = 79.37% Validation Loss   = 0.4695, Validation Acc   = 79.15%\n"
     ]
    },
    {
     "name": "stderr",
     "output_type": "stream",
     "text": [
      "Epoch 3/3 [Training]: 100%|██████████| 322/322 [00:11<00:00, 27.68it/s, Loss=0.3468, Acc=83.691%]\n",
      "Epoch 3/3 [Validation]: 100%|██████████| 81/81 [00:01<00:00, 78.79it/s, Loss=0.4728, Acc=79.845%]\n",
      "[I 2025-03-31 13:15:13,223] Trial 10 finished with value: 0.46381562304349594 and parameters: {'embedding_dim': 200, 'hidden_dim': 256, 'is_bidirectional': True, 'lr': 0.0003119524374107404, 'dropout_rate': 0.5, 'lstm_layers': 2}. Best is trial 8 with value: 0.44042978444953024.\n"
     ]
    },
    {
     "name": "stdout",
     "output_type": "stream",
     "text": [
      "Epoch 3: Train Loss = 0.3818, Train Acc = 83.69% Validation Loss   = 0.4638, Validation Acc   = 79.84%\n",
      "\n",
      "Trial 11: Embedding_Dim: 300, Hidden_Dim: 256, Is Bidirectional: True, Learning Rate: 0.000555519571011893, LSTM Layers: 3, Dropout Rate: 0.3\n"
     ]
    },
    {
     "name": "stderr",
     "output_type": "stream",
     "text": [
      "Epoch 1/3 [Training]: 100%|██████████| 322/322 [00:18<00:00, 17.70it/s, Loss=0.6435, Acc=69.187%]\n",
      "Epoch 1/3 [Validation]: 100%|██████████| 81/81 [00:01<00:00, 50.12it/s, Loss=0.4400, Acc=79.184%]\n"
     ]
    },
    {
     "name": "stdout",
     "output_type": "stream",
     "text": [
      "Epoch 1: Train Loss = 0.7209, Train Acc = 69.19% Validation Loss   = 0.4859, Validation Acc   = 79.18%\n"
     ]
    },
    {
     "name": "stderr",
     "output_type": "stream",
     "text": [
      "Epoch 2/3 [Training]: 100%|██████████| 322/322 [00:18<00:00, 17.18it/s, Loss=0.6879, Acc=81.206%]\n",
      "Epoch 2/3 [Validation]: 100%|██████████| 81/81 [00:01<00:00, 50.95it/s, Loss=0.3637, Acc=80.233%]\n"
     ]
    },
    {
     "name": "stdout",
     "output_type": "stream",
     "text": [
      "Epoch 2: Train Loss = 0.4379, Train Acc = 81.21% Validation Loss   = 0.4516, Validation Acc   = 80.23%\n"
     ]
    },
    {
     "name": "stderr",
     "output_type": "stream",
     "text": [
      "Epoch 3/3 [Training]: 100%|██████████| 322/322 [00:18<00:00, 17.46it/s, Loss=0.1351, Acc=85.186%]\n",
      "Epoch 3/3 [Validation]: 100%|██████████| 81/81 [00:01<00:00, 49.32it/s, Loss=0.3778, Acc=80.505%]\n",
      "[I 2025-03-31 13:16:13,883] Trial 11 finished with value: 0.45162150300579307 and parameters: {'embedding_dim': 300, 'hidden_dim': 256, 'is_bidirectional': True, 'lr': 0.000555519571011893, 'dropout_rate': 0.3, 'lstm_layers': 3}. Best is trial 8 with value: 0.44042978444953024.\n"
     ]
    },
    {
     "name": "stdout",
     "output_type": "stream",
     "text": [
      "Epoch 3: Train Loss = 0.3551, Train Acc = 85.19% Validation Loss   = 0.4794, Validation Acc   = 80.50%\n",
      "Early stopping patience: 1/10\n",
      "\n",
      "Trial 12: Embedding_Dim: 300, Hidden_Dim: 128, Is Bidirectional: True, Learning Rate: 0.0006851400855284486, LSTM Layers: 3, Dropout Rate: 0.3\n"
     ]
    },
    {
     "name": "stderr",
     "output_type": "stream",
     "text": [
      "Epoch 1/3 [Training]: 100%|██████████| 322/322 [00:06<00:00, 47.75it/s, Loss=0.5888, Acc=67.120%]\n",
      "Epoch 1/3 [Validation]: 100%|██████████| 81/81 [00:00<00:00, 141.74it/s, Loss=0.4322, Acc=78.369%]\n"
     ]
    },
    {
     "name": "stdout",
     "output_type": "stream",
     "text": [
      "Epoch 1: Train Loss = 0.7742, Train Acc = 67.12% Validation Loss   = 0.4770, Validation Acc   = 78.37%\n"
     ]
    },
    {
     "name": "stderr",
     "output_type": "stream",
     "text": [
      "Epoch 2/3 [Training]: 100%|██████████| 322/322 [00:06<00:00, 47.65it/s, Loss=0.3105, Acc=82.652%]\n",
      "Epoch 2/3 [Validation]: 100%|██████████| 81/81 [00:00<00:00, 140.77it/s, Loss=0.5598, Acc=79.301%]\n"
     ]
    },
    {
     "name": "stdout",
     "output_type": "stream",
     "text": [
      "Epoch 2: Train Loss = 0.4152, Train Acc = 82.65% Validation Loss   = 0.4731, Validation Acc   = 79.30%\n"
     ]
    },
    {
     "name": "stderr",
     "output_type": "stream",
     "text": [
      "Epoch 3/3 [Training]: 100%|██████████| 322/322 [00:06<00:00, 47.87it/s, Loss=0.2375, Acc=86.846%]\n",
      "Epoch 3/3 [Validation]: 100%|██████████| 81/81 [00:00<00:00, 139.83it/s, Loss=0.4550, Acc=80.388%]\n",
      "[I 2025-03-31 13:16:36,235] Trial 12 finished with value: 0.47309587583129786 and parameters: {'embedding_dim': 300, 'hidden_dim': 128, 'is_bidirectional': True, 'lr': 0.0006851400855284486, 'dropout_rate': 0.3, 'lstm_layers': 3}. Best is trial 8 with value: 0.44042978444953024.\n"
     ]
    },
    {
     "name": "stdout",
     "output_type": "stream",
     "text": [
      "Epoch 3: Train Loss = 0.3278, Train Acc = 86.85% Validation Loss   = 0.4824, Validation Acc   = 80.39%\n",
      "Early stopping patience: 1/10\n",
      "\n",
      "Trial 13: Embedding_Dim: 300, Hidden_Dim: 128, Is Bidirectional: True, Learning Rate: 0.0004217003404456888, LSTM Layers: 3, Dropout Rate: 0.3\n"
     ]
    },
    {
     "name": "stderr",
     "output_type": "stream",
     "text": [
      "Epoch 1/3 [Training]: 100%|██████████| 322/322 [00:06<00:00, 47.78it/s, Loss=0.4204, Acc=62.644%]\n",
      "Epoch 1/3 [Validation]: 100%|██████████| 81/81 [00:00<00:00, 140.38it/s, Loss=0.3008, Acc=76.621%]\n"
     ]
    },
    {
     "name": "stdout",
     "output_type": "stream",
     "text": [
      "Epoch 1: Train Loss = 0.8581, Train Acc = 62.64% Validation Loss   = 0.4856, Validation Acc   = 76.62%\n"
     ]
    },
    {
     "name": "stderr",
     "output_type": "stream",
     "text": [
      "Epoch 2/3 [Training]: 100%|██████████| 322/322 [00:06<00:00, 47.73it/s, Loss=0.3804, Acc=79.012%]\n",
      "Epoch 2/3 [Validation]: 100%|██████████| 81/81 [00:00<00:00, 140.26it/s, Loss=0.4951, Acc=78.757%]\n"
     ]
    },
    {
     "name": "stdout",
     "output_type": "stream",
     "text": [
      "Epoch 2: Train Loss = 0.4421, Train Acc = 79.01% Validation Loss   = 0.4920, Validation Acc   = 78.76%\n",
      "Early stopping patience: 1/10\n"
     ]
    },
    {
     "name": "stderr",
     "output_type": "stream",
     "text": [
      "Epoch 3/3 [Training]: 100%|██████████| 322/322 [00:06<00:00, 47.64it/s, Loss=0.2862, Acc=84.458%]\n",
      "Epoch 3/3 [Validation]: 100%|██████████| 81/81 [00:00<00:00, 139.70it/s, Loss=0.2131, Acc=80.699%]\n",
      "[I 2025-03-31 13:16:58,606] Trial 13 finished with value: 0.45398595101303524 and parameters: {'embedding_dim': 300, 'hidden_dim': 128, 'is_bidirectional': True, 'lr': 0.0004217003404456888, 'dropout_rate': 0.3, 'lstm_layers': 3}. Best is trial 8 with value: 0.44042978444953024.\n"
     ]
    },
    {
     "name": "stdout",
     "output_type": "stream",
     "text": [
      "Epoch 3: Train Loss = 0.3473, Train Acc = 84.46% Validation Loss   = 0.4540, Validation Acc   = 80.70%\n",
      "\n",
      "Trial 14: Embedding_Dim: 300, Hidden_Dim: 256, Is Bidirectional: True, Learning Rate: 0.0005893130798975572, LSTM Layers: 3, Dropout Rate: 0.5\n"
     ]
    },
    {
     "name": "stderr",
     "output_type": "stream",
     "text": [
      "Epoch 1/3 [Training]: 100%|██████████| 322/322 [00:18<00:00, 17.45it/s, Loss=0.4885, Acc=67.557%]\n",
      "Epoch 1/3 [Validation]: 100%|██████████| 81/81 [00:01<00:00, 49.65it/s, Loss=0.3233, Acc=77.476%]\n"
     ]
    },
    {
     "name": "stdout",
     "output_type": "stream",
     "text": [
      "Epoch 1: Train Loss = 0.7595, Train Acc = 67.56% Validation Loss   = 0.4726, Validation Acc   = 77.48%\n"
     ]
    },
    {
     "name": "stderr",
     "output_type": "stream",
     "text": [
      "Epoch 2/3 [Training]: 100%|██████████| 322/322 [00:18<00:00, 17.58it/s, Loss=0.2869, Acc=79.682%]\n",
      "Epoch 2/3 [Validation]: 100%|██████████| 81/81 [00:01<00:00, 50.23it/s, Loss=0.4529, Acc=80.233%]\n"
     ]
    },
    {
     "name": "stdout",
     "output_type": "stream",
     "text": [
      "Epoch 2: Train Loss = 0.4568, Train Acc = 79.68% Validation Loss   = 0.4543, Validation Acc   = 80.23%\n"
     ]
    },
    {
     "name": "stderr",
     "output_type": "stream",
     "text": [
      "Epoch 3/3 [Training]: 100%|██████████| 322/322 [00:18<00:00, 17.48it/s, Loss=0.4385, Acc=83.934%]\n",
      "Epoch 3/3 [Validation]: 100%|██████████| 81/81 [00:01<00:00, 48.92it/s, Loss=0.6897, Acc=79.845%]\n",
      "[I 2025-03-31 13:17:59,119] Trial 14 finished with value: 0.4543256402751546 and parameters: {'embedding_dim': 300, 'hidden_dim': 256, 'is_bidirectional': True, 'lr': 0.0005893130798975572, 'dropout_rate': 0.5, 'lstm_layers': 3}. Best is trial 8 with value: 0.44042978444953024.\n"
     ]
    },
    {
     "name": "stdout",
     "output_type": "stream",
     "text": [
      "Epoch 3: Train Loss = 0.3686, Train Acc = 83.93% Validation Loss   = 0.4816, Validation Acc   = 79.84%\n",
      "Early stopping patience: 1/10\n",
      "\n",
      "Trial 15: Embedding_Dim: 300, Hidden_Dim: 128, Is Bidirectional: True, Learning Rate: 0.0009719877626150746, LSTM Layers: 3, Dropout Rate: 0.3\n"
     ]
    },
    {
     "name": "stderr",
     "output_type": "stream",
     "text": [
      "Epoch 1/3 [Training]: 100%|██████████| 322/322 [00:06<00:00, 47.79it/s, Loss=0.2705, Acc=68.537%]\n",
      "Epoch 1/3 [Validation]: 100%|██████████| 81/81 [00:00<00:00, 139.74it/s, Loss=0.4015, Acc=78.019%]\n"
     ]
    },
    {
     "name": "stdout",
     "output_type": "stream",
     "text": [
      "Epoch 1: Train Loss = 0.7217, Train Acc = 68.54% Validation Loss   = 0.4810, Validation Acc   = 78.02%\n"
     ]
    },
    {
     "name": "stderr",
     "output_type": "stream",
     "text": [
      "Epoch 2/3 [Training]: 100%|██████████| 322/322 [00:06<00:00, 47.68it/s, Loss=0.5144, Acc=81.293%]\n",
      "Epoch 2/3 [Validation]: 100%|██████████| 81/81 [00:00<00:00, 139.48it/s, Loss=0.5273, Acc=79.845%]\n"
     ]
    },
    {
     "name": "stdout",
     "output_type": "stream",
     "text": [
      "Epoch 2: Train Loss = 0.4163, Train Acc = 81.29% Validation Loss   = 0.4678, Validation Acc   = 79.84%\n"
     ]
    },
    {
     "name": "stderr",
     "output_type": "stream",
     "text": [
      "Epoch 3/3 [Training]: 100%|██████████| 322/322 [00:06<00:00, 47.68it/s, Loss=0.1804, Acc=86.429%]\n",
      "Epoch 3/3 [Validation]: 100%|██████████| 81/81 [00:00<00:00, 139.85it/s, Loss=0.3912, Acc=81.786%]\n",
      "[I 2025-03-31 13:18:21,522] Trial 15 finished with value: 0.46777676229859577 and parameters: {'embedding_dim': 300, 'hidden_dim': 128, 'is_bidirectional': True, 'lr': 0.0009719877626150746, 'dropout_rate': 0.3, 'lstm_layers': 3}. Best is trial 8 with value: 0.44042978444953024.\n"
     ]
    },
    {
     "name": "stdout",
     "output_type": "stream",
     "text": [
      "Epoch 3: Train Loss = 0.3291, Train Acc = 86.43% Validation Loss   = 0.4778, Validation Acc   = 81.79%\n",
      "Early stopping patience: 1/10\n",
      "\n",
      "Trial 16: Embedding_Dim: 300, Hidden_Dim: 128, Is Bidirectional: True, Learning Rate: 0.0003325972534767375, LSTM Layers: 3, Dropout Rate: 0.5\n"
     ]
    },
    {
     "name": "stderr",
     "output_type": "stream",
     "text": [
      "Epoch 1/3 [Training]: 100%|██████████| 322/322 [00:06<00:00, 47.79it/s, Loss=0.4159, Acc=61.955%]\n",
      "Epoch 1/3 [Validation]: 100%|██████████| 81/81 [00:00<00:00, 136.91it/s, Loss=0.5661, Acc=76.660%]\n"
     ]
    },
    {
     "name": "stdout",
     "output_type": "stream",
     "text": [
      "Epoch 1: Train Loss = 0.8895, Train Acc = 61.96% Validation Loss   = 0.5211, Validation Acc   = 76.66%\n"
     ]
    },
    {
     "name": "stderr",
     "output_type": "stream",
     "text": [
      "Epoch 2/3 [Training]: 100%|██████████| 322/322 [00:06<00:00, 47.53it/s, Loss=0.4599, Acc=79.109%]\n",
      "Epoch 2/3 [Validation]: 100%|██████████| 81/81 [00:00<00:00, 140.36it/s, Loss=0.4127, Acc=79.650%]\n"
     ]
    },
    {
     "name": "stdout",
     "output_type": "stream",
     "text": [
      "Epoch 2: Train Loss = 0.4539, Train Acc = 79.11% Validation Loss   = 0.4567, Validation Acc   = 79.65%\n"
     ]
    },
    {
     "name": "stderr",
     "output_type": "stream",
     "text": [
      "Epoch 3/3 [Training]: 100%|██████████| 322/322 [00:06<00:00, 47.70it/s, Loss=0.2858, Acc=83.516%]\n",
      "Epoch 3/3 [Validation]: 100%|██████████| 81/81 [00:00<00:00, 140.68it/s, Loss=0.4514, Acc=80.078%]\n",
      "[I 2025-03-31 13:18:43,925] Trial 16 finished with value: 0.45672746407396997 and parameters: {'embedding_dim': 300, 'hidden_dim': 128, 'is_bidirectional': True, 'lr': 0.0003325972534767375, 'dropout_rate': 0.5, 'lstm_layers': 3}. Best is trial 8 with value: 0.44042978444953024.\n"
     ]
    },
    {
     "name": "stdout",
     "output_type": "stream",
     "text": [
      "Epoch 3: Train Loss = 0.3712, Train Acc = 83.52% Validation Loss   = 0.4897, Validation Acc   = 80.08%\n",
      "Early stopping patience: 1/10\n",
      "\n",
      "Trial 17: Embedding_Dim: 300, Hidden_Dim: 128, Is Bidirectional: True, Learning Rate: 0.0006968431425277265, LSTM Layers: 3, Dropout Rate: 0.3\n"
     ]
    },
    {
     "name": "stderr",
     "output_type": "stream",
     "text": [
      "Epoch 1/3 [Training]: 100%|██████████| 322/322 [00:06<00:00, 47.71it/s, Loss=0.3132, Acc=67.168%]\n",
      "Epoch 1/3 [Validation]: 100%|██████████| 81/81 [00:00<00:00, 139.97it/s, Loss=0.3683, Acc=78.718%]\n"
     ]
    },
    {
     "name": "stdout",
     "output_type": "stream",
     "text": [
      "Epoch 1: Train Loss = 0.7577, Train Acc = 67.17% Validation Loss   = 0.4741, Validation Acc   = 78.72%\n"
     ]
    },
    {
     "name": "stderr",
     "output_type": "stream",
     "text": [
      "Epoch 2/3 [Training]: 100%|██████████| 322/322 [00:06<00:00, 47.80it/s, Loss=0.4368, Acc=81.274%]\n",
      "Epoch 2/3 [Validation]: 100%|██████████| 81/81 [00:00<00:00, 140.52it/s, Loss=0.5090, Acc=79.961%]\n"
     ]
    },
    {
     "name": "stdout",
     "output_type": "stream",
     "text": [
      "Epoch 2: Train Loss = 0.4245, Train Acc = 81.27% Validation Loss   = 0.4606, Validation Acc   = 79.96%\n"
     ]
    },
    {
     "name": "stderr",
     "output_type": "stream",
     "text": [
      "Epoch 3/3 [Training]: 100%|██████████| 322/322 [00:06<00:00, 47.39it/s, Loss=0.4113, Acc=86.943%]\n",
      "Epoch 3/3 [Validation]: 100%|██████████| 81/81 [00:00<00:00, 139.95it/s, Loss=0.6577, Acc=81.476%]\n",
      "[I 2025-03-31 13:19:06,335] Trial 17 finished with value: 0.4606276233623057 and parameters: {'embedding_dim': 300, 'hidden_dim': 128, 'is_bidirectional': True, 'lr': 0.0006968431425277265, 'dropout_rate': 0.3, 'lstm_layers': 3}. Best is trial 8 with value: 0.44042978444953024.\n"
     ]
    },
    {
     "name": "stdout",
     "output_type": "stream",
     "text": [
      "Epoch 3: Train Loss = 0.3164, Train Acc = 86.94% Validation Loss   = 0.4834, Validation Acc   = 81.48%\n",
      "Early stopping patience: 1/10\n",
      "\n",
      "Trial 18: Embedding_Dim: 200, Hidden_Dim: 256, Is Bidirectional: False, Learning Rate: 0.0005413356538841568, LSTM Layers: 2, Dropout Rate: 0.5\n"
     ]
    },
    {
     "name": "stderr",
     "output_type": "stream",
     "text": [
      "Epoch 1/3 [Training]: 100%|██████████| 322/322 [00:07<00:00, 44.89it/s, Loss=0.5757, Acc=61.179%]\n",
      "Epoch 1/3 [Validation]: 100%|██████████| 81/81 [00:00<00:00, 129.37it/s, Loss=0.3393, Acc=75.767%]\n"
     ]
    },
    {
     "name": "stdout",
     "output_type": "stream",
     "text": [
      "Epoch 1: Train Loss = 0.8953, Train Acc = 61.18% Validation Loss   = 0.5393, Validation Acc   = 75.77%\n"
     ]
    },
    {
     "name": "stderr",
     "output_type": "stream",
     "text": [
      "Epoch 2/3 [Training]: 100%|██████████| 322/322 [00:07<00:00, 44.65it/s, Loss=0.4071, Acc=77.624%]\n",
      "Epoch 2/3 [Validation]: 100%|██████████| 81/81 [00:00<00:00, 127.51it/s, Loss=0.3801, Acc=78.913%]\n"
     ]
    },
    {
     "name": "stdout",
     "output_type": "stream",
     "text": [
      "Epoch 2: Train Loss = 0.4896, Train Acc = 77.62% Validation Loss   = 0.4948, Validation Acc   = 78.91%\n"
     ]
    },
    {
     "name": "stderr",
     "output_type": "stream",
     "text": [
      "Epoch 3/3 [Training]: 100%|██████████| 322/322 [00:07<00:00, 44.80it/s, Loss=0.3644, Acc=82.332%]\n",
      "Epoch 3/3 [Validation]: 100%|██████████| 81/81 [00:00<00:00, 130.40it/s, Loss=0.3145, Acc=79.728%]\n",
      "[I 2025-03-31 13:19:30,075] Trial 18 finished with value: 0.49017162289884353 and parameters: {'embedding_dim': 200, 'hidden_dim': 256, 'is_bidirectional': False, 'lr': 0.0005413356538841568, 'dropout_rate': 0.5, 'lstm_layers': 2}. Best is trial 8 with value: 0.44042978444953024.\n"
     ]
    },
    {
     "name": "stdout",
     "output_type": "stream",
     "text": [
      "Epoch 3: Train Loss = 0.4125, Train Acc = 82.33% Validation Loss   = 0.4902, Validation Acc   = 79.73%\n",
      "\n",
      "Trial 19: Embedding_Dim: 300, Hidden_Dim: 128, Is Bidirectional: True, Learning Rate: 0.00034777750330120466, LSTM Layers: 3, Dropout Rate: 0.3\n"
     ]
    },
    {
     "name": "stderr",
     "output_type": "stream",
     "text": [
      "Epoch 1/3 [Training]: 100%|██████████| 322/322 [00:06<00:00, 47.59it/s, Loss=0.3403, Acc=61.596%]\n",
      "Epoch 1/3 [Validation]: 100%|██████████| 81/81 [00:00<00:00, 140.55it/s, Loss=0.4336, Acc=77.204%]\n"
     ]
    },
    {
     "name": "stdout",
     "output_type": "stream",
     "text": [
      "Epoch 1: Train Loss = 0.8924, Train Acc = 61.60% Validation Loss   = 0.4901, Validation Acc   = 77.20%\n"
     ]
    },
    {
     "name": "stderr",
     "output_type": "stream",
     "text": [
      "Epoch 2/3 [Training]: 100%|██████████| 322/322 [00:06<00:00, 47.65it/s, Loss=0.3464, Acc=80.429%]\n",
      "Epoch 2/3 [Validation]: 100%|██████████| 81/81 [00:00<00:00, 140.04it/s, Loss=0.4059, Acc=79.417%]\n"
     ]
    },
    {
     "name": "stdout",
     "output_type": "stream",
     "text": [
      "Epoch 2: Train Loss = 0.4492, Train Acc = 80.43% Validation Loss   = 0.4631, Validation Acc   = 79.42%\n"
     ]
    },
    {
     "name": "stderr",
     "output_type": "stream",
     "text": [
      "Epoch 3/3 [Training]: 100%|██████████| 322/322 [00:06<00:00, 47.73it/s, Loss=0.1939, Acc=84.108%]\n",
      "Epoch 3/3 [Validation]: 100%|██████████| 81/81 [00:00<00:00, 142.47it/s, Loss=0.3442, Acc=80.621%]\n",
      "[I 2025-03-31 13:19:52,464] Trial 19 finished with value: 0.46313217907776066 and parameters: {'embedding_dim': 300, 'hidden_dim': 128, 'is_bidirectional': True, 'lr': 0.00034777750330120466, 'dropout_rate': 0.3, 'lstm_layers': 3}. Best is trial 8 with value: 0.44042978444953024.\n"
     ]
    },
    {
     "name": "stdout",
     "output_type": "stream",
     "text": [
      "Epoch 3: Train Loss = 0.3643, Train Acc = 84.11% Validation Loss   = 0.4667, Validation Acc   = 80.62%\n",
      "Early stopping patience: 1/10\n",
      "\n",
      "Trial 20: Embedding_Dim: 300, Hidden_Dim: 128, Is Bidirectional: True, Learning Rate: 0.0008249915019709368, LSTM Layers: 3, Dropout Rate: 0.3\n"
     ]
    },
    {
     "name": "stderr",
     "output_type": "stream",
     "text": [
      "Epoch 1/3 [Training]: 100%|██████████| 322/322 [00:06<00:00, 47.76it/s, Loss=0.6655, Acc=65.926%]\n",
      "Epoch 1/3 [Validation]: 100%|██████████| 81/81 [00:00<00:00, 142.57it/s, Loss=0.4984, Acc=76.777%]\n"
     ]
    },
    {
     "name": "stdout",
     "output_type": "stream",
     "text": [
      "Epoch 1: Train Loss = 0.7623, Train Acc = 65.93% Validation Loss   = 0.4999, Validation Acc   = 76.78%\n"
     ]
    },
    {
     "name": "stderr",
     "output_type": "stream",
     "text": [
      "Epoch 2/3 [Training]: 100%|██████████| 322/322 [00:06<00:00, 47.61it/s, Loss=0.3782, Acc=79.924%]\n",
      "Epoch 2/3 [Validation]: 100%|██████████| 81/81 [00:00<00:00, 139.35it/s, Loss=0.6040, Acc=79.573%]\n"
     ]
    },
    {
     "name": "stdout",
     "output_type": "stream",
     "text": [
      "Epoch 2: Train Loss = 0.4364, Train Acc = 79.92% Validation Loss   = 0.4772, Validation Acc   = 79.57%\n"
     ]
    },
    {
     "name": "stderr",
     "output_type": "stream",
     "text": [
      "Epoch 3/3 [Training]: 100%|██████████| 322/322 [00:06<00:00, 47.55it/s, Loss=0.2732, Acc=85.108%]\n",
      "Epoch 3/3 [Validation]: 100%|██████████| 81/81 [00:00<00:00, 139.80it/s, Loss=0.5713, Acc=80.660%]\n",
      "[I 2025-03-31 13:20:14,863] Trial 20 finished with value: 0.46832824452423755 and parameters: {'embedding_dim': 300, 'hidden_dim': 128, 'is_bidirectional': True, 'lr': 0.0008249915019709368, 'dropout_rate': 0.3, 'lstm_layers': 3}. Best is trial 8 with value: 0.44042978444953024.\n"
     ]
    },
    {
     "name": "stdout",
     "output_type": "stream",
     "text": [
      "Epoch 3: Train Loss = 0.3452, Train Acc = 85.11% Validation Loss   = 0.4683, Validation Acc   = 80.66%\n",
      "\n",
      "Trial 21: Embedding_Dim: 300, Hidden_Dim: 128, Is Bidirectional: True, Learning Rate: 0.0004452513528102565, LSTM Layers: 2, Dropout Rate: 0.5\n"
     ]
    },
    {
     "name": "stderr",
     "output_type": "stream",
     "text": [
      "Epoch 1/3 [Training]: 100%|██████████| 322/322 [00:05<00:00, 57.71it/s, Loss=0.3297, Acc=66.362%]\n",
      "Epoch 1/3 [Validation]: 100%|██████████| 81/81 [00:00<00:00, 174.50it/s, Loss=0.4111, Acc=79.650%]\n"
     ]
    },
    {
     "name": "stdout",
     "output_type": "stream",
     "text": [
      "Epoch 1: Train Loss = 0.8052, Train Acc = 66.36% Validation Loss   = 0.4733, Validation Acc   = 79.65%\n"
     ]
    },
    {
     "name": "stderr",
     "output_type": "stream",
     "text": [
      "Epoch 2/3 [Training]: 100%|██████████| 322/322 [00:05<00:00, 57.80it/s, Loss=0.4763, Acc=82.477%]\n",
      "Epoch 2/3 [Validation]: 100%|██████████| 81/81 [00:00<00:00, 172.98it/s, Loss=0.6107, Acc=81.010%]\n"
     ]
    },
    {
     "name": "stdout",
     "output_type": "stream",
     "text": [
      "Epoch 2: Train Loss = 0.4164, Train Acc = 82.48% Validation Loss   = 0.4532, Validation Acc   = 81.01%\n"
     ]
    },
    {
     "name": "stderr",
     "output_type": "stream",
     "text": [
      "Epoch 3/3 [Training]: 100%|██████████| 322/322 [00:05<00:00, 57.61it/s, Loss=0.3341, Acc=86.992%]\n",
      "Epoch 3/3 [Validation]: 100%|██████████| 81/81 [00:00<00:00, 174.77it/s, Loss=0.7496, Acc=81.049%]\n",
      "[I 2025-03-31 13:20:33,388] Trial 21 finished with value: 0.4532037890619702 and parameters: {'embedding_dim': 300, 'hidden_dim': 128, 'is_bidirectional': True, 'lr': 0.0004452513528102565, 'dropout_rate': 0.5, 'lstm_layers': 2}. Best is trial 8 with value: 0.44042978444953024.\n"
     ]
    },
    {
     "name": "stdout",
     "output_type": "stream",
     "text": [
      "Epoch 3: Train Loss = 0.3169, Train Acc = 86.99% Validation Loss   = 0.4667, Validation Acc   = 81.05%\n",
      "Early stopping patience: 1/10\n",
      "\n",
      "Trial 22: Embedding_Dim: 300, Hidden_Dim: 128, Is Bidirectional: True, Learning Rate: 0.0005088638245033547, LSTM Layers: 2, Dropout Rate: 0.5\n"
     ]
    },
    {
     "name": "stderr",
     "output_type": "stream",
     "text": [
      "Epoch 1/3 [Training]: 100%|██████████| 322/322 [00:05<00:00, 57.28it/s, Loss=0.4390, Acc=68.343%]\n",
      "Epoch 1/3 [Validation]: 100%|██████████| 81/81 [00:00<00:00, 171.96it/s, Loss=0.3588, Acc=80.738%]\n"
     ]
    },
    {
     "name": "stdout",
     "output_type": "stream",
     "text": [
      "Epoch 1: Train Loss = 0.7979, Train Acc = 68.34% Validation Loss   = 0.4447, Validation Acc   = 80.74%\n"
     ]
    },
    {
     "name": "stderr",
     "output_type": "stream",
     "text": [
      "Epoch 2/3 [Training]: 100%|██████████| 322/322 [00:05<00:00, 57.65it/s, Loss=0.4283, Acc=83.235%]\n",
      "Epoch 2/3 [Validation]: 100%|██████████| 81/81 [00:00<00:00, 172.24it/s, Loss=0.4231, Acc=82.058%]\n"
     ]
    },
    {
     "name": "stdout",
     "output_type": "stream",
     "text": [
      "Epoch 2: Train Loss = 0.4070, Train Acc = 83.23% Validation Loss   = 0.4204, Validation Acc   = 82.06%\n"
     ]
    },
    {
     "name": "stderr",
     "output_type": "stream",
     "text": [
      "Epoch 3/3 [Training]: 100%|██████████| 322/322 [00:05<00:00, 57.63it/s, Loss=0.2476, Acc=87.089%]\n",
      "Epoch 3/3 [Validation]: 100%|██████████| 81/81 [00:00<00:00, 172.66it/s, Loss=0.8216, Acc=81.049%]\n",
      "[I 2025-03-31 13:20:51,981] Trial 22 finished with value: 0.4203503242245427 and parameters: {'embedding_dim': 300, 'hidden_dim': 128, 'is_bidirectional': True, 'lr': 0.0005088638245033547, 'dropout_rate': 0.5, 'lstm_layers': 2}. Best is trial 22 with value: 0.4203503242245427.\n"
     ]
    },
    {
     "name": "stdout",
     "output_type": "stream",
     "text": [
      "Epoch 3: Train Loss = 0.3134, Train Acc = 87.09% Validation Loss   = 0.4510, Validation Acc   = 81.05%\n",
      "Early stopping patience: 1/10\n",
      "\n",
      "Trial 23: Embedding_Dim: 300, Hidden_Dim: 128, Is Bidirectional: True, Learning Rate: 0.0005697742154625984, LSTM Layers: 2, Dropout Rate: 0.5\n"
     ]
    },
    {
     "name": "stderr",
     "output_type": "stream",
     "text": [
      "Epoch 1/3 [Training]: 100%|██████████| 322/322 [00:05<00:00, 57.69it/s, Loss=0.4887, Acc=68.459%]\n",
      "Epoch 1/3 [Validation]: 100%|██████████| 81/81 [00:00<00:00, 173.20it/s, Loss=0.4419, Acc=80.078%]\n"
     ]
    },
    {
     "name": "stdout",
     "output_type": "stream",
     "text": [
      "Epoch 1: Train Loss = 0.7605, Train Acc = 68.46% Validation Loss   = 0.4580, Validation Acc   = 80.08%\n"
     ]
    },
    {
     "name": "stderr",
     "output_type": "stream",
     "text": [
      "Epoch 2/3 [Training]: 100%|██████████| 322/322 [00:05<00:00, 57.74it/s, Loss=0.5432, Acc=82.545%]\n",
      "Epoch 2/3 [Validation]: 100%|██████████| 81/81 [00:00<00:00, 171.75it/s, Loss=0.2709, Acc=81.165%]\n"
     ]
    },
    {
     "name": "stdout",
     "output_type": "stream",
     "text": [
      "Epoch 2: Train Loss = 0.4021, Train Acc = 82.55% Validation Loss   = 0.4458, Validation Acc   = 81.17%\n"
     ]
    },
    {
     "name": "stderr",
     "output_type": "stream",
     "text": [
      "Epoch 3/3 [Training]: 100%|██████████| 322/322 [00:05<00:00, 57.36it/s, Loss=0.2933, Acc=87.098%]\n",
      "Epoch 3/3 [Validation]: 100%|██████████| 81/81 [00:00<00:00, 172.97it/s, Loss=0.3071, Acc=81.553%]\n",
      "[I 2025-03-31 13:21:10,557] Trial 23 finished with value: 0.4395539050484881 and parameters: {'embedding_dim': 300, 'hidden_dim': 128, 'is_bidirectional': True, 'lr': 0.0005697742154625984, 'dropout_rate': 0.5, 'lstm_layers': 2}. Best is trial 22 with value: 0.4203503242245427.\n"
     ]
    },
    {
     "name": "stdout",
     "output_type": "stream",
     "text": [
      "Epoch 3: Train Loss = 0.3067, Train Acc = 87.10% Validation Loss   = 0.4396, Validation Acc   = 81.55%\n",
      "\n",
      "Trial 24: Embedding_Dim: 300, Hidden_Dim: 128, Is Bidirectional: True, Learning Rate: 0.0006827443205702558, LSTM Layers: 2, Dropout Rate: 0.5\n"
     ]
    },
    {
     "name": "stderr",
     "output_type": "stream",
     "text": [
      "Epoch 1/3 [Training]: 100%|██████████| 322/322 [00:05<00:00, 57.73it/s, Loss=0.3937, Acc=70.013%]\n",
      "Epoch 1/3 [Validation]: 100%|██████████| 81/81 [00:00<00:00, 173.04it/s, Loss=0.4162, Acc=79.146%]\n"
     ]
    },
    {
     "name": "stdout",
     "output_type": "stream",
     "text": [
      "Epoch 1: Train Loss = 0.7218, Train Acc = 70.01% Validation Loss   = 0.4693, Validation Acc   = 79.15%\n"
     ]
    },
    {
     "name": "stderr",
     "output_type": "stream",
     "text": [
      "Epoch 2/3 [Training]: 100%|██████████| 322/322 [00:05<00:00, 57.65it/s, Loss=0.4105, Acc=83.807%]\n",
      "Epoch 2/3 [Validation]: 100%|██████████| 81/81 [00:00<00:00, 172.17it/s, Loss=0.3709, Acc=80.583%]\n"
     ]
    },
    {
     "name": "stdout",
     "output_type": "stream",
     "text": [
      "Epoch 2: Train Loss = 0.3828, Train Acc = 83.81% Validation Loss   = 0.4626, Validation Acc   = 80.58%\n"
     ]
    },
    {
     "name": "stderr",
     "output_type": "stream",
     "text": [
      "Epoch 3/3 [Training]: 100%|██████████| 322/322 [00:05<00:00, 57.84it/s, Loss=0.1039, Acc=88.972%]\n",
      "Epoch 3/3 [Validation]: 100%|██████████| 81/81 [00:00<00:00, 174.35it/s, Loss=0.3954, Acc=80.350%]\n",
      "[I 2025-03-31 13:21:29,079] Trial 24 finished with value: 0.46264394749829796 and parameters: {'embedding_dim': 300, 'hidden_dim': 128, 'is_bidirectional': True, 'lr': 0.0006827443205702558, 'dropout_rate': 0.5, 'lstm_layers': 2}. Best is trial 22 with value: 0.4203503242245427.\n"
     ]
    },
    {
     "name": "stdout",
     "output_type": "stream",
     "text": [
      "Epoch 3: Train Loss = 0.2801, Train Acc = 88.97% Validation Loss   = 0.4888, Validation Acc   = 80.35%\n",
      "Early stopping patience: 1/10\n",
      "\n",
      "Trial 25: Embedding_Dim: 300, Hidden_Dim: 128, Is Bidirectional: True, Learning Rate: 0.000262146158177483, LSTM Layers: 2, Dropout Rate: 0.5\n"
     ]
    },
    {
     "name": "stderr",
     "output_type": "stream",
     "text": [
      "Epoch 1/3 [Training]: 100%|██████████| 322/322 [00:05<00:00, 57.75it/s, Loss=0.6583, Acc=60.441%]\n",
      "Epoch 1/3 [Validation]: 100%|██████████| 81/81 [00:00<00:00, 172.45it/s, Loss=0.4333, Acc=76.660%]\n"
     ]
    },
    {
     "name": "stdout",
     "output_type": "stream",
     "text": [
      "Epoch 1: Train Loss = 0.9516, Train Acc = 60.44% Validation Loss   = 0.5094, Validation Acc   = 76.66%\n"
     ]
    },
    {
     "name": "stderr",
     "output_type": "stream",
     "text": [
      "Epoch 2/3 [Training]: 100%|██████████| 322/322 [00:05<00:00, 57.04it/s, Loss=0.4205, Acc=79.662%]\n",
      "Epoch 2/3 [Validation]: 100%|██████████| 81/81 [00:00<00:00, 170.59it/s, Loss=0.3316, Acc=79.767%]\n"
     ]
    },
    {
     "name": "stdout",
     "output_type": "stream",
     "text": [
      "Epoch 2: Train Loss = 0.4557, Train Acc = 79.66% Validation Loss   = 0.4607, Validation Acc   = 79.77%\n"
     ]
    },
    {
     "name": "stderr",
     "output_type": "stream",
     "text": [
      "Epoch 3/3 [Training]: 100%|██████████| 322/322 [00:05<00:00, 57.68it/s, Loss=0.3420, Acc=83.118%]\n",
      "Epoch 3/3 [Validation]: 100%|██████████| 81/81 [00:00<00:00, 170.62it/s, Loss=0.3582, Acc=80.311%]\n",
      "[I 2025-03-31 13:21:47,738] Trial 25 finished with value: 0.4502849096869245 and parameters: {'embedding_dim': 300, 'hidden_dim': 128, 'is_bidirectional': True, 'lr': 0.000262146158177483, 'dropout_rate': 0.5, 'lstm_layers': 2}. Best is trial 22 with value: 0.4203503242245427.\n"
     ]
    },
    {
     "name": "stdout",
     "output_type": "stream",
     "text": [
      "Epoch 3: Train Loss = 0.3792, Train Acc = 83.12% Validation Loss   = 0.4503, Validation Acc   = 80.31%\n",
      "\n",
      "Trial 26: Embedding_Dim: 200, Hidden_Dim: 256, Is Bidirectional: False, Learning Rate: 0.00048169859881954714, LSTM Layers: 2, Dropout Rate: 0.5\n"
     ]
    },
    {
     "name": "stderr",
     "output_type": "stream",
     "text": [
      "Epoch 1/3 [Training]: 100%|██████████| 322/322 [00:07<00:00, 45.10it/s, Loss=0.6366, Acc=63.266%]\n",
      "Epoch 1/3 [Validation]: 100%|██████████| 81/81 [00:00<00:00, 130.59it/s, Loss=0.6038, Acc=75.689%]\n"
     ]
    },
    {
     "name": "stdout",
     "output_type": "stream",
     "text": [
      "Epoch 1: Train Loss = 0.8762, Train Acc = 63.27% Validation Loss   = 0.5349, Validation Acc   = 75.69%\n"
     ]
    },
    {
     "name": "stderr",
     "output_type": "stream",
     "text": [
      "Epoch 2/3 [Training]: 100%|██████████| 322/322 [00:07<00:00, 45.06it/s, Loss=0.7381, Acc=78.517%]\n",
      "Epoch 2/3 [Validation]: 100%|██████████| 81/81 [00:00<00:00, 125.68it/s, Loss=0.3317, Acc=79.146%]\n"
     ]
    },
    {
     "name": "stdout",
     "output_type": "stream",
     "text": [
      "Epoch 2: Train Loss = 0.4990, Train Acc = 78.52% Validation Loss   = 0.5193, Validation Acc   = 79.15%\n"
     ]
    },
    {
     "name": "stderr",
     "output_type": "stream",
     "text": [
      "Epoch 3/3 [Training]: 100%|██████████| 322/322 [00:07<00:00, 45.04it/s, Loss=0.3287, Acc=82.604%]\n",
      "Epoch 3/3 [Validation]: 100%|██████████| 81/81 [00:00<00:00, 125.01it/s, Loss=0.4448, Acc=80.000%]\n",
      "[I 2025-03-31 13:22:11,365] Trial 26 finished with value: 0.47790572543938953 and parameters: {'embedding_dim': 200, 'hidden_dim': 256, 'is_bidirectional': False, 'lr': 0.00048169859881954714, 'dropout_rate': 0.5, 'lstm_layers': 2}. Best is trial 22 with value: 0.4203503242245427.\n"
     ]
    },
    {
     "name": "stdout",
     "output_type": "stream",
     "text": [
      "Epoch 3: Train Loss = 0.4169, Train Acc = 82.60% Validation Loss   = 0.4779, Validation Acc   = 80.00%\n",
      "\n",
      "Trial 27: Embedding_Dim: 300, Hidden_Dim: 128, Is Bidirectional: True, Learning Rate: 0.0003541628028663592, LSTM Layers: 2, Dropout Rate: 0.5\n"
     ]
    },
    {
     "name": "stderr",
     "output_type": "stream",
     "text": [
      "Epoch 1/3 [Training]: 100%|██████████| 322/322 [00:05<00:00, 57.74it/s, Loss=0.8400, Acc=65.411%]\n",
      "Epoch 1/3 [Validation]: 100%|██████████| 81/81 [00:00<00:00, 171.11it/s, Loss=0.5166, Acc=78.757%]\n"
     ]
    },
    {
     "name": "stdout",
     "output_type": "stream",
     "text": [
      "Epoch 1: Train Loss = 0.8489, Train Acc = 65.41% Validation Loss   = 0.4746, Validation Acc   = 78.76%\n"
     ]
    },
    {
     "name": "stderr",
     "output_type": "stream",
     "text": [
      "Epoch 2/3 [Training]: 100%|██████████| 322/322 [00:05<00:00, 57.69it/s, Loss=0.4789, Acc=81.526%]\n",
      "Epoch 2/3 [Validation]: 100%|██████████| 81/81 [00:00<00:00, 171.95it/s, Loss=0.4292, Acc=80.078%]\n"
     ]
    },
    {
     "name": "stdout",
     "output_type": "stream",
     "text": [
      "Epoch 2: Train Loss = 0.4312, Train Acc = 81.53% Validation Loss   = 0.4455, Validation Acc   = 80.08%\n"
     ]
    },
    {
     "name": "stderr",
     "output_type": "stream",
     "text": [
      "Epoch 3/3 [Training]: 100%|██████████| 322/322 [00:05<00:00, 57.68it/s, Loss=0.7150, Acc=85.409%]\n",
      "Epoch 3/3 [Validation]: 100%|██████████| 81/81 [00:00<00:00, 172.29it/s, Loss=0.5208, Acc=79.767%]\n",
      "[I 2025-03-31 13:22:29,916] Trial 27 finished with value: 0.44551366769973144 and parameters: {'embedding_dim': 300, 'hidden_dim': 128, 'is_bidirectional': True, 'lr': 0.0003541628028663592, 'dropout_rate': 0.5, 'lstm_layers': 2}. Best is trial 22 with value: 0.4203503242245427.\n"
     ]
    },
    {
     "name": "stdout",
     "output_type": "stream",
     "text": [
      "Epoch 3: Train Loss = 0.3393, Train Acc = 85.41% Validation Loss   = 0.4645, Validation Acc   = 79.77%\n",
      "Early stopping patience: 1/10\n",
      "\n",
      "Trial 28: Embedding_Dim: 300, Hidden_Dim: 128, Is Bidirectional: True, Learning Rate: 0.000800029109974043, LSTM Layers: 2, Dropout Rate: 0.5\n"
     ]
    },
    {
     "name": "stderr",
     "output_type": "stream",
     "text": [
      "Epoch 1/3 [Training]: 100%|██████████| 322/322 [00:05<00:00, 57.87it/s, Loss=0.6831, Acc=71.760%]\n",
      "Epoch 1/3 [Validation]: 100%|██████████| 81/81 [00:00<00:00, 172.03it/s, Loss=0.3675, Acc=80.932%]\n"
     ]
    },
    {
     "name": "stdout",
     "output_type": "stream",
     "text": [
      "Epoch 1: Train Loss = 0.6848, Train Acc = 71.76% Validation Loss   = 0.4394, Validation Acc   = 80.93%\n"
     ]
    },
    {
     "name": "stderr",
     "output_type": "stream",
     "text": [
      "Epoch 2/3 [Training]: 100%|██████████| 322/322 [00:05<00:00, 57.63it/s, Loss=0.2181, Acc=83.477%]\n",
      "Epoch 2/3 [Validation]: 100%|██████████| 81/81 [00:00<00:00, 165.38it/s, Loss=0.3202, Acc=81.165%]\n"
     ]
    },
    {
     "name": "stdout",
     "output_type": "stream",
     "text": [
      "Epoch 2: Train Loss = 0.3926, Train Acc = 83.48% Validation Loss   = 0.4398, Validation Acc   = 81.17%\n",
      "Early stopping patience: 1/10\n"
     ]
    },
    {
     "name": "stderr",
     "output_type": "stream",
     "text": [
      "Epoch 3/3 [Training]: 100%|██████████| 322/322 [00:05<00:00, 57.53it/s, Loss=0.5087, Acc=87.982%]\n",
      "Epoch 3/3 [Validation]: 100%|██████████| 81/81 [00:00<00:00, 171.98it/s, Loss=0.1772, Acc=83.107%]\n",
      "[I 2025-03-31 13:22:48,485] Trial 28 finished with value: 0.43942422741725123 and parameters: {'embedding_dim': 300, 'hidden_dim': 128, 'is_bidirectional': True, 'lr': 0.000800029109974043, 'dropout_rate': 0.5, 'lstm_layers': 2}. Best is trial 22 with value: 0.4203503242245427.\n"
     ]
    },
    {
     "name": "stdout",
     "output_type": "stream",
     "text": [
      "Epoch 3: Train Loss = 0.2902, Train Acc = 87.98% Validation Loss   = 0.4618, Validation Acc   = 83.11%\n",
      "Early stopping patience: 2/10\n",
      "\n",
      "Trial 29: Embedding_Dim: 200, Hidden_Dim: 128, Is Bidirectional: False, Learning Rate: 0.0007937364869631809, LSTM Layers: 2, Dropout Rate: 0.5\n"
     ]
    },
    {
     "name": "stderr",
     "output_type": "stream",
     "text": [
      "Epoch 1/3 [Training]: 100%|██████████| 322/322 [00:03<00:00, 88.50it/s, Loss=0.4981, Acc=63.829%]\n",
      "Epoch 1/3 [Validation]: 100%|██████████| 81/81 [00:00<00:00, 238.80it/s, Loss=0.5086, Acc=75.612%]\n"
     ]
    },
    {
     "name": "stdout",
     "output_type": "stream",
     "text": [
      "Epoch 1: Train Loss = 0.8595, Train Acc = 63.83% Validation Loss   = 0.5249, Validation Acc   = 75.61%\n"
     ]
    },
    {
     "name": "stderr",
     "output_type": "stream",
     "text": [
      "Epoch 2/3 [Training]: 100%|██████████| 322/322 [00:03<00:00, 88.80it/s, Loss=0.4939, Acc=78.672%]\n",
      "Epoch 2/3 [Validation]: 100%|██████████| 81/81 [00:00<00:00, 241.73it/s, Loss=0.6820, Acc=78.175%]\n"
     ]
    },
    {
     "name": "stdout",
     "output_type": "stream",
     "text": [
      "Epoch 2: Train Loss = 0.4741, Train Acc = 78.67% Validation Loss   = 0.4920, Validation Acc   = 78.17%\n"
     ]
    },
    {
     "name": "stderr",
     "output_type": "stream",
     "text": [
      "Epoch 3/3 [Training]: 100%|██████████| 322/322 [00:03<00:00, 88.50it/s, Loss=0.3157, Acc=82.235%]\n",
      "Epoch 3/3 [Validation]: 100%|██████████| 81/81 [00:00<00:00, 233.19it/s, Loss=0.6117, Acc=79.029%]\n",
      "[I 2025-03-31 13:23:00,676] Trial 29 finished with value: 0.48616125995730175 and parameters: {'embedding_dim': 200, 'hidden_dim': 128, 'is_bidirectional': False, 'lr': 0.0007937364869631809, 'dropout_rate': 0.5, 'lstm_layers': 2}. Best is trial 22 with value: 0.4203503242245427.\n"
     ]
    },
    {
     "name": "stdout",
     "output_type": "stream",
     "text": [
      "Epoch 3: Train Loss = 0.3965, Train Acc = 82.23% Validation Loss   = 0.4862, Validation Acc   = 79.03%\n",
      "\n",
      "Trial 30: Embedding_Dim: 300, Hidden_Dim: 128, Is Bidirectional: True, Learning Rate: 0.00010446853613965989, LSTM Layers: 2, Dropout Rate: 0.5\n"
     ]
    },
    {
     "name": "stderr",
     "output_type": "stream",
     "text": [
      "Epoch 1/3 [Training]: 100%|██████████| 322/322 [00:05<00:00, 57.89it/s, Loss=0.8031, Acc=46.908%]\n",
      "Epoch 1/3 [Validation]: 100%|██████████| 81/81 [00:00<00:00, 172.40it/s, Loss=0.6726, Acc=70.485%]\n"
     ]
    },
    {
     "name": "stdout",
     "output_type": "stream",
     "text": [
      "Epoch 1: Train Loss = 1.3723, Train Acc = 46.91% Validation Loss   = 0.6947, Validation Acc   = 70.49%\n"
     ]
    },
    {
     "name": "stderr",
     "output_type": "stream",
     "text": [
      "Epoch 2/3 [Training]: 100%|██████████| 322/322 [00:05<00:00, 57.71it/s, Loss=0.6465, Acc=74.886%]\n",
      "Epoch 2/3 [Validation]: 100%|██████████| 81/81 [00:00<00:00, 173.47it/s, Loss=0.6823, Acc=75.029%]\n"
     ]
    },
    {
     "name": "stdout",
     "output_type": "stream",
     "text": [
      "Epoch 2: Train Loss = 0.5712, Train Acc = 74.89% Validation Loss   = 0.5255, Validation Acc   = 75.03%\n"
     ]
    },
    {
     "name": "stderr",
     "output_type": "stream",
     "text": [
      "Epoch 3/3 [Training]: 100%|██████████| 322/322 [00:05<00:00, 57.50it/s, Loss=0.5036, Acc=78.953%]\n",
      "Epoch 3/3 [Validation]: 100%|██████████| 81/81 [00:00<00:00, 168.14it/s, Loss=0.5003, Acc=78.874%]\n",
      "[I 2025-03-31 13:23:19,236] Trial 30 finished with value: 0.48805523893715425 and parameters: {'embedding_dim': 300, 'hidden_dim': 128, 'is_bidirectional': True, 'lr': 0.00010446853613965989, 'dropout_rate': 0.5, 'lstm_layers': 2}. Best is trial 22 with value: 0.4203503242245427.\n"
     ]
    },
    {
     "name": "stdout",
     "output_type": "stream",
     "text": [
      "Epoch 3: Train Loss = 0.4617, Train Acc = 78.95% Validation Loss   = 0.4881, Validation Acc   = 78.87%\n",
      "\n",
      "Trial 31: Embedding_Dim: 300, Hidden_Dim: 128, Is Bidirectional: True, Learning Rate: 0.0008875710112716654, LSTM Layers: 2, Dropout Rate: 0.5\n"
     ]
    },
    {
     "name": "stderr",
     "output_type": "stream",
     "text": [
      "Epoch 1/3 [Training]: 100%|██████████| 322/322 [00:05<00:00, 57.80it/s, Loss=0.5235, Acc=71.527%]\n",
      "Epoch 1/3 [Validation]: 100%|██████████| 81/81 [00:00<00:00, 175.27it/s, Loss=0.3151, Acc=80.621%]\n"
     ]
    },
    {
     "name": "stdout",
     "output_type": "stream",
     "text": [
      "Epoch 1: Train Loss = 0.6880, Train Acc = 71.53% Validation Loss   = 0.4407, Validation Acc   = 80.62%\n"
     ]
    },
    {
     "name": "stderr",
     "output_type": "stream",
     "text": [
      "Epoch 2/3 [Training]: 100%|██████████| 322/322 [00:05<00:00, 57.67it/s, Loss=0.2933, Acc=83.341%]\n",
      "Epoch 2/3 [Validation]: 100%|██████████| 81/81 [00:00<00:00, 173.23it/s, Loss=0.2072, Acc=80.427%]\n"
     ]
    },
    {
     "name": "stdout",
     "output_type": "stream",
     "text": [
      "Epoch 2: Train Loss = 0.3890, Train Acc = 83.34% Validation Loss   = 0.4413, Validation Acc   = 80.43%\n",
      "Early stopping patience: 1/10\n"
     ]
    },
    {
     "name": "stderr",
     "output_type": "stream",
     "text": [
      "Epoch 3/3 [Training]: 100%|██████████| 322/322 [00:05<00:00, 57.77it/s, Loss=0.3987, Acc=87.691%]\n",
      "Epoch 3/3 [Validation]: 100%|██████████| 81/81 [00:00<00:00, 175.11it/s, Loss=0.2515, Acc=80.660%]\n",
      "[I 2025-03-31 13:23:37,746] Trial 31 finished with value: 0.4407082869682783 and parameters: {'embedding_dim': 300, 'hidden_dim': 128, 'is_bidirectional': True, 'lr': 0.0008875710112716654, 'dropout_rate': 0.5, 'lstm_layers': 2}. Best is trial 22 with value: 0.4203503242245427.\n"
     ]
    },
    {
     "name": "stdout",
     "output_type": "stream",
     "text": [
      "Epoch 3: Train Loss = 0.2951, Train Acc = 87.69% Validation Loss   = 0.4781, Validation Acc   = 80.66%\n",
      "Early stopping patience: 2/10\n",
      "\n",
      "Trial 32: Embedding_Dim: 300, Hidden_Dim: 128, Is Bidirectional: True, Learning Rate: 0.0006601111051600104, LSTM Layers: 2, Dropout Rate: 0.5\n"
     ]
    },
    {
     "name": "stderr",
     "output_type": "stream",
     "text": [
      "Epoch 1/3 [Training]: 100%|██████████| 322/322 [00:05<00:00, 57.46it/s, Loss=0.5749, Acc=68.731%]\n",
      "Epoch 1/3 [Validation]: 100%|██████████| 81/81 [00:00<00:00, 174.65it/s, Loss=0.4046, Acc=79.650%]\n"
     ]
    },
    {
     "name": "stdout",
     "output_type": "stream",
     "text": [
      "Epoch 1: Train Loss = 0.7499, Train Acc = 68.73% Validation Loss   = 0.4683, Validation Acc   = 79.65%\n"
     ]
    },
    {
     "name": "stderr",
     "output_type": "stream",
     "text": [
      "Epoch 2/3 [Training]: 100%|██████████| 322/322 [00:05<00:00, 57.46it/s, Loss=0.3394, Acc=82.895%]\n",
      "Epoch 2/3 [Validation]: 100%|██████████| 81/81 [00:00<00:00, 173.48it/s, Loss=0.4844, Acc=80.505%]\n"
     ]
    },
    {
     "name": "stdout",
     "output_type": "stream",
     "text": [
      "Epoch 2: Train Loss = 0.3934, Train Acc = 82.89% Validation Loss   = 0.4519, Validation Acc   = 80.50%\n"
     ]
    },
    {
     "name": "stderr",
     "output_type": "stream",
     "text": [
      "Epoch 3/3 [Training]: 100%|██████████| 322/322 [00:05<00:00, 57.84it/s, Loss=0.1686, Acc=87.933%]\n",
      "Epoch 3/3 [Validation]: 100%|██████████| 81/81 [00:00<00:00, 173.22it/s, Loss=0.6630, Acc=79.806%]\n",
      "[I 2025-03-31 13:23:56,313] Trial 32 finished with value: 0.4519293322975253 and parameters: {'embedding_dim': 300, 'hidden_dim': 128, 'is_bidirectional': True, 'lr': 0.0006601111051600104, 'dropout_rate': 0.5, 'lstm_layers': 2}. Best is trial 22 with value: 0.4203503242245427.\n"
     ]
    },
    {
     "name": "stdout",
     "output_type": "stream",
     "text": [
      "Epoch 3: Train Loss = 0.2991, Train Acc = 87.93% Validation Loss   = 0.4952, Validation Acc   = 79.81%\n",
      "Early stopping patience: 1/10\n",
      "\n",
      "Trial 33: Embedding_Dim: 300, Hidden_Dim: 128, Is Bidirectional: True, Learning Rate: 0.0005248953441155275, LSTM Layers: 2, Dropout Rate: 0.5\n"
     ]
    },
    {
     "name": "stderr",
     "output_type": "stream",
     "text": [
      "Epoch 1/3 [Training]: 100%|██████████| 322/322 [00:05<00:00, 57.79it/s, Loss=0.6165, Acc=67.964%]\n",
      "Epoch 1/3 [Validation]: 100%|██████████| 81/81 [00:00<00:00, 175.11it/s, Loss=0.3967, Acc=78.175%]\n"
     ]
    },
    {
     "name": "stdout",
     "output_type": "stream",
     "text": [
      "Epoch 1: Train Loss = 0.7680, Train Acc = 67.96% Validation Loss   = 0.4810, Validation Acc   = 78.17%\n"
     ]
    },
    {
     "name": "stderr",
     "output_type": "stream",
     "text": [
      "Epoch 2/3 [Training]: 100%|██████████| 322/322 [00:05<00:00, 57.84it/s, Loss=0.3181, Acc=82.021%]\n",
      "Epoch 2/3 [Validation]: 100%|██████████| 81/81 [00:00<00:00, 172.96it/s, Loss=0.2777, Acc=80.466%]\n"
     ]
    },
    {
     "name": "stdout",
     "output_type": "stream",
     "text": [
      "Epoch 2: Train Loss = 0.4084, Train Acc = 82.02% Validation Loss   = 0.4533, Validation Acc   = 80.47%\n"
     ]
    },
    {
     "name": "stderr",
     "output_type": "stream",
     "text": [
      "Epoch 3/3 [Training]: 100%|██████████| 322/322 [00:05<00:00, 57.79it/s, Loss=0.5729, Acc=86.467%]\n",
      "Epoch 3/3 [Validation]: 100%|██████████| 81/81 [00:00<00:00, 172.15it/s, Loss=0.3475, Acc=81.010%]\n",
      "[I 2025-03-31 13:24:14,814] Trial 33 finished with value: 0.45171638624167737 and parameters: {'embedding_dim': 300, 'hidden_dim': 128, 'is_bidirectional': True, 'lr': 0.0005248953441155275, 'dropout_rate': 0.5, 'lstm_layers': 2}. Best is trial 22 with value: 0.4203503242245427.\n"
     ]
    },
    {
     "name": "stdout",
     "output_type": "stream",
     "text": [
      "Epoch 3: Train Loss = 0.3263, Train Acc = 86.47% Validation Loss   = 0.4517, Validation Acc   = 81.01%\n",
      "\n",
      "Trial 34: Embedding_Dim: 300, Hidden_Dim: 128, Is Bidirectional: False, Learning Rate: 0.0007702649060163767, LSTM Layers: 2, Dropout Rate: 0.5\n"
     ]
    },
    {
     "name": "stderr",
     "output_type": "stream",
     "text": [
      "Epoch 1/3 [Training]: 100%|██████████| 322/322 [00:04<00:00, 74.10it/s, Loss=0.7148, Acc=64.916%]\n",
      "Epoch 1/3 [Validation]: 100%|██████████| 81/81 [00:00<00:00, 241.11it/s, Loss=0.3592, Acc=76.583%]\n"
     ]
    },
    {
     "name": "stdout",
     "output_type": "stream",
     "text": [
      "Epoch 1: Train Loss = 0.8279, Train Acc = 64.92% Validation Loss   = 0.5079, Validation Acc   = 76.58%\n"
     ]
    },
    {
     "name": "stderr",
     "output_type": "stream",
     "text": [
      "Epoch 2/3 [Training]: 100%|██████████| 322/322 [00:04<00:00, 74.73it/s, Loss=0.3219, Acc=79.798%]\n",
      "Epoch 2/3 [Validation]: 100%|██████████| 81/81 [00:00<00:00, 236.13it/s, Loss=0.3011, Acc=79.068%]\n"
     ]
    },
    {
     "name": "stdout",
     "output_type": "stream",
     "text": [
      "Epoch 2: Train Loss = 0.4439, Train Acc = 79.80% Validation Loss   = 0.4763, Validation Acc   = 79.07%\n"
     ]
    },
    {
     "name": "stderr",
     "output_type": "stream",
     "text": [
      "Epoch 3/3 [Training]: 100%|██████████| 322/322 [00:04<00:00, 74.85it/s, Loss=0.4061, Acc=85.137%]\n",
      "Epoch 3/3 [Validation]: 100%|██████████| 81/81 [00:00<00:00, 218.82it/s, Loss=0.4210, Acc=79.845%]\n",
      "[I 2025-03-31 13:24:29,201] Trial 34 finished with value: 0.47630143643897255 and parameters: {'embedding_dim': 300, 'hidden_dim': 128, 'is_bidirectional': False, 'lr': 0.0007702649060163767, 'dropout_rate': 0.5, 'lstm_layers': 2}. Best is trial 22 with value: 0.4203503242245427.\n"
     ]
    },
    {
     "name": "stdout",
     "output_type": "stream",
     "text": [
      "Epoch 3: Train Loss = 0.3503, Train Acc = 85.14% Validation Loss   = 0.4954, Validation Acc   = 79.84%\n",
      "Early stopping patience: 1/10\n",
      "\n",
      "Trial 35: Embedding_Dim: 300, Hidden_Dim: 128, Is Bidirectional: True, Learning Rate: 0.00017791417296374014, LSTM Layers: 2, Dropout Rate: 0.5\n"
     ]
    },
    {
     "name": "stderr",
     "output_type": "stream",
     "text": [
      "Epoch 1/3 [Training]: 100%|██████████| 322/322 [00:05<00:00, 57.72it/s, Loss=0.5877, Acc=57.402%]\n",
      "Epoch 1/3 [Validation]: 100%|██████████| 81/81 [00:00<00:00, 171.67it/s, Loss=0.4412, Acc=75.340%]\n"
     ]
    },
    {
     "name": "stdout",
     "output_type": "stream",
     "text": [
      "Epoch 1: Train Loss = 1.0740, Train Acc = 57.40% Validation Loss   = 0.5265, Validation Acc   = 75.34%\n"
     ]
    },
    {
     "name": "stderr",
     "output_type": "stream",
     "text": [
      "Epoch 2/3 [Training]: 100%|██████████| 322/322 [00:05<00:00, 57.49it/s, Loss=0.5084, Acc=77.109%]\n",
      "Epoch 2/3 [Validation]: 100%|██████████| 81/81 [00:00<00:00, 171.52it/s, Loss=0.3006, Acc=78.175%]\n"
     ]
    },
    {
     "name": "stdout",
     "output_type": "stream",
     "text": [
      "Epoch 2: Train Loss = 0.4893, Train Acc = 77.11% Validation Loss   = 0.4691, Validation Acc   = 78.17%\n"
     ]
    },
    {
     "name": "stderr",
     "output_type": "stream",
     "text": [
      "Epoch 3/3 [Training]: 100%|██████████| 322/322 [00:05<00:00, 57.66it/s, Loss=0.1892, Acc=81.895%]\n",
      "Epoch 3/3 [Validation]: 100%|██████████| 81/81 [00:00<00:00, 171.46it/s, Loss=0.2847, Acc=80.777%]\n",
      "[I 2025-03-31 13:24:47,779] Trial 35 finished with value: 0.44849266498177137 and parameters: {'embedding_dim': 300, 'hidden_dim': 128, 'is_bidirectional': True, 'lr': 0.00017791417296374014, 'dropout_rate': 0.5, 'lstm_layers': 2}. Best is trial 22 with value: 0.4203503242245427.\n"
     ]
    },
    {
     "name": "stdout",
     "output_type": "stream",
     "text": [
      "Epoch 3: Train Loss = 0.4008, Train Acc = 81.89% Validation Loss   = 0.4485, Validation Acc   = 80.78%\n",
      "\n",
      "Trial 36: Embedding_Dim: 200, Hidden_Dim: 128, Is Bidirectional: False, Learning Rate: 0.0003885733724660944, LSTM Layers: 2, Dropout Rate: 0.5\n"
     ]
    },
    {
     "name": "stderr",
     "output_type": "stream",
     "text": [
      "Epoch 1/3 [Training]: 100%|██████████| 322/322 [00:03<00:00, 87.30it/s, Loss=0.7951, Acc=49.325%]\n",
      "Epoch 1/3 [Validation]: 100%|██████████| 81/81 [00:00<00:00, 234.53it/s, Loss=0.4939, Acc=68.233%]\n"
     ]
    },
    {
     "name": "stdout",
     "output_type": "stream",
     "text": [
      "Epoch 1: Train Loss = 1.1422, Train Acc = 49.33% Validation Loss   = 0.7267, Validation Acc   = 68.23%\n"
     ]
    },
    {
     "name": "stderr",
     "output_type": "stream",
     "text": [
      "Epoch 2/3 [Training]: 100%|██████████| 322/322 [00:03<00:00, 89.02it/s, Loss=0.6702, Acc=72.090%]\n",
      "Epoch 2/3 [Validation]: 100%|██████████| 81/81 [00:00<00:00, 234.48it/s, Loss=0.3966, Acc=76.039%]\n"
     ]
    },
    {
     "name": "stdout",
     "output_type": "stream",
     "text": [
      "Epoch 2: Train Loss = 0.6184, Train Acc = 72.09% Validation Loss   = 0.5227, Validation Acc   = 76.04%\n"
     ]
    },
    {
     "name": "stderr",
     "output_type": "stream",
     "text": [
      "Epoch 3/3 [Training]: 100%|██████████| 322/322 [00:03<00:00, 88.70it/s, Loss=0.6971, Acc=78.798%]\n",
      "Epoch 3/3 [Validation]: 100%|██████████| 81/81 [00:00<00:00, 233.77it/s, Loss=0.4339, Acc=78.835%]\n",
      "[I 2025-03-31 13:25:00,023] Trial 36 finished with value: 0.4766758812798394 and parameters: {'embedding_dim': 200, 'hidden_dim': 128, 'is_bidirectional': False, 'lr': 0.0003885733724660944, 'dropout_rate': 0.5, 'lstm_layers': 2}. Best is trial 22 with value: 0.4203503242245427.\n"
     ]
    },
    {
     "name": "stdout",
     "output_type": "stream",
     "text": [
      "Epoch 3: Train Loss = 0.4585, Train Acc = 78.80% Validation Loss   = 0.4767, Validation Acc   = 78.83%\n",
      "\n",
      "Trial 37: Embedding_Dim: 300, Hidden_Dim: 128, Is Bidirectional: True, Learning Rate: 0.0006135880245168149, LSTM Layers: 2, Dropout Rate: 0.5\n"
     ]
    },
    {
     "name": "stderr",
     "output_type": "stream",
     "text": [
      "Epoch 1/3 [Training]: 100%|██████████| 322/322 [00:05<00:00, 57.81it/s, Loss=0.9471, Acc=69.168%]\n",
      "Epoch 1/3 [Validation]: 100%|██████████| 81/81 [00:00<00:00, 172.54it/s, Loss=0.5541, Acc=79.612%]\n"
     ]
    },
    {
     "name": "stdout",
     "output_type": "stream",
     "text": [
      "Epoch 1: Train Loss = 0.7556, Train Acc = 69.17% Validation Loss   = 0.4659, Validation Acc   = 79.61%\n"
     ]
    },
    {
     "name": "stderr",
     "output_type": "stream",
     "text": [
      "Epoch 2/3 [Training]: 100%|██████████| 322/322 [00:05<00:00, 57.68it/s, Loss=0.3226, Acc=82.710%]\n",
      "Epoch 2/3 [Validation]: 100%|██████████| 81/81 [00:00<00:00, 174.05it/s, Loss=0.4571, Acc=81.126%]\n"
     ]
    },
    {
     "name": "stdout",
     "output_type": "stream",
     "text": [
      "Epoch 2: Train Loss = 0.4067, Train Acc = 82.71% Validation Loss   = 0.4290, Validation Acc   = 81.13%\n"
     ]
    },
    {
     "name": "stderr",
     "output_type": "stream",
     "text": [
      "Epoch 3/3 [Training]: 100%|██████████| 322/322 [00:05<00:00, 57.78it/s, Loss=0.4270, Acc=86.700%]\n",
      "Epoch 3/3 [Validation]: 100%|██████████| 81/81 [00:00<00:00, 171.29it/s, Loss=0.3679, Acc=81.476%]\n",
      "[I 2025-03-31 13:25:18,547] Trial 37 finished with value: 0.4289966497892215 and parameters: {'embedding_dim': 300, 'hidden_dim': 128, 'is_bidirectional': True, 'lr': 0.0006135880245168149, 'dropout_rate': 0.5, 'lstm_layers': 2}. Best is trial 22 with value: 0.4203503242245427.\n"
     ]
    },
    {
     "name": "stdout",
     "output_type": "stream",
     "text": [
      "Epoch 3: Train Loss = 0.3166, Train Acc = 86.70% Validation Loss   = 0.4484, Validation Acc   = 81.48%\n",
      "Early stopping patience: 1/10\n",
      "\n",
      "Trial 38: Embedding_Dim: 300, Hidden_Dim: 128, Is Bidirectional: True, Learning Rate: 0.00048813525013587637, LSTM Layers: 2, Dropout Rate: 0.5\n"
     ]
    },
    {
     "name": "stderr",
     "output_type": "stream",
     "text": [
      "Epoch 1/3 [Training]: 100%|██████████| 322/322 [00:05<00:00, 57.25it/s, Loss=0.3320, Acc=66.265%]\n",
      "Epoch 1/3 [Validation]: 100%|██████████| 81/81 [00:00<00:00, 173.40it/s, Loss=0.3460, Acc=79.301%]\n"
     ]
    },
    {
     "name": "stdout",
     "output_type": "stream",
     "text": [
      "Epoch 1: Train Loss = 0.8104, Train Acc = 66.27% Validation Loss   = 0.4698, Validation Acc   = 79.30%\n"
     ]
    },
    {
     "name": "stderr",
     "output_type": "stream",
     "text": [
      "Epoch 2/3 [Training]: 100%|██████████| 322/322 [00:05<00:00, 57.69it/s, Loss=0.5150, Acc=81.963%]\n",
      "Epoch 2/3 [Validation]: 100%|██████████| 81/81 [00:00<00:00, 168.99it/s, Loss=0.2205, Acc=80.621%]\n"
     ]
    },
    {
     "name": "stdout",
     "output_type": "stream",
     "text": [
      "Epoch 2: Train Loss = 0.4187, Train Acc = 81.96% Validation Loss   = 0.4444, Validation Acc   = 80.62%\n"
     ]
    },
    {
     "name": "stderr",
     "output_type": "stream",
     "text": [
      "Epoch 3/3 [Training]: 100%|██████████| 322/322 [00:05<00:00, 57.79it/s, Loss=0.2594, Acc=86.632%]\n",
      "Epoch 3/3 [Validation]: 100%|██████████| 81/81 [00:00<00:00, 174.08it/s, Loss=0.2435, Acc=80.971%]\n",
      "[I 2025-03-31 13:25:37,123] Trial 38 finished with value: 0.44444869826605293 and parameters: {'embedding_dim': 300, 'hidden_dim': 128, 'is_bidirectional': True, 'lr': 0.00048813525013587637, 'dropout_rate': 0.5, 'lstm_layers': 2}. Best is trial 22 with value: 0.4203503242245427.\n"
     ]
    },
    {
     "name": "stdout",
     "output_type": "stream",
     "text": [
      "Epoch 3: Train Loss = 0.3221, Train Acc = 86.63% Validation Loss   = 0.4599, Validation Acc   = 80.97%\n",
      "Early stopping patience: 1/10\n",
      "\n",
      "Trial 39: Embedding_Dim: 300, Hidden_Dim: 256, Is Bidirectional: True, Learning Rate: 0.0009886755057875187, LSTM Layers: 2, Dropout Rate: 0.5\n"
     ]
    },
    {
     "name": "stderr",
     "output_type": "stream",
     "text": [
      "Epoch 1/3 [Training]: 100%|██████████| 322/322 [00:12<00:00, 25.89it/s, Loss=1.1668, Acc=73.721%]\n",
      "Epoch 1/3 [Validation]: 100%|██████████| 81/81 [00:01<00:00, 77.09it/s, Loss=0.3548, Acc=80.233%]\n"
     ]
    },
    {
     "name": "stdout",
     "output_type": "stream",
     "text": [
      "Epoch 1: Train Loss = 0.6506, Train Acc = 73.72% Validation Loss   = 0.4797, Validation Acc   = 80.23%\n"
     ]
    },
    {
     "name": "stderr",
     "output_type": "stream",
     "text": [
      "Epoch 2/3 [Training]: 100%|██████████| 322/322 [00:12<00:00, 25.54it/s, Loss=0.4907, Acc=82.943%]\n",
      "Epoch 2/3 [Validation]: 100%|██████████| 81/81 [00:01<00:00, 76.94it/s, Loss=0.5634, Acc=79.456%]\n"
     ]
    },
    {
     "name": "stdout",
     "output_type": "stream",
     "text": [
      "Epoch 2: Train Loss = 0.4074, Train Acc = 82.94% Validation Loss   = 0.4872, Validation Acc   = 79.46%\n",
      "Early stopping patience: 1/10\n"
     ]
    },
    {
     "name": "stderr",
     "output_type": "stream",
     "text": [
      "Epoch 3/3 [Training]: 100%|██████████| 322/322 [00:12<00:00, 25.73it/s, Loss=0.3001, Acc=87.642%]\n",
      "Epoch 3/3 [Validation]: 100%|██████████| 81/81 [00:01<00:00, 77.37it/s, Loss=0.6018, Acc=81.049%]\n",
      "[I 2025-03-31 13:26:18,237] Trial 39 finished with value: 0.47759387485774946 and parameters: {'embedding_dim': 300, 'hidden_dim': 256, 'is_bidirectional': True, 'lr': 0.0009886755057875187, 'dropout_rate': 0.5, 'lstm_layers': 2}. Best is trial 22 with value: 0.4203503242245427.\n"
     ]
    },
    {
     "name": "stdout",
     "output_type": "stream",
     "text": [
      "Epoch 3: Train Loss = 0.3104, Train Acc = 87.64% Validation Loss   = 0.4776, Validation Acc   = 81.05%\n",
      "\n",
      "Trial 40: Embedding_Dim: 300, Hidden_Dim: 128, Is Bidirectional: False, Learning Rate: 0.0006139994876011892, LSTM Layers: 2, Dropout Rate: 0.5\n"
     ]
    },
    {
     "name": "stderr",
     "output_type": "stream",
     "text": [
      "Epoch 1/3 [Training]: 100%|██████████| 322/322 [00:04<00:00, 74.69it/s, Loss=0.4129, Acc=58.023%]\n",
      "Epoch 1/3 [Validation]: 100%|██████████| 81/81 [00:00<00:00, 238.11it/s, Loss=0.3814, Acc=77.165%]\n"
     ]
    },
    {
     "name": "stdout",
     "output_type": "stream",
     "text": [
      "Epoch 1: Train Loss = 0.9573, Train Acc = 58.02% Validation Loss   = 0.5208, Validation Acc   = 77.17%\n"
     ]
    },
    {
     "name": "stderr",
     "output_type": "stream",
     "text": [
      "Epoch 2/3 [Training]: 100%|██████████| 322/322 [00:04<00:00, 74.17it/s, Loss=0.6176, Acc=79.798%]\n",
      "Epoch 2/3 [Validation]: 100%|██████████| 81/81 [00:00<00:00, 236.06it/s, Loss=0.3634, Acc=79.417%]\n"
     ]
    },
    {
     "name": "stdout",
     "output_type": "stream",
     "text": [
      "Epoch 2: Train Loss = 0.4711, Train Acc = 79.80% Validation Loss   = 0.4806, Validation Acc   = 79.42%\n"
     ]
    },
    {
     "name": "stderr",
     "output_type": "stream",
     "text": [
      "Epoch 3/3 [Training]: 100%|██████████| 322/322 [00:04<00:00, 74.75it/s, Loss=0.1894, Acc=84.040%]\n",
      "Epoch 3/3 [Validation]: 100%|██████████| 81/81 [00:00<00:00, 232.46it/s, Loss=0.4682, Acc=79.845%]\n",
      "[I 2025-03-31 13:26:32,613] Trial 40 finished with value: 0.4764610672438586 and parameters: {'embedding_dim': 300, 'hidden_dim': 128, 'is_bidirectional': False, 'lr': 0.0006139994876011892, 'dropout_rate': 0.5, 'lstm_layers': 2}. Best is trial 22 with value: 0.4203503242245427.\n"
     ]
    },
    {
     "name": "stdout",
     "output_type": "stream",
     "text": [
      "Epoch 3: Train Loss = 0.3805, Train Acc = 84.04% Validation Loss   = 0.4765, Validation Acc   = 79.84%\n",
      "\n",
      "Trial 41: Embedding_Dim: 300, Hidden_Dim: 128, Is Bidirectional: True, Learning Rate: 0.0007405533735965563, LSTM Layers: 2, Dropout Rate: 0.5\n"
     ]
    },
    {
     "name": "stderr",
     "output_type": "stream",
     "text": [
      "Epoch 1/3 [Training]: 100%|██████████| 322/322 [00:05<00:00, 57.88it/s, Loss=0.4067, Acc=67.459%]\n",
      "Epoch 1/3 [Validation]: 100%|██████████| 81/81 [00:00<00:00, 171.06it/s, Loss=0.3112, Acc=79.223%]\n"
     ]
    },
    {
     "name": "stdout",
     "output_type": "stream",
     "text": [
      "Epoch 1: Train Loss = 0.7408, Train Acc = 67.46% Validation Loss   = 0.4750, Validation Acc   = 79.22%\n"
     ]
    },
    {
     "name": "stderr",
     "output_type": "stream",
     "text": [
      "Epoch 2/3 [Training]: 100%|██████████| 322/322 [00:05<00:00, 57.72it/s, Loss=0.3803, Acc=82.507%]\n",
      "Epoch 2/3 [Validation]: 100%|██████████| 81/81 [00:00<00:00, 171.33it/s, Loss=0.2996, Acc=81.010%]\n"
     ]
    },
    {
     "name": "stdout",
     "output_type": "stream",
     "text": [
      "Epoch 2: Train Loss = 0.3995, Train Acc = 82.51% Validation Loss   = 0.4383, Validation Acc   = 81.01%\n"
     ]
    },
    {
     "name": "stderr",
     "output_type": "stream",
     "text": [
      "Epoch 3/3 [Training]: 100%|██████████| 322/322 [00:05<00:00, 57.75it/s, Loss=0.4844, Acc=87.351%]\n",
      "Epoch 3/3 [Validation]: 100%|██████████| 81/81 [00:00<00:00, 170.65it/s, Loss=0.3545, Acc=81.243%]\n",
      "[I 2025-03-31 13:26:51,142] Trial 41 finished with value: 0.438310052877591 and parameters: {'embedding_dim': 300, 'hidden_dim': 128, 'is_bidirectional': True, 'lr': 0.0007405533735965563, 'dropout_rate': 0.5, 'lstm_layers': 2}. Best is trial 22 with value: 0.4203503242245427.\n"
     ]
    },
    {
     "name": "stdout",
     "output_type": "stream",
     "text": [
      "Epoch 3: Train Loss = 0.3024, Train Acc = 87.35% Validation Loss   = 0.4724, Validation Acc   = 81.24%\n",
      "Early stopping patience: 1/10\n",
      "\n",
      "Trial 42: Embedding_Dim: 300, Hidden_Dim: 128, Is Bidirectional: True, Learning Rate: 0.0007522661661203466, LSTM Layers: 2, Dropout Rate: 0.5\n"
     ]
    },
    {
     "name": "stderr",
     "output_type": "stream",
     "text": [
      "Epoch 1/3 [Training]: 100%|██████████| 322/322 [00:05<00:00, 57.67it/s, Loss=0.6452, Acc=70.692%]\n",
      "Epoch 1/3 [Validation]: 100%|██████████| 81/81 [00:00<00:00, 166.64it/s, Loss=0.4247, Acc=78.835%]\n"
     ]
    },
    {
     "name": "stdout",
     "output_type": "stream",
     "text": [
      "Epoch 1: Train Loss = 0.7110, Train Acc = 70.69% Validation Loss   = 0.4769, Validation Acc   = 78.83%\n"
     ]
    },
    {
     "name": "stderr",
     "output_type": "stream",
     "text": [
      "Epoch 2/3 [Training]: 100%|██████████| 322/322 [00:05<00:00, 57.56it/s, Loss=0.2670, Acc=83.720%]\n",
      "Epoch 2/3 [Validation]: 100%|██████████| 81/81 [00:00<00:00, 171.65it/s, Loss=0.4703, Acc=80.466%]\n"
     ]
    },
    {
     "name": "stdout",
     "output_type": "stream",
     "text": [
      "Epoch 2: Train Loss = 0.3889, Train Acc = 83.72% Validation Loss   = 0.4686, Validation Acc   = 80.47%\n"
     ]
    },
    {
     "name": "stderr",
     "output_type": "stream",
     "text": [
      "Epoch 3/3 [Training]: 100%|██████████| 322/322 [00:05<00:00, 57.60it/s, Loss=0.1415, Acc=88.186%]\n",
      "Epoch 3/3 [Validation]: 100%|██████████| 81/81 [00:00<00:00, 173.10it/s, Loss=0.2305, Acc=80.388%]\n",
      "[I 2025-03-31 13:27:09,730] Trial 42 finished with value: 0.4686322926003256 and parameters: {'embedding_dim': 300, 'hidden_dim': 128, 'is_bidirectional': True, 'lr': 0.0007522661661203466, 'dropout_rate': 0.5, 'lstm_layers': 2}. Best is trial 22 with value: 0.4203503242245427.\n"
     ]
    },
    {
     "name": "stdout",
     "output_type": "stream",
     "text": [
      "Epoch 3: Train Loss = 0.2885, Train Acc = 88.19% Validation Loss   = 0.5061, Validation Acc   = 80.39%\n",
      "Early stopping patience: 1/10\n",
      "\n",
      "Trial 43: Embedding_Dim: 300, Hidden_Dim: 128, Is Bidirectional: True, Learning Rate: 0.0008771933555530219, LSTM Layers: 2, Dropout Rate: 0.5\n"
     ]
    },
    {
     "name": "stderr",
     "output_type": "stream",
     "text": [
      "Epoch 1/3 [Training]: 100%|██████████| 322/322 [00:05<00:00, 57.82it/s, Loss=0.4239, Acc=71.061%]\n",
      "Epoch 1/3 [Validation]: 100%|██████████| 81/81 [00:00<00:00, 172.78it/s, Loss=0.3904, Acc=79.922%]\n"
     ]
    },
    {
     "name": "stdout",
     "output_type": "stream",
     "text": [
      "Epoch 1: Train Loss = 0.6901, Train Acc = 71.06% Validation Loss   = 0.4630, Validation Acc   = 79.92%\n"
     ]
    },
    {
     "name": "stderr",
     "output_type": "stream",
     "text": [
      "Epoch 2/3 [Training]: 100%|██████████| 322/322 [00:05<00:00, 57.68it/s, Loss=0.4543, Acc=83.147%]\n",
      "Epoch 2/3 [Validation]: 100%|██████████| 81/81 [00:00<00:00, 170.83it/s, Loss=0.2852, Acc=81.670%]\n"
     ]
    },
    {
     "name": "stdout",
     "output_type": "stream",
     "text": [
      "Epoch 2: Train Loss = 0.3880, Train Acc = 83.15% Validation Loss   = 0.4386, Validation Acc   = 81.67%\n"
     ]
    },
    {
     "name": "stderr",
     "output_type": "stream",
     "text": [
      "Epoch 3/3 [Training]: 100%|██████████| 322/322 [00:05<00:00, 57.37it/s, Loss=0.1289, Acc=87.972%]\n",
      "Epoch 3/3 [Validation]: 100%|██████████| 81/81 [00:00<00:00, 171.64it/s, Loss=0.2904, Acc=80.194%]\n",
      "[I 2025-03-31 13:27:28,297] Trial 43 finished with value: 0.4385823458433151 and parameters: {'embedding_dim': 300, 'hidden_dim': 128, 'is_bidirectional': True, 'lr': 0.0008771933555530219, 'dropout_rate': 0.5, 'lstm_layers': 2}. Best is trial 22 with value: 0.4203503242245427.\n"
     ]
    },
    {
     "name": "stdout",
     "output_type": "stream",
     "text": [
      "Epoch 3: Train Loss = 0.2920, Train Acc = 87.97% Validation Loss   = 0.4813, Validation Acc   = 80.19%\n",
      "Early stopping patience: 1/10\n",
      "\n",
      "Trial 44: Embedding_Dim: 300, Hidden_Dim: 128, Is Bidirectional: True, Learning Rate: 0.0008644353310811284, LSTM Layers: 2, Dropout Rate: 0.5\n"
     ]
    },
    {
     "name": "stderr",
     "output_type": "stream",
     "text": [
      "Epoch 1/3 [Training]: 100%|██████████| 322/322 [00:05<00:00, 57.59it/s, Loss=0.3538, Acc=69.440%]\n",
      "Epoch 1/3 [Validation]: 100%|██████████| 81/81 [00:00<00:00, 174.62it/s, Loss=0.4719, Acc=78.408%]\n"
     ]
    },
    {
     "name": "stdout",
     "output_type": "stream",
     "text": [
      "Epoch 1: Train Loss = 0.7065, Train Acc = 69.44% Validation Loss   = 0.4701, Validation Acc   = 78.41%\n"
     ]
    },
    {
     "name": "stderr",
     "output_type": "stream",
     "text": [
      "Epoch 2/3 [Training]: 100%|██████████| 322/322 [00:05<00:00, 57.54it/s, Loss=0.4979, Acc=82.662%]\n",
      "Epoch 2/3 [Validation]: 100%|██████████| 81/81 [00:00<00:00, 171.25it/s, Loss=0.4584, Acc=80.699%]\n"
     ]
    },
    {
     "name": "stdout",
     "output_type": "stream",
     "text": [
      "Epoch 2: Train Loss = 0.3984, Train Acc = 82.66% Validation Loss   = 0.4482, Validation Acc   = 80.70%\n"
     ]
    },
    {
     "name": "stderr",
     "output_type": "stream",
     "text": [
      "Epoch 3/3 [Training]: 100%|██████████| 322/322 [00:05<00:00, 57.78it/s, Loss=0.1930, Acc=87.943%]\n",
      "Epoch 3/3 [Validation]: 100%|██████████| 81/81 [00:00<00:00, 170.73it/s, Loss=0.3955, Acc=80.660%]\n",
      "[I 2025-03-31 13:27:46,865] Trial 44 finished with value: 0.44822018363593535 and parameters: {'embedding_dim': 300, 'hidden_dim': 128, 'is_bidirectional': True, 'lr': 0.0008644353310811284, 'dropout_rate': 0.5, 'lstm_layers': 2}. Best is trial 22 with value: 0.4203503242245427.\n"
     ]
    },
    {
     "name": "stdout",
     "output_type": "stream",
     "text": [
      "Epoch 3: Train Loss = 0.2931, Train Acc = 87.94% Validation Loss   = 0.4817, Validation Acc   = 80.66%\n",
      "Early stopping patience: 1/10\n",
      "\n",
      "Trial 45: Embedding_Dim: 300, Hidden_Dim: 128, Is Bidirectional: True, Learning Rate: 0.0008867245326833258, LSTM Layers: 2, Dropout Rate: 0.5\n"
     ]
    },
    {
     "name": "stderr",
     "output_type": "stream",
     "text": [
      "Epoch 1/3 [Training]: 100%|██████████| 322/322 [00:05<00:00, 57.79it/s, Loss=0.8815, Acc=70.401%]\n",
      "Epoch 1/3 [Validation]: 100%|██████████| 81/81 [00:00<00:00, 172.35it/s, Loss=0.7381, Acc=78.951%]\n"
     ]
    },
    {
     "name": "stdout",
     "output_type": "stream",
     "text": [
      "Epoch 1: Train Loss = 0.6980, Train Acc = 70.40% Validation Loss   = 0.4618, Validation Acc   = 78.95%\n"
     ]
    },
    {
     "name": "stderr",
     "output_type": "stream",
     "text": [
      "Epoch 2/3 [Training]: 100%|██████████| 322/322 [00:05<00:00, 57.82it/s, Loss=0.3409, Acc=83.070%]\n",
      "Epoch 2/3 [Validation]: 100%|██████████| 81/81 [00:00<00:00, 160.14it/s, Loss=0.4154, Acc=81.126%]\n"
     ]
    },
    {
     "name": "stdout",
     "output_type": "stream",
     "text": [
      "Epoch 2: Train Loss = 0.3870, Train Acc = 83.07% Validation Loss   = 0.4478, Validation Acc   = 81.13%\n"
     ]
    },
    {
     "name": "stderr",
     "output_type": "stream",
     "text": [
      "Epoch 3/3 [Training]: 100%|██████████| 322/322 [00:05<00:00, 57.58it/s, Loss=0.2482, Acc=87.982%]\n",
      "Epoch 3/3 [Validation]: 100%|██████████| 81/81 [00:00<00:00, 172.06it/s, Loss=0.6502, Acc=80.427%]\n",
      "[I 2025-03-31 13:28:05,439] Trial 45 finished with value: 0.44777823359142116 and parameters: {'embedding_dim': 300, 'hidden_dim': 128, 'is_bidirectional': True, 'lr': 0.0008867245326833258, 'dropout_rate': 0.5, 'lstm_layers': 2}. Best is trial 22 with value: 0.4203503242245427.\n"
     ]
    },
    {
     "name": "stdout",
     "output_type": "stream",
     "text": [
      "Epoch 3: Train Loss = 0.2882, Train Acc = 87.98% Validation Loss   = 0.4648, Validation Acc   = 80.43%\n",
      "Early stopping patience: 1/10\n",
      "\n",
      "Trial 46: Embedding_Dim: 200, Hidden_Dim: 128, Is Bidirectional: True, Learning Rate: 0.0007349065154175397, LSTM Layers: 2, Dropout Rate: 0.5\n"
     ]
    },
    {
     "name": "stderr",
     "output_type": "stream",
     "text": [
      "Epoch 1/3 [Training]: 100%|██████████| 322/322 [00:04<00:00, 65.99it/s, Loss=0.7344, Acc=67.702%]\n",
      "Epoch 1/3 [Validation]: 100%|██████████| 81/81 [00:00<00:00, 176.77it/s, Loss=0.3578, Acc=79.301%]\n"
     ]
    },
    {
     "name": "stdout",
     "output_type": "stream",
     "text": [
      "Epoch 1: Train Loss = 0.7737, Train Acc = 67.70% Validation Loss   = 0.4704, Validation Acc   = 79.30%\n"
     ]
    },
    {
     "name": "stderr",
     "output_type": "stream",
     "text": [
      "Epoch 2/3 [Training]: 100%|██████████| 322/322 [00:04<00:00, 66.01it/s, Loss=0.4035, Acc=81.555%]\n",
      "Epoch 2/3 [Validation]: 100%|██████████| 81/81 [00:00<00:00, 175.90it/s, Loss=0.4172, Acc=79.845%]\n"
     ]
    },
    {
     "name": "stdout",
     "output_type": "stream",
     "text": [
      "Epoch 2: Train Loss = 0.4248, Train Acc = 81.56% Validation Loss   = 0.4438, Validation Acc   = 79.84%\n"
     ]
    },
    {
     "name": "stderr",
     "output_type": "stream",
     "text": [
      "Epoch 3/3 [Training]: 100%|██████████| 322/322 [00:04<00:00, 66.00it/s, Loss=0.4122, Acc=85.691%]\n",
      "Epoch 3/3 [Validation]: 100%|██████████| 81/81 [00:00<00:00, 172.81it/s, Loss=0.5610, Acc=79.961%]\n",
      "[I 2025-03-31 13:28:21,736] Trial 46 finished with value: 0.4437964523648038 and parameters: {'embedding_dim': 200, 'hidden_dim': 128, 'is_bidirectional': True, 'lr': 0.0007349065154175397, 'dropout_rate': 0.5, 'lstm_layers': 2}. Best is trial 22 with value: 0.4203503242245427.\n"
     ]
    },
    {
     "name": "stdout",
     "output_type": "stream",
     "text": [
      "Epoch 3: Train Loss = 0.3389, Train Acc = 85.69% Validation Loss   = 0.4852, Validation Acc   = 79.96%\n",
      "Early stopping patience: 1/10\n",
      "\n",
      "Trial 47: Embedding_Dim: 300, Hidden_Dim: 128, Is Bidirectional: True, Learning Rate: 0.0006349368890332333, LSTM Layers: 2, Dropout Rate: 0.5\n"
     ]
    },
    {
     "name": "stderr",
     "output_type": "stream",
     "text": [
      "Epoch 1/3 [Training]: 100%|██████████| 322/322 [00:05<00:00, 57.76it/s, Loss=0.5473, Acc=68.654%]\n",
      "Epoch 1/3 [Validation]: 100%|██████████| 81/81 [00:00<00:00, 171.62it/s, Loss=0.3374, Acc=78.951%]\n"
     ]
    },
    {
     "name": "stdout",
     "output_type": "stream",
     "text": [
      "Epoch 1: Train Loss = 0.7461, Train Acc = 68.65% Validation Loss   = 0.4755, Validation Acc   = 78.95%\n"
     ]
    },
    {
     "name": "stderr",
     "output_type": "stream",
     "text": [
      "Epoch 2/3 [Training]: 100%|██████████| 322/322 [00:05<00:00, 57.33it/s, Loss=0.3729, Acc=82.691%]\n",
      "Epoch 2/3 [Validation]: 100%|██████████| 81/81 [00:00<00:00, 171.75it/s, Loss=0.2140, Acc=81.243%]\n"
     ]
    },
    {
     "name": "stdout",
     "output_type": "stream",
     "text": [
      "Epoch 2: Train Loss = 0.4074, Train Acc = 82.69% Validation Loss   = 0.4412, Validation Acc   = 81.24%\n"
     ]
    },
    {
     "name": "stderr",
     "output_type": "stream",
     "text": [
      "Epoch 3/3 [Training]: 100%|██████████| 322/322 [00:05<00:00, 57.50it/s, Loss=0.3068, Acc=87.467%]\n",
      "Epoch 3/3 [Validation]: 100%|██████████| 81/81 [00:00<00:00, 172.65it/s, Loss=0.2648, Acc=81.243%]\n",
      "[I 2025-03-31 13:28:40,330] Trial 47 finished with value: 0.44118661332277603 and parameters: {'embedding_dim': 300, 'hidden_dim': 128, 'is_bidirectional': True, 'lr': 0.0006349368890332333, 'dropout_rate': 0.5, 'lstm_layers': 2}. Best is trial 22 with value: 0.4203503242245427.\n"
     ]
    },
    {
     "name": "stdout",
     "output_type": "stream",
     "text": [
      "Epoch 3: Train Loss = 0.3065, Train Acc = 87.47% Validation Loss   = 0.4652, Validation Acc   = 81.24%\n",
      "Early stopping patience: 1/10\n",
      "\n",
      "Trial 48: Embedding_Dim: 300, Hidden_Dim: 256, Is Bidirectional: True, Learning Rate: 0.00092475334964664, LSTM Layers: 2, Dropout Rate: 0.5\n"
     ]
    },
    {
     "name": "stderr",
     "output_type": "stream",
     "text": [
      "Epoch 1/3 [Training]: 100%|██████████| 322/322 [00:12<00:00, 25.69it/s, Loss=0.4308, Acc=72.876%]\n",
      "Epoch 1/3 [Validation]: 100%|██████████| 81/81 [00:01<00:00, 77.45it/s, Loss=0.4208, Acc=78.951%]\n"
     ]
    },
    {
     "name": "stdout",
     "output_type": "stream",
     "text": [
      "Epoch 1: Train Loss = 0.6539, Train Acc = 72.88% Validation Loss   = 0.4694, Validation Acc   = 78.95%\n"
     ]
    },
    {
     "name": "stderr",
     "output_type": "stream",
     "text": [
      "Epoch 2/3 [Training]: 100%|██████████| 322/322 [00:12<00:00, 25.71it/s, Loss=0.4593, Acc=83.312%]\n",
      "Epoch 2/3 [Validation]: 100%|██████████| 81/81 [00:01<00:00, 77.23it/s, Loss=0.3873, Acc=81.049%]\n"
     ]
    },
    {
     "name": "stdout",
     "output_type": "stream",
     "text": [
      "Epoch 2: Train Loss = 0.3933, Train Acc = 83.31% Validation Loss   = 0.4427, Validation Acc   = 81.05%\n"
     ]
    },
    {
     "name": "stderr",
     "output_type": "stream",
     "text": [
      "Epoch 3/3 [Training]: 100%|██████████| 322/322 [00:12<00:00, 25.55it/s, Loss=0.4272, Acc=87.681%]\n",
      "Epoch 3/3 [Validation]: 100%|██████████| 81/81 [00:01<00:00, 77.60it/s, Loss=0.4223, Acc=81.398%]\n",
      "[I 2025-03-31 13:29:21,537] Trial 48 finished with value: 0.4426621781823076 and parameters: {'embedding_dim': 300, 'hidden_dim': 256, 'is_bidirectional': True, 'lr': 0.00092475334964664, 'dropout_rate': 0.5, 'lstm_layers': 2}. Best is trial 22 with value: 0.4203503242245427.\n"
     ]
    },
    {
     "name": "stdout",
     "output_type": "stream",
     "text": [
      "Epoch 3: Train Loss = 0.3031, Train Acc = 87.68% Validation Loss   = 0.4747, Validation Acc   = 81.40%\n",
      "Early stopping patience: 1/10\n",
      "\n",
      "Trial 49: Embedding_Dim: 300, Hidden_Dim: 128, Is Bidirectional: True, Learning Rate: 0.0008056140711441661, LSTM Layers: 2, Dropout Rate: 0.5\n"
     ]
    },
    {
     "name": "stderr",
     "output_type": "stream",
     "text": [
      "Epoch 1/3 [Training]: 100%|██████████| 322/322 [00:05<00:00, 57.75it/s, Loss=0.5573, Acc=70.090%]\n",
      "Epoch 1/3 [Validation]: 100%|██████████| 81/81 [00:00<00:00, 170.98it/s, Loss=0.4645, Acc=79.223%]\n"
     ]
    },
    {
     "name": "stdout",
     "output_type": "stream",
     "text": [
      "Epoch 1: Train Loss = 0.7132, Train Acc = 70.09% Validation Loss   = 0.4764, Validation Acc   = 79.22%\n"
     ]
    },
    {
     "name": "stderr",
     "output_type": "stream",
     "text": [
      "Epoch 2/3 [Training]: 100%|██████████| 322/322 [00:05<00:00, 57.69it/s, Loss=0.7038, Acc=83.196%]\n",
      "Epoch 2/3 [Validation]: 100%|██████████| 81/81 [00:00<00:00, 169.48it/s, Loss=0.3882, Acc=81.320%]\n"
     ]
    },
    {
     "name": "stdout",
     "output_type": "stream",
     "text": [
      "Epoch 2: Train Loss = 0.3888, Train Acc = 83.20% Validation Loss   = 0.4384, Validation Acc   = 81.32%\n"
     ]
    },
    {
     "name": "stderr",
     "output_type": "stream",
     "text": [
      "Epoch 3/3 [Training]: 100%|██████████| 322/322 [00:05<00:00, 57.25it/s, Loss=0.2967, Acc=87.797%]\n",
      "Epoch 3/3 [Validation]: 100%|██████████| 81/81 [00:00<00:00, 170.99it/s, Loss=0.2734, Acc=80.777%]\n",
      "[I 2025-03-31 13:29:40,132] Trial 49 finished with value: 0.43838611355534307 and parameters: {'embedding_dim': 300, 'hidden_dim': 128, 'is_bidirectional': True, 'lr': 0.0008056140711441661, 'dropout_rate': 0.5, 'lstm_layers': 2}. Best is trial 22 with value: 0.4203503242245427.\n"
     ]
    },
    {
     "name": "stdout",
     "output_type": "stream",
     "text": [
      "Epoch 3: Train Loss = 0.2909, Train Acc = 87.80% Validation Loss   = 0.4709, Validation Acc   = 80.78%\n",
      "Early stopping patience: 1/10\n",
      "\n",
      "Trial 50: Embedding_Dim: 300, Hidden_Dim: 128, Is Bidirectional: True, Learning Rate: 0.0005004547812428903, LSTM Layers: 2, Dropout Rate: 0.5\n"
     ]
    },
    {
     "name": "stderr",
     "output_type": "stream",
     "text": [
      "Epoch 1/3 [Training]: 100%|██████████| 322/322 [00:05<00:00, 57.84it/s, Loss=0.6672, Acc=66.848%]\n",
      "Epoch 1/3 [Validation]: 100%|██████████| 81/81 [00:00<00:00, 171.54it/s, Loss=0.4104, Acc=79.689%]\n"
     ]
    },
    {
     "name": "stdout",
     "output_type": "stream",
     "text": [
      "Epoch 1: Train Loss = 0.7963, Train Acc = 66.85% Validation Loss   = 0.4546, Validation Acc   = 79.69%\n"
     ]
    },
    {
     "name": "stderr",
     "output_type": "stream",
     "text": [
      "Epoch 2/3 [Training]: 100%|██████████| 322/322 [00:05<00:00, 57.60it/s, Loss=0.2509, Acc=82.817%]\n",
      "Epoch 2/3 [Validation]: 100%|██████████| 81/81 [00:00<00:00, 169.26it/s, Loss=0.3881, Acc=80.893%]\n"
     ]
    },
    {
     "name": "stdout",
     "output_type": "stream",
     "text": [
      "Epoch 2: Train Loss = 0.4009, Train Acc = 82.82% Validation Loss   = 0.4516, Validation Acc   = 80.89%\n"
     ]
    },
    {
     "name": "stderr",
     "output_type": "stream",
     "text": [
      "Epoch 3/3 [Training]: 100%|██████████| 322/322 [00:05<00:00, 57.82it/s, Loss=0.3260, Acc=86.671%]\n",
      "Epoch 3/3 [Validation]: 100%|██████████| 81/81 [00:00<00:00, 173.80it/s, Loss=0.6411, Acc=81.359%]\n",
      "[I 2025-03-31 13:29:58,668] Trial 50 finished with value: 0.45164073672559524 and parameters: {'embedding_dim': 300, 'hidden_dim': 128, 'is_bidirectional': True, 'lr': 0.0005004547812428903, 'dropout_rate': 0.5, 'lstm_layers': 2}. Best is trial 22 with value: 0.4203503242245427.\n"
     ]
    },
    {
     "name": "stdout",
     "output_type": "stream",
     "text": [
      "Epoch 3: Train Loss = 0.3136, Train Acc = 86.67% Validation Loss   = 0.4573, Validation Acc   = 81.36%\n",
      "Early stopping patience: 1/10\n",
      "\n",
      "Trial 51: Embedding_Dim: 300, Hidden_Dim: 128, Is Bidirectional: True, Learning Rate: 0.0008200017574853326, LSTM Layers: 2, Dropout Rate: 0.5\n"
     ]
    },
    {
     "name": "stderr",
     "output_type": "stream",
     "text": [
      "Epoch 1/3 [Training]: 100%|██████████| 322/322 [00:05<00:00, 57.77it/s, Loss=0.5104, Acc=69.323%]\n",
      "Epoch 1/3 [Validation]: 100%|██████████| 81/81 [00:00<00:00, 174.07it/s, Loss=0.3605, Acc=78.680%]\n"
     ]
    },
    {
     "name": "stdout",
     "output_type": "stream",
     "text": [
      "Epoch 1: Train Loss = 0.7109, Train Acc = 69.32% Validation Loss   = 0.4616, Validation Acc   = 78.68%\n"
     ]
    },
    {
     "name": "stderr",
     "output_type": "stream",
     "text": [
      "Epoch 2/3 [Training]: 100%|██████████| 322/322 [00:05<00:00, 57.34it/s, Loss=0.4242, Acc=82.934%]\n",
      "Epoch 2/3 [Validation]: 100%|██████████| 81/81 [00:00<00:00, 170.47it/s, Loss=0.4893, Acc=80.893%]\n"
     ]
    },
    {
     "name": "stdout",
     "output_type": "stream",
     "text": [
      "Epoch 2: Train Loss = 0.3958, Train Acc = 82.93% Validation Loss   = 0.4407, Validation Acc   = 80.89%\n"
     ]
    },
    {
     "name": "stderr",
     "output_type": "stream",
     "text": [
      "Epoch 3/3 [Training]: 100%|██████████| 322/322 [00:05<00:00, 57.63it/s, Loss=0.2209, Acc=87.778%]\n",
      "Epoch 3/3 [Validation]: 100%|██████████| 81/81 [00:00<00:00, 170.50it/s, Loss=0.3248, Acc=81.010%]\n",
      "[I 2025-03-31 13:30:17,249] Trial 51 finished with value: 0.44066823209509437 and parameters: {'embedding_dim': 300, 'hidden_dim': 128, 'is_bidirectional': True, 'lr': 0.0008200017574853326, 'dropout_rate': 0.5, 'lstm_layers': 2}. Best is trial 22 with value: 0.4203503242245427.\n"
     ]
    },
    {
     "name": "stdout",
     "output_type": "stream",
     "text": [
      "Epoch 3: Train Loss = 0.2953, Train Acc = 87.78% Validation Loss   = 0.4798, Validation Acc   = 81.01%\n",
      "Early stopping patience: 1/10\n",
      "\n",
      "Trial 52: Embedding_Dim: 300, Hidden_Dim: 128, Is Bidirectional: True, Learning Rate: 0.0007132623295944966, LSTM Layers: 2, Dropout Rate: 0.5\n"
     ]
    },
    {
     "name": "stderr",
     "output_type": "stream",
     "text": [
      "Epoch 1/3 [Training]: 100%|██████████| 322/322 [00:05<00:00, 57.62it/s, Loss=0.5267, Acc=69.848%]\n",
      "Epoch 1/3 [Validation]: 100%|██████████| 81/81 [00:00<00:00, 173.62it/s, Loss=0.3595, Acc=80.544%]\n"
     ]
    },
    {
     "name": "stdout",
     "output_type": "stream",
     "text": [
      "Epoch 1: Train Loss = 0.7193, Train Acc = 69.85% Validation Loss   = 0.4563, Validation Acc   = 80.54%\n"
     ]
    },
    {
     "name": "stderr",
     "output_type": "stream",
     "text": [
      "Epoch 2/3 [Training]: 100%|██████████| 322/322 [00:05<00:00, 57.57it/s, Loss=0.2922, Acc=83.671%]\n",
      "Epoch 2/3 [Validation]: 100%|██████████| 81/81 [00:00<00:00, 171.27it/s, Loss=0.3031, Acc=81.864%]\n"
     ]
    },
    {
     "name": "stdout",
     "output_type": "stream",
     "text": [
      "Epoch 2: Train Loss = 0.3857, Train Acc = 83.67% Validation Loss   = 0.4336, Validation Acc   = 81.86%\n"
     ]
    },
    {
     "name": "stderr",
     "output_type": "stream",
     "text": [
      "Epoch 3/3 [Training]: 100%|██████████| 322/322 [00:05<00:00, 57.74it/s, Loss=0.6736, Acc=88.273%]\n",
      "Epoch 3/3 [Validation]: 100%|██████████| 81/81 [00:00<00:00, 174.55it/s, Loss=0.3665, Acc=80.971%]\n",
      "[I 2025-03-31 13:30:35,809] Trial 52 finished with value: 0.43359814565858723 and parameters: {'embedding_dim': 300, 'hidden_dim': 128, 'is_bidirectional': True, 'lr': 0.0007132623295944966, 'dropout_rate': 0.5, 'lstm_layers': 2}. Best is trial 22 with value: 0.4203503242245427.\n"
     ]
    },
    {
     "name": "stdout",
     "output_type": "stream",
     "text": [
      "Epoch 3: Train Loss = 0.2878, Train Acc = 88.27% Validation Loss   = 0.4950, Validation Acc   = 80.97%\n",
      "Early stopping patience: 1/10\n",
      "\n",
      "Trial 53: Embedding_Dim: 300, Hidden_Dim: 128, Is Bidirectional: True, Learning Rate: 0.0007179035074725957, LSTM Layers: 2, Dropout Rate: 0.5\n"
     ]
    },
    {
     "name": "stderr",
     "output_type": "stream",
     "text": [
      "Epoch 1/3 [Training]: 100%|██████████| 322/322 [00:05<00:00, 57.33it/s, Loss=0.5777, Acc=69.644%]\n",
      "Epoch 1/3 [Validation]: 100%|██████████| 81/81 [00:00<00:00, 172.05it/s, Loss=0.5047, Acc=80.233%]\n"
     ]
    },
    {
     "name": "stdout",
     "output_type": "stream",
     "text": [
      "Epoch 1: Train Loss = 0.7435, Train Acc = 69.64% Validation Loss   = 0.4634, Validation Acc   = 80.23%\n"
     ]
    },
    {
     "name": "stderr",
     "output_type": "stream",
     "text": [
      "Epoch 2/3 [Training]: 100%|██████████| 322/322 [00:05<00:00, 57.76it/s, Loss=0.2692, Acc=82.633%]\n",
      "Epoch 2/3 [Validation]: 100%|██████████| 81/81 [00:00<00:00, 174.34it/s, Loss=0.3001, Acc=81.282%]\n"
     ]
    },
    {
     "name": "stdout",
     "output_type": "stream",
     "text": [
      "Epoch 2: Train Loss = 0.3977, Train Acc = 82.63% Validation Loss   = 0.4511, Validation Acc   = 81.28%\n"
     ]
    },
    {
     "name": "stderr",
     "output_type": "stream",
     "text": [
      "Epoch 3/3 [Training]: 100%|██████████| 322/322 [00:05<00:00, 57.77it/s, Loss=0.3261, Acc=86.875%]\n",
      "Epoch 3/3 [Validation]: 100%|██████████| 81/81 [00:00<00:00, 169.07it/s, Loss=0.4785, Acc=81.864%]\n",
      "[I 2025-03-31 13:30:54,380] Trial 53 finished with value: 0.45114539563655853 and parameters: {'embedding_dim': 300, 'hidden_dim': 128, 'is_bidirectional': True, 'lr': 0.0007179035074725957, 'dropout_rate': 0.5, 'lstm_layers': 2}. Best is trial 22 with value: 0.4203503242245427.\n"
     ]
    },
    {
     "name": "stdout",
     "output_type": "stream",
     "text": [
      "Epoch 3: Train Loss = 0.3096, Train Acc = 86.88% Validation Loss   = 0.4576, Validation Acc   = 81.86%\n",
      "Early stopping patience: 1/10\n",
      "\n",
      "Trial 54: Embedding_Dim: 300, Hidden_Dim: 128, Is Bidirectional: True, Learning Rate: 0.0005922825215190798, LSTM Layers: 2, Dropout Rate: 0.5\n"
     ]
    },
    {
     "name": "stderr",
     "output_type": "stream",
     "text": [
      "Epoch 1/3 [Training]: 100%|██████████| 322/322 [00:05<00:00, 57.57it/s, Loss=0.4507, Acc=69.343%]\n",
      "Epoch 1/3 [Validation]: 100%|██████████| 81/81 [00:00<00:00, 171.22it/s, Loss=0.4181, Acc=78.913%]\n"
     ]
    },
    {
     "name": "stdout",
     "output_type": "stream",
     "text": [
      "Epoch 1: Train Loss = 0.7413, Train Acc = 69.34% Validation Loss   = 0.4839, Validation Acc   = 78.91%\n"
     ]
    },
    {
     "name": "stderr",
     "output_type": "stream",
     "text": [
      "Epoch 2/3 [Training]: 100%|██████████| 322/322 [00:05<00:00, 57.78it/s, Loss=0.3965, Acc=83.011%]\n",
      "Epoch 2/3 [Validation]: 100%|██████████| 81/81 [00:00<00:00, 174.21it/s, Loss=0.3305, Acc=80.505%]\n"
     ]
    },
    {
     "name": "stdout",
     "output_type": "stream",
     "text": [
      "Epoch 2: Train Loss = 0.4020, Train Acc = 83.01% Validation Loss   = 0.4375, Validation Acc   = 80.50%\n"
     ]
    },
    {
     "name": "stderr",
     "output_type": "stream",
     "text": [
      "Epoch 3/3 [Training]: 100%|██████████| 322/322 [00:05<00:00, 57.28it/s, Loss=0.2280, Acc=88.224%]\n",
      "Epoch 3/3 [Validation]: 100%|██████████| 81/81 [00:00<00:00, 174.00it/s, Loss=0.3448, Acc=79.845%]\n",
      "[I 2025-03-31 13:31:12,966] Trial 54 finished with value: 0.4374902883061656 and parameters: {'embedding_dim': 300, 'hidden_dim': 128, 'is_bidirectional': True, 'lr': 0.0005922825215190798, 'dropout_rate': 0.5, 'lstm_layers': 2}. Best is trial 22 with value: 0.4203503242245427.\n"
     ]
    },
    {
     "name": "stdout",
     "output_type": "stream",
     "text": [
      "Epoch 3: Train Loss = 0.2878, Train Acc = 88.22% Validation Loss   = 0.4966, Validation Acc   = 79.84%\n",
      "Early stopping patience: 1/10\n",
      "\n",
      "Trial 55: Embedding_Dim: 300, Hidden_Dim: 128, Is Bidirectional: True, Learning Rate: 0.0005789725571142586, LSTM Layers: 2, Dropout Rate: 0.5\n"
     ]
    },
    {
     "name": "stderr",
     "output_type": "stream",
     "text": [
      "Epoch 1/3 [Training]: 100%|██████████| 322/322 [00:05<00:00, 57.77it/s, Loss=0.4512, Acc=70.362%]\n",
      "Epoch 1/3 [Validation]: 100%|██████████| 81/81 [00:00<00:00, 165.92it/s, Loss=0.5060, Acc=80.388%]\n"
     ]
    },
    {
     "name": "stdout",
     "output_type": "stream",
     "text": [
      "Epoch 1: Train Loss = 0.7381, Train Acc = 70.36% Validation Loss   = 0.4511, Validation Acc   = 80.39%\n"
     ]
    },
    {
     "name": "stderr",
     "output_type": "stream",
     "text": [
      "Epoch 2/3 [Training]: 100%|██████████| 322/322 [00:05<00:00, 57.90it/s, Loss=0.5124, Acc=83.060%]\n",
      "Epoch 2/3 [Validation]: 100%|██████████| 81/81 [00:00<00:00, 176.97it/s, Loss=0.4258, Acc=80.466%]\n"
     ]
    },
    {
     "name": "stdout",
     "output_type": "stream",
     "text": [
      "Epoch 2: Train Loss = 0.4016, Train Acc = 83.06% Validation Loss   = 0.4503, Validation Acc   = 80.47%\n"
     ]
    },
    {
     "name": "stderr",
     "output_type": "stream",
     "text": [
      "Epoch 3/3 [Training]: 100%|██████████| 322/322 [00:05<00:00, 57.74it/s, Loss=0.3972, Acc=87.487%]\n",
      "Epoch 3/3 [Validation]: 100%|██████████| 81/81 [00:00<00:00, 172.71it/s, Loss=0.4593, Acc=80.816%]\n",
      "[I 2025-03-31 13:31:31,483] Trial 55 finished with value: 0.4503236326538486 and parameters: {'embedding_dim': 300, 'hidden_dim': 128, 'is_bidirectional': True, 'lr': 0.0005789725571142586, 'dropout_rate': 0.5, 'lstm_layers': 2}. Best is trial 22 with value: 0.4203503242245427.\n"
     ]
    },
    {
     "name": "stdout",
     "output_type": "stream",
     "text": [
      "Epoch 3: Train Loss = 0.3075, Train Acc = 87.49% Validation Loss   = 0.4681, Validation Acc   = 80.82%\n",
      "Early stopping patience: 1/10\n",
      "\n",
      "Trial 56: Embedding_Dim: 300, Hidden_Dim: 128, Is Bidirectional: True, Learning Rate: 0.0006286939955753728, LSTM Layers: 2, Dropout Rate: 0.3\n"
     ]
    },
    {
     "name": "stderr",
     "output_type": "stream",
     "text": [
      "Epoch 1/3 [Training]: 100%|██████████| 322/322 [00:05<00:00, 57.85it/s, Loss=0.7595, Acc=68.566%]\n",
      "Epoch 1/3 [Validation]: 100%|██████████| 81/81 [00:00<00:00, 172.91it/s, Loss=0.4142, Acc=79.262%]\n"
     ]
    },
    {
     "name": "stdout",
     "output_type": "stream",
     "text": [
      "Epoch 1: Train Loss = 0.7347, Train Acc = 68.57% Validation Loss   = 0.4737, Validation Acc   = 79.26%\n"
     ]
    },
    {
     "name": "stderr",
     "output_type": "stream",
     "text": [
      "Epoch 2/3 [Training]: 100%|██████████| 322/322 [00:05<00:00, 57.38it/s, Loss=0.4829, Acc=83.448%]\n",
      "Epoch 2/3 [Validation]: 100%|██████████| 81/81 [00:00<00:00, 171.37it/s, Loss=0.2891, Acc=80.932%]\n"
     ]
    },
    {
     "name": "stdout",
     "output_type": "stream",
     "text": [
      "Epoch 2: Train Loss = 0.3842, Train Acc = 83.45% Validation Loss   = 0.4354, Validation Acc   = 80.93%\n"
     ]
    },
    {
     "name": "stderr",
     "output_type": "stream",
     "text": [
      "Epoch 3/3 [Training]: 100%|██████████| 322/322 [00:05<00:00, 57.59it/s, Loss=0.3635, Acc=88.118%]\n",
      "Epoch 3/3 [Validation]: 100%|██████████| 81/81 [00:00<00:00, 174.18it/s, Loss=0.2728, Acc=80.272%]\n",
      "[I 2025-03-31 13:31:50,049] Trial 56 finished with value: 0.43540904937702934 and parameters: {'embedding_dim': 300, 'hidden_dim': 128, 'is_bidirectional': True, 'lr': 0.0006286939955753728, 'dropout_rate': 0.3, 'lstm_layers': 2}. Best is trial 22 with value: 0.4203503242245427.\n"
     ]
    },
    {
     "name": "stdout",
     "output_type": "stream",
     "text": [
      "Epoch 3: Train Loss = 0.2853, Train Acc = 88.12% Validation Loss   = 0.4796, Validation Acc   = 80.27%\n",
      "Early stopping patience: 1/10\n",
      "\n",
      "Trial 57: Embedding_Dim: 300, Hidden_Dim: 256, Is Bidirectional: True, Learning Rate: 0.0004036581482299375, LSTM Layers: 2, Dropout Rate: 0.3\n"
     ]
    },
    {
     "name": "stderr",
     "output_type": "stream",
     "text": [
      "Epoch 1/3 [Training]: 100%|██████████| 322/322 [00:12<00:00, 25.98it/s, Loss=0.7953, Acc=68.848%]\n",
      "Epoch 1/3 [Validation]: 100%|██████████| 81/81 [00:01<00:00, 77.43it/s, Loss=0.6281, Acc=79.806%]\n"
     ]
    },
    {
     "name": "stdout",
     "output_type": "stream",
     "text": [
      "Epoch 1: Train Loss = 0.7421, Train Acc = 68.85% Validation Loss   = 0.4704, Validation Acc   = 79.81%\n"
     ]
    },
    {
     "name": "stderr",
     "output_type": "stream",
     "text": [
      "Epoch 2/3 [Training]: 100%|██████████| 322/322 [00:12<00:00, 25.52it/s, Loss=0.4142, Acc=82.109%]\n",
      "Epoch 2/3 [Validation]: 100%|██████████| 81/81 [00:01<00:00, 77.10it/s, Loss=0.4012, Acc=81.049%]\n"
     ]
    },
    {
     "name": "stdout",
     "output_type": "stream",
     "text": [
      "Epoch 2: Train Loss = 0.4101, Train Acc = 82.11% Validation Loss   = 0.4435, Validation Acc   = 81.05%\n"
     ]
    },
    {
     "name": "stderr",
     "output_type": "stream",
     "text": [
      "Epoch 3/3 [Training]: 100%|██████████| 322/322 [00:12<00:00, 25.63it/s, Loss=0.4281, Acc=86.157%]\n",
      "Epoch 3/3 [Validation]: 100%|██████████| 81/81 [00:01<00:00, 77.35it/s, Loss=0.8281, Acc=81.204%]\n",
      "[I 2025-03-31 13:32:31,180] Trial 57 finished with value: 0.44348754246293765 and parameters: {'embedding_dim': 300, 'hidden_dim': 256, 'is_bidirectional': True, 'lr': 0.0004036581482299375, 'dropout_rate': 0.3, 'lstm_layers': 2}. Best is trial 22 with value: 0.4203503242245427.\n"
     ]
    },
    {
     "name": "stdout",
     "output_type": "stream",
     "text": [
      "Epoch 3: Train Loss = 0.3208, Train Acc = 86.16% Validation Loss   = 0.4703, Validation Acc   = 81.20%\n",
      "Early stopping patience: 1/10\n",
      "\n",
      "Trial 58: Embedding_Dim: 200, Hidden_Dim: 128, Is Bidirectional: True, Learning Rate: 0.0005985408498512451, LSTM Layers: 2, Dropout Rate: 0.3\n"
     ]
    },
    {
     "name": "stderr",
     "output_type": "stream",
     "text": [
      "Epoch 1/3 [Training]: 100%|██████████| 322/322 [00:04<00:00, 65.91it/s, Loss=0.3028, Acc=67.663%]\n",
      "Epoch 1/3 [Validation]: 100%|██████████| 81/81 [00:00<00:00, 179.57it/s, Loss=0.3352, Acc=79.689%]\n"
     ]
    },
    {
     "name": "stdout",
     "output_type": "stream",
     "text": [
      "Epoch 1: Train Loss = 0.7828, Train Acc = 67.66% Validation Loss   = 0.4645, Validation Acc   = 79.69%\n"
     ]
    },
    {
     "name": "stderr",
     "output_type": "stream",
     "text": [
      "Epoch 2/3 [Training]: 100%|██████████| 322/322 [00:04<00:00, 65.66it/s, Loss=0.4220, Acc=82.109%]\n",
      "Epoch 2/3 [Validation]: 100%|██████████| 81/81 [00:00<00:00, 176.46it/s, Loss=0.3329, Acc=80.311%]\n"
     ]
    },
    {
     "name": "stdout",
     "output_type": "stream",
     "text": [
      "Epoch 2: Train Loss = 0.4136, Train Acc = 82.11% Validation Loss   = 0.4531, Validation Acc   = 80.31%\n"
     ]
    },
    {
     "name": "stderr",
     "output_type": "stream",
     "text": [
      "Epoch 3/3 [Training]: 100%|██████████| 322/322 [00:04<00:00, 65.33it/s, Loss=0.4103, Acc=85.963%]\n",
      "Epoch 3/3 [Validation]: 100%|██████████| 81/81 [00:00<00:00, 176.36it/s, Loss=0.3202, Acc=79.883%]\n",
      "[I 2025-03-31 13:32:47,550] Trial 58 finished with value: 0.45307514788927855 and parameters: {'embedding_dim': 200, 'hidden_dim': 128, 'is_bidirectional': True, 'lr': 0.0005985408498512451, 'dropout_rate': 0.3, 'lstm_layers': 2}. Best is trial 22 with value: 0.4203503242245427.\n"
     ]
    },
    {
     "name": "stdout",
     "output_type": "stream",
     "text": [
      "Epoch 3: Train Loss = 0.3271, Train Acc = 85.96% Validation Loss   = 0.4686, Validation Acc   = 79.88%\n",
      "Early stopping patience: 1/10\n",
      "\n",
      "Trial 59: Embedding_Dim: 300, Hidden_Dim: 128, Is Bidirectional: True, Learning Rate: 0.0002934081673505879, LSTM Layers: 2, Dropout Rate: 0.3\n"
     ]
    },
    {
     "name": "stderr",
     "output_type": "stream",
     "text": [
      "Epoch 1/3 [Training]: 100%|██████████| 322/322 [00:05<00:00, 57.77it/s, Loss=0.7106, Acc=63.538%]\n",
      "Epoch 1/3 [Validation]: 100%|██████████| 81/81 [00:00<00:00, 174.05it/s, Loss=0.3803, Acc=78.485%]\n"
     ]
    },
    {
     "name": "stdout",
     "output_type": "stream",
     "text": [
      "Epoch 1: Train Loss = 0.9091, Train Acc = 63.54% Validation Loss   = 0.4790, Validation Acc   = 78.49%\n"
     ]
    },
    {
     "name": "stderr",
     "output_type": "stream",
     "text": [
      "Epoch 2/3 [Training]: 100%|██████████| 322/322 [00:05<00:00, 57.69it/s, Loss=0.2713, Acc=81.245%]\n",
      "Epoch 2/3 [Validation]: 100%|██████████| 81/81 [00:00<00:00, 173.83it/s, Loss=0.3458, Acc=79.495%]\n"
     ]
    },
    {
     "name": "stdout",
     "output_type": "stream",
     "text": [
      "Epoch 2: Train Loss = 0.4341, Train Acc = 81.24% Validation Loss   = 0.4612, Validation Acc   = 79.50%\n"
     ]
    },
    {
     "name": "stderr",
     "output_type": "stream",
     "text": [
      "Epoch 3/3 [Training]: 100%|██████████| 322/322 [00:05<00:00, 57.63it/s, Loss=0.3409, Acc=84.982%]\n",
      "Epoch 3/3 [Validation]: 100%|██████████| 81/81 [00:00<00:00, 173.38it/s, Loss=0.3071, Acc=80.078%]\n",
      "[I 2025-03-31 13:33:06,088] Trial 59 finished with value: 0.46119797229766846 and parameters: {'embedding_dim': 300, 'hidden_dim': 128, 'is_bidirectional': True, 'lr': 0.0002934081673505879, 'dropout_rate': 0.3, 'lstm_layers': 2}. Best is trial 22 with value: 0.4203503242245427.\n"
     ]
    },
    {
     "name": "stdout",
     "output_type": "stream",
     "text": [
      "Epoch 3: Train Loss = 0.3487, Train Acc = 84.98% Validation Loss   = 0.4682, Validation Acc   = 80.08%\n",
      "Early stopping patience: 1/10\n",
      "\n",
      "Trial 60: Embedding_Dim: 300, Hidden_Dim: 128, Is Bidirectional: True, Learning Rate: 0.0004621234687902358, LSTM Layers: 2, Dropout Rate: 0.3\n"
     ]
    },
    {
     "name": "stderr",
     "output_type": "stream",
     "text": [
      "Epoch 1/3 [Training]: 100%|██████████| 322/322 [00:05<00:00, 57.89it/s, Loss=0.4665, Acc=68.265%]\n",
      "Epoch 1/3 [Validation]: 100%|██████████| 81/81 [00:00<00:00, 164.92it/s, Loss=0.4713, Acc=79.961%]\n"
     ]
    },
    {
     "name": "stdout",
     "output_type": "stream",
     "text": [
      "Epoch 1: Train Loss = 0.7732, Train Acc = 68.27% Validation Loss   = 0.4491, Validation Acc   = 79.96%\n"
     ]
    },
    {
     "name": "stderr",
     "output_type": "stream",
     "text": [
      "Epoch 2/3 [Training]: 100%|██████████| 322/322 [00:05<00:00, 57.44it/s, Loss=0.5626, Acc=82.409%]\n",
      "Epoch 2/3 [Validation]: 100%|██████████| 81/81 [00:00<00:00, 170.47it/s, Loss=0.5349, Acc=78.913%]\n"
     ]
    },
    {
     "name": "stdout",
     "output_type": "stream",
     "text": [
      "Epoch 2: Train Loss = 0.4041, Train Acc = 82.41% Validation Loss   = 0.4806, Validation Acc   = 78.91%\n",
      "Early stopping patience: 1/10\n"
     ]
    },
    {
     "name": "stderr",
     "output_type": "stream",
     "text": [
      "Epoch 3/3 [Training]: 100%|██████████| 322/322 [00:05<00:00, 57.79it/s, Loss=0.3036, Acc=86.865%]\n",
      "Epoch 3/3 [Validation]: 100%|██████████| 81/81 [00:00<00:00, 172.27it/s, Loss=0.4754, Acc=81.320%]\n",
      "[I 2025-03-31 13:33:24,658] Trial 60 finished with value: 0.4490581491479167 and parameters: {'embedding_dim': 300, 'hidden_dim': 128, 'is_bidirectional': True, 'lr': 0.0004621234687902358, 'dropout_rate': 0.3, 'lstm_layers': 2}. Best is trial 22 with value: 0.4203503242245427.\n"
     ]
    },
    {
     "name": "stdout",
     "output_type": "stream",
     "text": [
      "Epoch 3: Train Loss = 0.3188, Train Acc = 86.87% Validation Loss   = 0.4719, Validation Acc   = 81.32%\n",
      "Early stopping patience: 2/10\n",
      "\n",
      "Trial 61: Embedding_Dim: 300, Hidden_Dim: 128, Is Bidirectional: True, Learning Rate: 0.0006620050337804208, LSTM Layers: 2, Dropout Rate: 0.3\n"
     ]
    },
    {
     "name": "stderr",
     "output_type": "stream",
     "text": [
      "Epoch 1/3 [Training]: 100%|██████████| 322/322 [00:05<00:00, 57.65it/s, Loss=0.4658, Acc=69.537%]\n",
      "Epoch 1/3 [Validation]: 100%|██████████| 81/81 [00:00<00:00, 172.14it/s, Loss=0.3346, Acc=79.767%]\n"
     ]
    },
    {
     "name": "stdout",
     "output_type": "stream",
     "text": [
      "Epoch 1: Train Loss = 0.7271, Train Acc = 69.54% Validation Loss   = 0.4698, Validation Acc   = 79.77%\n"
     ]
    },
    {
     "name": "stderr",
     "output_type": "stream",
     "text": [
      "Epoch 2/3 [Training]: 100%|██████████| 322/322 [00:05<00:00, 57.81it/s, Loss=0.2941, Acc=82.652%]\n",
      "Epoch 2/3 [Validation]: 100%|██████████| 81/81 [00:00<00:00, 172.65it/s, Loss=0.3149, Acc=80.233%]\n"
     ]
    },
    {
     "name": "stdout",
     "output_type": "stream",
     "text": [
      "Epoch 2: Train Loss = 0.3934, Train Acc = 82.65% Validation Loss   = 0.4680, Validation Acc   = 80.23%\n"
     ]
    },
    {
     "name": "stderr",
     "output_type": "stream",
     "text": [
      "Epoch 3/3 [Training]: 100%|██████████| 322/322 [00:05<00:00, 57.68it/s, Loss=0.1882, Acc=87.758%]\n",
      "Epoch 3/3 [Validation]: 100%|██████████| 81/81 [00:00<00:00, 175.42it/s, Loss=0.3389, Acc=81.010%]\n",
      "[I 2025-03-31 13:33:43,191] Trial 61 finished with value: 0.4680437784136077 and parameters: {'embedding_dim': 300, 'hidden_dim': 128, 'is_bidirectional': True, 'lr': 0.0006620050337804208, 'dropout_rate': 0.3, 'lstm_layers': 2}. Best is trial 22 with value: 0.4203503242245427.\n"
     ]
    },
    {
     "name": "stdout",
     "output_type": "stream",
     "text": [
      "Epoch 3: Train Loss = 0.2939, Train Acc = 87.76% Validation Loss   = 0.4729, Validation Acc   = 81.01%\n",
      "Early stopping patience: 1/10\n",
      "\n",
      "Trial 62: Embedding_Dim: 300, Hidden_Dim: 128, Is Bidirectional: True, Learning Rate: 0.0005291131735122096, LSTM Layers: 2, Dropout Rate: 0.5\n"
     ]
    },
    {
     "name": "stderr",
     "output_type": "stream",
     "text": [
      "Epoch 1/3 [Training]: 100%|██████████| 322/322 [00:05<00:00, 57.19it/s, Loss=0.5454, Acc=68.721%]\n",
      "Epoch 1/3 [Validation]: 100%|██████████| 81/81 [00:00<00:00, 171.71it/s, Loss=0.3443, Acc=79.689%]\n"
     ]
    },
    {
     "name": "stdout",
     "output_type": "stream",
     "text": [
      "Epoch 1: Train Loss = 0.7509, Train Acc = 68.72% Validation Loss   = 0.4664, Validation Acc   = 79.69%\n"
     ]
    },
    {
     "name": "stderr",
     "output_type": "stream",
     "text": [
      "Epoch 2/3 [Training]: 100%|██████████| 322/322 [00:05<00:00, 57.96it/s, Loss=0.2638, Acc=82.186%]\n",
      "Epoch 2/3 [Validation]: 100%|██████████| 81/81 [00:00<00:00, 173.13it/s, Loss=0.4757, Acc=79.650%]\n"
     ]
    },
    {
     "name": "stdout",
     "output_type": "stream",
     "text": [
      "Epoch 2: Train Loss = 0.4011, Train Acc = 82.19% Validation Loss   = 0.4491, Validation Acc   = 79.65%\n"
     ]
    },
    {
     "name": "stderr",
     "output_type": "stream",
     "text": [
      "Epoch 3/3 [Training]: 100%|██████████| 322/322 [00:05<00:00, 57.63it/s, Loss=0.2885, Acc=86.759%]\n",
      "Epoch 3/3 [Validation]: 100%|██████████| 81/81 [00:00<00:00, 170.28it/s, Loss=0.3713, Acc=80.777%]\n",
      "[I 2025-03-31 13:34:01,790] Trial 62 finished with value: 0.4490637922728503 and parameters: {'embedding_dim': 300, 'hidden_dim': 128, 'is_bidirectional': True, 'lr': 0.0005291131735122096, 'dropout_rate': 0.5, 'lstm_layers': 2}. Best is trial 22 with value: 0.4203503242245427.\n"
     ]
    },
    {
     "name": "stdout",
     "output_type": "stream",
     "text": [
      "Epoch 3: Train Loss = 0.3073, Train Acc = 86.76% Validation Loss   = 0.4533, Validation Acc   = 80.78%\n",
      "Early stopping patience: 1/10\n",
      "\n",
      "Trial 63: Embedding_Dim: 300, Hidden_Dim: 128, Is Bidirectional: True, Learning Rate: 0.0007175245855051837, LSTM Layers: 2, Dropout Rate: 0.3\n"
     ]
    },
    {
     "name": "stderr",
     "output_type": "stream",
     "text": [
      "Epoch 1/3 [Training]: 100%|██████████| 322/322 [00:05<00:00, 57.90it/s, Loss=0.4289, Acc=69.518%]\n",
      "Epoch 1/3 [Validation]: 100%|██████████| 81/81 [00:00<00:00, 172.50it/s, Loss=0.4629, Acc=79.340%]\n"
     ]
    },
    {
     "name": "stdout",
     "output_type": "stream",
     "text": [
      "Epoch 1: Train Loss = 0.7403, Train Acc = 69.52% Validation Loss   = 0.4583, Validation Acc   = 79.34%\n"
     ]
    },
    {
     "name": "stderr",
     "output_type": "stream",
     "text": [
      "Epoch 2/3 [Training]: 100%|██████████| 322/322 [00:05<00:00, 57.84it/s, Loss=0.2989, Acc=83.079%]\n",
      "Epoch 2/3 [Validation]: 100%|██████████| 81/81 [00:00<00:00, 171.75it/s, Loss=0.4682, Acc=80.039%]\n"
     ]
    },
    {
     "name": "stdout",
     "output_type": "stream",
     "text": [
      "Epoch 2: Train Loss = 0.3935, Train Acc = 83.08% Validation Loss   = 0.4534, Validation Acc   = 80.04%\n"
     ]
    },
    {
     "name": "stderr",
     "output_type": "stream",
     "text": [
      "Epoch 3/3 [Training]: 100%|██████████| 322/322 [00:05<00:00, 57.19it/s, Loss=0.3679, Acc=87.904%]\n",
      "Epoch 3/3 [Validation]: 100%|██████████| 81/81 [00:00<00:00, 158.81it/s, Loss=0.6809, Acc=80.233%]\n",
      "[I 2025-03-31 13:34:20,392] Trial 63 finished with value: 0.45337165616176744 and parameters: {'embedding_dim': 300, 'hidden_dim': 128, 'is_bidirectional': True, 'lr': 0.0007175245855051837, 'dropout_rate': 0.3, 'lstm_layers': 2}. Best is trial 22 with value: 0.4203503242245427.\n"
     ]
    },
    {
     "name": "stdout",
     "output_type": "stream",
     "text": [
      "Epoch 3: Train Loss = 0.2952, Train Acc = 87.90% Validation Loss   = 0.4996, Validation Acc   = 80.23%\n",
      "Early stopping patience: 1/10\n",
      "\n",
      "Trial 64: Embedding_Dim: 300, Hidden_Dim: 128, Is Bidirectional: True, Learning Rate: 0.0005699328890050227, LSTM Layers: 2, Dropout Rate: 0.5\n"
     ]
    },
    {
     "name": "stderr",
     "output_type": "stream",
     "text": [
      "Epoch 1/3 [Training]: 100%|██████████| 322/322 [00:05<00:00, 57.73it/s, Loss=0.3466, Acc=68.304%]\n",
      "Epoch 1/3 [Validation]: 100%|██████████| 81/81 [00:00<00:00, 175.10it/s, Loss=0.3401, Acc=79.534%]\n"
     ]
    },
    {
     "name": "stdout",
     "output_type": "stream",
     "text": [
      "Epoch 1: Train Loss = 0.7614, Train Acc = 68.30% Validation Loss   = 0.4699, Validation Acc   = 79.53%\n"
     ]
    },
    {
     "name": "stderr",
     "output_type": "stream",
     "text": [
      "Epoch 2/3 [Training]: 100%|██████████| 322/322 [00:05<00:00, 57.69it/s, Loss=0.5897, Acc=83.040%]\n",
      "Epoch 2/3 [Validation]: 100%|██████████| 81/81 [00:00<00:00, 174.11it/s, Loss=0.2303, Acc=81.437%]\n"
     ]
    },
    {
     "name": "stdout",
     "output_type": "stream",
     "text": [
      "Epoch 2: Train Loss = 0.4028, Train Acc = 83.04% Validation Loss   = 0.4416, Validation Acc   = 81.44%\n"
     ]
    },
    {
     "name": "stderr",
     "output_type": "stream",
     "text": [
      "Epoch 3/3 [Training]: 100%|██████████| 322/322 [00:05<00:00, 57.84it/s, Loss=0.3162, Acc=87.875%]\n",
      "Epoch 3/3 [Validation]: 100%|██████████| 81/81 [00:00<00:00, 175.55it/s, Loss=0.1155, Acc=82.175%]\n",
      "[I 2025-03-31 13:34:38,897] Trial 64 finished with value: 0.4415537214573519 and parameters: {'embedding_dim': 300, 'hidden_dim': 128, 'is_bidirectional': True, 'lr': 0.0005699328890050227, 'dropout_rate': 0.5, 'lstm_layers': 2}. Best is trial 22 with value: 0.4203503242245427.\n"
     ]
    },
    {
     "name": "stdout",
     "output_type": "stream",
     "text": [
      "Epoch 3: Train Loss = 0.3062, Train Acc = 87.87% Validation Loss   = 0.4705, Validation Acc   = 82.17%\n",
      "Early stopping patience: 1/10\n",
      "\n",
      "Trial 65: Embedding_Dim: 300, Hidden_Dim: 128, Is Bidirectional: True, Learning Rate: 0.0006303981401141142, LSTM Layers: 3, Dropout Rate: 0.5\n"
     ]
    },
    {
     "name": "stderr",
     "output_type": "stream",
     "text": [
      "Epoch 1/3 [Training]: 100%|██████████| 322/322 [00:06<00:00, 47.92it/s, Loss=0.4492, Acc=62.217%]\n",
      "Epoch 1/3 [Validation]: 100%|██████████| 81/81 [00:00<00:00, 139.56it/s, Loss=0.3655, Acc=77.670%]\n"
     ]
    },
    {
     "name": "stdout",
     "output_type": "stream",
     "text": [
      "Epoch 1: Train Loss = 0.8426, Train Acc = 62.22% Validation Loss   = 0.4667, Validation Acc   = 77.67%\n"
     ]
    },
    {
     "name": "stderr",
     "output_type": "stream",
     "text": [
      "Epoch 2/3 [Training]: 100%|██████████| 322/322 [00:06<00:00, 47.42it/s, Loss=0.5047, Acc=80.351%]\n",
      "Epoch 2/3 [Validation]: 100%|██████████| 81/81 [00:00<00:00, 138.96it/s, Loss=0.4460, Acc=80.194%]\n"
     ]
    },
    {
     "name": "stdout",
     "output_type": "stream",
     "text": [
      "Epoch 2: Train Loss = 0.4294, Train Acc = 80.35% Validation Loss   = 0.4522, Validation Acc   = 80.19%\n"
     ]
    },
    {
     "name": "stderr",
     "output_type": "stream",
     "text": [
      "Epoch 3/3 [Training]: 100%|██████████| 322/322 [00:06<00:00, 47.61it/s, Loss=0.2319, Acc=86.001%]\n",
      "Epoch 3/3 [Validation]: 100%|██████████| 81/81 [00:00<00:00, 140.88it/s, Loss=0.5763, Acc=81.204%]\n",
      "[I 2025-03-31 13:35:01,343] Trial 65 finished with value: 0.4522389335396849 and parameters: {'embedding_dim': 300, 'hidden_dim': 128, 'is_bidirectional': True, 'lr': 0.0006303981401141142, 'dropout_rate': 0.5, 'lstm_layers': 3}. Best is trial 22 with value: 0.4203503242245427.\n"
     ]
    },
    {
     "name": "stdout",
     "output_type": "stream",
     "text": [
      "Epoch 3: Train Loss = 0.3337, Train Acc = 86.00% Validation Loss   = 0.4595, Validation Acc   = 81.20%\n",
      "Early stopping patience: 1/10\n",
      "\n",
      "Trial 66: Embedding_Dim: 300, Hidden_Dim: 128, Is Bidirectional: False, Learning Rate: 0.0006794634665358661, LSTM Layers: 2, Dropout Rate: 0.3\n"
     ]
    },
    {
     "name": "stderr",
     "output_type": "stream",
     "text": [
      "Epoch 1/3 [Training]: 100%|██████████| 322/322 [00:04<00:00, 74.65it/s, Loss=0.5722, Acc=65.829%]\n",
      "Epoch 1/3 [Validation]: 100%|██████████| 81/81 [00:00<00:00, 232.02it/s, Loss=0.5349, Acc=76.311%]\n"
     ]
    },
    {
     "name": "stdout",
     "output_type": "stream",
     "text": [
      "Epoch 1: Train Loss = 0.8113, Train Acc = 65.83% Validation Loss   = 0.5081, Validation Acc   = 76.31%\n"
     ]
    },
    {
     "name": "stderr",
     "output_type": "stream",
     "text": [
      "Epoch 2/3 [Training]: 100%|██████████| 322/322 [00:04<00:00, 74.88it/s, Loss=1.0276, Acc=79.944%]\n",
      "Epoch 2/3 [Validation]: 100%|██████████| 81/81 [00:00<00:00, 230.23it/s, Loss=0.4344, Acc=78.835%]\n"
     ]
    },
    {
     "name": "stdout",
     "output_type": "stream",
     "text": [
      "Epoch 2: Train Loss = 0.4531, Train Acc = 79.94% Validation Loss   = 0.4758, Validation Acc   = 78.83%\n"
     ]
    },
    {
     "name": "stderr",
     "output_type": "stream",
     "text": [
      "Epoch 3/3 [Training]: 100%|██████████| 322/322 [00:04<00:00, 74.94it/s, Loss=0.8202, Acc=84.817%]\n",
      "Epoch 3/3 [Validation]: 100%|██████████| 81/81 [00:00<00:00, 241.39it/s, Loss=0.5757, Acc=80.078%]\n",
      "[I 2025-03-31 13:35:15,680] Trial 66 finished with value: 0.47583112120628357 and parameters: {'embedding_dim': 300, 'hidden_dim': 128, 'is_bidirectional': False, 'lr': 0.0006794634665358661, 'dropout_rate': 0.3, 'lstm_layers': 2}. Best is trial 22 with value: 0.4203503242245427.\n"
     ]
    },
    {
     "name": "stdout",
     "output_type": "stream",
     "text": [
      "Epoch 3: Train Loss = 0.3547, Train Acc = 84.82% Validation Loss   = 0.4794, Validation Acc   = 80.08%\n",
      "Early stopping patience: 1/10\n",
      "\n",
      "Trial 67: Embedding_Dim: 300, Hidden_Dim: 256, Is Bidirectional: True, Learning Rate: 0.0005403966207481879, LSTM Layers: 2, Dropout Rate: 0.5\n"
     ]
    },
    {
     "name": "stderr",
     "output_type": "stream",
     "text": [
      "Epoch 1/3 [Training]: 100%|██████████| 322/322 [00:12<00:00, 25.60it/s, Loss=0.5023, Acc=71.168%]\n",
      "Epoch 1/3 [Validation]: 100%|██████████| 81/81 [00:01<00:00, 77.21it/s, Loss=0.3159, Acc=79.379%]\n"
     ]
    },
    {
     "name": "stdout",
     "output_type": "stream",
     "text": [
      "Epoch 1: Train Loss = 0.6954, Train Acc = 71.17% Validation Loss   = 0.4586, Validation Acc   = 79.38%\n"
     ]
    },
    {
     "name": "stderr",
     "output_type": "stream",
     "text": [
      "Epoch 2/3 [Training]: 100%|██████████| 322/322 [00:12<00:00, 25.69it/s, Loss=0.4956, Acc=82.992%]\n",
      "Epoch 2/3 [Validation]: 100%|██████████| 81/81 [00:01<00:00, 77.25it/s, Loss=0.2317, Acc=80.078%]\n"
     ]
    },
    {
     "name": "stdout",
     "output_type": "stream",
     "text": [
      "Epoch 2: Train Loss = 0.4024, Train Acc = 82.99% Validation Loss   = 0.4556, Validation Acc   = 80.08%\n"
     ]
    },
    {
     "name": "stderr",
     "output_type": "stream",
     "text": [
      "Epoch 3/3 [Training]: 100%|██████████| 322/322 [00:12<00:00, 25.37it/s, Loss=0.0855, Acc=86.914%]\n",
      "Epoch 3/3 [Validation]: 100%|██████████| 81/81 [00:01<00:00, 77.35it/s, Loss=0.3863, Acc=80.427%]\n",
      "[I 2025-03-31 13:35:57,036] Trial 67 finished with value: 0.45555693591818397 and parameters: {'embedding_dim': 300, 'hidden_dim': 256, 'is_bidirectional': True, 'lr': 0.0005403966207481879, 'dropout_rate': 0.5, 'lstm_layers': 2}. Best is trial 22 with value: 0.4203503242245427.\n"
     ]
    },
    {
     "name": "stdout",
     "output_type": "stream",
     "text": [
      "Epoch 3: Train Loss = 0.3201, Train Acc = 86.91% Validation Loss   = 0.4747, Validation Acc   = 80.43%\n",
      "Early stopping patience: 1/10\n",
      "\n",
      "Trial 68: Embedding_Dim: 300, Hidden_Dim: 128, Is Bidirectional: True, Learning Rate: 0.0006151355326756068, LSTM Layers: 2, Dropout Rate: 0.5\n"
     ]
    },
    {
     "name": "stderr",
     "output_type": "stream",
     "text": [
      "Epoch 1/3 [Training]: 100%|██████████| 322/322 [00:05<00:00, 57.77it/s, Loss=0.4081, Acc=68.925%]\n",
      "Epoch 1/3 [Validation]: 100%|██████████| 81/81 [00:00<00:00, 177.56it/s, Loss=0.3045, Acc=79.301%]\n"
     ]
    },
    {
     "name": "stdout",
     "output_type": "stream",
     "text": [
      "Epoch 1: Train Loss = 0.7379, Train Acc = 68.93% Validation Loss   = 0.4683, Validation Acc   = 79.30%\n"
     ]
    },
    {
     "name": "stderr",
     "output_type": "stream",
     "text": [
      "Epoch 2/3 [Training]: 100%|██████████| 322/322 [00:05<00:00, 57.67it/s, Loss=0.5267, Acc=82.934%]\n",
      "Epoch 2/3 [Validation]: 100%|██████████| 81/81 [00:00<00:00, 167.33it/s, Loss=0.2384, Acc=81.864%]\n"
     ]
    },
    {
     "name": "stdout",
     "output_type": "stream",
     "text": [
      "Epoch 2: Train Loss = 0.4013, Train Acc = 82.93% Validation Loss   = 0.4385, Validation Acc   = 81.86%\n"
     ]
    },
    {
     "name": "stderr",
     "output_type": "stream",
     "text": [
      "Epoch 3/3 [Training]: 100%|██████████| 322/322 [00:05<00:00, 57.70it/s, Loss=0.5972, Acc=86.933%]\n",
      "Epoch 3/3 [Validation]: 100%|██████████| 81/81 [00:00<00:00, 175.15it/s, Loss=0.1723, Acc=81.670%]\n",
      "[I 2025-03-31 13:36:15,570] Trial 68 finished with value: 0.4384536526085418 and parameters: {'embedding_dim': 300, 'hidden_dim': 128, 'is_bidirectional': True, 'lr': 0.0006151355326756068, 'dropout_rate': 0.5, 'lstm_layers': 2}. Best is trial 22 with value: 0.4203503242245427.\n"
     ]
    },
    {
     "name": "stdout",
     "output_type": "stream",
     "text": [
      "Epoch 3: Train Loss = 0.3108, Train Acc = 86.93% Validation Loss   = 0.4502, Validation Acc   = 81.67%\n",
      "Early stopping patience: 1/10\n",
      "\n",
      "Trial 69: Embedding_Dim: 200, Hidden_Dim: 128, Is Bidirectional: True, Learning Rate: 0.0007722317261272122, LSTM Layers: 2, Dropout Rate: 0.5\n"
     ]
    },
    {
     "name": "stderr",
     "output_type": "stream",
     "text": [
      "Epoch 1/3 [Training]: 100%|██████████| 322/322 [00:04<00:00, 65.91it/s, Loss=0.4676, Acc=69.246%]\n",
      "Epoch 1/3 [Validation]: 100%|██████████| 81/81 [00:00<00:00, 173.35it/s, Loss=0.3199, Acc=79.262%]\n"
     ]
    },
    {
     "name": "stdout",
     "output_type": "stream",
     "text": [
      "Epoch 1: Train Loss = 0.7337, Train Acc = 69.25% Validation Loss   = 0.4729, Validation Acc   = 79.26%\n"
     ]
    },
    {
     "name": "stderr",
     "output_type": "stream",
     "text": [
      "Epoch 2/3 [Training]: 100%|██████████| 322/322 [00:04<00:00, 65.71it/s, Loss=0.4135, Acc=82.914%]\n",
      "Epoch 2/3 [Validation]: 100%|██████████| 81/81 [00:00<00:00, 169.03it/s, Loss=0.3188, Acc=80.854%]\n"
     ]
    },
    {
     "name": "stdout",
     "output_type": "stream",
     "text": [
      "Epoch 2: Train Loss = 0.4105, Train Acc = 82.91% Validation Loss   = 0.4372, Validation Acc   = 80.85%\n"
     ]
    },
    {
     "name": "stderr",
     "output_type": "stream",
     "text": [
      "Epoch 3/3 [Training]: 100%|██████████| 322/322 [00:04<00:00, 65.88it/s, Loss=0.3130, Acc=86.196%]\n",
      "Epoch 3/3 [Validation]: 100%|██████████| 81/81 [00:00<00:00, 174.46it/s, Loss=0.2722, Acc=81.515%]\n",
      "[I 2025-03-31 13:36:31,932] Trial 69 finished with value: 0.4371895425849491 and parameters: {'embedding_dim': 200, 'hidden_dim': 128, 'is_bidirectional': True, 'lr': 0.0007722317261272122, 'dropout_rate': 0.5, 'lstm_layers': 2}. Best is trial 22 with value: 0.4203503242245427.\n"
     ]
    },
    {
     "name": "stdout",
     "output_type": "stream",
     "text": [
      "Epoch 3: Train Loss = 0.3354, Train Acc = 86.20% Validation Loss   = 0.4654, Validation Acc   = 81.51%\n",
      "Early stopping patience: 1/10\n",
      "Best Params: {'embedding_dim': 300, 'hidden_dim': 128, 'is_bidirectional': True, 'lr': 0.0005088638245033547, 'dropout_rate': 0.5, 'lstm_layers': 2}\n"
     ]
    }
   ],
   "source": [
    "import optuna\n",
    "import itertools\n",
    "from torch.utils.data import DataLoader\n",
    "\n",
    "tried_configs = set()\n",
    "\n",
    "# Objective function for tuning\n",
    "def objective(trial):\n",
    "    embedding_dim = trial.suggest_categorical(\"embedding_dim\", [200, 300])\n",
    "    hidden_dim = trial.suggest_categorical(\"hidden_dim\", [128, 256])\n",
    "    is_bidirectional = trial.suggest_categorical(\"is_bidirectional\", [True, False])\n",
    "    lr = trial.suggest_loguniform(\"lr\", 1e-4, 1e-3)\n",
    "    dropout_rate = trial.suggest_categorical(\"dropout_rate\", [0.3, 0.5])\n",
    "    lstm_layers = trial.suggest_categorical(\"lstm_layers\",[2,3])\n",
    "    \n",
    "    # Hyperparameter combination\n",
    "    config = (embedding_dim, hidden_dim, is_bidirectional, lr, dropout_rate, lstm_layers)\n",
    "\n",
    "    # Check if this combination was already tried\n",
    "    if config in tried_configs:\n",
    "        print(f\"Skipping already tried configuration: {config}\")\n",
    "        raise optuna.TrialPruned()  # Prune this trial early\n",
    "\n",
    "    # Add new config to the set\n",
    "    tried_configs.add(config)\n",
    "    \n",
    "    model = LSTM_Sentiment_Classifier(\n",
    "        vocab_size=VOCAB_SIZE,\n",
    "        embedding_dim=embedding_dim,\n",
    "        hidden_dim=hidden_dim,\n",
    "        num_classes=NUM_CLASSES,\n",
    "        lstm_layers=lstm_layers,\n",
    "        dropout=dropout_rate,\n",
    "        is_bidirectional=is_bidirectional\n",
    "    ).to(DEVICE)\n",
    "    \n",
    "    criterion = nn.CrossEntropyLoss()\n",
    "    optimizer = optim.AdamW(model.parameters(), lr=lr)\n",
    "\n",
    "    print(f\"\\nTrial {trial.number}: Embedding_Dim: {embedding_dim}, Hidden_Dim: {hidden_dim}, Is Bidirectional: {is_bidirectional}, Learning Rate: {lr}, LSTM Layers: {lstm_layers}, Dropout Rate: {dropout_rate}\")\n",
    "\n",
    "    best_model, train_losses, val_losses, train_accuracies, val_accuracies = train(\n",
    "        model, reduced_train_loader, reduced_val_loader, criterion, optimizer, epochs=3, device=DEVICE\n",
    "    )\n",
    "\n",
    "    best_val_loss = val_losses[0]\n",
    "    for val_loss in val_losses:\n",
    "        if val_loss<best_val_loss:\n",
    "            best_val_loss = val_loss\n",
    "    return best_val_loss\n",
    "\n",
    "study = optuna.create_study(direction=\"minimize\")\n",
    "study.optimize(objective, n_trials=70)\n",
    "\n",
    "print(\"Best Params:\", study.best_params)\n"
   ]
  },
  {
   "cell_type": "code",
   "execution_count": 21,
   "id": "d3f83924",
   "metadata": {
    "execution": {
     "iopub.execute_input": "2025-03-31T13:36:41.874072Z",
     "iopub.status.busy": "2025-03-31T13:36:41.873780Z",
     "iopub.status.idle": "2025-03-31T13:36:41.878479Z",
     "shell.execute_reply": "2025-03-31T13:36:41.877669Z"
    },
    "papermill": {
     "duration": 5.01564,
     "end_time": "2025-03-31T13:36:41.879720",
     "exception": false,
     "start_time": "2025-03-31T13:36:36.864080",
     "status": "completed"
    },
    "tags": []
   },
   "outputs": [
    {
     "name": "stdout",
     "output_type": "stream",
     "text": [
      "Best Hyperparameters: {'embedding_dim': 300, 'hidden_dim': 128, 'is_bidirectional': True, 'lr': 0.0005088638245033547, 'dropout_rate': 0.5, 'lstm_layers': 2}\n"
     ]
    }
   ],
   "source": [
    "# Print best hyperparameters\n",
    "print(\"Best Hyperparameters:\", study.best_params)"
   ]
  },
  {
   "cell_type": "code",
   "execution_count": 22,
   "id": "face3d86",
   "metadata": {
    "execution": {
     "iopub.execute_input": "2025-03-31T13:36:51.626528Z",
     "iopub.status.busy": "2025-03-31T13:36:51.626218Z",
     "iopub.status.idle": "2025-03-31T13:36:51.637439Z",
     "shell.execute_reply": "2025-03-31T13:36:51.636688Z"
    },
    "papermill": {
     "duration": 4.958566,
     "end_time": "2025-03-31T13:36:51.638720",
     "exception": false,
     "start_time": "2025-03-31T13:36:46.680154",
     "status": "completed"
    },
    "tags": []
   },
   "outputs": [
    {
     "name": "stdout",
     "output_type": "stream",
     "text": [
      "70\n",
      "FrozenTrial(number=22, state=TrialState.COMPLETE, values=[0.4203503242245427], datetime_start=datetime.datetime(2025, 3, 31, 13, 20, 33, 388564), datetime_complete=datetime.datetime(2025, 3, 31, 13, 20, 51, 980654), params={'embedding_dim': 300, 'hidden_dim': 128, 'is_bidirectional': True, 'lr': 0.0005088638245033547, 'dropout_rate': 0.5, 'lstm_layers': 2}, user_attrs={}, system_attrs={}, intermediate_values={}, distributions={'embedding_dim': CategoricalDistribution(choices=(200, 300)), 'hidden_dim': CategoricalDistribution(choices=(128, 256)), 'is_bidirectional': CategoricalDistribution(choices=(True, False)), 'lr': FloatDistribution(high=0.001, log=True, low=0.0001, step=None), 'dropout_rate': CategoricalDistribution(choices=(0.3, 0.5)), 'lstm_layers': CategoricalDistribution(choices=(2, 3))}, trial_id=22, value=None)\n"
     ]
    }
   ],
   "source": [
    "print(len(study.trials))\n",
    "print(study.best_trial)"
   ]
  },
  {
   "cell_type": "code",
   "execution_count": 23,
   "id": "5abb8c6a",
   "metadata": {
    "execution": {
     "iopub.execute_input": "2025-03-31T13:37:01.498423Z",
     "iopub.status.busy": "2025-03-31T13:37:01.498051Z",
     "iopub.status.idle": "2025-03-31T13:37:01.502152Z",
     "shell.execute_reply": "2025-03-31T13:37:01.501449Z"
    },
    "papermill": {
     "duration": 5.062316,
     "end_time": "2025-03-31T13:37:01.503381",
     "exception": false,
     "start_time": "2025-03-31T13:36:56.441065",
     "status": "completed"
    },
    "tags": []
   },
   "outputs": [],
   "source": [
    "best_params = study.best_params\n",
    "# Hyperparameters\n",
    "LSTM_LAYERS = best_params[\"lstm_layers\"]\n",
    "DROPOUT = best_params[\"dropout_rate\"] \n",
    "\n",
    "HIDDEN_DIM = best_params[\"hidden_dim\"]\n",
    "EMBEDDING_DIM = best_params[\"embedding_dim\"]\n",
    "IS_BIDIRECTIONAL = best_params[\"is_bidirectional\"] \n",
    "LR = best_params[\"lr\"] "
   ]
  },
  {
   "cell_type": "code",
   "execution_count": 24,
   "id": "bcdd7885",
   "metadata": {
    "execution": {
     "iopub.execute_input": "2025-03-31T13:37:11.181619Z",
     "iopub.status.busy": "2025-03-31T13:37:11.181288Z",
     "iopub.status.idle": "2025-03-31T13:37:11.535652Z",
     "shell.execute_reply": "2025-03-31T13:37:11.534701Z"
    },
    "papermill": {
     "duration": 5.209042,
     "end_time": "2025-03-31T13:37:11.537287",
     "exception": false,
     "start_time": "2025-03-31T13:37:06.328245",
     "status": "completed"
    },
    "tags": []
   },
   "outputs": [],
   "source": [
    "model = LSTM_Sentiment_Classifier(VOCAB_SIZE, EMBEDDING_DIM, HIDDEN_DIM, NUM_CLASSES, LSTM_LAYERS, DROPOUT, IS_BIDIRECTIONAL)\n",
    "model = model.to(DEVICE)\n",
    "\n",
    "criterion = nn.CrossEntropyLoss()\n",
    "optimizer = optim.AdamW(model.parameters(), lr=LR)"
   ]
  },
  {
   "cell_type": "code",
   "execution_count": 25,
   "id": "ff4189cd",
   "metadata": {
    "execution": {
     "iopub.execute_input": "2025-03-31T13:37:21.277149Z",
     "iopub.status.busy": "2025-03-31T13:37:21.276774Z",
     "iopub.status.idle": "2025-03-31T13:37:49.571330Z",
     "shell.execute_reply": "2025-03-31T13:37:49.570499Z"
    },
    "papermill": {
     "duration": 33.156221,
     "end_time": "2025-03-31T13:37:49.572958",
     "exception": false,
     "start_time": "2025-03-31T13:37:16.416737",
     "status": "completed"
    },
    "tags": []
   },
   "outputs": [],
   "source": [
    "# Tokenization for LSTM\n",
    "from collections import Counter\n",
    "from gensim.models import Word2Vec\n",
    "\n",
    "word2vec_model = Word2Vec(Word2Vec_train_data, vector_size=EMBEDDING_DIM, window=5, min_count=1, workers=4)"
   ]
  },
  {
   "cell_type": "code",
   "execution_count": 26,
   "id": "35e4c2c3",
   "metadata": {
    "execution": {
     "iopub.execute_input": "2025-03-31T13:37:59.326754Z",
     "iopub.status.busy": "2025-03-31T13:37:59.326090Z",
     "iopub.status.idle": "2025-03-31T13:37:59.816319Z",
     "shell.execute_reply": "2025-03-31T13:37:59.815445Z"
    },
    "papermill": {
     "duration": 5.445847,
     "end_time": "2025-03-31T13:37:59.817587",
     "exception": false,
     "start_time": "2025-03-31T13:37:54.371740",
     "status": "completed"
    },
    "tags": []
   },
   "outputs": [
    {
     "name": "stdout",
     "output_type": "stream",
     "text": [
      "Embedding Matrix Shape: (118446, 300)\n"
     ]
    }
   ],
   "source": [
    "# Define an empty embedding matrix of shape (VOCAB_SIZE, EMBEDDING_DIM)\n",
    "embedding_matrix = np.zeros((VOCAB_SIZE, EMBEDDING_DIM))\n",
    "\n",
    "# Fill the embedding matrix with pre-trained values from word2vec\n",
    "for word, token in vocab:\n",
    "    # Check if the word is present in the word2vec model's vocabulary\n",
    "    if word in word2vec_model.wv.key_to_index:\n",
    "        # If the word is present, retrieve its embedding vector and add it to the embedding matrix\n",
    "        embedding_vector = word2vec_model.wv[word]\n",
    "        embedding_matrix[token] = embedding_vector\n",
    "\n",
    "# Print the shape of the embedding matrix\n",
    "print(\"Embedding Matrix Shape:\", embedding_matrix.shape)"
   ]
  },
  {
   "cell_type": "code",
   "execution_count": 27,
   "id": "d203ee09",
   "metadata": {
    "execution": {
     "iopub.execute_input": "2025-03-31T13:38:09.584458Z",
     "iopub.status.busy": "2025-03-31T13:38:09.584105Z",
     "iopub.status.idle": "2025-03-31T13:38:09.704835Z",
     "shell.execute_reply": "2025-03-31T13:38:09.704158Z"
    },
    "papermill": {
     "duration": 5.001688,
     "end_time": "2025-03-31T13:38:09.706329",
     "exception": false,
     "start_time": "2025-03-31T13:38:04.704641",
     "status": "completed"
    },
    "tags": []
   },
   "outputs": [],
   "source": [
    "# Assign pre-trained embeddings\n",
    "model.embedding.weight.data.copy_(torch.from_numpy(embedding_matrix))\n",
    "model.embedding.weight.requires_grad = True"
   ]
  },
  {
   "cell_type": "code",
   "execution_count": 28,
   "id": "67fc65e4",
   "metadata": {
    "execution": {
     "iopub.execute_input": "2025-03-31T13:38:19.482769Z",
     "iopub.status.busy": "2025-03-31T13:38:19.482481Z",
     "iopub.status.idle": "2025-03-31T13:42:23.859669Z",
     "shell.execute_reply": "2025-03-31T13:42:23.858644Z"
    },
    "papermill": {
     "duration": 249.241974,
     "end_time": "2025-03-31T13:42:23.861234",
     "exception": false,
     "start_time": "2025-03-31T13:38:14.619260",
     "status": "completed"
    },
    "tags": []
   },
   "outputs": [
    {
     "name": "stderr",
     "output_type": "stream",
     "text": [
      "Epoch 1/20 [Training]: 100%|██████████| 1074/1074 [00:18<00:00, 57.27it/s, Loss=0.0003, Acc=68.824%]\n",
      "Epoch 1/20 [Validation]: 100%|██████████| 269/269 [00:01<00:00, 167.04it/s, Loss=0.1675, Acc=82.050%]\n"
     ]
    },
    {
     "name": "stdout",
     "output_type": "stream",
     "text": [
      "Epoch 1: Train Loss = 0.6970, Train Acc = 68.82% Validation Loss   = 0.4104, Validation Acc   = 82.05%\n"
     ]
    },
    {
     "name": "stderr",
     "output_type": "stream",
     "text": [
      "Epoch 2/20 [Training]: 100%|██████████| 1074/1074 [00:18<00:00, 57.57it/s, Loss=2.3963, Acc=84.553%]\n",
      "Epoch 2/20 [Validation]: 100%|██████████| 269/269 [00:01<00:00, 168.13it/s, Loss=0.2706, Acc=83.168%]\n"
     ]
    },
    {
     "name": "stdout",
     "output_type": "stream",
     "text": [
      "Epoch 2: Train Loss = 0.3708, Train Acc = 84.55% Validation Loss   = 0.3994, Validation Acc   = 83.17%\n"
     ]
    },
    {
     "name": "stderr",
     "output_type": "stream",
     "text": [
      "Epoch 3/20 [Training]: 100%|██████████| 1074/1074 [00:18<00:00, 57.34it/s, Loss=0.2250, Acc=88.223%]\n",
      "Epoch 3/20 [Validation]: 100%|██████████| 269/269 [00:01<00:00, 167.63it/s, Loss=0.4208, Acc=82.632%]\n"
     ]
    },
    {
     "name": "stdout",
     "output_type": "stream",
     "text": [
      "Epoch 3: Train Loss = 0.2922, Train Acc = 88.22% Validation Loss   = 0.4539, Validation Acc   = 82.63%\n",
      "Early stopping patience: 1/10\n"
     ]
    },
    {
     "name": "stderr",
     "output_type": "stream",
     "text": [
      "Epoch 4/20 [Training]: 100%|██████████| 1074/1074 [00:18<00:00, 57.34it/s, Loss=0.0122, Acc=91.184%]\n",
      "Epoch 4/20 [Validation]: 100%|██████████| 269/269 [00:01<00:00, 169.20it/s, Loss=0.3822, Acc=82.516%]\n"
     ]
    },
    {
     "name": "stdout",
     "output_type": "stream",
     "text": [
      "Epoch 4: Train Loss = 0.2246, Train Acc = 91.18% Validation Loss   = 0.4656, Validation Acc   = 82.52%\n",
      "Early stopping patience: 2/10\n"
     ]
    },
    {
     "name": "stderr",
     "output_type": "stream",
     "text": [
      "Epoch 5/20 [Training]: 100%|██████████| 1074/1074 [00:18<00:00, 57.41it/s, Loss=0.0843, Acc=92.897%]\n",
      "Epoch 5/20 [Validation]: 100%|██████████| 269/269 [00:01<00:00, 167.09it/s, Loss=0.6091, Acc=82.458%]\n"
     ]
    },
    {
     "name": "stdout",
     "output_type": "stream",
     "text": [
      "Epoch 5: Train Loss = 0.1796, Train Acc = 92.90% Validation Loss   = 0.5271, Validation Acc   = 82.46%\n",
      "Early stopping patience: 3/10\n"
     ]
    },
    {
     "name": "stderr",
     "output_type": "stream",
     "text": [
      "Epoch 6/20 [Training]: 100%|██████████| 1074/1074 [00:18<00:00, 57.15it/s, Loss=0.0017, Acc=93.814%]\n",
      "Epoch 6/20 [Validation]: 100%|██████████| 269/269 [00:01<00:00, 168.49it/s, Loss=0.5026, Acc=81.899%]\n"
     ]
    },
    {
     "name": "stdout",
     "output_type": "stream",
     "text": [
      "Epoch 6: Train Loss = 0.1500, Train Acc = 93.81% Validation Loss   = 0.6340, Validation Acc   = 81.90%\n",
      "Early stopping patience: 4/10\n"
     ]
    },
    {
     "name": "stderr",
     "output_type": "stream",
     "text": [
      "Epoch 7/20 [Training]: 100%|██████████| 1074/1074 [00:18<00:00, 57.22it/s, Loss=0.0001, Acc=94.551%]\n",
      "Epoch 7/20 [Validation]: 100%|██████████| 269/269 [00:01<00:00, 172.52it/s, Loss=0.8777, Acc=81.072%]\n"
     ]
    },
    {
     "name": "stdout",
     "output_type": "stream",
     "text": [
      "Epoch 7: Train Loss = 0.1274, Train Acc = 94.55% Validation Loss   = 0.7096, Validation Acc   = 81.07%\n",
      "Early stopping patience: 5/10\n"
     ]
    },
    {
     "name": "stderr",
     "output_type": "stream",
     "text": [
      "Epoch 8/20 [Training]: 100%|██████████| 1074/1074 [00:18<00:00, 57.32it/s, Loss=0.0001, Acc=94.944%]\n",
      "Epoch 8/20 [Validation]: 100%|██████████| 269/269 [00:01<00:00, 166.18it/s, Loss=1.3086, Acc=81.351%]\n"
     ]
    },
    {
     "name": "stdout",
     "output_type": "stream",
     "text": [
      "Epoch 8: Train Loss = 0.1127, Train Acc = 94.94% Validation Loss   = 0.6928, Validation Acc   = 81.35%\n",
      "Early stopping patience: 6/10\n"
     ]
    },
    {
     "name": "stderr",
     "output_type": "stream",
     "text": [
      "Epoch 9/20 [Training]: 100%|██████████| 1074/1074 [00:18<00:00, 56.90it/s, Loss=0.0443, Acc=95.282%]\n",
      "Epoch 9/20 [Validation]: 100%|██████████| 269/269 [00:01<00:00, 169.05it/s, Loss=1.3723, Acc=80.699%]\n"
     ]
    },
    {
     "name": "stdout",
     "output_type": "stream",
     "text": [
      "Epoch 9: Train Loss = 0.1010, Train Acc = 95.28% Validation Loss   = 0.8257, Validation Acc   = 80.70%\n",
      "Early stopping patience: 7/10\n"
     ]
    },
    {
     "name": "stderr",
     "output_type": "stream",
     "text": [
      "Epoch 10/20 [Training]: 100%|██████████| 1074/1074 [00:18<00:00, 57.14it/s, Loss=0.0019, Acc=95.614%]\n",
      "Epoch 10/20 [Validation]: 100%|██████████| 269/269 [00:01<00:00, 159.27it/s, Loss=1.5940, Acc=81.002%]\n"
     ]
    },
    {
     "name": "stdout",
     "output_type": "stream",
     "text": [
      "Epoch 10: Train Loss = 0.0910, Train Acc = 95.61% Validation Loss   = 0.9068, Validation Acc   = 81.00%\n",
      "Early stopping patience: 8/10\n"
     ]
    },
    {
     "name": "stderr",
     "output_type": "stream",
     "text": [
      "Epoch 11/20 [Training]: 100%|██████████| 1074/1074 [00:18<00:00, 57.36it/s, Loss=0.0001, Acc=95.966%]\n",
      "Epoch 11/20 [Validation]: 100%|██████████| 269/269 [00:01<00:00, 168.40it/s, Loss=1.6877, Acc=80.944%]\n"
     ]
    },
    {
     "name": "stdout",
     "output_type": "stream",
     "text": [
      "Epoch 11: Train Loss = 0.0832, Train Acc = 95.97% Validation Loss   = 0.9447, Validation Acc   = 80.94%\n",
      "Early stopping patience: 9/10\n"
     ]
    },
    {
     "name": "stderr",
     "output_type": "stream",
     "text": [
      "Epoch 12/20 [Training]: 100%|██████████| 1074/1074 [00:18<00:00, 57.26it/s, Loss=0.0074, Acc=96.074%]\n",
      "Epoch 12/20 [Validation]: 100%|██████████| 269/269 [00:01<00:00, 168.97it/s, Loss=1.5831, Acc=80.676%]"
     ]
    },
    {
     "name": "stdout",
     "output_type": "stream",
     "text": [
      "Epoch 12: Train Loss = 0.0771, Train Acc = 96.07% Validation Loss   = 0.9476, Validation Acc   = 80.68%\n",
      "Early stopping patience: 10/10\n",
      "Early stopping...No improvement in Validation Loss!\n"
     ]
    },
    {
     "name": "stderr",
     "output_type": "stream",
     "text": [
      "\n"
     ]
    }
   ],
   "source": [
    "N_EPOCHS = 20\n",
    "best_model,train_losses, val_losses, train_accuracies, val_accuracies = train(model, train_loader, val_loader, criterion, optimizer, N_EPOCHS, DEVICE)"
   ]
  },
  {
   "cell_type": "code",
   "execution_count": 29,
   "id": "21ecbc2b",
   "metadata": {
    "execution": {
     "iopub.execute_input": "2025-03-31T13:42:35.498043Z",
     "iopub.status.busy": "2025-03-31T13:42:35.497695Z",
     "iopub.status.idle": "2025-03-31T13:42:35.780893Z",
     "shell.execute_reply": "2025-03-31T13:42:35.780029Z"
    },
    "papermill": {
     "duration": 6.050133,
     "end_time": "2025-03-31T13:42:35.782159",
     "exception": false,
     "start_time": "2025-03-31T13:42:29.732026",
     "status": "completed"
    },
    "tags": []
   },
   "outputs": [
    {
     "data": {
      "image/png": "[encoded data removed]",
      "text/plain": [
       "<Figure size 1000x600 with 1 Axes>"
      ]
     },
     "metadata": {},
     "output_type": "display_data"
    }
   ],
   "source": [
    "import matplotlib.pyplot as plt\n",
    "\n",
    "# Plotting Loss\n",
    "plt.figure(figsize=(10, 6))\n",
    "plt.plot(range(1, len(train_losses) + 1), train_losses, marker='o', label='Train Loss', color=\"r\")\n",
    "plt.plot(range(1, len(val_losses) + 1), val_losses, marker='s', label='Validation Loss', color=\"b\")\n",
    "plt.title('Losses per Epoch')\n",
    "plt.xlabel('Epochs')\n",
    "plt.ylabel('Loss')\n",
    "plt.grid(True)\n",
    "plt.legend()\n",
    "plt.show()"
   ]
  },
  {
   "cell_type": "code",
   "execution_count": 30,
   "id": "3922e72a",
   "metadata": {
    "execution": {
     "iopub.execute_input": "2025-03-31T13:42:47.546368Z",
     "iopub.status.busy": "2025-03-31T13:42:47.546020Z",
     "iopub.status.idle": "2025-03-31T13:42:47.732246Z",
     "shell.execute_reply": "2025-03-31T13:42:47.731419Z"
    },
    "papermill": {
     "duration": 6.024557,
     "end_time": "2025-03-31T13:42:47.733810",
     "exception": false,
     "start_time": "2025-03-31T13:42:41.709253",
     "status": "completed"
    },
    "tags": []
   },
   "outputs": [
    {
     "data": {
      "image/png": "[encoded data removed]",
      "text/plain": [
       "<Figure size 1000x600 with 1 Axes>"
      ]
     },
     "metadata": {},
     "output_type": "display_data"
    }
   ],
   "source": [
    "# Plotting Accuracy\n",
    "plt.figure(figsize=(10, 6))\n",
    "plt.plot(range(1, len(train_accuracies) + 1), train_accuracies, marker='o', label='Train Accuracy', color=\"r\")\n",
    "plt.plot(range(1, len(val_accuracies) + 1), val_accuracies, marker='s', label='Validation Accuracy', color=\"b\")\n",
    "plt.title('Accuracy per Epoch')\n",
    "plt.xlabel('Epochs')\n",
    "plt.ylabel('Accuracy')\n",
    "plt.grid(True)\n",
    "plt.legend()\n",
    "plt.show()"
   ]
  },
  {
   "cell_type": "code",
   "execution_count": 31,
   "id": "22791cbe",
   "metadata": {
    "execution": {
     "iopub.execute_input": "2025-03-31T13:42:59.585284Z",
     "iopub.status.busy": "2025-03-31T13:42:59.584919Z",
     "iopub.status.idle": "2025-03-31T13:42:59.591413Z",
     "shell.execute_reply": "2025-03-31T13:42:59.590704Z"
    },
    "papermill": {
     "duration": 5.87682,
     "end_time": "2025-03-31T13:42:59.592584",
     "exception": false,
     "start_time": "2025-03-31T13:42:53.715764",
     "status": "completed"
    },
    "tags": []
   },
   "outputs": [],
   "source": [
    "from sklearn.metrics import accuracy_score, precision_recall_fscore_support\n",
    "\n",
    "# Evaluates the LSTM model on a validation or test set.\n",
    "def evaluate(model, val_loader, criterion, device):\n",
    "\n",
    "    model.eval()  # Set model to evaluation mode\n",
    "    total_loss = 0\n",
    "    all_preds = []\n",
    "    all_labels = []\n",
    "\n",
    "    with torch.no_grad():  # No gradient calculation needed\n",
    "        for batch in val_loader:\n",
    "            inputs = batch[\"input_ids\"].to(device)\n",
    "            labels = batch[\"labels\"].to(device)\n",
    "\n",
    "            outputs = model(inputs)  # Forward pass\n",
    "            loss = criterion(outputs, labels)\n",
    "            total_loss += loss.item()\n",
    "\n",
    "            # Predictions\n",
    "            y_pred = torch.argmax(outputs, dim=1).cpu().numpy()\n",
    "            y_true = labels.cpu().numpy()\n",
    "\n",
    "            all_preds.extend(y_pred)\n",
    "            all_labels.extend(y_true)\n",
    "\n",
    "    # Compute average loss\n",
    "    avg_loss = total_loss / len(val_loader)\n",
    "\n",
    "    # Compute accuracy, precision, recall, and F1-score\n",
    "    accuracy = accuracy_score(all_labels, all_preds)\n",
    "    precision, recall, f1, _ = precision_recall_fscore_support(all_labels, all_preds, average=\"weighted\")\n",
    "\n",
    "    print(f\"Validation Loss: {avg_loss:.4f}\")\n",
    "    print(f\"Accuracy: {accuracy:.4f}\")\n",
    "    print(f\"Precision: {precision:.4f}\")\n",
    "    print(f\"Recall: {recall:.4f}\")\n",
    "    print(f\"F1-score: {f1:.4f}\")\n",
    "\n",
    "    return avg_loss, accuracy, precision, recall, f1, all_labels, all_preds"
   ]
  },
  {
   "cell_type": "code",
   "execution_count": 32,
   "id": "f5ca2485",
   "metadata": {
    "execution": {
     "iopub.execute_input": "2025-03-31T13:43:11.125736Z",
     "iopub.status.busy": "2025-03-31T13:43:11.125443Z",
     "iopub.status.idle": "2025-03-31T13:43:11.832926Z",
     "shell.execute_reply": "2025-03-31T13:43:11.831883Z"
    },
    "papermill": {
     "duration": 6.480213,
     "end_time": "2025-03-31T13:43:11.834327",
     "exception": false,
     "start_time": "2025-03-31T13:43:05.354114",
     "status": "completed"
    },
    "tags": []
   },
   "outputs": [
    {
     "name": "stdout",
     "output_type": "stream",
     "text": [
      "Validation Loss: 0.9267\n",
      "Accuracy: 0.8069\n",
      "Precision: 0.8051\n",
      "Recall: 0.8069\n",
      "F1-score: 0.8056\n"
     ]
    }
   ],
   "source": [
    "test_loss, test_acc, test_prec, test_rec, test_f1, all_labels, all_preds = evaluate(model, test_loader, criterion, DEVICE)"
   ]
  },
  {
   "cell_type": "code",
   "execution_count": 33,
   "id": "290d9566",
   "metadata": {
    "execution": {
     "iopub.execute_input": "2025-03-31T13:43:23.592812Z",
     "iopub.status.busy": "2025-03-31T13:43:23.592495Z",
     "iopub.status.idle": "2025-03-31T13:43:23.866671Z",
     "shell.execute_reply": "2025-03-31T13:43:23.865809Z"
    },
    "papermill": {
     "duration": 6.157275,
     "end_time": "2025-03-31T13:43:23.867944",
     "exception": false,
     "start_time": "2025-03-31T13:43:17.710669",
     "status": "completed"
    },
    "tags": []
   },
   "outputs": [
    {
     "name": "stdout",
     "output_type": "stream",
     "text": [
      "dict_keys(['not_cyberbullying', 'gender', 'religion', 'other_cyberbullying', 'age', 'ethnicity'])\n"
     ]
    },
    {
     "data": {
      "image/png": "[encoded data removed]",
      "text/plain": [
       "<Figure size 600x500 with 2 Axes>"
      ]
     },
     "metadata": {},
     "output_type": "display_data"
    }
   ],
   "source": [
    "import seaborn as sns\n",
    "from sklearn.metrics import confusion_matrix\n",
    "\n",
    "def plot_confusion_matrix(y_true, y_pred, class_names):\n",
    "    cm = confusion_matrix(y_true, y_pred)\n",
    "    plt.figure(figsize=(6, 5))\n",
    "    sns.heatmap(cm, annot=True, fmt=\"d\", cmap=\"Blues\", xticklabels=class_names, yticklabels=class_names)\n",
    "    plt.xlabel(\"Predicted Label\")\n",
    "    plt.ylabel(\"True Label\")\n",
    "    plt.title(\"Confusion Matrix\")\n",
    "    plt.show()\n",
    "\n",
    "print(label_mapping.keys())\n",
    "# Example usage:\n",
    "plot_confusion_matrix(all_labels, all_preds, class_names=label_mapping.keys())"
   ]
  },
  {
   "cell_type": "code",
   "execution_count": 34,
   "id": "99a86c3a",
   "metadata": {
    "execution": {
     "iopub.execute_input": "2025-03-31T13:43:35.555626Z",
     "iopub.status.busy": "2025-03-31T13:43:35.555348Z",
     "iopub.status.idle": "2025-03-31T13:43:35.594623Z",
     "shell.execute_reply": "2025-03-31T13:43:35.593423Z"
    },
    "papermill": {
     "duration": 5.817738,
     "end_time": "2025-03-31T13:43:35.596090",
     "exception": false,
     "start_time": "2025-03-31T13:43:29.778352",
     "status": "completed"
    },
    "tags": []
   },
   "outputs": [
    {
     "name": "stdout",
     "output_type": "stream",
     "text": [
      "\n",
      "Sample 1\n",
      "Predicted Label: 5\n",
      "Actual Label   : 5\n",
      "\n",
      "Sample 2\n",
      "Predicted Label: 1\n",
      "Actual Label   : 1\n",
      "\n",
      "Sample 3\n",
      "Predicted Label: 5\n",
      "Actual Label   : 5\n",
      "\n",
      "Sample 4\n",
      "Predicted Label: 3\n",
      "Actual Label   : 3\n",
      "\n",
      "Sample 5\n",
      "Predicted Label: 0\n",
      "Actual Label   : 0\n",
      "\n",
      "Sample 6\n",
      "Predicted Label: 5\n",
      "Actual Label   : 5\n",
      "\n",
      "Sample 7\n",
      "Predicted Label: 5\n",
      "Actual Label   : 5\n",
      "\n",
      "Sample 8\n",
      "Predicted Label: 1\n",
      "Actual Label   : 1\n",
      "\n",
      "Sample 9\n",
      "Predicted Label: 4\n",
      "Actual Label   : 4\n",
      "\n",
      "Sample 10\n",
      "Predicted Label: 1\n",
      "Actual Label   : 1\n"
     ]
    }
   ],
   "source": [
    "n_samples = 10\n",
    "model.eval()\n",
    "\n",
    "with torch.no_grad():\n",
    "    for batch in test_loader:\n",
    "        inputs = batch[\"input_ids\"].to(DEVICE)\n",
    "        labels = batch[\"labels\"].to(DEVICE)\n",
    "\n",
    "        outputs = model(inputs)\n",
    "        _, preds = torch.max(outputs, 1)\n",
    "\n",
    "        # Limit to n_samples\n",
    "        for i in range(min(n_samples, inputs.size(0))):\n",
    "            print(f\"\\nSample {i + 1}\")\n",
    "            print(f\"Predicted Label: {preds[i].item()}\")\n",
    "            print(f\"Actual Label   : {labels[i].item()}\")\n",
    "\n",
    "        break  # Only evaluate one batch"
   ]
  }
 ],
 "metadata": {
  "kaggle": {
   "accelerator": "gpu",
   "dataSources": [
    {
     "datasetId": 6992089,
     "sourceId": 11198960,
     "sourceType": "datasetVersion"
    },
    {
     "datasetId": 6992502,
     "sourceId": 11199514,
     "sourceType": "datasetVersion"
    }
   ],
   "dockerImageVersionId": 30919,
   "isGpuEnabled": true,
   "isInternetEnabled": true,
   "language": "python",
   "sourceType": "notebook"
  },
  "kernelspec": {
   "display_name": "Python 3",
   "language": "python",
   "name": "python3"
  },
  "language_info": {
   "codemirror_mode": {
    "name": "ipython",
    "version": 3
   },
   "file_extension": ".py",
   "mimetype": "text/x-python",
   "name": "python",
   "nbconvert_exporter": "python",
   "pygments_lexer": "ipython3",
   "version": "3.10.12"
  },
  "papermill": {
   "default_parameters": {},
   "duration": 2102.195156,
   "end_time": "2025-03-31T13:43:45.261446",
   "environment_variables": {},
   "exception": null,
   "input_path": "__notebook__.ipynb",
   "output_path": "__notebook__.ipynb",
   "parameters": {},
   "start_time": "2025-03-31T13:08:43.066290",
   "version": "2.6.0"
  },
  "widgets": {
   "application/vnd.jupyter.widget-state+json": {
    "state": {
     "03ca929c33054a4eb74e13d4e6f0bc84": {
      "model_module": "@jupyter-widgets/controls",
      "model_module_version": "2.0.0",
      "model_name": "ProgressStyleModel",
      "state": {
       "_model_module": "@jupyter-widgets/controls",
       "_model_module_version": "2.0.0",
       "_model_name": "ProgressStyleModel",
       "_view_count": null,
       "_view_module": "@jupyter-widgets/base",
       "_view_module_version": "2.0.0",
       "_view_name": "StyleView",
       "bar_color": null,
       "description_width": ""
      }
     },
     "07e85f315f684739a9e9766e1f5dff32": {
      "model_module": "@jupyter-widgets/controls",
      "model_module_version": "2.0.0",
      "model_name": "HTMLModel",
      "state": {
       "_dom_classes": [],
       "_model_module": "@jupyter-widgets/controls",
       "_model_module_version": "2.0.0",
       "_model_name": "HTMLModel",
       "_view_count": null,
       "_view_module": "@jupyter-widgets/controls",
       "_view_module_version": "2.0.0",
       "_view_name": "HTMLView",
       "description": "",
       "description_allow_html": false,
       "layout": "IPY_MODEL_1e7aa5dc87004528aed7ad359132dc10",
       "placeholder": "​",
       "style": "IPY_MODEL_4d926b86e9ba42c4ab3110c50e7dd94b",
       "tabbable": null,
       "tooltip": null,
       "value": " 48.0/48.0 [00:00&lt;00:00, 4.52kB/s]"
      }
     },
     "0824fb508e4b44c18899d16da46c6254": {
      "model_module": "@jupyter-widgets/controls",
      "model_module_version": "2.0.0",
      "model_name": "HTMLModel",
      "state": {
       "_dom_classes": [],
       "_model_module": "@jupyter-widgets/controls",
       "_model_module_version": "2.0.0",
       "_model_name": "HTMLModel",
       "_view_count": null,
       "_view_module": "@jupyter-widgets/controls",
       "_view_module_version": "2.0.0",
       "_view_name": "HTMLView",
       "description": "",
       "description_allow_html": false,
       "layout": "IPY_MODEL_7fbb8e5dbffa4bee8ad6864ac6a8bee2",
       "placeholder": "​",
       "style": "IPY_MODEL_ceb394ce5f394ce2a22168c32935cd25",
       "tabbable": null,
       "tooltip": null,
       "value": " 570/570 [00:00&lt;00:00, 62.5kB/s]"
      }
     },
     "0fd37c4d87a34296a0e40e84e881207e": {
      "model_module": "@jupyter-widgets/base",
      "model_module_version": "2.0.0",
      "model_name": "LayoutModel",
      "state": {
       "_model_module": "@jupyter-widgets/base",
       "_model_module_version": "2.0.0",
       "_model_name": "LayoutModel",
       "_view_count": null,
       "_view_module": "@jupyter-widgets/base",
       "_view_module_version": "2.0.0",
       "_view_name": "LayoutView",
       "align_content": null,
       "align_items": null,
       "align_self": null,
       "border_bottom": null,
       "border_left": null,
       "border_right": null,
       "border_top": null,
       "bottom": null,
       "display": null,
       "flex": null,
       "flex_flow": null,
       "grid_area": null,
       "grid_auto_columns": null,
       "grid_auto_flow": null,
       "grid_auto_rows": null,
       "grid_column": null,
       "grid_gap": null,
       "grid_row": null,
       "grid_template_areas": null,
       "grid_template_columns": null,
       "grid_template_rows": null,
       "height": null,
       "justify_content": null,
       "justify_items": null,
       "left": null,
       "margin": null,
       "max_height": null,
       "max_width": null,
       "min_height": null,
       "min_width": null,
       "object_fit": null,
       "object_position": null,
       "order": null,
       "overflow": null,
       "padding": null,
       "right": null,
       "top": null,
       "visibility": null,
       "width": null
      }
     },
     "1e7aa5dc87004528aed7ad359132dc10": {
      "model_module": "@jupyter-widgets/base",
      "model_module_version": "2.0.0",
      "model_name": "LayoutModel",
      "state": {
       "_model_module": "@jupyter-widgets/base",
       "_model_module_version": "2.0.0",
       "_model_name": "LayoutModel",
       "_view_count": null,
       "_view_module": "@jupyter-widgets/base",
       "_view_module_version": "2.0.0",
       "_view_name": "LayoutView",
       "align_content": null,
       "align_items": null,
       "align_self": null,
       "border_bottom": null,
       "border_left": null,
       "border_right": null,
       "border_top": null,
       "bottom": null,
       "display": null,
       "flex": null,
       "flex_flow": null,
       "grid_area": null,
       "grid_auto_columns": null,
       "grid_auto_flow": null,
       "grid_auto_rows": null,
       "grid_column": null,
       "grid_gap": null,
       "grid_row": null,
       "grid_template_areas": null,
       "grid_template_columns": null,
       "grid_template_rows": null,
       "height": null,
       "justify_content": null,
       "justify_items": null,
       "left": null,
       "margin": null,
       "max_height": null,
       "max_width": null,
       "min_height": null,
       "min_width": null,
       "object_fit": null,
       "object_position": null,
       "order": null,
       "overflow": null,
       "padding": null,
       "right": null,
       "top": null,
       "visibility": null,
       "width": null
      }
     },
     "22d7c703901c4609a8d77715d12283f6": {
      "model_module": "@jupyter-widgets/base",
      "model_module_version": "2.0.0",
      "model_name": "LayoutModel",
      "state": {
       "_model_module": "@jupyter-widgets/base",
       "_model_module_version": "2.0.0",
       "_model_name": "LayoutModel",
       "_view_count": null,
       "_view_module": "@jupyter-widgets/base",
       "_view_module_version": "2.0.0",
       "_view_name": "LayoutView",
       "align_content": null,
       "align_items": null,
       "align_self": null,
       "border_bottom": null,
       "border_left": null,
       "border_right": null,
       "border_top": null,
       "bottom": null,
       "display": null,
       "flex": null,
       "flex_flow": null,
       "grid_area": null,
       "grid_auto_columns": null,
       "grid_auto_flow": null,
       "grid_auto_rows": null,
       "grid_column": null,
       "grid_gap": null,
       "grid_row": null,
       "grid_template_areas": null,
       "grid_template_columns": null,
       "grid_template_rows": null,
       "height": null,
       "justify_content": null,
       "justify_items": null,
       "left": null,
       "margin": null,
       "max_height": null,
       "max_width": null,
       "min_height": null,
       "min_width": null,
       "object_fit": null,
       "object_position": null,
       "order": null,
       "overflow": null,
       "padding": null,
       "right": null,
       "top": null,
       "visibility": null,
       "width": null
      }
     },
     "2524cb6bf1b24f929451594eb1e3d53b": {
      "model_module": "@jupyter-widgets/controls",
      "model_module_version": "2.0.0",
      "model_name": "FloatProgressModel",
      "state": {
       "_dom_classes": [],
       "_model_module": "@jupyter-widgets/controls",
       "_model_module_version": "2.0.0",
       "_model_name": "FloatProgressModel",
       "_view_count": null,
       "_view_module": "@jupyter-widgets/controls",
       "_view_module_version": "2.0.0",
       "_view_name": "ProgressView",
       "bar_style": "success",
       "description": "",
       "description_allow_html": false,
       "layout": "IPY_MODEL_d98d9bb011e9485ea5a5157f637253c5",
       "max": 48.0,
       "min": 0.0,
       "orientation": "horizontal",
       "style": "IPY_MODEL_d62a5497ebd8423798c3bd94fed578ea",
       "tabbable": null,
       "tooltip": null,
       "value": 48.0
      }
     },
     "25299d7be419431ea125e64736d3e0b6": {
      "model_module": "@jupyter-widgets/controls",
      "model_module_version": "2.0.0",
      "model_name": "HTMLModel",
      "state": {
       "_dom_classes": [],
       "_model_module": "@jupyter-widgets/controls",
       "_model_module_version": "2.0.0",
       "_model_name": "HTMLModel",
       "_view_count": null,
       "_view_module": "@jupyter-widgets/controls",
       "_view_module_version": "2.0.0",
       "_view_name": "HTMLView",
       "description": "",
       "description_allow_html": false,
       "layout": "IPY_MODEL_e37059c3cf3e47d79f79f406507a3a8d",
       "placeholder": "​",
       "style": "IPY_MODEL_56929c9f4a394f598ce7eb074c7f9063",
       "tabbable": null,
       "tooltip": null,
       "value": " 232k/232k [00:00&lt;00:00, 9.42MB/s]"
      }
     },
     "2966b532a75340e89fdf0e6747d90e51": {
      "model_module": "@jupyter-widgets/controls",
      "model_module_version": "2.0.0",
      "model_name": "HTMLModel",
      "state": {
       "_dom_classes": [],
       "_model_module": "@jupyter-widgets/controls",
       "_model_module_version": "2.0.0",
       "_model_name": "HTMLModel",
       "_view_count": null,
       "_view_module": "@jupyter-widgets/controls",
       "_view_module_version": "2.0.0",
       "_view_name": "HTMLView",
       "description": "",
       "description_allow_html": false,
       "layout": "IPY_MODEL_0fd37c4d87a34296a0e40e84e881207e",
       "placeholder": "​",
       "style": "IPY_MODEL_477ba939f02845f7881078ebb73e4267",
       "tabbable": null,
       "tooltip": null,
       "value": "tokenizer_config.json: 100%"
      }
     },
     "2a9047673db74e6aaf3ae16369798052": {
      "model_module": "@jupyter-widgets/controls",
      "model_module_version": "2.0.0",
      "model_name": "HTMLStyleModel",
      "state": {
       "_model_module": "@jupyter-widgets/controls",
       "_model_module_version": "2.0.0",
       "_model_name": "HTMLStyleModel",
       "_view_count": null,
       "_view_module": "@jupyter-widgets/base",
       "_view_module_version": "2.0.0",
       "_view_name": "StyleView",
       "background": null,
       "description_width": "",
       "font_size": null,
       "text_color": null
      }
     },
     "3531c03e159f4e668fcf4a9a6de11a3e": {
      "model_module": "@jupyter-widgets/controls",
      "model_module_version": "2.0.0",
      "model_name": "HTMLStyleModel",
      "state": {
       "_model_module": "@jupyter-widgets/controls",
       "_model_module_version": "2.0.0",
       "_model_name": "HTMLStyleModel",
       "_view_count": null,
       "_view_module": "@jupyter-widgets/base",
       "_view_module_version": "2.0.0",
       "_view_name": "StyleView",
       "background": null,
       "description_width": "",
       "font_size": null,
       "text_color": null
      }
     },
     "3bb87e020703485bb2ee31a7eb5dcdf3": {
      "model_module": "@jupyter-widgets/controls",
      "model_module_version": "2.0.0",
      "model_name": "FloatProgressModel",
      "state": {
       "_dom_classes": [],
       "_model_module": "@jupyter-widgets/controls",
       "_model_module_version": "2.0.0",
       "_model_name": "FloatProgressModel",
       "_view_count": null,
       "_view_module": "@jupyter-widgets/controls",
       "_view_module_version": "2.0.0",
       "_view_name": "ProgressView",
       "bar_style": "success",
       "description": "",
       "description_allow_html": false,
       "layout": "IPY_MODEL_665b674929c24786bbf2b59daa4155d9",
       "max": 570.0,
       "min": 0.0,
       "orientation": "horizontal",
       "style": "IPY_MODEL_763bbaf9da0049b2b8ced928d63e1ff3",
       "tabbable": null,
       "tooltip": null,
       "value": 570.0
      }
     },
     "450bb7529f234ae88572e9059bb6db47": {
      "model_module": "@jupyter-widgets/controls",
      "model_module_version": "2.0.0",
      "model_name": "HBoxModel",
      "state": {
       "_dom_classes": [],
       "_model_module": "@jupyter-widgets/controls",
       "_model_module_version": "2.0.0",
       "_model_name": "HBoxModel",
       "_view_count": null,
       "_view_module": "@jupyter-widgets/controls",
       "_view_module_version": "2.0.0",
       "_view_name": "HBoxView",
       "box_style": "",
       "children": [
        "IPY_MODEL_2966b532a75340e89fdf0e6747d90e51",
        "IPY_MODEL_2524cb6bf1b24f929451594eb1e3d53b",
        "IPY_MODEL_07e85f315f684739a9e9766e1f5dff32"
       ],
       "layout": "IPY_MODEL_523e655593df4846bb7f4b4233930c41",
       "tabbable": null,
       "tooltip": null
      }
     },
     "477ba939f02845f7881078ebb73e4267": {
      "model_module": "@jupyter-widgets/controls",
      "model_module_version": "2.0.0",
      "model_name": "HTMLStyleModel",
      "state": {
       "_model_module": "@jupyter-widgets/controls",
       "_model_module_version": "2.0.0",
       "_model_name": "HTMLStyleModel",
       "_view_count": null,
       "_view_module": "@jupyter-widgets/base",
       "_view_module_version": "2.0.0",
       "_view_name": "StyleView",
       "background": null,
       "description_width": "",
       "font_size": null,
       "text_color": null
      }
     },
     "47b869fc4cac4cfba17a8236b6b21b2d": {
      "model_module": "@jupyter-widgets/controls",
      "model_module_version": "2.0.0",
      "model_name": "HTMLStyleModel",
      "state": {
       "_model_module": "@jupyter-widgets/controls",
       "_model_module_version": "2.0.0",
       "_model_name": "HTMLStyleModel",
       "_view_count": null,
       "_view_module": "@jupyter-widgets/base",
       "_view_module_version": "2.0.0",
       "_view_name": "StyleView",
       "background": null,
       "description_width": "",
       "font_size": null,
       "text_color": null
      }
     },
     "4d926b86e9ba42c4ab3110c50e7dd94b": {
      "model_module": "@jupyter-widgets/controls",
      "model_module_version": "2.0.0",
      "model_name": "HTMLStyleModel",
      "state": {
       "_model_module": "@jupyter-widgets/controls",
       "_model_module_version": "2.0.0",
       "_model_name": "HTMLStyleModel",
       "_view_count": null,
       "_view_module": "@jupyter-widgets/base",
       "_view_module_version": "2.0.0",
       "_view_name": "StyleView",
       "background": null,
       "description_width": "",
       "font_size": null,
       "text_color": null
      }
     },
     "523e655593df4846bb7f4b4233930c41": {
      "model_module": "@jupyter-widgets/base",
      "model_module_version": "2.0.0",
      "model_name": "LayoutModel",
      "state": {
       "_model_module": "@jupyter-widgets/base",
       "_model_module_version": "2.0.0",
       "_model_name": "LayoutModel",
       "_view_count": null,
       "_view_module": "@jupyter-widgets/base",
       "_view_module_version": "2.0.0",
       "_view_name": "LayoutView",
       "align_content": null,
       "align_items": null,
       "align_self": null,
       "border_bottom": null,
       "border_left": null,
       "border_right": null,
       "border_top": null,
       "bottom": null,
       "display": null,
       "flex": null,
       "flex_flow": null,
       "grid_area": null,
       "grid_auto_columns": null,
       "grid_auto_flow": null,
       "grid_auto_rows": null,
       "grid_column": null,
       "grid_gap": null,
       "grid_row": null,
       "grid_template_areas": null,
       "grid_template_columns": null,
       "grid_template_rows": null,
       "height": null,
       "justify_content": null,
       "justify_items": null,
       "left": null,
       "margin": null,
       "max_height": null,
       "max_width": null,
       "min_height": null,
       "min_width": null,
       "object_fit": null,
       "object_position": null,
       "order": null,
       "overflow": null,
       "padding": null,
       "right": null,
       "top": null,
       "visibility": null,
       "width": null
      }
     },
     "56929c9f4a394f598ce7eb074c7f9063": {
      "model_module": "@jupyter-widgets/controls",
      "model_module_version": "2.0.0",
      "model_name": "HTMLStyleModel",
      "state": {
       "_model_module": "@jupyter-widgets/controls",
       "_model_module_version": "2.0.0",
       "_model_name": "HTMLStyleModel",
       "_view_count": null,
       "_view_module": "@jupyter-widgets/base",
       "_view_module_version": "2.0.0",
       "_view_name": "StyleView",
       "background": null,
       "description_width": "",
       "font_size": null,
       "text_color": null
      }
     },
     "665b674929c24786bbf2b59daa4155d9": {
      "model_module": "@jupyter-widgets/base",
      "model_module_version": "2.0.0",
      "model_name": "LayoutModel",
      "state": {
       "_model_module": "@jupyter-widgets/base",
       "_model_module_version": "2.0.0",
       "_model_name": "LayoutModel",
       "_view_count": null,
       "_view_module": "@jupyter-widgets/base",
       "_view_module_version": "2.0.0",
       "_view_name": "LayoutView",
       "align_content": null,
       "align_items": null,
       "align_self": null,
       "border_bottom": null,
       "border_left": null,
       "border_right": null,
       "border_top": null,
       "bottom": null,
       "display": null,
       "flex": null,
       "flex_flow": null,
       "grid_area": null,
       "grid_auto_columns": null,
       "grid_auto_flow": null,
       "grid_auto_rows": null,
       "grid_column": null,
       "grid_gap": null,
       "grid_row": null,
       "grid_template_areas": null,
       "grid_template_columns": null,
       "grid_template_rows": null,
       "height": null,
       "justify_content": null,
       "justify_items": null,
       "left": null,
       "margin": null,
       "max_height": null,
       "max_width": null,
       "min_height": null,
       "min_width": null,
       "object_fit": null,
       "object_position": null,
       "order": null,
       "overflow": null,
       "padding": null,
       "right": null,
       "top": null,
       "visibility": null,
       "width": null
      }
     },
     "70c4d5139fc348dbb90ca461bf603068": {
      "model_module": "@jupyter-widgets/controls",
      "model_module_version": "2.0.0",
      "model_name": "HTMLModel",
      "state": {
       "_dom_classes": [],
       "_model_module": "@jupyter-widgets/controls",
       "_model_module_version": "2.0.0",
       "_model_name": "HTMLModel",
       "_view_count": null,
       "_view_module": "@jupyter-widgets/controls",
       "_view_module_version": "2.0.0",
       "_view_name": "HTMLView",
       "description": "",
       "description_allow_html": false,
       "layout": "IPY_MODEL_85cac85a0ebd4bafa333029ca5c613e2",
       "placeholder": "​",
       "style": "IPY_MODEL_2a9047673db74e6aaf3ae16369798052",
       "tabbable": null,
       "tooltip": null,
       "value": "config.json: 100%"
      }
     },
     "763bbaf9da0049b2b8ced928d63e1ff3": {
      "model_module": "@jupyter-widgets/controls",
      "model_module_version": "2.0.0",
      "model_name": "ProgressStyleModel",
      "state": {
       "_model_module": "@jupyter-widgets/controls",
       "_model_module_version": "2.0.0",
       "_model_name": "ProgressStyleModel",
       "_view_count": null,
       "_view_module": "@jupyter-widgets/base",
       "_view_module_version": "2.0.0",
       "_view_name": "StyleView",
       "bar_color": null,
       "description_width": ""
      }
     },
     "7fbb8e5dbffa4bee8ad6864ac6a8bee2": {
      "model_module": "@jupyter-widgets/base",
      "model_module_version": "2.0.0",
      "model_name": "LayoutModel",
      "state": {
       "_model_module": "@jupyter-widgets/base",
       "_model_module_version": "2.0.0",
       "_model_name": "LayoutModel",
       "_view_count": null,
       "_view_module": "@jupyter-widgets/base",
       "_view_module_version": "2.0.0",
       "_view_name": "LayoutView",
       "align_content": null,
       "align_items": null,
       "align_self": null,
       "border_bottom": null,
       "border_left": null,
       "border_right": null,
       "border_top": null,
       "bottom": null,
       "display": null,
       "flex": null,
       "flex_flow": null,
       "grid_area": null,
       "grid_auto_columns": null,
       "grid_auto_flow": null,
       "grid_auto_rows": null,
       "grid_column": null,
       "grid_gap": null,
       "grid_row": null,
       "grid_template_areas": null,
       "grid_template_columns": null,
       "grid_template_rows": null,
       "height": null,
       "justify_content": null,
       "justify_items": null,
       "left": null,
       "margin": null,
       "max_height": null,
       "max_width": null,
       "min_height": null,
       "min_width": null,
       "object_fit": null,
       "object_position": null,
       "order": null,
       "overflow": null,
       "padding": null,
       "right": null,
       "top": null,
       "visibility": null,
       "width": null
      }
     },
     "809b55765daa4c2aa4d117040b9e549a": {
      "model_module": "@jupyter-widgets/controls",
      "model_module_version": "2.0.0",
      "model_name": "HBoxModel",
      "state": {
       "_dom_classes": [],
       "_model_module": "@jupyter-widgets/controls",
       "_model_module_version": "2.0.0",
       "_model_name": "HBoxModel",
       "_view_count": null,
       "_view_module": "@jupyter-widgets/controls",
       "_view_module_version": "2.0.0",
       "_view_name": "HBoxView",
       "box_style": "",
       "children": [
        "IPY_MODEL_8d2f29e3ec1a4f728f642667ab8d2868",
        "IPY_MODEL_bb639212a48c43658f35d3bf0ebd7076",
        "IPY_MODEL_25299d7be419431ea125e64736d3e0b6"
       ],
       "layout": "IPY_MODEL_de299e0ecffa40ae9e52df66bf5bbbea",
       "tabbable": null,
       "tooltip": null
      }
     },
     "855d913b10e349a7ba5953938d157a0a": {
      "model_module": "@jupyter-widgets/controls",
      "model_module_version": "2.0.0",
      "model_name": "HTMLModel",
      "state": {
       "_dom_classes": [],
       "_model_module": "@jupyter-widgets/controls",
       "_model_module_version": "2.0.0",
       "_model_name": "HTMLModel",
       "_view_count": null,
       "_view_module": "@jupyter-widgets/controls",
       "_view_module_version": "2.0.0",
       "_view_name": "HTMLView",
       "description": "",
       "description_allow_html": false,
       "layout": "IPY_MODEL_c2737d547ea74cec92841096963da14c",
       "placeholder": "​",
       "style": "IPY_MODEL_3531c03e159f4e668fcf4a9a6de11a3e",
       "tabbable": null,
       "tooltip": null,
       "value": " 466k/466k [00:00&lt;00:00, 7.20MB/s]"
      }
     },
     "85cac85a0ebd4bafa333029ca5c613e2": {
      "model_module": "@jupyter-widgets/base",
      "model_module_version": "2.0.0",
      "model_name": "LayoutModel",
      "state": {
       "_model_module": "@jupyter-widgets/base",
       "_model_module_version": "2.0.0",
       "_model_name": "LayoutModel",
       "_view_count": null,
       "_view_module": "@jupyter-widgets/base",
       "_view_module_version": "2.0.0",
       "_view_name": "LayoutView",
       "align_content": null,
       "align_items": null,
       "align_self": null,
       "border_bottom": null,
       "border_left": null,
       "border_right": null,
       "border_top": null,
       "bottom": null,
       "display": null,
       "flex": null,
       "flex_flow": null,
       "grid_area": null,
       "grid_auto_columns": null,
       "grid_auto_flow": null,
       "grid_auto_rows": null,
       "grid_column": null,
       "grid_gap": null,
       "grid_row": null,
       "grid_template_areas": null,
       "grid_template_columns": null,
       "grid_template_rows": null,
       "height": null,
       "justify_content": null,
       "justify_items": null,
       "left": null,
       "margin": null,
       "max_height": null,
       "max_width": null,
       "min_height": null,
       "min_width": null,
       "object_fit": null,
       "object_position": null,
       "order": null,
       "overflow": null,
       "padding": null,
       "right": null,
       "top": null,
       "visibility": null,
       "width": null
      }
     },
     "8d2f29e3ec1a4f728f642667ab8d2868": {
      "model_module": "@jupyter-widgets/controls",
      "model_module_version": "2.0.0",
      "model_name": "HTMLModel",
      "state": {
       "_dom_classes": [],
       "_model_module": "@jupyter-widgets/controls",
       "_model_module_version": "2.0.0",
       "_model_name": "HTMLModel",
       "_view_count": null,
       "_view_module": "@jupyter-widgets/controls",
       "_view_module_version": "2.0.0",
       "_view_name": "HTMLView",
       "description": "",
       "description_allow_html": false,
       "layout": "IPY_MODEL_916bf6f866dd45d8b20da2493a5c1eee",
       "placeholder": "​",
       "style": "IPY_MODEL_f7ae741a93ef4913a000cadcc14e7472",
       "tabbable": null,
       "tooltip": null,
       "value": "vocab.txt: 100%"
      }
     },
     "8d5a35f5ed47463e91d3d6b46d1002b4": {
      "model_module": "@jupyter-widgets/base",
      "model_module_version": "2.0.0",
      "model_name": "LayoutModel",
      "state": {
       "_model_module": "@jupyter-widgets/base",
       "_model_module_version": "2.0.0",
       "_model_name": "LayoutModel",
       "_view_count": null,
       "_view_module": "@jupyter-widgets/base",
       "_view_module_version": "2.0.0",
       "_view_name": "LayoutView",
       "align_content": null,
       "align_items": null,
       "align_self": null,
       "border_bottom": null,
       "border_left": null,
       "border_right": null,
       "border_top": null,
       "bottom": null,
       "display": null,
       "flex": null,
       "flex_flow": null,
       "grid_area": null,
       "grid_auto_columns": null,
       "grid_auto_flow": null,
       "grid_auto_rows": null,
       "grid_column": null,
       "grid_gap": null,
       "grid_row": null,
       "grid_template_areas": null,
       "grid_template_columns": null,
       "grid_template_rows": null,
       "height": null,
       "justify_content": null,
       "justify_items": null,
       "left": null,
       "margin": null,
       "max_height": null,
       "max_width": null,
       "min_height": null,
       "min_width": null,
       "object_fit": null,
       "object_position": null,
       "order": null,
       "overflow": null,
       "padding": null,
       "right": null,
       "top": null,
       "visibility": null,
       "width": null
      }
     },
     "916bf6f866dd45d8b20da2493a5c1eee": {
      "model_module": "@jupyter-widgets/base",
      "model_module_version": "2.0.0",
      "model_name": "LayoutModel",
      "state": {
       "_model_module": "@jupyter-widgets/base",
       "_model_module_version": "2.0.0",
       "_model_name": "LayoutModel",
       "_view_count": null,
       "_view_module": "@jupyter-widgets/base",
       "_view_module_version": "2.0.0",
       "_view_name": "LayoutView",
       "align_content": null,
       "align_items": null,
       "align_self": null,
       "border_bottom": null,
       "border_left": null,
       "border_right": null,
       "border_top": null,
       "bottom": null,
       "display": null,
       "flex": null,
       "flex_flow": null,
       "grid_area": null,
       "grid_auto_columns": null,
       "grid_auto_flow": null,
       "grid_auto_rows": null,
       "grid_column": null,
       "grid_gap": null,
       "grid_row": null,
       "grid_template_areas": null,
       "grid_template_columns": null,
       "grid_template_rows": null,
       "height": null,
       "justify_content": null,
       "justify_items": null,
       "left": null,
       "margin": null,
       "max_height": null,
       "max_width": null,
       "min_height": null,
       "min_width": null,
       "object_fit": null,
       "object_position": null,
       "order": null,
       "overflow": null,
       "padding": null,
       "right": null,
       "top": null,
       "visibility": null,
       "width": null
      }
     },
     "aa26a71a41b94d2ea0ca9549c4735758": {
      "model_module": "@jupyter-widgets/controls",
      "model_module_version": "2.0.0",
      "model_name": "HBoxModel",
      "state": {
       "_dom_classes": [],
       "_model_module": "@jupyter-widgets/controls",
       "_model_module_version": "2.0.0",
       "_model_name": "HBoxModel",
       "_view_count": null,
       "_view_module": "@jupyter-widgets/controls",
       "_view_module_version": "2.0.0",
       "_view_name": "HBoxView",
       "box_style": "",
       "children": [
        "IPY_MODEL_fa141e4d89864f8da3081c8fc8c6e9ce",
        "IPY_MODEL_feffd5500979405fb5669752430e18c1",
        "IPY_MODEL_855d913b10e349a7ba5953938d157a0a"
       ],
       "layout": "IPY_MODEL_e56864abd68043388629c9e092a70404",
       "tabbable": null,
       "tooltip": null
      }
     },
     "bb3bc855141944ca9289a64cf342ffb6": {
      "model_module": "@jupyter-widgets/controls",
      "model_module_version": "2.0.0",
      "model_name": "ProgressStyleModel",
      "state": {
       "_model_module": "@jupyter-widgets/controls",
       "_model_module_version": "2.0.0",
       "_model_name": "ProgressStyleModel",
       "_view_count": null,
       "_view_module": "@jupyter-widgets/base",
       "_view_module_version": "2.0.0",
       "_view_name": "StyleView",
       "bar_color": null,
       "description_width": ""
      }
     },
     "bb639212a48c43658f35d3bf0ebd7076": {
      "model_module": "@jupyter-widgets/controls",
      "model_module_version": "2.0.0",
      "model_name": "FloatProgressModel",
      "state": {
       "_dom_classes": [],
       "_model_module": "@jupyter-widgets/controls",
       "_model_module_version": "2.0.0",
       "_model_name": "FloatProgressModel",
       "_view_count": null,
       "_view_module": "@jupyter-widgets/controls",
       "_view_module_version": "2.0.0",
       "_view_name": "ProgressView",
       "bar_style": "success",
       "description": "",
       "description_allow_html": false,
       "layout": "IPY_MODEL_22d7c703901c4609a8d77715d12283f6",
       "max": 231508.0,
       "min": 0.0,
       "orientation": "horizontal",
       "style": "IPY_MODEL_bb3bc855141944ca9289a64cf342ffb6",
       "tabbable": null,
       "tooltip": null,
       "value": 231508.0
      }
     },
     "c2737d547ea74cec92841096963da14c": {
      "model_module": "@jupyter-widgets/base",
      "model_module_version": "2.0.0",
      "model_name": "LayoutModel",
      "state": {
       "_model_module": "@jupyter-widgets/base",
       "_model_module_version": "2.0.0",
       "_model_name": "LayoutModel",
       "_view_count": null,
       "_view_module": "@jupyter-widgets/base",
       "_view_module_version": "2.0.0",
       "_view_name": "LayoutView",
       "align_content": null,
       "align_items": null,
       "align_self": null,
       "border_bottom": null,
       "border_left": null,
       "border_right": null,
       "border_top": null,
       "bottom": null,
       "display": null,
       "flex": null,
       "flex_flow": null,
       "grid_area": null,
       "grid_auto_columns": null,
       "grid_auto_flow": null,
       "grid_auto_rows": null,
       "grid_column": null,
       "grid_gap": null,
       "grid_row": null,
       "grid_template_areas": null,
       "grid_template_columns": null,
       "grid_template_rows": null,
       "height": null,
       "justify_content": null,
       "justify_items": null,
       "left": null,
       "margin": null,
       "max_height": null,
       "max_width": null,
       "min_height": null,
       "min_width": null,
       "object_fit": null,
       "object_position": null,
       "order": null,
       "overflow": null,
       "padding": null,
       "right": null,
       "top": null,
       "visibility": null,
       "width": null
      }
     },
     "c6a349ad99a64dc3bfc6fd38a1d60dfb": {
      "model_module": "@jupyter-widgets/base",
      "model_module_version": "2.0.0",
      "model_name": "LayoutModel",
      "state": {
       "_model_module": "@jupyter-widgets/base",
       "_model_module_version": "2.0.0",
       "_model_name": "LayoutModel",
       "_view_count": null,
       "_view_module": "@jupyter-widgets/base",
       "_view_module_version": "2.0.0",
       "_view_name": "LayoutView",
       "align_content": null,
       "align_items": null,
       "align_self": null,
       "border_bottom": null,
       "border_left": null,
       "border_right": null,
       "border_top": null,
       "bottom": null,
       "display": null,
       "flex": null,
       "flex_flow": null,
       "grid_area": null,
       "grid_auto_columns": null,
       "grid_auto_flow": null,
       "grid_auto_rows": null,
       "grid_column": null,
       "grid_gap": null,
       "grid_row": null,
       "grid_template_areas": null,
       "grid_template_columns": null,
       "grid_template_rows": null,
       "height": null,
       "justify_content": null,
       "justify_items": null,
       "left": null,
       "margin": null,
       "max_height": null,
       "max_width": null,
       "min_height": null,
       "min_width": null,
       "object_fit": null,
       "object_position": null,
       "order": null,
       "overflow": null,
       "padding": null,
       "right": null,
       "top": null,
       "visibility": null,
       "width": null
      }
     },
     "cc588a0b45c743a9aec805a02d041596": {
      "model_module": "@jupyter-widgets/base",
      "model_module_version": "2.0.0",
      "model_name": "LayoutModel",
      "state": {
       "_model_module": "@jupyter-widgets/base",
       "_model_module_version": "2.0.0",
       "_model_name": "LayoutModel",
       "_view_count": null,
       "_view_module": "@jupyter-widgets/base",
       "_view_module_version": "2.0.0",
       "_view_name": "LayoutView",
       "align_content": null,
       "align_items": null,
       "align_self": null,
       "border_bottom": null,
       "border_left": null,
       "border_right": null,
       "border_top": null,
       "bottom": null,
       "display": null,
       "flex": null,
       "flex_flow": null,
       "grid_area": null,
       "grid_auto_columns": null,
       "grid_auto_flow": null,
       "grid_auto_rows": null,
       "grid_column": null,
       "grid_gap": null,
       "grid_row": null,
       "grid_template_areas": null,
       "grid_template_columns": null,
       "grid_template_rows": null,
       "height": null,
       "justify_content": null,
       "justify_items": null,
       "left": null,
       "margin": null,
       "max_height": null,
       "max_width": null,
       "min_height": null,
       "min_width": null,
       "object_fit": null,
       "object_position": null,
       "order": null,
       "overflow": null,
       "padding": null,
       "right": null,
       "top": null,
       "visibility": null,
       "width": null
      }
     },
     "ceb394ce5f394ce2a22168c32935cd25": {
      "model_module": "@jupyter-widgets/controls",
      "model_module_version": "2.0.0",
      "model_name": "HTMLStyleModel",
      "state": {
       "_model_module": "@jupyter-widgets/controls",
       "_model_module_version": "2.0.0",
       "_model_name": "HTMLStyleModel",
       "_view_count": null,
       "_view_module": "@jupyter-widgets/base",
       "_view_module_version": "2.0.0",
       "_view_name": "StyleView",
       "background": null,
       "description_width": "",
       "font_size": null,
       "text_color": null
      }
     },
     "d62a5497ebd8423798c3bd94fed578ea": {
      "model_module": "@jupyter-widgets/controls",
      "model_module_version": "2.0.0",
      "model_name": "ProgressStyleModel",
      "state": {
       "_model_module": "@jupyter-widgets/controls",
       "_model_module_version": "2.0.0",
       "_model_name": "ProgressStyleModel",
       "_view_count": null,
       "_view_module": "@jupyter-widgets/base",
       "_view_module_version": "2.0.0",
       "_view_name": "StyleView",
       "bar_color": null,
       "description_width": ""
      }
     },
     "d98d9bb011e9485ea5a5157f637253c5": {
      "model_module": "@jupyter-widgets/base",
      "model_module_version": "2.0.0",
      "model_name": "LayoutModel",
      "state": {
       "_model_module": "@jupyter-widgets/base",
       "_model_module_version": "2.0.0",
       "_model_name": "LayoutModel",
       "_view_count": null,
       "_view_module": "@jupyter-widgets/base",
       "_view_module_version": "2.0.0",
       "_view_name": "LayoutView",
       "align_content": null,
       "align_items": null,
       "align_self": null,
       "border_bottom": null,
       "border_left": null,
       "border_right": null,
       "border_top": null,
       "bottom": null,
       "display": null,
       "flex": null,
       "flex_flow": null,
       "grid_area": null,
       "grid_auto_columns": null,
       "grid_auto_flow": null,
       "grid_auto_rows": null,
       "grid_column": null,
       "grid_gap": null,
       "grid_row": null,
       "grid_template_areas": null,
       "grid_template_columns": null,
       "grid_template_rows": null,
       "height": null,
       "justify_content": null,
       "justify_items": null,
       "left": null,
       "margin": null,
       "max_height": null,
       "max_width": null,
       "min_height": null,
       "min_width": null,
       "object_fit": null,
       "object_position": null,
       "order": null,
       "overflow": null,
       "padding": null,
       "right": null,
       "top": null,
       "visibility": null,
       "width": null
      }
     },
     "de299e0ecffa40ae9e52df66bf5bbbea": {
      "model_module": "@jupyter-widgets/base",
      "model_module_version": "2.0.0",
      "model_name": "LayoutModel",
      "state": {
       "_model_module": "@jupyter-widgets/base",
       "_model_module_version": "2.0.0",
       "_model_name": "LayoutModel",
       "_view_count": null,
       "_view_module": "@jupyter-widgets/base",
       "_view_module_version": "2.0.0",
       "_view_name": "LayoutView",
       "align_content": null,
       "align_items": null,
       "align_self": null,
       "border_bottom": null,
       "border_left": null,
       "border_right": null,
       "border_top": null,
       "bottom": null,
       "display": null,
       "flex": null,
       "flex_flow": null,
       "grid_area": null,
       "grid_auto_columns": null,
       "grid_auto_flow": null,
       "grid_auto_rows": null,
       "grid_column": null,
       "grid_gap": null,
       "grid_row": null,
       "grid_template_areas": null,
       "grid_template_columns": null,
       "grid_template_rows": null,
       "height": null,
       "justify_content": null,
       "justify_items": null,
       "left": null,
       "margin": null,
       "max_height": null,
       "max_width": null,
       "min_height": null,
       "min_width": null,
       "object_fit": null,
       "object_position": null,
       "order": null,
       "overflow": null,
       "padding": null,
       "right": null,
       "top": null,
       "visibility": null,
       "width": null
      }
     },
     "e37059c3cf3e47d79f79f406507a3a8d": {
      "model_module": "@jupyter-widgets/base",
      "model_module_version": "2.0.0",
      "model_name": "LayoutModel",
      "state": {
       "_model_module": "@jupyter-widgets/base",
       "_model_module_version": "2.0.0",
       "_model_name": "LayoutModel",
       "_view_count": null,
       "_view_module": "@jupyter-widgets/base",
       "_view_module_version": "2.0.0",
       "_view_name": "LayoutView",
       "align_content": null,
       "align_items": null,
       "align_self": null,
       "border_bottom": null,
       "border_left": null,
       "border_right": null,
       "border_top": null,
       "bottom": null,
       "display": null,
       "flex": null,
       "flex_flow": null,
       "grid_area": null,
       "grid_auto_columns": null,
       "grid_auto_flow": null,
       "grid_auto_rows": null,
       "grid_column": null,
       "grid_gap": null,
       "grid_row": null,
       "grid_template_areas": null,
       "grid_template_columns": null,
       "grid_template_rows": null,
       "height": null,
       "justify_content": null,
       "justify_items": null,
       "left": null,
       "margin": null,
       "max_height": null,
       "max_width": null,
       "min_height": null,
       "min_width": null,
       "object_fit": null,
       "object_position": null,
       "order": null,
       "overflow": null,
       "padding": null,
       "right": null,
       "top": null,
       "visibility": null,
       "width": null
      }
     },
     "e56864abd68043388629c9e092a70404": {
      "model_module": "@jupyter-widgets/base",
      "model_module_version": "2.0.0",
      "model_name": "LayoutModel",
      "state": {
       "_model_module": "@jupyter-widgets/base",
       "_model_module_version": "2.0.0",
       "_model_name": "LayoutModel",
       "_view_count": null,
       "_view_module": "@jupyter-widgets/base",
       "_view_module_version": "2.0.0",
       "_view_name": "LayoutView",
       "align_content": null,
       "align_items": null,
       "align_self": null,
       "border_bottom": null,
       "border_left": null,
       "border_right": null,
       "border_top": null,
       "bottom": null,
       "display": null,
       "flex": null,
       "flex_flow": null,
       "grid_area": null,
       "grid_auto_columns": null,
       "grid_auto_flow": null,
       "grid_auto_rows": null,
       "grid_column": null,
       "grid_gap": null,
       "grid_row": null,
       "grid_template_areas": null,
       "grid_template_columns": null,
       "grid_template_rows": null,
       "height": null,
       "justify_content": null,
       "justify_items": null,
       "left": null,
       "margin": null,
       "max_height": null,
       "max_width": null,
       "min_height": null,
       "min_width": null,
       "object_fit": null,
       "object_position": null,
       "order": null,
       "overflow": null,
       "padding": null,
       "right": null,
       "top": null,
       "visibility": null,
       "width": null
      }
     },
     "f51f3c9227ef428a9d419b46d7eed822": {
      "model_module": "@jupyter-widgets/controls",
      "model_module_version": "2.0.0",
      "model_name": "HBoxModel",
      "state": {
       "_dom_classes": [],
       "_model_module": "@jupyter-widgets/controls",
       "_model_module_version": "2.0.0",
       "_model_name": "HBoxModel",
       "_view_count": null,
       "_view_module": "@jupyter-widgets/controls",
       "_view_module_version": "2.0.0",
       "_view_name": "HBoxView",
       "box_style": "",
       "children": [
        "IPY_MODEL_70c4d5139fc348dbb90ca461bf603068",
        "IPY_MODEL_3bb87e020703485bb2ee31a7eb5dcdf3",
        "IPY_MODEL_0824fb508e4b44c18899d16da46c6254"
       ],
       "layout": "IPY_MODEL_c6a349ad99a64dc3bfc6fd38a1d60dfb",
       "tabbable": null,
       "tooltip": null
      }
     },
     "f7ae741a93ef4913a000cadcc14e7472": {
      "model_module": "@jupyter-widgets/controls",
      "model_module_version": "2.0.0",
      "model_name": "HTMLStyleModel",
      "state": {
       "_model_module": "@jupyter-widgets/controls",
       "_model_module_version": "2.0.0",
       "_model_name": "HTMLStyleModel",
       "_view_count": null,
       "_view_module": "@jupyter-widgets/base",
       "_view_module_version": "2.0.0",
       "_view_name": "StyleView",
       "background": null,
       "description_width": "",
       "font_size": null,
       "text_color": null
      }
     },
     "fa141e4d89864f8da3081c8fc8c6e9ce": {
      "model_module": "@jupyter-widgets/controls",
      "model_module_version": "2.0.0",
      "model_name": "HTMLModel",
      "state": {
       "_dom_classes": [],
       "_model_module": "@jupyter-widgets/controls",
       "_model_module_version": "2.0.0",
       "_model_name": "HTMLModel",
       "_view_count": null,
       "_view_module": "@jupyter-widgets/controls",
       "_view_module_version": "2.0.0",
       "_view_name": "HTMLView",
       "description": "",
       "description_allow_html": false,
       "layout": "IPY_MODEL_8d5a35f5ed47463e91d3d6b46d1002b4",
       "placeholder": "​",
       "style": "IPY_MODEL_47b869fc4cac4cfba17a8236b6b21b2d",
       "tabbable": null,
       "tooltip": null,
       "value": "tokenizer.json: 100%"
      }
     },
     "feffd5500979405fb5669752430e18c1": {
      "model_module": "@jupyter-widgets/controls",
      "model_module_version": "2.0.0",
      "model_name": "FloatProgressModel",
      "state": {
       "_dom_classes": [],
       "_model_module": "@jupyter-widgets/controls",
       "_model_module_version": "2.0.0",
       "_model_name": "FloatProgressModel",
       "_view_count": null,
       "_view_module": "@jupyter-widgets/controls",
       "_view_module_version": "2.0.0",
       "_view_name": "ProgressView",
       "bar_style": "success",
       "description": "",
       "description_allow_html": false,
       "layout": "IPY_MODEL_cc588a0b45c743a9aec805a02d041596",
       "max": 466062.0,
       "min": 0.0,
       "orientation": "horizontal",
       "style": "IPY_MODEL_03ca929c33054a4eb74e13d4e6f0bc84",
       "tabbable": null,
       "tooltip": null,
       "value": 466062.0
      }
     }
    },
    "version_major": 2,
    "version_minor": 0
   }
  }
 },
 "nbformat": 4,
 "nbformat_minor": 5
}
